{
 "cells": [
  {
   "cell_type": "code",
   "execution_count": 3,
   "metadata": {},
   "outputs": [],
   "source": [
    "import requests as rq\n",
    "import pandas as pd\n",
    "# import enchant\n",
    "# import spacy\n",
    "\n",
    "from bs4 import BeautifulSoup\n",
    "from datetime import datetime"
   ]
  },
  {
   "cell_type": "code",
   "execution_count": 4,
   "metadata": {},
   "outputs": [],
   "source": [
    "# r = rq.get('https://www.fxstreet.com/news/feed')\n",
    "# # r = rq.get('https://www.forexlive.com/')\n",
    "# # r.status_code\n",
    "# with open('../cookbook_data/owndata/fxstreet_2004.html', 'w', encoding=\"utf-8\") as f:\n",
    "#     f.write(r.text)"
   ]
  },
  {
   "cell_type": "code",
   "execution_count": 5,
   "metadata": {},
   "outputs": [],
   "source": [
    "with open('../cookbook_data/owndata/fxstreet_2004.html', encoding=\"utf-8\") as f:\n",
    "    data = f.read()"
   ]
  },
  {
   "cell_type": "code",
   "execution_count": 6,
   "metadata": {},
   "outputs": [],
   "source": [
    "soup = BeautifulSoup(data, \"html.parser\")"
   ]
  },
  {
   "cell_type": "code",
   "execution_count": 7,
   "metadata": {},
   "outputs": [],
   "source": [
    "tmp_html = soup.find(id=\"PublicWrapper\")"
   ]
  },
  {
   "cell_type": "code",
   "execution_count": 8,
   "metadata": {},
   "outputs": [],
   "source": [
    "tag = 'fxs_entriesList fxs_crawling_page'\n",
    "new_tags = soup.find_all(\"div\", {\"class\": tag})\n",
    "new_tags = new_tags[0:2]    # get today and yeasterday in english\n",
    "# len(new_tags)"
   ]
  },
  {
   "cell_type": "code",
   "execution_count": 9,
   "metadata": {},
   "outputs": [],
   "source": [
    "inner_tag = 'fxs_entryHeadline'"
   ]
  },
  {
   "cell_type": "code",
   "execution_count": 10,
   "metadata": {},
   "outputs": [
    {
     "data": {
      "text/plain": [
       "<h3 class=\"fxs_entryHeadline\">\n",
       "<a href=\"https://www.fxstreet.com/news/wti-price-analysis-bulls-eye-11500-on-a-descending-triangle-breakout-202204190019\" title=\"WTI Price Analysis: Bulls eye 115.00 on a descending triangle breakout\">WTI Price Analysis: Bulls eye 115.00 on a descending triangle breakout</a>\n",
       "</h3>"
      ]
     },
     "execution_count": 10,
     "metadata": {},
     "output_type": "execute_result"
    }
   ],
   "source": [
    "today = new_tags[0].find_all(\"h3\", {\"class\": inner_tag})\n",
    "today[-1]"
   ]
  },
  {
   "cell_type": "code",
   "execution_count": 11,
   "metadata": {},
   "outputs": [
    {
     "data": {
      "text/plain": [
       "['USD/JPY: Pressure on the yen to wear off as the US curve inverts – Danske Bank',\n",
       " 'USD/CAD struggles around the 200-DMA around 1.2625 despite a firm US dollar',\n",
       " 'EUR/GBP: Caught between two opposite forces – Danske Bank',\n",
       " 'German Chancellor Scholz: We will continue to finance Ukraine militarily and financially',\n",
       " \"Fed's Evans: Good reason to think economy will do very well even as rates rise\",\n",
       " 'GBP/USD consolidates around 1.3000, eyes bearish breakout with Fed/BoE policy divergence in focus',\n",
       " 'US: Housing Starts strong ahead of the recent spike in mortgage rates – Wells Fargo',\n",
       " 'US Defense Official: Russia carrying out “prelude” to a larger expected offensive in eastern Ukraine',\n",
       " 'United States 52-Week Bill Auction up to 1.87% from previous 1.59%',\n",
       " 'USD/MXN jumps to weekly highs above 20.05',\n",
       " 'USD/JPY reaches a 20-year high around 128.90s as the bull’s eye 130.00',\n",
       " 'Silver Price Analysis: XAG/USD slumps to low $25.00s as US yields surge',\n",
       " 'Canadian CPI Preview: Forecasts from five major banks, inflation to breach 6%',\n",
       " 'Gold Price Forecast: XAUUSD as a safe-haven has become an attractive proposition for many investors – TDS',\n",
       " 'WTI slides to low $100s amid focus on global growth slowdown & as dip-buyers wait on sidelines',\n",
       " 'New Zealand GDT Price Index came in at -3.6%, below expectations (-0.3%)',\n",
       " 'China: PBoC cut the RRR by 25 bps – UOB',\n",
       " 'US Dollar Index remains bid near 101.00',\n",
       " 'Pound Sterling Price News and Forecast: GBP/USD slides further below 1.3000 mark',\n",
       " 'EUR/USD stabilises as Eurozone yields jump, though remains stuck below 1.0800 on Fed/ECB policy divergence',\n",
       " 'MULN stock continues its collapse as it closes 14% lower on Monday',\n",
       " '$MICEX Russia index longer term trend and bullish cycles',\n",
       " 'China: Economic results moderated in March – UOB',\n",
       " 'Nine Energy Services ($NINE): Is the next leg up starting?',\n",
       " 'EUR/USD Price Analysis: Bouts of strength should be short lived',\n",
       " 'GBP/USD Price Analysis: Slides further below 1.3000 mark, seems vulnerable near YTD low',\n",
       " 'IMF cuts global growth forecast for 2022 to 3.6% from 4.4% given Russo-Ukraine war, warns of inflation risks',\n",
       " 'US Dollar Index Price Analysis: Extra gains now target 103.00',\n",
       " 'United States Redbook Index (YoY) climbed from previous 13.4% to 15.2% in April 15',\n",
       " 'USD/IDR still seen within the 14,335-14,385 range – UOB',\n",
       " 'NZD/USD finds some composure in mid-0.6700s, eyes Powell speech/NZ CPI later this week',\n",
       " 'US: Housing starts rise by 0.3% in March, Building Permits rise by 0.4%',\n",
       " 'USD/CAD refreshes daily high, bulls await sustained move beyond 200-DMA near 1.2630',\n",
       " 'Canada Canadian Portfolio Investment in Foreign Securities: $-9.68B (February) vs $-14.42B',\n",
       " 'Canada Foreign Portfolio Investment in Canadian Securities fell from previous $13.49B to $7.44B in February',\n",
       " 'United States Building Permits Change rose from previous -1.9%\\xa0to 0.4% in March',\n",
       " 'United States Building Permits (MoM) above expectations (1.825M) in March: Actual (1.873M)',\n",
       " 'United States Housing Starts Change down to 0.3% in March from previous 6.8%',\n",
       " 'United States Housing Starts (MoM) came in at 1.793M, above expectations (1.745M) in March',\n",
       " 'Canada Housing Starts s.a (YoY) came in at 246.2K below forecasts (250K) in March',\n",
       " 'AUD/USD slides back to 0.7360s after testing 0.7400 despite hawkish RBA minutes amid buoyant buck',\n",
       " 'EUR/JPY Price Analysis: Immediately to the upside comes 139.00',\n",
       " 'Ukrainian Negotiator: Hard to say when next stage of direct peace talks will occur',\n",
       " 'China President Xi: Will step up fiscal support to border and less developed areas',\n",
       " 'Twitter Stock News and Forecast: What is a poison pill for TWTR stock?',\n",
       " 'GGPI Stock News: Gores Guggenheim sinks as China lockdowns stunt automotive production',\n",
       " 'AMC Stock News: AMC Entertainment slips as Apes shrug off DogeCoin and Shiba payment options',\n",
       " 'GME Stock Price: GameStop Corp sinks as markets pull back to start the week',\n",
       " 'Gold Price Forecast: XAU/USD slides to multi-day low, eyes $1,950 amid stronger USD',\n",
       " 'Netflix Earnings Preview: Market not expecting much ahead of NFLX Q1 report',\n",
       " 'USD/MYR now targets 4.2600/4.2650 – UOB',\n",
       " 'Silver Price Analysis: XAG/USD consolidates in a range below $26.00, around 61.8% Fibo.',\n",
       " \"Tesla Stock Price and Forecast: Elon's Twitter saga steals limelight from TSLA\",\n",
       " 'USD/JPY stands tall near 20-year high, just below mid-128.00s',\n",
       " 'USD/THB could retest 33.81 before a potential pullback – UOB',\n",
       " 'AAA: Netflix (NFLX stock): If earnings expectations are surpassed, the price to move towards the $370',\n",
       " 'WTI drops back towards $105 despite Libya outage, Shanghai reopening',\n",
       " 'Hycroft Mining Stock News and Forecast: HYMC stock volatile as Twitter account predicts $20 share price',\n",
       " 'EUR/USD unlikely to gain traction while below 1.0830',\n",
       " 'GBP/USD rebounds swiftly from sub-1.3000 levels, upside potential seems limited',\n",
       " 'Gold Price Forecast: XAUUSD needs acceptance above $1,982 to resume the uptrend – Confluence Detector',\n",
       " 'Gold Price Forecast: XAUUSD undeterred amid firmer USD – Commerzbank',\n",
       " 'Japan’s Matsuno: Closely watching FX moves and potential impact on economy',\n",
       " 'USD/CHF eases from one-year high, downside seems cushioned amid Fed tightening fears',\n",
       " 'EUR/USD gathers steam and retakes 1.0800',\n",
       " 'USD/CNH: Further gains expected above 6.4000 – UOB',\n",
       " 'US Dollar Index recedes from new highs past 101.00',\n",
       " 'US Dollar Index recedes from new highs past 101.00',\n",
       " 'GBP/JPY retreats from multi-year peak, still well bid around mid-156.00s',\n",
       " 'Forex Today: Dollar rally continues as European traders return from Easter break',\n",
       " 'US Dollar Index to rise above the 101.00 mark – ING',\n",
       " 'USD/JPY to hit the 130 mark in the coming days – ING',\n",
       " 'USD/JPY: Upside pressure alleviated below 126.10 – UOB',\n",
       " 'GBP/USD to stage a decisive break below the 1.30 level – ING',\n",
       " 'Indonesia Bank Indonesia Rate meets expectations (3.5%)',\n",
       " 'Natural Gas: Corrective downside on the cards',\n",
       " 'EUR/USD set to test the 1.07 mark in the coming days – ING',\n",
       " 'AUD/USD: Looming prospect of RBA rate hikes to support the aussie in the coming months – MUFG',\n",
       " 'USD/JPY to target 130.00 and then beyond highs from in early 2002 at just above 135 – MUFG',\n",
       " \"USD strength resulting from BUllard's comments to be exaggerated – Commerzbank\",\n",
       " 'AUD/USD extends hawkish RBA minutes-inspired recovery from one-month low',\n",
       " 'USD/JPY: MoF and BoJ to try ‘verbal’ interventions and sound more concerned about yen-weakness – Commerzbank',\n",
       " 'EUR/SEK: Little upside scope in krone even if Riksbank sends out clear restrictive signals – Commerzbank',\n",
       " 'FX option expiries for April 19 NY cut',\n",
       " 'AUD/JPY to court higher targets into 96.55-97.30 – DBS Bank',\n",
       " 'EUR/GBP balances in a 0.8280-0.8290 range, volatility expansion looks likely',\n",
       " 'NZD/USD to suffer further losses a a break below 61.8% Fibo level of 0.6723 – ANZ',\n",
       " 'Gold Price Forecast: XAUUSD to remain under pressure while below $1,990',\n",
       " 'French FinMin Le Maire: An embargo on Russian oil is in the works',\n",
       " 'USD/CAD Price Analysis: Doji formation on a pullback towards the 200-EMA strengthens loonie',\n",
       " 'BOK Chief Nominee Rhee: Interest rate hikes are way to go for now unless they hurt growth',\n",
       " 'AUD/USD: Rising bets for a drop to 0.7325 – UOB',\n",
       " 'Norway Trade Balance climbed from previous 84.2B to 138.4B in March',\n",
       " 'BI Preview: Forecasts from four major banks, taking it easy despite surging inflation',\n",
       " 'New Zealand FinMin Robertson: Should spend cautiously, fiscal rules expected',\n",
       " 'USD/JPY surges to 128.20 on Fed-BOJ divergence, 130.00 eyed',\n",
       " 'Crude Oil Futures: Extra gains appear not favoured',\n",
       " 'Japan Industrial Production (YoY) above expectations (0.2%) in February: Actual (0.5%)',\n",
       " 'GBP/USD: A deeper pullback lies below 1.2940 – UOB',\n",
       " 'Gold Price Forecast: XAUUSD remains pressured below $1,980 on stronger US dollar',\n",
       " 'Gold Futures: Probable corrective downside',\n",
       " 'USD/INR Price News: Bounces in early trade from 76.30 on higher oil prices',\n",
       " 'EUR/USD risks further decline near term – UOB',\n",
       " 'Japan Capacity Utilization above expectations (-3.4%) in February: Actual (1.5%)',\n",
       " 'Japan Industrial Production (MoM) registered at 2% above expectations (0.1%) in February',\n",
       " 'GBP/JPY shoots above 166.00 as yen weakens amid higher energy prices',\n",
       " 'AUD/USD Price Analysis: Bulls keeping on, but bears lurking',\n",
       " 'PBOC unlikely to cut LPR on Wednesday – Goldman Sachs',\n",
       " 'EUR/USD Price Analysis: H1 M-formation luring in the bulls',\n",
       " 'World Bank’s Reinhart: Global economy passing through a period of “exceptional uncertainty”',\n",
       " 'GBP/USD drops towards yearly lows of 1.2970 as USD cheers cautious mood',\n",
       " 'Elliott Wave Analysis: AMZN, GOOGL, AAPL, TSLA, Meta, Square, MSFT, JPMorgan & BAC [Video]',\n",
       " 'China’s NDRC: To roll out effective measures to keep economic operations within reasonable range',\n",
       " 'USD/JPY Price Analysis: Extremely overbought but no signs of bullish exhaustion yet',\n",
       " 'Elliott Wave View: Apple (AAPL) rally should fail [Video]',\n",
       " 'RBA minutes: A further increase of inflation was expected',\n",
       " 'AUD/USD inches higher above 0.7360 as the RBA releases April’s monetary policy minutes',\n",
       " \"Japan’s Suzuki: Yen's rapid weakening can have more negative impact\",\n",
       " 'USD/CNY fix: 6.3720 vs. estimate of 6.3744',\n",
       " 'When are the RBA minutes and how might they affect AUD/USD?',\n",
       " 'USD/CHF marches towards a 54-week high at 0.9470 ahead of the SNB Jordan’s speech',\n",
       " 'New Zealand Business NZ PSI rose from previous 48.6\\xa0to 51.6 in March',\n",
       " 'Pound Sterling Price News and Forecast: GBP/USD is sliding into hourly support',\n",
       " 'USD/CAD bears take on the bulls at 1.26 the figure as oil remains firmly bid',\n",
       " 'WTI Price Analysis: Bulls eye 115.00 on a descending triangle breakout']"
      ]
     },
     "execution_count": 11,
     "metadata": {},
     "output_type": "execute_result"
    }
   ],
   "source": [
    "today_ret = []\n",
    "for item in today:\n",
    "    today_ret.append(item.text.rstrip().lstrip())\n",
    "today_ret"
   ]
  },
  {
   "cell_type": "code",
   "execution_count": 12,
   "metadata": {},
   "outputs": [],
   "source": [
    "yesterday = new_tags[1].find_all(\"h3\", {\"class\": inner_tag})\n",
    "# len(yesterday)"
   ]
  }
 ],
 "metadata": {
  "interpreter": {
   "hash": "f286ef182e6b807cc2e221ecf258f633461edf1c89db486e38c7dc82ac81346f"
  },
  "kernelspec": {
   "display_name": "Python 3.7.9 ('env': venv)",
   "language": "python",
   "name": "python3"
  },
  "language_info": {
   "codemirror_mode": {
    "name": "ipython",
    "version": 3
   },
   "file_extension": ".py",
   "mimetype": "text/x-python",
   "name": "python",
   "nbconvert_exporter": "python",
   "pygments_lexer": "ipython3",
   "version": "3.7.9"
  },
  "orig_nbformat": 4
 },
 "nbformat": 4,
 "nbformat_minor": 2
}
