{
 "cells": [
  {
   "cell_type": "markdown",
   "metadata": {},
   "source": [
    "# Chapter 1: Pandas Foundations\n",
    "\n",
    "## Recipes\n",
    "* [Dissecting the anatomy of a DataFrame](#Dissecting-the-anatomy-of-a-DataFrame)\n",
    "* [Accessing the main DataFrame components](#Accessing-the-main-DataFrame-components)\n",
    "* [Understanding data types](#Understanding-data-types)\n",
    "* [Selecting a single column of data as a Series](#Selecting-a-single-column-of-data-as-a-Series)\n",
    "* [Calling Series methods](#Calling-Series-methods)\n",
    "* [Working with operators on a Series](#Working-with-operators-on-a-Series)\n",
    "* [Chaining Series methods together](#Chaining-Series-methods-together)\n",
    "* [Making the index meaningful](#Making-the-index-meaningful)\n",
    "* [Renaming row and column names](#Renaming-row-and-column-names)\n",
    "* [Creating and deleting columns](#Creating-and-deleting-columns)"
   ]
  },
  {
   "cell_type": "code",
   "execution_count": 1,
   "metadata": {
    "collapsed": true
   },
   "outputs": [],
   "source": [
    "import pandas as pd\n",
    "import numpy as np"
   ]
  },
  {
   "cell_type": "markdown",
   "metadata": {},
   "source": [
    "# Dissecting the anatomy of a DataFrame"
   ]
  },
  {
   "cell_type": "markdown",
   "metadata": {},
   "source": [
    "#### Change options to get specific output for book"
   ]
  },
  {
   "cell_type": "code",
   "execution_count": 2,
   "metadata": {
    "collapsed": true
   },
   "outputs": [],
   "source": [
    "# pd.set_option('max_columns', 8, 'max_rows', 10)\n",
    "pd.set_option('display.max_columns', 8)\n",
    "pd.set_option('display.max_rows', 21)"
   ]
  },
  {
   "cell_type": "code",
   "execution_count": 3,
   "metadata": {},
   "outputs": [
    {
     "data": {
      "text/html": [
       "<div>\n",
       "<style scoped>\n",
       "    .dataframe tbody tr th:only-of-type {\n",
       "        vertical-align: middle;\n",
       "    }\n",
       "\n",
       "    .dataframe tbody tr th {\n",
       "        vertical-align: top;\n",
       "    }\n",
       "\n",
       "    .dataframe thead th {\n",
       "        text-align: right;\n",
       "    }\n",
       "</style>\n",
       "<table border=\"1\" class=\"dataframe\">\n",
       "  <thead>\n",
       "    <tr style=\"text-align: right;\">\n",
       "      <th></th>\n",
       "      <th>Rating</th>\n",
       "      <th>Signals</th>\n",
       "      <th>Price</th>\n",
       "      <th>Growth</th>\n",
       "      <th>...</th>\n",
       "      <th>Maximal consecutive loss orders</th>\n",
       "      <th>Maximal balance drawdown pct</th>\n",
       "      <th>Relative drawdown by balance amount</th>\n",
       "      <th>Relative drawdown by equity amount</th>\n",
       "    </tr>\n",
       "    <tr>\n",
       "      <th>Signal</th>\n",
       "      <th></th>\n",
       "      <th></th>\n",
       "      <th></th>\n",
       "      <th></th>\n",
       "      <th></th>\n",
       "      <th></th>\n",
       "      <th></th>\n",
       "      <th></th>\n",
       "      <th></th>\n",
       "    </tr>\n",
       "  </thead>\n",
       "  <tbody>\n",
       "    <tr>\n",
       "      <th>1371953</th>\n",
       "      <td>1</td>\n",
       "      <td>Activity</td>\n",
       "      <td>30</td>\n",
       "      <td>3</td>\n",
       "      <td>...</td>\n",
       "      <td>8</td>\n",
       "      <td>11.87</td>\n",
       "      <td>2505.44</td>\n",
       "      <td>3553.24</td>\n",
       "    </tr>\n",
       "    <tr>\n",
       "      <th>2020078</th>\n",
       "      <td>10</td>\n",
       "      <td>EURSpecial</td>\n",
       "      <td>30</td>\n",
       "      <td>823</td>\n",
       "      <td>...</td>\n",
       "      <td>4</td>\n",
       "      <td>6.09</td>\n",
       "      <td>53.30</td>\n",
       "      <td>342.76</td>\n",
       "    </tr>\n",
       "    <tr>\n",
       "      <th>2105300</th>\n",
       "      <td>6</td>\n",
       "      <td>Arnold</td>\n",
       "      <td>30</td>\n",
       "      <td>1</td>\n",
       "      <td>...</td>\n",
       "      <td>9</td>\n",
       "      <td>16.19</td>\n",
       "      <td>802.90</td>\n",
       "      <td>329.80</td>\n",
       "    </tr>\n",
       "    <tr>\n",
       "      <th>2049959</th>\n",
       "      <td>9</td>\n",
       "      <td>MAX NoLimit</td>\n",
       "      <td>50</td>\n",
       "      <td>692</td>\n",
       "      <td>...</td>\n",
       "      <td>7</td>\n",
       "      <td>5.81</td>\n",
       "      <td>753.57</td>\n",
       "      <td>2483.64</td>\n",
       "    </tr>\n",
       "    <tr>\n",
       "      <th>2145152</th>\n",
       "      <td>12</td>\n",
       "      <td>PabloFX Safe</td>\n",
       "      <td>30</td>\n",
       "      <td>677</td>\n",
       "      <td>...</td>\n",
       "      <td>1</td>\n",
       "      <td>2.93</td>\n",
       "      <td>14.10</td>\n",
       "      <td>500.97</td>\n",
       "    </tr>\n",
       "  </tbody>\n",
       "</table>\n",
       "<p>5 rows × 56 columns</p>\n",
       "</div>"
      ],
      "text/plain": [
       "        Rating       Signals  Price  Growth  ...  \\\n",
       "Signal                                       ...   \n",
       "1371953      1      Activity     30       3  ...   \n",
       "2020078     10    EURSpecial     30     823  ...   \n",
       "2105300      6        Arnold     30       1  ...   \n",
       "2049959      9   MAX NoLimit     50     692  ...   \n",
       "2145152     12  PabloFX Safe     30     677  ...   \n",
       "\n",
       "         Maximal consecutive loss orders  Maximal balance drawdown pct  \\\n",
       "Signal                                                                   \n",
       "1371953                                8                         11.87   \n",
       "2020078                                4                          6.09   \n",
       "2105300                                9                         16.19   \n",
       "2049959                                7                          5.81   \n",
       "2145152                                1                          2.93   \n",
       "\n",
       "         Relative drawdown by balance amount  \\\n",
       "Signal                                         \n",
       "1371953                              2505.44   \n",
       "2020078                                53.30   \n",
       "2105300                               802.90   \n",
       "2049959                               753.57   \n",
       "2145152                                14.10   \n",
       "\n",
       "         Relative drawdown by equity amount  \n",
       "Signal                                       \n",
       "1371953                             3553.24  \n",
       "2020078                              342.76  \n",
       "2105300                              329.80  \n",
       "2049959                             2483.64  \n",
       "2145152                              500.97  \n",
       "\n",
       "[5 rows x 56 columns]"
      ]
     },
     "execution_count": 3,
     "metadata": {},
     "output_type": "execute_result"
    }
   ],
   "source": [
    "signals = pd.read_csv('data/mql5_signals_mt4.csv', index_col='Signal')\n",
    "signals.head()"
   ]
  },
  {
   "cell_type": "markdown",
   "metadata": {},
   "source": [
    "![dataframe anatomy](../images/ch01_dataframe_anatomy.png)"
   ]
  },
  {
   "cell_type": "markdown",
   "metadata": {},
   "source": [
    "# Accessing the main DataFrame components"
   ]
  },
  {
   "cell_type": "code",
   "execution_count": 4,
   "metadata": {
    "collapsed": true
   },
   "outputs": [],
   "source": [
    "columns = signals.columns\n",
    "index = signals.index\n",
    "data = signals.values"
   ]
  },
  {
   "cell_type": "code",
   "execution_count": 5,
   "metadata": {},
   "outputs": [
    {
     "data": {
      "text/plain": [
       "Index(['Rating', 'Signals', 'Price', 'Growth', 'Subscribers', 'Funds',\n",
       "       'Balance', 'Weeks', 'Drawdown', 'Trades', 'Profit Trades',\n",
       "       'Loss Trades', 'Best trade', 'Worst trade', 'Gross Profit',\n",
       "       'Gross Loss', 'Maximum consecutive wins', 'Maximal consecutive profit',\n",
       "       'Sharpe Ratio', 'Trading activity', 'Max deposit load', 'Latest trade',\n",
       "       'Trades per week', 'Avg holding time', 'Recovery Factor', 'Long Trades',\n",
       "       'Short Trades', 'Profit Factor', 'Expected Payoff', 'Average Profit',\n",
       "       'Average Loss', 'Maximum consecutive losses',\n",
       "       'Maximal consecutive loss', 'Monthly growth', 'Annual Forecast',\n",
       "       'Algo trading', 'Absolute balance drawdown', 'Maximal balance drawdown',\n",
       "       'Relative drawdown by balance', 'Relative drawdown by equity', 'Months',\n",
       "       'Average By Month', 'Std By Month', 'Profit Trades Pct',\n",
       "       'Loss Trades Pct', 'Gross Profit Pct', 'Gross Loss Pips',\n",
       "       'Maximum consecutive wins amount', 'Maximal consecutive profit orders',\n",
       "       'Long Trades Pct', 'Short Trades Pct',\n",
       "       'Maximum consecutive losses amount', 'Maximal consecutive loss orders',\n",
       "       'Maximal balance drawdown pct', 'Relative drawdown by balance amount',\n",
       "       'Relative drawdown by equity amount'],\n",
       "      dtype='object')"
      ]
     },
     "execution_count": 5,
     "metadata": {},
     "output_type": "execute_result"
    }
   ],
   "source": [
    "columns"
   ]
  },
  {
   "cell_type": "code",
   "execution_count": 6,
   "metadata": {},
   "outputs": [
    {
     "data": {
      "text/plain": [
       "Index([1371953, 2020078, 2105300, 2049959, 2145152, 1463352, 2084523, 2195366,\n",
       "       2115303, 2009468,\n",
       "       ...\n",
       "       2044448, 2192054, 1722005, 1808747, 2216572, 2211292, 2207077, 1566301,\n",
       "       2158945, 1614162],\n",
       "      dtype='int64', name='Signal', length=4313)"
      ]
     },
     "execution_count": 6,
     "metadata": {},
     "output_type": "execute_result"
    }
   ],
   "source": [
    "index"
   ]
  },
  {
   "cell_type": "code",
   "execution_count": 7,
   "metadata": {},
   "outputs": [
    {
     "data": {
      "text/plain": [
       "array([['1', 'Activity', 30, ..., 11.87, 2505.44, 3553.24],\n",
       "       ['10', 'EURSpecial', 30, ..., 6.09, 53.3, 342.76],\n",
       "       ['6', 'Arnold', 30, ..., 16.19, 802.9, 329.8],\n",
       "       ...,\n",
       "       ['5688', 'High Risk', 30, ..., 39.86, 1539.94, 8806.67],\n",
       "       ['5693', '2', 30, ..., 92.19, 1081.51, 210.08],\n",
       "       ['5720', '345', 30, ..., 59.0, 15659.99, 4213.67]], dtype=object)"
      ]
     },
     "execution_count": 7,
     "metadata": {},
     "output_type": "execute_result"
    }
   ],
   "source": [
    "data"
   ]
  },
  {
   "cell_type": "code",
   "execution_count": 8,
   "metadata": {},
   "outputs": [
    {
     "data": {
      "text/plain": [
       "pandas.core.indexes.base.Index"
      ]
     },
     "execution_count": 8,
     "metadata": {},
     "output_type": "execute_result"
    }
   ],
   "source": [
    "type(index)"
   ]
  },
  {
   "cell_type": "code",
   "execution_count": 9,
   "metadata": {},
   "outputs": [
    {
     "data": {
      "text/plain": [
       "pandas.core.indexes.base.Index"
      ]
     },
     "execution_count": 9,
     "metadata": {},
     "output_type": "execute_result"
    }
   ],
   "source": [
    "type(columns)"
   ]
  },
  {
   "cell_type": "code",
   "execution_count": 10,
   "metadata": {},
   "outputs": [
    {
     "data": {
      "text/plain": [
       "numpy.ndarray"
      ]
     },
     "execution_count": 10,
     "metadata": {},
     "output_type": "execute_result"
    }
   ],
   "source": [
    "type(data)"
   ]
  },
  {
   "cell_type": "code",
   "execution_count": 11,
   "metadata": {},
   "outputs": [
    {
     "data": {
      "text/plain": [
       "True"
      ]
     },
     "execution_count": 11,
     "metadata": {},
     "output_type": "execute_result"
    }
   ],
   "source": [
    "issubclass(pd.RangeIndex, pd.Index)"
   ]
  },
  {
   "cell_type": "markdown",
   "metadata": {},
   "source": [
    "## There's more"
   ]
  },
  {
   "cell_type": "code",
   "execution_count": 12,
   "metadata": {},
   "outputs": [
    {
     "data": {
      "text/plain": [
       "array([1371953, 2020078, 2105300, ..., 1566301, 2158945, 1614162])"
      ]
     },
     "execution_count": 12,
     "metadata": {},
     "output_type": "execute_result"
    }
   ],
   "source": [
    "index.values"
   ]
  },
  {
   "cell_type": "code",
   "execution_count": 13,
   "metadata": {},
   "outputs": [
    {
     "data": {
      "text/plain": [
       "array(['Rating', 'Signals', 'Price', 'Growth', 'Subscribers', 'Funds',\n",
       "       'Balance', 'Weeks', 'Drawdown', 'Trades', 'Profit Trades',\n",
       "       'Loss Trades', 'Best trade', 'Worst trade', 'Gross Profit',\n",
       "       'Gross Loss', 'Maximum consecutive wins',\n",
       "       'Maximal consecutive profit', 'Sharpe Ratio', 'Trading activity',\n",
       "       'Max deposit load', 'Latest trade', 'Trades per week',\n",
       "       'Avg holding time', 'Recovery Factor', 'Long Trades',\n",
       "       'Short Trades', 'Profit Factor', 'Expected Payoff',\n",
       "       'Average Profit', 'Average Loss', 'Maximum consecutive losses',\n",
       "       'Maximal consecutive loss', 'Monthly growth', 'Annual Forecast',\n",
       "       'Algo trading', 'Absolute balance drawdown',\n",
       "       'Maximal balance drawdown', 'Relative drawdown by balance',\n",
       "       'Relative drawdown by equity', 'Months', 'Average By Month',\n",
       "       'Std By Month', 'Profit Trades Pct', 'Loss Trades Pct',\n",
       "       'Gross Profit Pct', 'Gross Loss Pips',\n",
       "       'Maximum consecutive wins amount',\n",
       "       'Maximal consecutive profit orders', 'Long Trades Pct',\n",
       "       'Short Trades Pct', 'Maximum consecutive losses amount',\n",
       "       'Maximal consecutive loss orders', 'Maximal balance drawdown pct',\n",
       "       'Relative drawdown by balance amount',\n",
       "       'Relative drawdown by equity amount'], dtype=object)"
      ]
     },
     "execution_count": 13,
     "metadata": {},
     "output_type": "execute_result"
    }
   ],
   "source": [
    "columns.values"
   ]
  },
  {
   "cell_type": "markdown",
   "metadata": {},
   "source": [
    "# Understanding data types"
   ]
  },
  {
   "cell_type": "code",
   "execution_count": 14,
   "metadata": {
    "collapsed": true
   },
   "outputs": [],
   "source": [
    "signals = pd.read_csv('data/mql5_signals_mt4.csv', index_col='Signal')"
   ]
  },
  {
   "cell_type": "code",
   "execution_count": 15,
   "metadata": {},
   "outputs": [
    {
     "data": {
      "text/plain": [
       "Rating                                  object\n",
       "Signals                                 object\n",
       "Price                                    int64\n",
       "Growth                                   int64\n",
       "Subscribers                              int64\n",
       "                                        ...   \n",
       "Maximum consecutive losses amount      float64\n",
       "Maximal consecutive loss orders          int64\n",
       "Maximal balance drawdown pct           float64\n",
       "Relative drawdown by balance amount    float64\n",
       "Relative drawdown by equity amount     float64\n",
       "Length: 56, dtype: object"
      ]
     },
     "execution_count": 15,
     "metadata": {},
     "output_type": "execute_result"
    }
   ],
   "source": [
    "signals.dtypes"
   ]
  },
  {
   "cell_type": "code",
   "execution_count": 16,
   "metadata": {},
   "outputs": [
    {
     "data": {
      "text/plain": [
       "Rating  Signals          Price  Growth  Subscribers  Funds  Balance  Weeks  Drawdown  Trades  Profit Trades  Loss Trades  Best trade  Worst trade  Gross Profit  Gross Loss  Maximum consecutive wins  Maximal consecutive profit  Sharpe Ratio  Trading activity  Max deposit load  Latest trade  Trades per week  Avg holding time  Recovery Factor  Long Trades  Short Trades  Profit Factor  Expected Payoff  Average Profit  Average Loss  Maximum consecutive losses  Maximal consecutive loss  Monthly growth  Annual Forecast  Algo trading  Absolute balance drawdown  Maximal balance drawdown  Relative drawdown by balance  Relative drawdown by equity  Months  Average By Month  Std By Month  Profit Trades Pct  Loss Trades Pct  Gross Profit Pct  Gross Loss Pips  Maximum consecutive wins amount  Maximal consecutive profit orders  Long Trades Pct  Short Trades Pct  Maximum consecutive losses amount  Maximal consecutive loss orders  Maximal balance drawdown pct  Relative drawdown by balance amount  Relative drawdown by equity amount\n",
       "-       8                30     638     0            0      5900     217    75        1104    775            329          1860.08     350.74       16222.02      3557.50     22                        5944.71                     0.11          73.52             37.40             35            2                2                 28.87            571          533           4.56           11.47            20.93           10.81         9                           438.75                    1.66            20.14            96            0.00                       438.75                    7.26                          75.44                        50      4.178800          4.825115      70.19              29.80            121403            146208           5944.71                          22                                 51.72            48.28             410.46                             8                                3.15                          378.01                               9657.60                               1\n",
       "4354    Depooo           30     109     0            0      175      50     85        699     304            395          264.82      71.40        4083.73       2952.71     13                        581.85                      0.08          72.00             54.80             4             9                3                 2.41             385          314           1.38           1.62             13.43           7.48          31                          195.47                    23.47           100.00           99            0.00                       469.30                    35.25                         85.08                        12      7.780833          18.498398     43.49              56.51            115366            104198           53.01                            6                                  55.08            44.92             125.74                             13                               18.52                         402.65                               980.23                                1\n",
       "434     4000000          30     132     0            0      2400     68     37        757     541            216          462.84      724.28       5502.25       2973.54     18                        672.67                      0.09          93.96             35.67             4             2                1                 2.06             364          393           1.85           3.34             10.17           13.77         7                           1198.69                   6.53            78.79            99            0.00                       1229.26                   29.99                         36.97                        16      5.753750          8.003419      71.46              28.53            99021             68646            23.68                            4                                  48.08            51.92             447.44                             4                                29.99                         1229.26                              1474.90                               1\n",
       "4341    Quiet harbor     30     177     0            0      5100     36     83        2699    1987           712          347.48      54.24        5744.30       3024.15     36                        812.91                      0.11          100.00            160.01            3             53               2                 3.71             954          1745          1.90           1.01             2.89            4.25          23                          733.17                    10.52           127.59           99            2.64                       733.17                    18.34                         83.10                        9       12.072222         4.616886      73.61              26.38            288531            208756           20.03                            5                                  35.35            64.65             733.17                             23                               18.35                         733.17                               4176.46                               1\n",
       "4342    3                30     130     0            0      1200     22     75        1307    1007           300          131.17      27.20        1634.05       980.87      24                        200.63                      0.07          99.07             123.53            14            62               15                3.53             628          679           1.67           0.50             1.62            3.27          9                           185.10                    9.53            115.60           100           33.15                      185.10                    25.42                         75.40                        6       15.223333         8.161106      77.04              22.95            86239             73916            20.20                            6                                  48.05            51.95             185.10                             9                                25.42                         185.10                               548.65                                1\n",
       "                                                                                                                                                                                                                                                                                                                                                                                                                                                                                                                                                                                                                                                                                                                                                                                                                                                                                                                                                                                                                                                                       ..\n",
       "238     Run              30     417     1            966    39000    29     23        966     600            366          3177.60     446.40       56190.41      16228.16    28                        3715.87                     0.21          100.00            11.55             2             80               4                 23.16            475          491           3.46           41.37            93.65           44.34         12                          1725.75                   29.06           352.61           100           1.39                       1725.75                   5.96                          22.52                        7       26.601429         6.428613      62.11              37.89            224030            152950           483.40                           15                                 49.17            50.83             332.35                             7                                6.37                          1725.75                              8231.89                               1\n",
       "2380    JK Trading Fund  30     12      0            0      821      18     37        183     149            34           12.02       29.14        240.02        142.78      17                        25.04                       0.17          26.18             23.90             6             22               8                 1.72             106          77            1.68           0.53             1.61            4.20          3                           51.24                     0.65            7.90             100           0.00                       56.65                     6.45                          36.99                        5       2.338000          2.539539      81.42              18.58            19689             6118             13.09                            15                                 57.92            42.08             51.24                              3                                11.02                         56.65                                303.80                                1\n",
       "2381    320347365000000  30     23      0            0      99000    24     16        13879   9994           3885         372.12      152.78       62901.59      42445.57    35                        1886.07                     0.07          98.97             4.43              22            631              21                11.41            6845         7034          1.48           1.47             6.29            10.93         21                          1792.71                   3.20            38.78            99            0.00                       1792.71                   1.85                          15.93                        6       3.480000          0.669453      72.00              27.99            773710            770698           59.11                            18                                 49.32            50.68             1177.52                            20                               1.85                          1792.71                              16693.22                              1\n",
       "2389    Anne Fx          30     12      0            0      2300     47     10        1763    1495           268          34.03       26.02        772.95        571.01      37                        46.12                       0.05          65.19             4.13              27            28               6                 4.32             859          904           1.35           0.11             0.52            2.13          5                           46.71                     0.83            10.04            99            40.11                      46.71                     3.10                          9.97                         11      1.050000          0.814371      84.79              15.20            45023             53272            4.88                             2                                  48.72            51.28             46.71                              5                                3.10                          46.71                                150.25                                1\n",
       "998     9000000          30     68      0            0      77000    20     18        373     289            84           1102.80     550.20       48323.50      12534.70    26                        5545.20                     0.53          73.76             12.83             3             19               2                 24.98            222          151           3.86           95.95            167.21          149.22        6                           1065.00                   25.19           305.62           100           752.40                     1432.50                   2.02                          18.48                        5       11.230000         7.674751      77.47              22.52            175376            49977            5545.20                          26                                 59.52            40.48             990.30                             3                                1.89                          1373.10                              14168.70                              1\n",
       "Name: count, Length: 3002, dtype: int64"
      ]
     },
     "execution_count": 16,
     "metadata": {},
     "output_type": "execute_result"
    }
   ],
   "source": [
    "signals.value_counts()"
   ]
  },
  {
   "cell_type": "markdown",
   "metadata": {},
   "source": [
    "# Selecting a single column of data as a Series"
   ]
  },
  {
   "cell_type": "markdown",
   "metadata": {},
   "source": [
    "![dataframe anatomy](../images/ch01_series_anatomy.png)"
   ]
  },
  {
   "cell_type": "code",
   "execution_count": 17,
   "metadata": {
    "collapsed": true
   },
   "outputs": [],
   "source": [
    "signals = pd.read_csv('data/mql5_signals_mt4.csv', index_col='Signal')"
   ]
  },
  {
   "cell_type": "code",
   "execution_count": 18,
   "metadata": {},
   "outputs": [
    {
     "data": {
      "text/plain": [
       "Signal\n",
       "1371953      3\n",
       "2020078    823\n",
       "2105300      1\n",
       "2049959    692\n",
       "2145152    677\n",
       "          ... \n",
       "2211292     65\n",
       "2207077     70\n",
       "1566301     65\n",
       "2158945     66\n",
       "1614162     70\n",
       "Name: Growth, Length: 4313, dtype: int64"
      ]
     },
     "execution_count": 18,
     "metadata": {},
     "output_type": "execute_result"
    }
   ],
   "source": [
    "signals['Growth']"
   ]
  },
  {
   "cell_type": "code",
   "execution_count": 19,
   "metadata": {},
   "outputs": [
    {
     "data": {
      "text/plain": [
       "dtype('int64')"
      ]
     },
     "execution_count": 19,
     "metadata": {},
     "output_type": "execute_result"
    }
   ],
   "source": [
    "signals['Growth'].dtypes"
   ]
  },
  {
   "cell_type": "code",
   "execution_count": 20,
   "metadata": {},
   "outputs": [
    {
     "data": {
      "text/plain": [
       "pandas.core.series.Series"
      ]
     },
     "execution_count": 20,
     "metadata": {},
     "output_type": "execute_result"
    }
   ],
   "source": [
    "type(signals['Growth'])"
   ]
  },
  {
   "cell_type": "markdown",
   "metadata": {},
   "source": [
    "## There's more"
   ]
  },
  {
   "cell_type": "code",
   "execution_count": 21,
   "metadata": {},
   "outputs": [
    {
     "data": {
      "text/plain": [
       "'Growth'"
      ]
     },
     "execution_count": 21,
     "metadata": {},
     "output_type": "execute_result"
    }
   ],
   "source": [
    "signal_growth = signals['Growth']\n",
    "signal_growth.name"
   ]
  },
  {
   "cell_type": "code",
   "execution_count": 22,
   "metadata": {},
   "outputs": [
    {
     "data": {
      "text/html": [
       "<div>\n",
       "<style scoped>\n",
       "    .dataframe tbody tr th:only-of-type {\n",
       "        vertical-align: middle;\n",
       "    }\n",
       "\n",
       "    .dataframe tbody tr th {\n",
       "        vertical-align: top;\n",
       "    }\n",
       "\n",
       "    .dataframe thead th {\n",
       "        text-align: right;\n",
       "    }\n",
       "</style>\n",
       "<table border=\"1\" class=\"dataframe\">\n",
       "  <thead>\n",
       "    <tr style=\"text-align: right;\">\n",
       "      <th></th>\n",
       "      <th>Growth</th>\n",
       "    </tr>\n",
       "    <tr>\n",
       "      <th>Signal</th>\n",
       "      <th></th>\n",
       "    </tr>\n",
       "  </thead>\n",
       "  <tbody>\n",
       "    <tr>\n",
       "      <th>1371953</th>\n",
       "      <td>3</td>\n",
       "    </tr>\n",
       "    <tr>\n",
       "      <th>2020078</th>\n",
       "      <td>823</td>\n",
       "    </tr>\n",
       "    <tr>\n",
       "      <th>2105300</th>\n",
       "      <td>1</td>\n",
       "    </tr>\n",
       "    <tr>\n",
       "      <th>2049959</th>\n",
       "      <td>692</td>\n",
       "    </tr>\n",
       "    <tr>\n",
       "      <th>2145152</th>\n",
       "      <td>677</td>\n",
       "    </tr>\n",
       "  </tbody>\n",
       "</table>\n",
       "</div>"
      ],
      "text/plain": [
       "         Growth\n",
       "Signal         \n",
       "1371953       3\n",
       "2020078     823\n",
       "2105300       1\n",
       "2049959     692\n",
       "2145152     677"
      ]
     },
     "execution_count": 22,
     "metadata": {},
     "output_type": "execute_result"
    }
   ],
   "source": [
    "signal_growth.to_frame().head()"
   ]
  },
  {
   "cell_type": "markdown",
   "metadata": {},
   "source": [
    "# Calling Series methods"
   ]
  },
  {
   "cell_type": "markdown",
   "metadata": {},
   "source": [
    "## Getting ready..."
   ]
  },
  {
   "cell_type": "code",
   "execution_count": 23,
   "metadata": {},
   "outputs": [
    {
     "data": {
      "text/plain": [
       "411"
      ]
     },
     "execution_count": 23,
     "metadata": {},
     "output_type": "execute_result"
    }
   ],
   "source": [
    "s_attr_methods = set(dir(pd.Series))\n",
    "len(s_attr_methods)"
   ]
  },
  {
   "cell_type": "code",
   "execution_count": 24,
   "metadata": {},
   "outputs": [
    {
     "data": {
      "text/plain": [
       "427"
      ]
     },
     "execution_count": 24,
     "metadata": {},
     "output_type": "execute_result"
    }
   ],
   "source": [
    "df_attr_methods = set(dir(pd.DataFrame))\n",
    "len(df_attr_methods)"
   ]
  },
  {
   "cell_type": "code",
   "execution_count": 25,
   "metadata": {},
   "outputs": [
    {
     "data": {
      "text/plain": [
       "357"
      ]
     },
     "execution_count": 25,
     "metadata": {},
     "output_type": "execute_result"
    }
   ],
   "source": [
    "len(s_attr_methods & df_attr_methods)"
   ]
  },
  {
   "cell_type": "markdown",
   "metadata": {},
   "source": [
    "## How to do it..."
   ]
  },
  {
   "cell_type": "code",
   "execution_count": 26,
   "metadata": {
    "collapsed": true
   },
   "outputs": [
    {
     "data": {
      "text/plain": [
       "Index(['Rating', 'Signals', 'Price', 'Growth', 'Subscribers', 'Funds',\n",
       "       'Balance', 'Weeks', 'Drawdown', 'Trades', 'Profit Trades',\n",
       "       'Loss Trades', 'Best trade', 'Worst trade', 'Gross Profit',\n",
       "       'Gross Loss', 'Maximum consecutive wins', 'Maximal consecutive profit',\n",
       "       'Sharpe Ratio', 'Trading activity', 'Max deposit load', 'Latest trade',\n",
       "       'Trades per week', 'Avg holding time', 'Recovery Factor', 'Long Trades',\n",
       "       'Short Trades', 'Profit Factor', 'Expected Payoff', 'Average Profit',\n",
       "       'Average Loss', 'Maximum consecutive losses',\n",
       "       'Maximal consecutive loss', 'Monthly growth', 'Annual Forecast',\n",
       "       'Algo trading', 'Absolute balance drawdown', 'Maximal balance drawdown',\n",
       "       'Relative drawdown by balance', 'Relative drawdown by equity', 'Months',\n",
       "       'Average By Month', 'Std By Month', 'Profit Trades Pct',\n",
       "       'Loss Trades Pct', 'Gross Profit Pct', 'Gross Loss Pips',\n",
       "       'Maximum consecutive wins amount', 'Maximal consecutive profit orders',\n",
       "       'Long Trades Pct', 'Short Trades Pct',\n",
       "       'Maximum consecutive losses amount', 'Maximal consecutive loss orders',\n",
       "       'Maximal balance drawdown pct', 'Relative drawdown by balance amount',\n",
       "       'Relative drawdown by equity amount'],\n",
       "      dtype='object')"
      ]
     },
     "execution_count": 26,
     "metadata": {},
     "output_type": "execute_result"
    }
   ],
   "source": [
    "signals = pd.read_csv('data/mql5_signals_mt4.csv', index_col='Signal')\n",
    "signals.columns"
   ]
  },
  {
   "cell_type": "code",
   "execution_count": 27,
   "metadata": {},
   "outputs": [],
   "source": [
    "avg_by_month = signals['Average By Month']\n",
    "monthly_growth = signals['Monthly growth']"
   ]
  },
  {
   "cell_type": "code",
   "execution_count": 28,
   "metadata": {},
   "outputs": [
    {
     "data": {
      "text/plain": [
       "Signal\n",
       "1371953    15.487500\n",
       "2020078    17.475333\n",
       "2105300    14.050000\n",
       "2049959     3.911636\n",
       "2145152    23.438000\n",
       "Name: Average By Month, dtype: float64"
      ]
     },
     "execution_count": 28,
     "metadata": {},
     "output_type": "execute_result"
    }
   ],
   "source": [
    "avg_by_month.head()"
   ]
  },
  {
   "cell_type": "code",
   "execution_count": 29,
   "metadata": {},
   "outputs": [
    {
     "data": {
      "text/plain": [
       "Signal\n",
       "1371953    5.06\n",
       "2020078    6.24\n",
       "2105300    1.96\n",
       "2049959    1.52\n",
       "2145152    9.57\n",
       "Name: Monthly growth, dtype: float64"
      ]
     },
     "execution_count": 29,
     "metadata": {},
     "output_type": "execute_result"
    }
   ],
   "source": [
    "monthly_growth.head()"
   ]
  },
  {
   "cell_type": "code",
   "execution_count": 30,
   "metadata": {},
   "outputs": [
    {
     "data": {
      "text/plain": [
       "Weeks\n",
       "8      139\n",
       "2      122\n",
       "3      122\n",
       "13     111\n",
       "4      109\n",
       "      ... \n",
       "345      1\n",
       "352      1\n",
       "164      1\n",
       "198      1\n",
       "460      1\n",
       "Name: count, Length: 281, dtype: int64"
      ]
     },
     "execution_count": 30,
     "metadata": {},
     "output_type": "execute_result"
    }
   ],
   "source": [
    "# pd.set_option('max_rows', 8)\n",
    "pd.set_option('display.max_rows', 10)\n",
    "weeks = signals['Weeks']\n",
    "weeks.value_counts()"
   ]
  },
  {
   "cell_type": "code",
   "execution_count": 31,
   "metadata": {},
   "outputs": [
    {
     "data": {
      "text/plain": [
       "Months\n",
       "3      440\n",
       "4      438\n",
       "2      425\n",
       "1      375\n",
       "6      276\n",
       "      ... \n",
       "91       1\n",
       "101      1\n",
       "118      1\n",
       "122      1\n",
       "107      1\n",
       "Name: count, Length: 91, dtype: int64"
      ]
     },
     "execution_count": 31,
     "metadata": {},
     "output_type": "execute_result"
    }
   ],
   "source": [
    "months = signals['Months']\n",
    "months.value_counts()"
   ]
  },
  {
   "cell_type": "code",
   "execution_count": 32,
   "metadata": {},
   "outputs": [
    {
     "data": {
      "text/plain": [
       "4313"
      ]
     },
     "execution_count": 32,
     "metadata": {},
     "output_type": "execute_result"
    }
   ],
   "source": [
    "months.size"
   ]
  },
  {
   "cell_type": "code",
   "execution_count": 33,
   "metadata": {},
   "outputs": [
    {
     "data": {
      "text/plain": [
       "(4313,)"
      ]
     },
     "execution_count": 33,
     "metadata": {},
     "output_type": "execute_result"
    }
   ],
   "source": [
    "months.shape"
   ]
  },
  {
   "cell_type": "code",
   "execution_count": 34,
   "metadata": {},
   "outputs": [
    {
     "data": {
      "text/plain": [
       "4313"
      ]
     },
     "execution_count": 34,
     "metadata": {},
     "output_type": "execute_result"
    }
   ],
   "source": [
    "len(months)"
   ]
  },
  {
   "cell_type": "code",
   "execution_count": 35,
   "metadata": {},
   "outputs": [
    {
     "data": {
      "text/plain": [
       "4313"
      ]
     },
     "execution_count": 35,
     "metadata": {},
     "output_type": "execute_result"
    }
   ],
   "source": [
    "months.count()"
   ]
  },
  {
   "cell_type": "code",
   "execution_count": 36,
   "metadata": {},
   "outputs": [
    {
     "data": {
      "text/plain": [
       "4308"
      ]
     },
     "execution_count": 36,
     "metadata": {},
     "output_type": "execute_result"
    }
   ],
   "source": [
    "monthly_growth.count()"
   ]
  },
  {
   "cell_type": "code",
   "execution_count": 37,
   "metadata": {},
   "outputs": [
    {
     "data": {
      "text/plain": [
       "5.91"
      ]
     },
     "execution_count": 37,
     "metadata": {},
     "output_type": "execute_result"
    }
   ],
   "source": [
    "monthly_growth.quantile() # 50th percentile by default"
   ]
  },
  {
   "cell_type": "code",
   "execution_count": 38,
   "metadata": {},
   "outputs": [
    {
     "data": {
      "text/plain": [
       "0.13     1.3100\n",
       "0.21     2.1300\n",
       "0.34     3.5100\n",
       "0.55     6.9600\n",
       "0.89    26.5699\n",
       "Name: Monthly growth, dtype: float64"
      ]
     },
     "execution_count": 38,
     "metadata": {},
     "output_type": "execute_result"
    }
   ],
   "source": [
    "monthly_growth.quantile([0.13, 0.21, 0.34, 0.55, 0.89])"
   ]
  },
  {
   "cell_type": "code",
   "execution_count": 39,
   "metadata": {},
   "outputs": [
    {
     "data": {
      "text/plain": [
       "(0.0, 245.5, 11.298300835654597, 5.91, 15.62578284056739, 48673.08)"
      ]
     },
     "execution_count": 39,
     "metadata": {},
     "output_type": "execute_result"
    }
   ],
   "source": [
    "monthly_growth.min(), monthly_growth.max(), \\\n",
    "monthly_growth.mean(), monthly_growth.median(), \\\n",
    "monthly_growth.std(), monthly_growth.sum()"
   ]
  },
  {
   "cell_type": "code",
   "execution_count": 40,
   "metadata": {},
   "outputs": [
    {
     "data": {
      "text/plain": [
       "count    4308.000000\n",
       "mean       11.298301\n",
       "std        15.625783\n",
       "min         0.000000\n",
       "25%         2.540000\n",
       "50%         5.910000\n",
       "75%        13.942500\n",
       "max       245.500000\n",
       "Name: Monthly growth, dtype: float64"
      ]
     },
     "execution_count": 40,
     "metadata": {},
     "output_type": "execute_result"
    }
   ],
   "source": [
    "monthly_growth.describe()"
   ]
  },
  {
   "cell_type": "code",
   "execution_count": 41,
   "metadata": {},
   "outputs": [
    {
     "data": {
      "text/plain": [
       "count    4313.000000\n",
       "mean        6.929626\n",
       "std        10.235251\n",
       "min       -63.210000\n",
       "25%         2.103750\n",
       "50%         4.674750\n",
       "75%         9.690000\n",
       "max        89.022500\n",
       "Name: Average By Month, dtype: float64"
      ]
     },
     "execution_count": 41,
     "metadata": {},
     "output_type": "execute_result"
    }
   ],
   "source": [
    "avg_by_month.describe()"
   ]
  },
  {
   "cell_type": "code",
   "execution_count": 42,
   "metadata": {},
   "outputs": [
    {
     "data": {
      "text/plain": [
       "1.564860606060606"
      ]
     },
     "execution_count": 42,
     "metadata": {},
     "output_type": "execute_result"
    }
   ],
   "source": [
    "avg_by_month.quantile(.2)"
   ]
  },
  {
   "cell_type": "code",
   "execution_count": 43,
   "metadata": {},
   "outputs": [
    {
     "data": {
      "text/plain": [
       "Signal\n",
       "2198096    67.170000\n",
       "2220546    70.103333\n",
       "2183180    70.122500\n",
       "2187806    71.250000\n",
       "2203298    72.150000\n",
       "             ...    \n",
       "2198627    81.043333\n",
       "2177787    81.632500\n",
       "2181709    81.700000\n",
       "2216464    85.765000\n",
       "2217753    89.022500\n",
       "Name: Average By Month, Length: 13, dtype: float64"
      ]
     },
     "execution_count": 43,
     "metadata": {},
     "output_type": "execute_result"
    }
   ],
   "source": [
    "temp = avg_by_month\n",
    "temp.dropna(inplace=True)\n",
    "temp.sort_values(ascending=True).tail(13)"
   ]
  },
  {
   "cell_type": "code",
   "execution_count": 44,
   "metadata": {},
   "outputs": [
    {
     "data": {
      "text/plain": [
       "0.1   -0.271333\n",
       "0.2    1.564861\n",
       "0.3    2.553000\n",
       "0.4    3.553429\n",
       "0.5    4.674750\n",
       "Name: Average By Month, dtype: float64"
      ]
     },
     "execution_count": 44,
     "metadata": {},
     "output_type": "execute_result"
    }
   ],
   "source": [
    "# avg_by_month.quantile()\n",
    "# avg_by_month.quantile(.2)\n",
    "avg_by_month.quantile([.1, .2, .3, .4, .5, ])"
   ]
  },
  {
   "cell_type": "code",
   "execution_count": 45,
   "metadata": {},
   "outputs": [
    {
     "data": {
      "text/plain": [
       "0.1    -0.271333\n",
       "0.2     1.564861\n",
       "0.3     2.553000\n",
       "0.4     3.553429\n",
       "0.5     4.674750\n",
       "0.6     6.106333\n",
       "0.7     8.237733\n",
       "0.8    11.537500\n",
       "0.9    17.246400\n",
       "Name: Average By Month, dtype: float64"
      ]
     },
     "execution_count": 45,
     "metadata": {},
     "output_type": "execute_result"
    }
   ],
   "source": [
    "avg_by_month.quantile([.1, .2, .3, .4, .5, .6, .7, .8, .9])"
   ]
  },
  {
   "cell_type": "code",
   "execution_count": 46,
   "metadata": {},
   "outputs": [
    {
     "data": {
      "text/plain": [
       "Signal\n",
       "1371953    False\n",
       "2020078    False\n",
       "2105300    False\n",
       "2049959    False\n",
       "2145152    False\n",
       "           ...  \n",
       "2211292    False\n",
       "2207077    False\n",
       "1566301    False\n",
       "2158945    False\n",
       "1614162    False\n",
       "Name: Monthly growth, Length: 4313, dtype: bool"
      ]
     },
     "execution_count": 46,
     "metadata": {},
     "output_type": "execute_result"
    }
   ],
   "source": [
    "monthly_growth.isnull()"
   ]
  },
  {
   "cell_type": "code",
   "execution_count": 47,
   "metadata": {},
   "outputs": [
    {
     "data": {
      "text/plain": [
       "Monthly growth\n",
       "False    4308\n",
       "True        5\n",
       "Name: count, dtype: int64"
      ]
     },
     "execution_count": 47,
     "metadata": {},
     "output_type": "execute_result"
    }
   ],
   "source": [
    "monthly_growth.isnull().value_counts()"
   ]
  },
  {
   "cell_type": "code",
   "execution_count": 48,
   "metadata": {},
   "outputs": [
    {
     "data": {
      "text/plain": [
       "Monthly growth\n",
       "0.00     24\n",
       "0.71     11\n",
       "2.02     10\n",
       "2.61     10\n",
       "0.61     10\n",
       "         ..\n",
       "13.67     1\n",
       "19.84     1\n",
       "21.46     1\n",
       "50.21     1\n",
       "19.22     1\n",
       "Name: count, Length: 2039, dtype: int64"
      ]
     },
     "execution_count": 48,
     "metadata": {},
     "output_type": "execute_result"
    }
   ],
   "source": [
    "monthly_growth.value_counts()"
   ]
  },
  {
   "cell_type": "code",
   "execution_count": 49,
   "metadata": {},
   "outputs": [
    {
     "name": "stdout",
     "output_type": "stream",
     "text": [
      "<class 'pandas.core.frame.DataFrame'>\n",
      "Index: 4313 entries, 1371953 to 1614162\n",
      "Data columns (total 56 columns):\n",
      " #   Column                               Non-Null Count  Dtype  \n",
      "---  ------                               --------------  -----  \n",
      " 0   Rating                               4313 non-null   object \n",
      " 1   Signals                              4313 non-null   object \n",
      " 2   Price                                4313 non-null   int64  \n",
      " 3   Growth                               4313 non-null   int64  \n",
      " 4   Subscribers                          4313 non-null   int64  \n",
      " 5   Funds                                4313 non-null   int64  \n",
      " 6   Balance                              4313 non-null   int64  \n",
      " 7   Weeks                                4313 non-null   int64  \n",
      " 8   Drawdown                             4313 non-null   int64  \n",
      " 9   Trades                               4313 non-null   int64  \n",
      " 10  Profit Trades                        4313 non-null   int64  \n",
      " 11  Loss Trades                          4313 non-null   int64  \n",
      " 12  Best trade                           4313 non-null   float64\n",
      " 13  Worst trade                          4313 non-null   float64\n",
      " 14  Gross Profit                         4313 non-null   float64\n",
      " 15  Gross Loss                           4313 non-null   float64\n",
      " 16  Maximum consecutive wins             4313 non-null   int64  \n",
      " 17  Maximal consecutive profit           4313 non-null   float64\n",
      " 18  Sharpe Ratio                         4313 non-null   float64\n",
      " 19  Trading activity                     4310 non-null   float64\n",
      " 20  Max deposit load                     4313 non-null   float64\n",
      " 21  Latest trade                         4313 non-null   int64  \n",
      " 22  Trades per week                      4313 non-null   int64  \n",
      " 23  Avg holding time                     4313 non-null   int64  \n",
      " 24  Recovery Factor                      4313 non-null   float64\n",
      " 25  Long Trades                          4313 non-null   int64  \n",
      " 26  Short Trades                         4313 non-null   int64  \n",
      " 27  Profit Factor                        4270 non-null   float64\n",
      " 28  Expected Payoff                      4313 non-null   float64\n",
      " 29  Average Profit                       4313 non-null   float64\n",
      " 30  Average Loss                         4313 non-null   float64\n",
      " 31  Maximum consecutive losses           4313 non-null   int64  \n",
      " 32  Maximal consecutive loss             4313 non-null   float64\n",
      " 33  Monthly growth                       4308 non-null   float64\n",
      " 34  Annual Forecast                      3015 non-null   float64\n",
      " 35  Algo trading                         4313 non-null   int64  \n",
      " 36  Absolute balance drawdown            4313 non-null   float64\n",
      " 37  Maximal balance drawdown             4313 non-null   float64\n",
      " 38  Relative drawdown by balance         4313 non-null   float64\n",
      " 39  Relative drawdown by equity          4313 non-null   float64\n",
      " 40  Months                               4313 non-null   int64  \n",
      " 41  Average By Month                     4313 non-null   float64\n",
      " 42  Std By Month                         4313 non-null   float64\n",
      " 43  Profit Trades Pct                    4313 non-null   float64\n",
      " 44  Loss Trades Pct                      4313 non-null   float64\n",
      " 45  Gross Profit Pct                     4313 non-null   int64  \n",
      " 46  Gross Loss Pips                      4313 non-null   int64  \n",
      " 47  Maximum consecutive wins amount      4313 non-null   float64\n",
      " 48  Maximal consecutive profit orders    4313 non-null   int64  \n",
      " 49  Long Trades Pct                      4313 non-null   float64\n",
      " 50  Short Trades Pct                     4313 non-null   float64\n",
      " 51  Maximum consecutive losses amount    4313 non-null   float64\n",
      " 52  Maximal consecutive loss orders      4313 non-null   int64  \n",
      " 53  Maximal balance drawdown pct         4313 non-null   float64\n",
      " 54  Relative drawdown by balance amount  4313 non-null   float64\n",
      " 55  Relative drawdown by equity amount   4313 non-null   float64\n",
      "dtypes: float64(31), int64(23), object(2)\n",
      "memory usage: 1.9+ MB\n"
     ]
    }
   ],
   "source": [
    "signals.info()"
   ]
  },
  {
   "cell_type": "code",
   "execution_count": 50,
   "metadata": {},
   "outputs": [
    {
     "data": {
      "text/plain": [
       "['Trading activity', 'Profit Factor', 'Monthly growth', 'Annual Forecast']"
      ]
     },
     "execution_count": 50,
     "metadata": {},
     "output_type": "execute_result"
    }
   ],
   "source": [
    "signals.columns[signals.isna().any()].tolist()"
   ]
  },
  {
   "cell_type": "code",
   "execution_count": 51,
   "metadata": {},
   "outputs": [
    {
     "data": {
      "text/plain": [
       "4313"
      ]
     },
     "execution_count": 51,
     "metadata": {},
     "output_type": "execute_result"
    }
   ],
   "source": [
    "monthly_growth_filled = monthly_growth.fillna(0)\n",
    "monthly_growth_filled.count()"
   ]
  },
  {
   "cell_type": "code",
   "execution_count": 52,
   "metadata": {},
   "outputs": [
    {
     "data": {
      "text/plain": [
       "4308"
      ]
     },
     "execution_count": 52,
     "metadata": {},
     "output_type": "execute_result"
    }
   ],
   "source": [
    "monthly_growth_dropped = monthly_growth.dropna()\n",
    "monthly_growth_dropped.size"
   ]
  },
  {
   "cell_type": "markdown",
   "metadata": {},
   "source": [
    "## There's more..."
   ]
  },
  {
   "cell_type": "code",
   "execution_count": 53,
   "metadata": {},
   "outputs": [
    {
     "data": {
      "text/plain": [
       "Signal\n",
       "1371953    117\n",
       "2020078     62\n",
       "2105300     79\n",
       "2049959    238\n",
       "2145152     39\n",
       "          ... \n",
       "2211292     48\n",
       "2207077    460\n",
       "1566301    107\n",
       "2158945     46\n",
       "1614162    134\n",
       "Name: Weeks, Length: 4313, dtype: int64"
      ]
     },
     "execution_count": 53,
     "metadata": {},
     "output_type": "execute_result"
    }
   ],
   "source": [
    "weeks"
   ]
  },
  {
   "cell_type": "code",
   "execution_count": 54,
   "metadata": {},
   "outputs": [
    {
     "data": {
      "text/plain": [
       "Weeks\n",
       "8      0.032228\n",
       "2      0.028287\n",
       "3      0.028287\n",
       "13     0.025736\n",
       "4      0.025272\n",
       "         ...   \n",
       "345    0.000232\n",
       "352    0.000232\n",
       "164    0.000232\n",
       "198    0.000232\n",
       "460    0.000232\n",
       "Name: proportion, Length: 281, dtype: float64"
      ]
     },
     "execution_count": 54,
     "metadata": {},
     "output_type": "execute_result"
    }
   ],
   "source": [
    "weeks.value_counts(normalize=True)"
   ]
  },
  {
   "cell_type": "code",
   "execution_count": 55,
   "metadata": {},
   "outputs": [],
   "source": [
    "annual_forecast = signals['Annual Forecast']"
   ]
  },
  {
   "cell_type": "code",
   "execution_count": 56,
   "metadata": {},
   "outputs": [
    {
     "data": {
      "text/plain": [
       "True"
      ]
     },
     "execution_count": 56,
     "metadata": {},
     "output_type": "execute_result"
    }
   ],
   "source": [
    "annual_forecast.hasnans"
   ]
  },
  {
   "cell_type": "code",
   "execution_count": 57,
   "metadata": {},
   "outputs": [
    {
     "data": {
      "text/plain": [
       "Signal\n",
       "1371953    True\n",
       "2020078    True\n",
       "2105300    True\n",
       "2049959    True\n",
       "2145152    True\n",
       "           ... \n",
       "2211292    True\n",
       "2207077    True\n",
       "1566301    True\n",
       "2158945    True\n",
       "1614162    True\n",
       "Name: Annual Forecast, Length: 4313, dtype: bool"
      ]
     },
     "execution_count": 57,
     "metadata": {},
     "output_type": "execute_result"
    }
   ],
   "source": [
    "annual_forecast.notnull()"
   ]
  },
  {
   "cell_type": "markdown",
   "metadata": {},
   "source": [
    "# Working with operators on a Series"
   ]
  },
  {
   "cell_type": "code",
   "execution_count": 58,
   "metadata": {
    "collapsed": true
   },
   "outputs": [],
   "source": [
    "pd.options.display.max_rows = 6"
   ]
  },
  {
   "cell_type": "code",
   "execution_count": 59,
   "metadata": {},
   "outputs": [
    {
     "data": {
      "text/plain": [
       "14"
      ]
     },
     "execution_count": 59,
     "metadata": {},
     "output_type": "execute_result"
    }
   ],
   "source": [
    "5 + 9    # plus operator example. Adds 5 and 9"
   ]
  },
  {
   "cell_type": "code",
   "execution_count": 60,
   "metadata": {},
   "outputs": [
    {
     "data": {
      "text/plain": [
       "16"
      ]
     },
     "execution_count": 60,
     "metadata": {},
     "output_type": "execute_result"
    }
   ],
   "source": [
    "4 ** 2   # exponentiation operator. Raises 4 to the second power"
   ]
  },
  {
   "cell_type": "code",
   "execution_count": 61,
   "metadata": {
    "collapsed": true
   },
   "outputs": [],
   "source": [
    "a = 10   # assignment operator."
   ]
  },
  {
   "cell_type": "code",
   "execution_count": 62,
   "metadata": {},
   "outputs": [
    {
     "data": {
      "text/plain": [
       "True"
      ]
     },
     "execution_count": 62,
     "metadata": {},
     "output_type": "execute_result"
    }
   ],
   "source": [
    "5 <= 9   # less than or equal to operator"
   ]
  },
  {
   "cell_type": "code",
   "execution_count": 63,
   "metadata": {},
   "outputs": [
    {
     "data": {
      "text/plain": [
       "'abcdefg'"
      ]
     },
     "execution_count": 63,
     "metadata": {},
     "output_type": "execute_result"
    }
   ],
   "source": [
    "'abcde' + 'fg'    # plus operator for strings. C"
   ]
  },
  {
   "cell_type": "code",
   "execution_count": 64,
   "metadata": {},
   "outputs": [
    {
     "data": {
      "text/plain": [
       "False"
      ]
     },
     "execution_count": 64,
     "metadata": {},
     "output_type": "execute_result"
    }
   ],
   "source": [
    "not (5 <= 9)      # not is an operator that is a reserved keyword and reverse a boolean"
   ]
  },
  {
   "cell_type": "code",
   "execution_count": 65,
   "metadata": {},
   "outputs": [
    {
     "data": {
      "text/plain": [
       "False"
      ]
     },
     "execution_count": 65,
     "metadata": {},
     "output_type": "execute_result"
    }
   ],
   "source": [
    "7 in [1, 2, 6]    # in operator checks for membership of a list"
   ]
  },
  {
   "cell_type": "code",
   "execution_count": 66,
   "metadata": {},
   "outputs": [
    {
     "data": {
      "text/plain": [
       "{2, 3}"
      ]
     },
     "execution_count": 66,
     "metadata": {},
     "output_type": "execute_result"
    }
   ],
   "source": [
    "set([1,2,3]) & set([2,3,4])"
   ]
  },
  {
   "cell_type": "code",
   "execution_count": 67,
   "metadata": {},
   "outputs": [],
   "source": [
    "# [1, 2, 3] - 3   # TypeError: unsupported operand type(s) for -: 'list' and 'int'"
   ]
  },
  {
   "cell_type": "code",
   "execution_count": 68,
   "metadata": {},
   "outputs": [],
   "source": [
    "# a = set([1,2,3])     \n",
    "# a[0]                 # the indexing operator does not work with sets | TypeError: 'set' object does not support indexing"
   ]
  },
  {
   "cell_type": "markdown",
   "metadata": {},
   "source": [
    "## Getting ready..."
   ]
  },
  {
   "cell_type": "code",
   "execution_count": 69,
   "metadata": {},
   "outputs": [
    {
     "data": {
      "text/plain": [
       "Index(['Rating', 'Signals', 'Price', 'Growth', 'Subscribers', 'Funds',\n",
       "       'Balance', 'Weeks', 'Drawdown', 'Trades', 'Profit Trades',\n",
       "       'Loss Trades', 'Best trade', 'Worst trade', 'Gross Profit',\n",
       "       'Gross Loss', 'Maximum consecutive wins', 'Maximal consecutive profit',\n",
       "       'Sharpe Ratio', 'Trading activity', 'Max deposit load', 'Latest trade',\n",
       "       'Trades per week', 'Avg holding time', 'Recovery Factor', 'Long Trades',\n",
       "       'Short Trades', 'Profit Factor', 'Expected Payoff', 'Average Profit',\n",
       "       'Average Loss', 'Maximum consecutive losses',\n",
       "       'Maximal consecutive loss', 'Monthly growth', 'Annual Forecast',\n",
       "       'Algo trading', 'Absolute balance drawdown', 'Maximal balance drawdown',\n",
       "       'Relative drawdown by balance', 'Relative drawdown by equity', 'Months',\n",
       "       'Average By Month', 'Std By Month', 'Profit Trades Pct',\n",
       "       'Loss Trades Pct', 'Gross Profit Pct', 'Gross Loss Pips',\n",
       "       'Maximum consecutive wins amount', 'Maximal consecutive profit orders',\n",
       "       'Long Trades Pct', 'Short Trades Pct',\n",
       "       'Maximum consecutive losses amount', 'Maximal consecutive loss orders',\n",
       "       'Maximal balance drawdown pct', 'Relative drawdown by balance amount',\n",
       "       'Relative drawdown by equity amount'],\n",
       "      dtype='object')"
      ]
     },
     "execution_count": 69,
     "metadata": {},
     "output_type": "execute_result"
    }
   ],
   "source": [
    "signals = pd.read_csv('data/mql5_signals_mt4.csv', index_col='Signal')\n",
    "signals.columns"
   ]
  },
  {
   "cell_type": "code",
   "execution_count": 70,
   "metadata": {},
   "outputs": [
    {
     "data": {
      "text/plain": [
       "Signal\n",
       "1371953    9.07\n",
       "2020078    0.60\n",
       "2105300    3.50\n",
       "           ... \n",
       "1566301    1.40\n",
       "2158945    0.10\n",
       "1614162    0.63\n",
       "Name: Expected Payoff, Length: 4313, dtype: float64"
      ]
     },
     "execution_count": 70,
     "metadata": {},
     "output_type": "execute_result"
    }
   ],
   "source": [
    "EP = signals['Expected Payoff']\n",
    "EP"
   ]
  },
  {
   "cell_type": "code",
   "execution_count": 71,
   "metadata": {},
   "outputs": [
    {
     "data": {
      "text/plain": [
       "Signal\n",
       "1371953    10.07\n",
       "2020078     1.60\n",
       "2105300     4.50\n",
       "           ...  \n",
       "1566301     2.40\n",
       "2158945     1.10\n",
       "1614162     1.63\n",
       "Name: Expected Payoff, Length: 4313, dtype: float64"
      ]
     },
     "execution_count": 71,
     "metadata": {},
     "output_type": "execute_result"
    }
   ],
   "source": [
    "EP + 1"
   ]
  },
  {
   "cell_type": "code",
   "execution_count": 72,
   "metadata": {},
   "outputs": [
    {
     "data": {
      "text/plain": [
       "Signal\n",
       "1371953    22.675\n",
       "2020078     1.500\n",
       "2105300     8.750\n",
       "            ...  \n",
       "1566301     3.500\n",
       "2158945     0.250\n",
       "1614162     1.575\n",
       "Name: Expected Payoff, Length: 4313, dtype: float64"
      ]
     },
     "execution_count": 72,
     "metadata": {},
     "output_type": "execute_result"
    }
   ],
   "source": [
    "EP * 2.5"
   ]
  },
  {
   "cell_type": "code",
   "execution_count": 73,
   "metadata": {},
   "outputs": [
    {
     "data": {
      "text/plain": [
       "Signal\n",
       "1371953    1.0\n",
       "2020078    0.0\n",
       "2105300    0.0\n",
       "          ... \n",
       "1566301    0.0\n",
       "2158945    0.0\n",
       "1614162    0.0\n",
       "Name: Expected Payoff, Length: 4313, dtype: float64"
      ]
     },
     "execution_count": 73,
     "metadata": {},
     "output_type": "execute_result"
    }
   ],
   "source": [
    "EP // 7"
   ]
  },
  {
   "cell_type": "code",
   "execution_count": 74,
   "metadata": {},
   "outputs": [
    {
     "data": {
      "text/plain": [
       "Signal\n",
       "1371953     True\n",
       "2020078    False\n",
       "2105300    False\n",
       "           ...  \n",
       "1566301    False\n",
       "2158945    False\n",
       "1614162    False\n",
       "Name: Expected Payoff, Length: 4313, dtype: bool"
      ]
     },
     "execution_count": 74,
     "metadata": {},
     "output_type": "execute_result"
    }
   ],
   "source": [
    "EP > 7"
   ]
  },
  {
   "cell_type": "code",
   "execution_count": 75,
   "metadata": {
    "collapsed": true
   },
   "outputs": [],
   "source": [
    "PF = signals['Profit Factor']"
   ]
  },
  {
   "cell_type": "code",
   "execution_count": 76,
   "metadata": {},
   "outputs": [
    {
     "data": {
      "text/plain": [
       "Signal\n",
       "1371953    2.12\n",
       "2020078    2.10\n",
       "2105300    2.14\n",
       "           ... \n",
       "1566301    1.35\n",
       "2158945    1.02\n",
       "1614162    1.15\n",
       "Name: Profit Factor, Length: 4313, dtype: float64"
      ]
     },
     "execution_count": 76,
     "metadata": {},
     "output_type": "execute_result"
    }
   ],
   "source": [
    "PF"
   ]
  },
  {
   "cell_type": "code",
   "execution_count": 77,
   "metadata": {},
   "outputs": [
    {
     "data": {
      "text/plain": [
       "Signal\n",
       "1371953    False\n",
       "2020078     True\n",
       "2105300    False\n",
       "           ...  \n",
       "1566301    False\n",
       "2158945    False\n",
       "1614162    False\n",
       "Name: Profit Factor, Length: 4313, dtype: bool"
      ]
     },
     "execution_count": 77,
     "metadata": {},
     "output_type": "execute_result"
    }
   ],
   "source": [
    "PF == 2.10"
   ]
  },
  {
   "cell_type": "markdown",
   "metadata": {},
   "source": [
    "## There's more..."
   ]
  },
  {
   "cell_type": "code",
   "execution_count": 78,
   "metadata": {},
   "outputs": [
    {
     "data": {
      "text/plain": [
       "Signal\n",
       "1371953    3.12\n",
       "2020078    3.10\n",
       "2105300    3.14\n",
       "           ... \n",
       "1566301    2.35\n",
       "2158945    2.02\n",
       "1614162    2.15\n",
       "Name: Profit Factor, Length: 4313, dtype: float64"
      ]
     },
     "execution_count": 78,
     "metadata": {},
     "output_type": "execute_result"
    }
   ],
   "source": [
    "PF.add(1)              # imdb_score + 1"
   ]
  },
  {
   "cell_type": "code",
   "execution_count": 79,
   "metadata": {},
   "outputs": [
    {
     "data": {
      "text/plain": [
       "Signal\n",
       "1371953    5.300\n",
       "2020078    5.250\n",
       "2105300    5.350\n",
       "           ...  \n",
       "1566301    3.375\n",
       "2158945    2.550\n",
       "1614162    2.875\n",
       "Name: Profit Factor, Length: 4313, dtype: float64"
      ]
     },
     "execution_count": 79,
     "metadata": {},
     "output_type": "execute_result"
    }
   ],
   "source": [
    "PF.mul(2.5)            # imdb_score * 2.5"
   ]
  },
  {
   "cell_type": "code",
   "execution_count": 80,
   "metadata": {},
   "outputs": [
    {
     "data": {
      "text/plain": [
       "Signal\n",
       "1371953    0.0\n",
       "2020078    0.0\n",
       "2105300    0.0\n",
       "          ... \n",
       "1566301    0.0\n",
       "2158945    0.0\n",
       "1614162    0.0\n",
       "Name: Profit Factor, Length: 4313, dtype: float64"
      ]
     },
     "execution_count": 80,
     "metadata": {},
     "output_type": "execute_result"
    }
   ],
   "source": [
    "PF.floordiv(7)         # imdb_score // 7"
   ]
  },
  {
   "cell_type": "code",
   "execution_count": 81,
   "metadata": {},
   "outputs": [
    {
     "data": {
      "text/plain": [
       "Signal\n",
       "1371953    False\n",
       "2020078    False\n",
       "2105300    False\n",
       "           ...  \n",
       "1566301    False\n",
       "2158945    False\n",
       "1614162    False\n",
       "Name: Profit Factor, Length: 4313, dtype: bool"
      ]
     },
     "execution_count": 81,
     "metadata": {},
     "output_type": "execute_result"
    }
   ],
   "source": [
    "PF.gt(7)               # imdb_score > 7"
   ]
  },
  {
   "cell_type": "code",
   "execution_count": 82,
   "metadata": {},
   "outputs": [
    {
     "data": {
      "text/plain": [
       "Signal\n",
       "1371953    False\n",
       "2020078     True\n",
       "2105300    False\n",
       "           ...  \n",
       "1566301    False\n",
       "2158945    False\n",
       "1614162    False\n",
       "Name: Profit Factor, Length: 4313, dtype: bool"
      ]
     },
     "execution_count": 82,
     "metadata": {},
     "output_type": "execute_result"
    }
   ],
   "source": [
    "PF.eq(2.1)   # director == 'James Cameron'"
   ]
  },
  {
   "cell_type": "code",
   "execution_count": 83,
   "metadata": {},
   "outputs": [
    {
     "data": {
      "text/plain": [
       "Signal\n",
       "1371953    2\n",
       "2020078    2\n",
       "2105300    2\n",
       "          ..\n",
       "1566301    1\n",
       "2158945    1\n",
       "1614162    1\n",
       "Name: Profit Factor, Length: 4270, dtype: int64"
      ]
     },
     "execution_count": 83,
     "metadata": {},
     "output_type": "execute_result"
    }
   ],
   "source": [
    "PF.dropna(inplace=True)\n",
    "PF.astype(int).mod(5)"
   ]
  },
  {
   "cell_type": "code",
   "execution_count": 84,
   "metadata": {
    "collapsed": true
   },
   "outputs": [],
   "source": [
    "a = type(1)"
   ]
  },
  {
   "cell_type": "code",
   "execution_count": 85,
   "metadata": {},
   "outputs": [
    {
     "data": {
      "text/plain": [
       "type"
      ]
     },
     "execution_count": 85,
     "metadata": {},
     "output_type": "execute_result"
    }
   ],
   "source": [
    "type(a)"
   ]
  },
  {
   "cell_type": "code",
   "execution_count": 86,
   "metadata": {
    "collapsed": true
   },
   "outputs": [],
   "source": [
    "a = type(PF)"
   ]
  },
  {
   "cell_type": "code",
   "execution_count": 87,
   "metadata": {},
   "outputs": [
    {
     "data": {
      "text/plain": [
       "0    1\n",
       "1    2\n",
       "2    3\n",
       "dtype: int64"
      ]
     },
     "execution_count": 87,
     "metadata": {},
     "output_type": "execute_result"
    }
   ],
   "source": [
    "a([1,2,3])"
   ]
  },
  {
   "cell_type": "markdown",
   "metadata": {},
   "source": [
    "# Chaining Series methods together"
   ]
  },
  {
   "cell_type": "code",
   "execution_count": 88,
   "metadata": {
    "collapsed": true
   },
   "outputs": [
    {
     "data": {
      "text/html": [
       "<div>\n",
       "<style scoped>\n",
       "    .dataframe tbody tr th:only-of-type {\n",
       "        vertical-align: middle;\n",
       "    }\n",
       "\n",
       "    .dataframe tbody tr th {\n",
       "        vertical-align: top;\n",
       "    }\n",
       "\n",
       "    .dataframe thead th {\n",
       "        text-align: right;\n",
       "    }\n",
       "</style>\n",
       "<table border=\"1\" class=\"dataframe\">\n",
       "  <thead>\n",
       "    <tr style=\"text-align: right;\">\n",
       "      <th></th>\n",
       "      <th>Rating</th>\n",
       "      <th>Signals</th>\n",
       "      <th>Price</th>\n",
       "      <th>Growth</th>\n",
       "      <th>...</th>\n",
       "      <th>Maximal consecutive loss orders</th>\n",
       "      <th>Maximal balance drawdown pct</th>\n",
       "      <th>Relative drawdown by balance amount</th>\n",
       "      <th>Relative drawdown by equity amount</th>\n",
       "    </tr>\n",
       "    <tr>\n",
       "      <th>Signal</th>\n",
       "      <th></th>\n",
       "      <th></th>\n",
       "      <th></th>\n",
       "      <th></th>\n",
       "      <th></th>\n",
       "      <th></th>\n",
       "      <th></th>\n",
       "      <th></th>\n",
       "      <th></th>\n",
       "    </tr>\n",
       "  </thead>\n",
       "  <tbody>\n",
       "    <tr>\n",
       "      <th>1371953</th>\n",
       "      <td>1</td>\n",
       "      <td>Activity</td>\n",
       "      <td>30</td>\n",
       "      <td>3</td>\n",
       "      <td>...</td>\n",
       "      <td>8</td>\n",
       "      <td>11.87</td>\n",
       "      <td>2505.44</td>\n",
       "      <td>3553.24</td>\n",
       "    </tr>\n",
       "    <tr>\n",
       "      <th>2020078</th>\n",
       "      <td>10</td>\n",
       "      <td>EURSpecial</td>\n",
       "      <td>30</td>\n",
       "      <td>823</td>\n",
       "      <td>...</td>\n",
       "      <td>4</td>\n",
       "      <td>6.09</td>\n",
       "      <td>53.30</td>\n",
       "      <td>342.76</td>\n",
       "    </tr>\n",
       "    <tr>\n",
       "      <th>2105300</th>\n",
       "      <td>6</td>\n",
       "      <td>Arnold</td>\n",
       "      <td>30</td>\n",
       "      <td>1</td>\n",
       "      <td>...</td>\n",
       "      <td>9</td>\n",
       "      <td>16.19</td>\n",
       "      <td>802.90</td>\n",
       "      <td>329.80</td>\n",
       "    </tr>\n",
       "    <tr>\n",
       "      <th>...</th>\n",
       "      <td>...</td>\n",
       "      <td>...</td>\n",
       "      <td>...</td>\n",
       "      <td>...</td>\n",
       "      <td>...</td>\n",
       "      <td>...</td>\n",
       "      <td>...</td>\n",
       "      <td>...</td>\n",
       "      <td>...</td>\n",
       "    </tr>\n",
       "    <tr>\n",
       "      <th>1566301</th>\n",
       "      <td>5688</td>\n",
       "      <td>High Risk</td>\n",
       "      <td>30</td>\n",
       "      <td>65</td>\n",
       "      <td>...</td>\n",
       "      <td>58</td>\n",
       "      <td>39.86</td>\n",
       "      <td>1539.94</td>\n",
       "      <td>8806.67</td>\n",
       "    </tr>\n",
       "    <tr>\n",
       "      <th>2158945</th>\n",
       "      <td>5693</td>\n",
       "      <td>2</td>\n",
       "      <td>30</td>\n",
       "      <td>66</td>\n",
       "      <td>...</td>\n",
       "      <td>11</td>\n",
       "      <td>92.19</td>\n",
       "      <td>1081.51</td>\n",
       "      <td>210.08</td>\n",
       "    </tr>\n",
       "    <tr>\n",
       "      <th>1614162</th>\n",
       "      <td>5720</td>\n",
       "      <td>345</td>\n",
       "      <td>30</td>\n",
       "      <td>70</td>\n",
       "      <td>...</td>\n",
       "      <td>1</td>\n",
       "      <td>59.00</td>\n",
       "      <td>15659.99</td>\n",
       "      <td>4213.67</td>\n",
       "    </tr>\n",
       "  </tbody>\n",
       "</table>\n",
       "<p>4313 rows × 56 columns</p>\n",
       "</div>"
      ],
      "text/plain": [
       "        Rating     Signals  Price  Growth  ...  \\\n",
       "Signal                                     ...   \n",
       "1371953      1    Activity     30       3  ...   \n",
       "2020078     10  EURSpecial     30     823  ...   \n",
       "2105300      6      Arnold     30       1  ...   \n",
       "...        ...         ...    ...     ...  ...   \n",
       "1566301   5688   High Risk     30      65  ...   \n",
       "2158945   5693           2     30      66  ...   \n",
       "1614162   5720         345     30      70  ...   \n",
       "\n",
       "         Maximal consecutive loss orders  Maximal balance drawdown pct  \\\n",
       "Signal                                                                   \n",
       "1371953                                8                         11.87   \n",
       "2020078                                4                          6.09   \n",
       "2105300                                9                         16.19   \n",
       "...                                  ...                           ...   \n",
       "1566301                               58                         39.86   \n",
       "2158945                               11                         92.19   \n",
       "1614162                                1                         59.00   \n",
       "\n",
       "         Relative drawdown by balance amount  \\\n",
       "Signal                                         \n",
       "1371953                              2505.44   \n",
       "2020078                                53.30   \n",
       "2105300                               802.90   \n",
       "...                                      ...   \n",
       "1566301                              1539.94   \n",
       "2158945                              1081.51   \n",
       "1614162                             15659.99   \n",
       "\n",
       "         Relative drawdown by equity amount  \n",
       "Signal                                       \n",
       "1371953                             3553.24  \n",
       "2020078                              342.76  \n",
       "2105300                              329.80  \n",
       "...                                     ...  \n",
       "1566301                             8806.67  \n",
       "2158945                              210.08  \n",
       "1614162                             4213.67  \n",
       "\n",
       "[4313 rows x 56 columns]"
      ]
     },
     "execution_count": 88,
     "metadata": {},
     "output_type": "execute_result"
    }
   ],
   "source": [
    "signals = pd.read_csv('data/mql5_signals_mt4.csv', index_col='Signal')\n",
    "signals"
   ]
  },
  {
   "cell_type": "code",
   "execution_count": 89,
   "metadata": {},
   "outputs": [],
   "source": [
    "growth = signals['Growth']\n",
    "mbdp = signals['Maximal balance drawdown pct']"
   ]
  },
  {
   "cell_type": "code",
   "execution_count": 90,
   "metadata": {},
   "outputs": [
    {
     "data": {
      "text/plain": [
       "Signal\n",
       "1371953      3\n",
       "2020078    823\n",
       "2105300      1\n",
       "          ... \n",
       "1566301     65\n",
       "2158945     66\n",
       "1614162     70\n",
       "Name: Growth, Length: 4313, dtype: int64"
      ]
     },
     "execution_count": 90,
     "metadata": {},
     "output_type": "execute_result"
    }
   ],
   "source": [
    "growth"
   ]
  },
  {
   "cell_type": "code",
   "execution_count": 91,
   "metadata": {},
   "outputs": [
    {
     "data": {
      "text/plain": [
       "Growth\n",
       "1     145\n",
       "2     102\n",
       "3      92\n",
       "     ... \n",
       "11     76\n",
       "8      73\n",
       "9      72\n",
       "Name: count, Length: 10, dtype: int64"
      ]
     },
     "execution_count": 91,
     "metadata": {},
     "output_type": "execute_result"
    }
   ],
   "source": [
    "growth.value_counts().head(10)"
   ]
  },
  {
   "cell_type": "code",
   "execution_count": 92,
   "metadata": {},
   "outputs": [
    {
     "data": {
      "text/plain": [
       "0"
      ]
     },
     "execution_count": 92,
     "metadata": {},
     "output_type": "execute_result"
    }
   ],
   "source": [
    "mbdp.isnull().sum()"
   ]
  },
  {
   "cell_type": "code",
   "execution_count": 93,
   "metadata": {},
   "outputs": [
    {
     "data": {
      "text/plain": [
       "dtype('float64')"
      ]
     },
     "execution_count": 93,
     "metadata": {},
     "output_type": "execute_result"
    }
   ],
   "source": [
    "mbdp.dtype"
   ]
  },
  {
   "cell_type": "code",
   "execution_count": 94,
   "metadata": {},
   "outputs": [
    {
     "data": {
      "text/plain": [
       "Signal\n",
       "1371953    11\n",
       "2020078     6\n",
       "2105300    16\n",
       "2049959     5\n",
       "2145152     2\n",
       "Name: Maximal balance drawdown pct, dtype: int64"
      ]
     },
     "execution_count": 94,
     "metadata": {},
     "output_type": "execute_result"
    }
   ],
   "source": [
    "mbdp.fillna(0)\\\n",
    "                .astype(int)\\\n",
    "                .head()"
   ]
  },
  {
   "cell_type": "markdown",
   "metadata": {},
   "source": [
    "## There's more..."
   ]
  },
  {
   "cell_type": "code",
   "execution_count": 95,
   "metadata": {},
   "outputs": [
    {
     "data": {
      "text/plain": [
       "0.0"
      ]
     },
     "execution_count": 95,
     "metadata": {},
     "output_type": "execute_result"
    }
   ],
   "source": [
    "mbdp.isnull().mean()"
   ]
  },
  {
   "cell_type": "code",
   "execution_count": 96,
   "metadata": {},
   "outputs": [
    {
     "data": {
      "text/plain": [
       "Signal\n",
       "1371953    11\n",
       "2020078     6\n",
       "2105300    16\n",
       "2049959     5\n",
       "2145152     2\n",
       "Name: Maximal balance drawdown pct, dtype: int64"
      ]
     },
     "execution_count": 96,
     "metadata": {},
     "output_type": "execute_result"
    }
   ],
   "source": [
    "(mbdp.fillna(0)\n",
    "                 .astype(int)\n",
    "                 .head())"
   ]
  },
  {
   "cell_type": "markdown",
   "metadata": {},
   "source": [
    "# Making the index meaningful"
   ]
  },
  {
   "cell_type": "code",
   "execution_count": 97,
   "metadata": {
    "collapsed": true
   },
   "outputs": [],
   "source": [
    "signals = pd.read_csv('data/mql5_signals_mt4.csv')"
   ]
  },
  {
   "cell_type": "code",
   "execution_count": 98,
   "metadata": {},
   "outputs": [
    {
     "data": {
      "text/plain": [
       "(4313, 57)"
      ]
     },
     "execution_count": 98,
     "metadata": {},
     "output_type": "execute_result"
    }
   ],
   "source": [
    "signals.shape"
   ]
  },
  {
   "cell_type": "code",
   "execution_count": 99,
   "metadata": {},
   "outputs": [
    {
     "data": {
      "text/html": [
       "<div>\n",
       "<style scoped>\n",
       "    .dataframe tbody tr th:only-of-type {\n",
       "        vertical-align: middle;\n",
       "    }\n",
       "\n",
       "    .dataframe tbody tr th {\n",
       "        vertical-align: top;\n",
       "    }\n",
       "\n",
       "    .dataframe thead th {\n",
       "        text-align: right;\n",
       "    }\n",
       "</style>\n",
       "<table border=\"1\" class=\"dataframe\">\n",
       "  <thead>\n",
       "    <tr style=\"text-align: right;\">\n",
       "      <th></th>\n",
       "      <th>Rating</th>\n",
       "      <th>Signals</th>\n",
       "      <th>Price</th>\n",
       "      <th>Growth</th>\n",
       "      <th>...</th>\n",
       "      <th>Maximal consecutive loss orders</th>\n",
       "      <th>Maximal balance drawdown pct</th>\n",
       "      <th>Relative drawdown by balance amount</th>\n",
       "      <th>Relative drawdown by equity amount</th>\n",
       "    </tr>\n",
       "    <tr>\n",
       "      <th>Signal</th>\n",
       "      <th></th>\n",
       "      <th></th>\n",
       "      <th></th>\n",
       "      <th></th>\n",
       "      <th></th>\n",
       "      <th></th>\n",
       "      <th></th>\n",
       "      <th></th>\n",
       "      <th></th>\n",
       "    </tr>\n",
       "  </thead>\n",
       "  <tbody>\n",
       "    <tr>\n",
       "      <th>1371953</th>\n",
       "      <td>1</td>\n",
       "      <td>Activity</td>\n",
       "      <td>30</td>\n",
       "      <td>3</td>\n",
       "      <td>...</td>\n",
       "      <td>8</td>\n",
       "      <td>11.87</td>\n",
       "      <td>2505.44</td>\n",
       "      <td>3553.24</td>\n",
       "    </tr>\n",
       "    <tr>\n",
       "      <th>2020078</th>\n",
       "      <td>10</td>\n",
       "      <td>EURSpecial</td>\n",
       "      <td>30</td>\n",
       "      <td>823</td>\n",
       "      <td>...</td>\n",
       "      <td>4</td>\n",
       "      <td>6.09</td>\n",
       "      <td>53.30</td>\n",
       "      <td>342.76</td>\n",
       "    </tr>\n",
       "    <tr>\n",
       "      <th>2105300</th>\n",
       "      <td>6</td>\n",
       "      <td>Arnold</td>\n",
       "      <td>30</td>\n",
       "      <td>1</td>\n",
       "      <td>...</td>\n",
       "      <td>9</td>\n",
       "      <td>16.19</td>\n",
       "      <td>802.90</td>\n",
       "      <td>329.80</td>\n",
       "    </tr>\n",
       "    <tr>\n",
       "      <th>...</th>\n",
       "      <td>...</td>\n",
       "      <td>...</td>\n",
       "      <td>...</td>\n",
       "      <td>...</td>\n",
       "      <td>...</td>\n",
       "      <td>...</td>\n",
       "      <td>...</td>\n",
       "      <td>...</td>\n",
       "      <td>...</td>\n",
       "    </tr>\n",
       "    <tr>\n",
       "      <th>1566301</th>\n",
       "      <td>5688</td>\n",
       "      <td>High Risk</td>\n",
       "      <td>30</td>\n",
       "      <td>65</td>\n",
       "      <td>...</td>\n",
       "      <td>58</td>\n",
       "      <td>39.86</td>\n",
       "      <td>1539.94</td>\n",
       "      <td>8806.67</td>\n",
       "    </tr>\n",
       "    <tr>\n",
       "      <th>2158945</th>\n",
       "      <td>5693</td>\n",
       "      <td>2</td>\n",
       "      <td>30</td>\n",
       "      <td>66</td>\n",
       "      <td>...</td>\n",
       "      <td>11</td>\n",
       "      <td>92.19</td>\n",
       "      <td>1081.51</td>\n",
       "      <td>210.08</td>\n",
       "    </tr>\n",
       "    <tr>\n",
       "      <th>1614162</th>\n",
       "      <td>5720</td>\n",
       "      <td>345</td>\n",
       "      <td>30</td>\n",
       "      <td>70</td>\n",
       "      <td>...</td>\n",
       "      <td>1</td>\n",
       "      <td>59.00</td>\n",
       "      <td>15659.99</td>\n",
       "      <td>4213.67</td>\n",
       "    </tr>\n",
       "  </tbody>\n",
       "</table>\n",
       "<p>4313 rows × 56 columns</p>\n",
       "</div>"
      ],
      "text/plain": [
       "        Rating     Signals  Price  Growth  ...  \\\n",
       "Signal                                     ...   \n",
       "1371953      1    Activity     30       3  ...   \n",
       "2020078     10  EURSpecial     30     823  ...   \n",
       "2105300      6      Arnold     30       1  ...   \n",
       "...        ...         ...    ...     ...  ...   \n",
       "1566301   5688   High Risk     30      65  ...   \n",
       "2158945   5693           2     30      66  ...   \n",
       "1614162   5720         345     30      70  ...   \n",
       "\n",
       "         Maximal consecutive loss orders  Maximal balance drawdown pct  \\\n",
       "Signal                                                                   \n",
       "1371953                                8                         11.87   \n",
       "2020078                                4                          6.09   \n",
       "2105300                                9                         16.19   \n",
       "...                                  ...                           ...   \n",
       "1566301                               58                         39.86   \n",
       "2158945                               11                         92.19   \n",
       "1614162                                1                         59.00   \n",
       "\n",
       "         Relative drawdown by balance amount  \\\n",
       "Signal                                         \n",
       "1371953                              2505.44   \n",
       "2020078                                53.30   \n",
       "2105300                               802.90   \n",
       "...                                      ...   \n",
       "1566301                              1539.94   \n",
       "2158945                              1081.51   \n",
       "1614162                             15659.99   \n",
       "\n",
       "         Relative drawdown by equity amount  \n",
       "Signal                                       \n",
       "1371953                             3553.24  \n",
       "2020078                              342.76  \n",
       "2105300                              329.80  \n",
       "...                                     ...  \n",
       "1566301                             8806.67  \n",
       "2158945                              210.08  \n",
       "1614162                             4213.67  \n",
       "\n",
       "[4313 rows x 56 columns]"
      ]
     },
     "execution_count": 99,
     "metadata": {},
     "output_type": "execute_result"
    }
   ],
   "source": [
    "signals2 = signals.set_index('Signal')\n",
    "signals2"
   ]
  },
  {
   "cell_type": "code",
   "execution_count": 100,
   "metadata": {
    "scrolled": true
   },
   "outputs": [],
   "source": [
    "signals = pd.read_csv('data/mql5_signals_mt4.csv', index_col='Signal')"
   ]
  },
  {
   "cell_type": "markdown",
   "metadata": {},
   "source": [
    "# There's more..."
   ]
  },
  {
   "cell_type": "code",
   "execution_count": 101,
   "metadata": {},
   "outputs": [
    {
     "data": {
      "text/html": [
       "<div>\n",
       "<style scoped>\n",
       "    .dataframe tbody tr th:only-of-type {\n",
       "        vertical-align: middle;\n",
       "    }\n",
       "\n",
       "    .dataframe tbody tr th {\n",
       "        vertical-align: top;\n",
       "    }\n",
       "\n",
       "    .dataframe thead th {\n",
       "        text-align: right;\n",
       "    }\n",
       "</style>\n",
       "<table border=\"1\" class=\"dataframe\">\n",
       "  <thead>\n",
       "    <tr style=\"text-align: right;\">\n",
       "      <th></th>\n",
       "      <th>Signal</th>\n",
       "      <th>Rating</th>\n",
       "      <th>Signals</th>\n",
       "      <th>Price</th>\n",
       "      <th>...</th>\n",
       "      <th>Maximal consecutive loss orders</th>\n",
       "      <th>Maximal balance drawdown pct</th>\n",
       "      <th>Relative drawdown by balance amount</th>\n",
       "      <th>Relative drawdown by equity amount</th>\n",
       "    </tr>\n",
       "  </thead>\n",
       "  <tbody>\n",
       "    <tr>\n",
       "      <th>0</th>\n",
       "      <td>1371953</td>\n",
       "      <td>1</td>\n",
       "      <td>Activity</td>\n",
       "      <td>30</td>\n",
       "      <td>...</td>\n",
       "      <td>8</td>\n",
       "      <td>11.87</td>\n",
       "      <td>2505.44</td>\n",
       "      <td>3553.24</td>\n",
       "    </tr>\n",
       "    <tr>\n",
       "      <th>1</th>\n",
       "      <td>2020078</td>\n",
       "      <td>10</td>\n",
       "      <td>EURSpecial</td>\n",
       "      <td>30</td>\n",
       "      <td>...</td>\n",
       "      <td>4</td>\n",
       "      <td>6.09</td>\n",
       "      <td>53.30</td>\n",
       "      <td>342.76</td>\n",
       "    </tr>\n",
       "    <tr>\n",
       "      <th>2</th>\n",
       "      <td>2105300</td>\n",
       "      <td>6</td>\n",
       "      <td>Arnold</td>\n",
       "      <td>30</td>\n",
       "      <td>...</td>\n",
       "      <td>9</td>\n",
       "      <td>16.19</td>\n",
       "      <td>802.90</td>\n",
       "      <td>329.80</td>\n",
       "    </tr>\n",
       "    <tr>\n",
       "      <th>...</th>\n",
       "      <td>...</td>\n",
       "      <td>...</td>\n",
       "      <td>...</td>\n",
       "      <td>...</td>\n",
       "      <td>...</td>\n",
       "      <td>...</td>\n",
       "      <td>...</td>\n",
       "      <td>...</td>\n",
       "      <td>...</td>\n",
       "    </tr>\n",
       "    <tr>\n",
       "      <th>4310</th>\n",
       "      <td>1566301</td>\n",
       "      <td>5688</td>\n",
       "      <td>High Risk</td>\n",
       "      <td>30</td>\n",
       "      <td>...</td>\n",
       "      <td>58</td>\n",
       "      <td>39.86</td>\n",
       "      <td>1539.94</td>\n",
       "      <td>8806.67</td>\n",
       "    </tr>\n",
       "    <tr>\n",
       "      <th>4311</th>\n",
       "      <td>2158945</td>\n",
       "      <td>5693</td>\n",
       "      <td>2</td>\n",
       "      <td>30</td>\n",
       "      <td>...</td>\n",
       "      <td>11</td>\n",
       "      <td>92.19</td>\n",
       "      <td>1081.51</td>\n",
       "      <td>210.08</td>\n",
       "    </tr>\n",
       "    <tr>\n",
       "      <th>4312</th>\n",
       "      <td>1614162</td>\n",
       "      <td>5720</td>\n",
       "      <td>345</td>\n",
       "      <td>30</td>\n",
       "      <td>...</td>\n",
       "      <td>1</td>\n",
       "      <td>59.00</td>\n",
       "      <td>15659.99</td>\n",
       "      <td>4213.67</td>\n",
       "    </tr>\n",
       "  </tbody>\n",
       "</table>\n",
       "<p>4313 rows × 57 columns</p>\n",
       "</div>"
      ],
      "text/plain": [
       "       Signal Rating     Signals  Price  ...  Maximal consecutive loss orders  \\\n",
       "0     1371953      1    Activity     30  ...                                8   \n",
       "1     2020078     10  EURSpecial     30  ...                                4   \n",
       "2     2105300      6      Arnold     30  ...                                9   \n",
       "...       ...    ...         ...    ...  ...                              ...   \n",
       "4310  1566301   5688   High Risk     30  ...                               58   \n",
       "4311  2158945   5693           2     30  ...                               11   \n",
       "4312  1614162   5720         345     30  ...                                1   \n",
       "\n",
       "      Maximal balance drawdown pct  Relative drawdown by balance amount  \\\n",
       "0                            11.87                              2505.44   \n",
       "1                             6.09                                53.30   \n",
       "2                            16.19                               802.90   \n",
       "...                            ...                                  ...   \n",
       "4310                         39.86                              1539.94   \n",
       "4311                         92.19                              1081.51   \n",
       "4312                         59.00                             15659.99   \n",
       "\n",
       "      Relative drawdown by equity amount  \n",
       "0                                3553.24  \n",
       "1                                 342.76  \n",
       "2                                 329.80  \n",
       "...                                  ...  \n",
       "4310                             8806.67  \n",
       "4311                              210.08  \n",
       "4312                             4213.67  \n",
       "\n",
       "[4313 rows x 57 columns]"
      ]
     },
     "execution_count": 101,
     "metadata": {},
     "output_type": "execute_result"
    }
   ],
   "source": [
    "signals.reset_index()"
   ]
  },
  {
   "cell_type": "markdown",
   "metadata": {},
   "source": [
    "# Renaming row and column names"
   ]
  },
  {
   "cell_type": "code",
   "execution_count": 102,
   "metadata": {
    "collapsed": true
   },
   "outputs": [
    {
     "data": {
      "text/html": [
       "<div>\n",
       "<style scoped>\n",
       "    .dataframe tbody tr th:only-of-type {\n",
       "        vertical-align: middle;\n",
       "    }\n",
       "\n",
       "    .dataframe tbody tr th {\n",
       "        vertical-align: top;\n",
       "    }\n",
       "\n",
       "    .dataframe thead th {\n",
       "        text-align: right;\n",
       "    }\n",
       "</style>\n",
       "<table border=\"1\" class=\"dataframe\">\n",
       "  <thead>\n",
       "    <tr style=\"text-align: right;\">\n",
       "      <th></th>\n",
       "      <th>Rating</th>\n",
       "      <th>Signals</th>\n",
       "      <th>Price</th>\n",
       "      <th>Growth</th>\n",
       "      <th>...</th>\n",
       "      <th>Maximal consecutive loss orders</th>\n",
       "      <th>Maximal balance drawdown pct</th>\n",
       "      <th>Relative drawdown by balance amount</th>\n",
       "      <th>Relative drawdown by equity amount</th>\n",
       "    </tr>\n",
       "    <tr>\n",
       "      <th>Signal</th>\n",
       "      <th></th>\n",
       "      <th></th>\n",
       "      <th></th>\n",
       "      <th></th>\n",
       "      <th></th>\n",
       "      <th></th>\n",
       "      <th></th>\n",
       "      <th></th>\n",
       "      <th></th>\n",
       "    </tr>\n",
       "  </thead>\n",
       "  <tbody>\n",
       "    <tr>\n",
       "      <th>1371953</th>\n",
       "      <td>1</td>\n",
       "      <td>Activity</td>\n",
       "      <td>30</td>\n",
       "      <td>3</td>\n",
       "      <td>...</td>\n",
       "      <td>8</td>\n",
       "      <td>11.87</td>\n",
       "      <td>2505.44</td>\n",
       "      <td>3553.24</td>\n",
       "    </tr>\n",
       "    <tr>\n",
       "      <th>2020078</th>\n",
       "      <td>10</td>\n",
       "      <td>EURSpecial</td>\n",
       "      <td>30</td>\n",
       "      <td>823</td>\n",
       "      <td>...</td>\n",
       "      <td>4</td>\n",
       "      <td>6.09</td>\n",
       "      <td>53.30</td>\n",
       "      <td>342.76</td>\n",
       "    </tr>\n",
       "    <tr>\n",
       "      <th>2105300</th>\n",
       "      <td>6</td>\n",
       "      <td>Arnold</td>\n",
       "      <td>30</td>\n",
       "      <td>1</td>\n",
       "      <td>...</td>\n",
       "      <td>9</td>\n",
       "      <td>16.19</td>\n",
       "      <td>802.90</td>\n",
       "      <td>329.80</td>\n",
       "    </tr>\n",
       "    <tr>\n",
       "      <th>...</th>\n",
       "      <td>...</td>\n",
       "      <td>...</td>\n",
       "      <td>...</td>\n",
       "      <td>...</td>\n",
       "      <td>...</td>\n",
       "      <td>...</td>\n",
       "      <td>...</td>\n",
       "      <td>...</td>\n",
       "      <td>...</td>\n",
       "    </tr>\n",
       "    <tr>\n",
       "      <th>1566301</th>\n",
       "      <td>5688</td>\n",
       "      <td>High Risk</td>\n",
       "      <td>30</td>\n",
       "      <td>65</td>\n",
       "      <td>...</td>\n",
       "      <td>58</td>\n",
       "      <td>39.86</td>\n",
       "      <td>1539.94</td>\n",
       "      <td>8806.67</td>\n",
       "    </tr>\n",
       "    <tr>\n",
       "      <th>2158945</th>\n",
       "      <td>5693</td>\n",
       "      <td>2</td>\n",
       "      <td>30</td>\n",
       "      <td>66</td>\n",
       "      <td>...</td>\n",
       "      <td>11</td>\n",
       "      <td>92.19</td>\n",
       "      <td>1081.51</td>\n",
       "      <td>210.08</td>\n",
       "    </tr>\n",
       "    <tr>\n",
       "      <th>1614162</th>\n",
       "      <td>5720</td>\n",
       "      <td>345</td>\n",
       "      <td>30</td>\n",
       "      <td>70</td>\n",
       "      <td>...</td>\n",
       "      <td>1</td>\n",
       "      <td>59.00</td>\n",
       "      <td>15659.99</td>\n",
       "      <td>4213.67</td>\n",
       "    </tr>\n",
       "  </tbody>\n",
       "</table>\n",
       "<p>4313 rows × 56 columns</p>\n",
       "</div>"
      ],
      "text/plain": [
       "        Rating     Signals  Price  Growth  ...  \\\n",
       "Signal                                     ...   \n",
       "1371953      1    Activity     30       3  ...   \n",
       "2020078     10  EURSpecial     30     823  ...   \n",
       "2105300      6      Arnold     30       1  ...   \n",
       "...        ...         ...    ...     ...  ...   \n",
       "1566301   5688   High Risk     30      65  ...   \n",
       "2158945   5693           2     30      66  ...   \n",
       "1614162   5720         345     30      70  ...   \n",
       "\n",
       "         Maximal consecutive loss orders  Maximal balance drawdown pct  \\\n",
       "Signal                                                                   \n",
       "1371953                                8                         11.87   \n",
       "2020078                                4                          6.09   \n",
       "2105300                                9                         16.19   \n",
       "...                                  ...                           ...   \n",
       "1566301                               58                         39.86   \n",
       "2158945                               11                         92.19   \n",
       "1614162                                1                         59.00   \n",
       "\n",
       "         Relative drawdown by balance amount  \\\n",
       "Signal                                         \n",
       "1371953                              2505.44   \n",
       "2020078                                53.30   \n",
       "2105300                               802.90   \n",
       "...                                      ...   \n",
       "1566301                              1539.94   \n",
       "2158945                              1081.51   \n",
       "1614162                             15659.99   \n",
       "\n",
       "         Relative drawdown by equity amount  \n",
       "Signal                                       \n",
       "1371953                             3553.24  \n",
       "2020078                              342.76  \n",
       "2105300                              329.80  \n",
       "...                                     ...  \n",
       "1566301                             8806.67  \n",
       "2158945                              210.08  \n",
       "1614162                             4213.67  \n",
       "\n",
       "[4313 rows x 56 columns]"
      ]
     },
     "execution_count": 102,
     "metadata": {},
     "output_type": "execute_result"
    }
   ],
   "source": [
    "signals = pd.read_csv('data/mql5_signals_mt4.csv', index_col='Signal')\n",
    "signals"
   ]
  },
  {
   "cell_type": "code",
   "execution_count": 103,
   "metadata": {},
   "outputs": [
    {
     "data": {
      "text/plain": [
       "Index(['Rating', 'Signals', 'Price', 'Growth', 'Subscribers', 'Funds',\n",
       "       'Balance', 'Weeks', 'Drawdown', 'Trades', 'Profit Trades',\n",
       "       'Loss Trades', 'Best trade', 'Worst trade', 'Gross Profit',\n",
       "       'Gross Loss', 'Maximum consecutive wins', 'Maximal consecutive profit',\n",
       "       'Sharpe Ratio', 'Trading activity', 'Max deposit load', 'Latest trade',\n",
       "       'Trades per week', 'Avg holding time', 'Recovery Factor', 'Long Trades',\n",
       "       'Short Trades', 'Profit Factor', 'Expected Payoff', 'Average Profit',\n",
       "       'Average Loss', 'Maximum consecutive losses',\n",
       "       'Maximal consecutive loss', 'Monthly growth', 'Annual Forecast',\n",
       "       'Algo trading', 'Absolute balance drawdown', 'Maximal balance drawdown',\n",
       "       'Relative drawdown by balance', 'Relative drawdown by equity', 'Months',\n",
       "       'Average By Month', 'Std By Month', 'Profit Trades Pct',\n",
       "       'Loss Trades Pct', 'Gross Profit Pct', 'Gross Loss Pips',\n",
       "       'Maximum consecutive wins amount', 'Maximal consecutive profit orders',\n",
       "       'Long Trades Pct', 'Short Trades Pct',\n",
       "       'Maximum consecutive losses amount', 'Maximal consecutive loss orders',\n",
       "       'Maximal balance drawdown pct', 'Relative drawdown by balance amount',\n",
       "       'Relative drawdown by equity amount'],\n",
       "      dtype='object')"
      ]
     },
     "execution_count": 103,
     "metadata": {},
     "output_type": "execute_result"
    }
   ],
   "source": [
    "signals.columns"
   ]
  },
  {
   "cell_type": "code",
   "execution_count": 104,
   "metadata": {
    "collapsed": true
   },
   "outputs": [],
   "source": [
    "# idx_rename = {'Avatar':'Ratava', 'Spectre': 'Ertceps'} \n",
    "col_rename = {'Trading activity':'Activity', 'Subscribers': 'Customers'}"
   ]
  },
  {
   "cell_type": "code",
   "execution_count": 105,
   "metadata": {},
   "outputs": [
    {
     "data": {
      "text/html": [
       "<div>\n",
       "<style scoped>\n",
       "    .dataframe tbody tr th:only-of-type {\n",
       "        vertical-align: middle;\n",
       "    }\n",
       "\n",
       "    .dataframe tbody tr th {\n",
       "        vertical-align: top;\n",
       "    }\n",
       "\n",
       "    .dataframe thead th {\n",
       "        text-align: right;\n",
       "    }\n",
       "</style>\n",
       "<table border=\"1\" class=\"dataframe\">\n",
       "  <thead>\n",
       "    <tr style=\"text-align: right;\">\n",
       "      <th></th>\n",
       "      <th>Activity</th>\n",
       "      <th>Customers</th>\n",
       "    </tr>\n",
       "    <tr>\n",
       "      <th>Signal</th>\n",
       "      <th></th>\n",
       "      <th></th>\n",
       "    </tr>\n",
       "  </thead>\n",
       "  <tbody>\n",
       "    <tr>\n",
       "      <th>1371953</th>\n",
       "      <td>91.60</td>\n",
       "      <td>26</td>\n",
       "    </tr>\n",
       "    <tr>\n",
       "      <th>2020078</th>\n",
       "      <td>42.59</td>\n",
       "      <td>15</td>\n",
       "    </tr>\n",
       "    <tr>\n",
       "      <th>2105300</th>\n",
       "      <td>2.11</td>\n",
       "      <td>9</td>\n",
       "    </tr>\n",
       "    <tr>\n",
       "      <th>2049959</th>\n",
       "      <td>88.40</td>\n",
       "      <td>142</td>\n",
       "    </tr>\n",
       "    <tr>\n",
       "      <th>2145152</th>\n",
       "      <td>86.35</td>\n",
       "      <td>31</td>\n",
       "    </tr>\n",
       "  </tbody>\n",
       "</table>\n",
       "</div>"
      ],
      "text/plain": [
       "         Activity  Customers\n",
       "Signal                      \n",
       "1371953     91.60         26\n",
       "2020078     42.59         15\n",
       "2105300      2.11          9\n",
       "2049959     88.40        142\n",
       "2145152     86.35         31"
      ]
     },
     "execution_count": 105,
     "metadata": {},
     "output_type": "execute_result"
    }
   ],
   "source": [
    "temp = signals.rename(columns=col_rename).head()    # signals.rename(columns=col_rename).head()\n",
    "temp[['Activity', 'Customers']]\n"
   ]
  },
  {
   "cell_type": "markdown",
   "metadata": {
    "collapsed": true
   },
   "source": [
    "# There's more"
   ]
  },
  {
   "cell_type": "code",
   "execution_count": 106,
   "metadata": {
    "collapsed": true
   },
   "outputs": [],
   "source": [
    "signals = pd.read_csv('data/mql5_signals_mt4.csv', index_col='Signal')\n",
    "index = signals.index\n",
    "columns = signals.columns\n",
    "\n",
    "# # using tolist function\n",
    "# index_list = index.tolist()\n",
    "# column_list = columns.tolist()\n",
    "\n",
    "# index_list[0] = 'Ratava'\n",
    "# index_list[2] = 'Ertceps'\n",
    "# column_list[1] = 'Director Name'\n",
    "# column_list[2] = 'Critical Reviews'"
   ]
  },
  {
   "cell_type": "code",
   "execution_count": 107,
   "metadata": {},
   "outputs": [],
   "source": [
    "# print(index_list[:5])"
   ]
  },
  {
   "cell_type": "code",
   "execution_count": 108,
   "metadata": {},
   "outputs": [],
   "source": [
    "# print(column_list)"
   ]
  },
  {
   "cell_type": "code",
   "execution_count": 109,
   "metadata": {
    "collapsed": true
   },
   "outputs": [],
   "source": [
    "# signals.index = index_list\n",
    "# signals.columns = column_list"
   ]
  },
  {
   "cell_type": "code",
   "execution_count": 110,
   "metadata": {},
   "outputs": [
    {
     "data": {
      "text/html": [
       "<div>\n",
       "<style scoped>\n",
       "    .dataframe tbody tr th:only-of-type {\n",
       "        vertical-align: middle;\n",
       "    }\n",
       "\n",
       "    .dataframe tbody tr th {\n",
       "        vertical-align: top;\n",
       "    }\n",
       "\n",
       "    .dataframe thead th {\n",
       "        text-align: right;\n",
       "    }\n",
       "</style>\n",
       "<table border=\"1\" class=\"dataframe\">\n",
       "  <thead>\n",
       "    <tr style=\"text-align: right;\">\n",
       "      <th></th>\n",
       "      <th>Rating</th>\n",
       "      <th>Signals</th>\n",
       "      <th>Price</th>\n",
       "      <th>Growth</th>\n",
       "      <th>...</th>\n",
       "      <th>Maximal consecutive loss orders</th>\n",
       "      <th>Maximal balance drawdown pct</th>\n",
       "      <th>Relative drawdown by balance amount</th>\n",
       "      <th>Relative drawdown by equity amount</th>\n",
       "    </tr>\n",
       "    <tr>\n",
       "      <th>Signal</th>\n",
       "      <th></th>\n",
       "      <th></th>\n",
       "      <th></th>\n",
       "      <th></th>\n",
       "      <th></th>\n",
       "      <th></th>\n",
       "      <th></th>\n",
       "      <th></th>\n",
       "      <th></th>\n",
       "    </tr>\n",
       "  </thead>\n",
       "  <tbody>\n",
       "    <tr>\n",
       "      <th>1371953</th>\n",
       "      <td>1</td>\n",
       "      <td>Activity</td>\n",
       "      <td>30</td>\n",
       "      <td>3</td>\n",
       "      <td>...</td>\n",
       "      <td>8</td>\n",
       "      <td>11.87</td>\n",
       "      <td>2505.44</td>\n",
       "      <td>3553.24</td>\n",
       "    </tr>\n",
       "    <tr>\n",
       "      <th>2020078</th>\n",
       "      <td>10</td>\n",
       "      <td>EURSpecial</td>\n",
       "      <td>30</td>\n",
       "      <td>823</td>\n",
       "      <td>...</td>\n",
       "      <td>4</td>\n",
       "      <td>6.09</td>\n",
       "      <td>53.30</td>\n",
       "      <td>342.76</td>\n",
       "    </tr>\n",
       "    <tr>\n",
       "      <th>2105300</th>\n",
       "      <td>6</td>\n",
       "      <td>Arnold</td>\n",
       "      <td>30</td>\n",
       "      <td>1</td>\n",
       "      <td>...</td>\n",
       "      <td>9</td>\n",
       "      <td>16.19</td>\n",
       "      <td>802.90</td>\n",
       "      <td>329.80</td>\n",
       "    </tr>\n",
       "    <tr>\n",
       "      <th>2049959</th>\n",
       "      <td>9</td>\n",
       "      <td>MAX NoLimit</td>\n",
       "      <td>50</td>\n",
       "      <td>692</td>\n",
       "      <td>...</td>\n",
       "      <td>7</td>\n",
       "      <td>5.81</td>\n",
       "      <td>753.57</td>\n",
       "      <td>2483.64</td>\n",
       "    </tr>\n",
       "    <tr>\n",
       "      <th>2145152</th>\n",
       "      <td>12</td>\n",
       "      <td>PabloFX Safe</td>\n",
       "      <td>30</td>\n",
       "      <td>677</td>\n",
       "      <td>...</td>\n",
       "      <td>1</td>\n",
       "      <td>2.93</td>\n",
       "      <td>14.10</td>\n",
       "      <td>500.97</td>\n",
       "    </tr>\n",
       "  </tbody>\n",
       "</table>\n",
       "<p>5 rows × 56 columns</p>\n",
       "</div>"
      ],
      "text/plain": [
       "        Rating       Signals  Price  Growth  ...  \\\n",
       "Signal                                       ...   \n",
       "1371953      1      Activity     30       3  ...   \n",
       "2020078     10    EURSpecial     30     823  ...   \n",
       "2105300      6        Arnold     30       1  ...   \n",
       "2049959      9   MAX NoLimit     50     692  ...   \n",
       "2145152     12  PabloFX Safe     30     677  ...   \n",
       "\n",
       "         Maximal consecutive loss orders  Maximal balance drawdown pct  \\\n",
       "Signal                                                                   \n",
       "1371953                                8                         11.87   \n",
       "2020078                                4                          6.09   \n",
       "2105300                                9                         16.19   \n",
       "2049959                                7                          5.81   \n",
       "2145152                                1                          2.93   \n",
       "\n",
       "         Relative drawdown by balance amount  \\\n",
       "Signal                                         \n",
       "1371953                              2505.44   \n",
       "2020078                                53.30   \n",
       "2105300                               802.90   \n",
       "2049959                               753.57   \n",
       "2145152                                14.10   \n",
       "\n",
       "         Relative drawdown by equity amount  \n",
       "Signal                                       \n",
       "1371953                             3553.24  \n",
       "2020078                              342.76  \n",
       "2105300                              329.80  \n",
       "2049959                             2483.64  \n",
       "2145152                              500.97  \n",
       "\n",
       "[5 rows x 56 columns]"
      ]
     },
     "execution_count": 110,
     "metadata": {},
     "output_type": "execute_result"
    }
   ],
   "source": [
    "signals.head()"
   ]
  },
  {
   "cell_type": "markdown",
   "metadata": {},
   "source": [
    "# Creating and deleting columns"
   ]
  },
  {
   "cell_type": "code",
   "execution_count": 111,
   "metadata": {
    "collapsed": true
   },
   "outputs": [],
   "source": [
    "signals = pd.read_csv('data/mql5_signals_mt4.csv', index_col='Signal')"
   ]
  },
  {
   "cell_type": "code",
   "execution_count": 112,
   "metadata": {
    "collapsed": true
   },
   "outputs": [],
   "source": [
    "signals['Score'] = 0"
   ]
  },
  {
   "cell_type": "code",
   "execution_count": 113,
   "metadata": {},
   "outputs": [
    {
     "data": {
      "text/plain": [
       "Index(['Rating', 'Signals', 'Price', 'Growth', 'Subscribers', 'Funds',\n",
       "       'Balance', 'Weeks', 'Drawdown', 'Trades', 'Profit Trades',\n",
       "       'Loss Trades', 'Best trade', 'Worst trade', 'Gross Profit',\n",
       "       'Gross Loss', 'Maximum consecutive wins', 'Maximal consecutive profit',\n",
       "       'Sharpe Ratio', 'Trading activity', 'Max deposit load', 'Latest trade',\n",
       "       'Trades per week', 'Avg holding time', 'Recovery Factor', 'Long Trades',\n",
       "       'Short Trades', 'Profit Factor', 'Expected Payoff', 'Average Profit',\n",
       "       'Average Loss', 'Maximum consecutive losses',\n",
       "       'Maximal consecutive loss', 'Monthly growth', 'Annual Forecast',\n",
       "       'Algo trading', 'Absolute balance drawdown', 'Maximal balance drawdown',\n",
       "       'Relative drawdown by balance', 'Relative drawdown by equity', 'Months',\n",
       "       'Average By Month', 'Std By Month', 'Profit Trades Pct',\n",
       "       'Loss Trades Pct', 'Gross Profit Pct', 'Gross Loss Pips',\n",
       "       'Maximum consecutive wins amount', 'Maximal consecutive profit orders',\n",
       "       'Long Trades Pct', 'Short Trades Pct',\n",
       "       'Maximum consecutive losses amount', 'Maximal consecutive loss orders',\n",
       "       'Maximal balance drawdown pct', 'Relative drawdown by balance amount',\n",
       "       'Relative drawdown by equity amount', 'Score'],\n",
       "      dtype='object')"
      ]
     },
     "execution_count": 113,
     "metadata": {},
     "output_type": "execute_result"
    }
   ],
   "source": [
    "signals.columns"
   ]
  },
  {
   "cell_type": "code",
   "execution_count": 114,
   "metadata": {
    "collapsed": true
   },
   "outputs": [],
   "source": [
    "# create new actor_director_facebook_likes\n",
    "signals['Positive_Pos'] = signals['Profit Trades'] >  signals['Loss Trades']\n",
    "signals['Positive_Numbers'] = signals['Profit Trades'] -  signals['Loss Trades']"
   ]
  },
  {
   "cell_type": "code",
   "execution_count": 115,
   "metadata": {},
   "outputs": [
    {
     "data": {
      "text/html": [
       "<div>\n",
       "<style scoped>\n",
       "    .dataframe tbody tr th:only-of-type {\n",
       "        vertical-align: middle;\n",
       "    }\n",
       "\n",
       "    .dataframe tbody tr th {\n",
       "        vertical-align: top;\n",
       "    }\n",
       "\n",
       "    .dataframe thead th {\n",
       "        text-align: right;\n",
       "    }\n",
       "</style>\n",
       "<table border=\"1\" class=\"dataframe\">\n",
       "  <thead>\n",
       "    <tr style=\"text-align: right;\">\n",
       "      <th></th>\n",
       "      <th>Rating</th>\n",
       "      <th>Signals</th>\n",
       "      <th>Price</th>\n",
       "      <th>Growth</th>\n",
       "      <th>...</th>\n",
       "      <th>Relative drawdown by equity amount</th>\n",
       "      <th>Score</th>\n",
       "      <th>Positive_Pos</th>\n",
       "      <th>Positive_Numbers</th>\n",
       "    </tr>\n",
       "    <tr>\n",
       "      <th>Signal</th>\n",
       "      <th></th>\n",
       "      <th></th>\n",
       "      <th></th>\n",
       "      <th></th>\n",
       "      <th></th>\n",
       "      <th></th>\n",
       "      <th></th>\n",
       "      <th></th>\n",
       "      <th></th>\n",
       "    </tr>\n",
       "  </thead>\n",
       "  <tbody>\n",
       "    <tr>\n",
       "      <th>1371953</th>\n",
       "      <td>1</td>\n",
       "      <td>Activity</td>\n",
       "      <td>30</td>\n",
       "      <td>3</td>\n",
       "      <td>...</td>\n",
       "      <td>3553.24</td>\n",
       "      <td>0</td>\n",
       "      <td>True</td>\n",
       "      <td>1138</td>\n",
       "    </tr>\n",
       "    <tr>\n",
       "      <th>2020078</th>\n",
       "      <td>10</td>\n",
       "      <td>EURSpecial</td>\n",
       "      <td>30</td>\n",
       "      <td>823</td>\n",
       "      <td>...</td>\n",
       "      <td>342.76</td>\n",
       "      <td>0</td>\n",
       "      <td>True</td>\n",
       "      <td>760</td>\n",
       "    </tr>\n",
       "    <tr>\n",
       "      <th>2105300</th>\n",
       "      <td>6</td>\n",
       "      <td>Arnold</td>\n",
       "      <td>30</td>\n",
       "      <td>1</td>\n",
       "      <td>...</td>\n",
       "      <td>329.80</td>\n",
       "      <td>0</td>\n",
       "      <td>True</td>\n",
       "      <td>1150</td>\n",
       "    </tr>\n",
       "    <tr>\n",
       "      <th>...</th>\n",
       "      <td>...</td>\n",
       "      <td>...</td>\n",
       "      <td>...</td>\n",
       "      <td>...</td>\n",
       "      <td>...</td>\n",
       "      <td>...</td>\n",
       "      <td>...</td>\n",
       "      <td>...</td>\n",
       "      <td>...</td>\n",
       "    </tr>\n",
       "    <tr>\n",
       "      <th>1566301</th>\n",
       "      <td>5688</td>\n",
       "      <td>High Risk</td>\n",
       "      <td>30</td>\n",
       "      <td>65</td>\n",
       "      <td>...</td>\n",
       "      <td>8806.67</td>\n",
       "      <td>0</td>\n",
       "      <td>True</td>\n",
       "      <td>2262</td>\n",
       "    </tr>\n",
       "    <tr>\n",
       "      <th>2158945</th>\n",
       "      <td>5693</td>\n",
       "      <td>2</td>\n",
       "      <td>30</td>\n",
       "      <td>66</td>\n",
       "      <td>...</td>\n",
       "      <td>210.08</td>\n",
       "      <td>0</td>\n",
       "      <td>True</td>\n",
       "      <td>190</td>\n",
       "    </tr>\n",
       "    <tr>\n",
       "      <th>1614162</th>\n",
       "      <td>5720</td>\n",
       "      <td>345</td>\n",
       "      <td>30</td>\n",
       "      <td>70</td>\n",
       "      <td>...</td>\n",
       "      <td>4213.67</td>\n",
       "      <td>0</td>\n",
       "      <td>True</td>\n",
       "      <td>3329</td>\n",
       "    </tr>\n",
       "  </tbody>\n",
       "</table>\n",
       "<p>4313 rows × 59 columns</p>\n",
       "</div>"
      ],
      "text/plain": [
       "        Rating     Signals  Price  Growth  ...  \\\n",
       "Signal                                     ...   \n",
       "1371953      1    Activity     30       3  ...   \n",
       "2020078     10  EURSpecial     30     823  ...   \n",
       "2105300      6      Arnold     30       1  ...   \n",
       "...        ...         ...    ...     ...  ...   \n",
       "1566301   5688   High Risk     30      65  ...   \n",
       "2158945   5693           2     30      66  ...   \n",
       "1614162   5720         345     30      70  ...   \n",
       "\n",
       "         Relative drawdown by equity amount  Score  Positive_Pos  \\\n",
       "Signal                                                             \n",
       "1371953                             3553.24      0          True   \n",
       "2020078                              342.76      0          True   \n",
       "2105300                              329.80      0          True   \n",
       "...                                     ...    ...           ...   \n",
       "1566301                             8806.67      0          True   \n",
       "2158945                              210.08      0          True   \n",
       "1614162                             4213.67      0          True   \n",
       "\n",
       "         Positive_Numbers  \n",
       "Signal                     \n",
       "1371953              1138  \n",
       "2020078               760  \n",
       "2105300              1150  \n",
       "...                   ...  \n",
       "1566301              2262  \n",
       "2158945               190  \n",
       "1614162              3329  \n",
       "\n",
       "[4313 rows x 59 columns]"
      ]
     },
     "execution_count": 115,
     "metadata": {},
     "output_type": "execute_result"
    }
   ],
   "source": [
    "signals"
   ]
  },
  {
   "cell_type": "code",
   "execution_count": 116,
   "metadata": {},
   "outputs": [
    {
     "data": {
      "text/plain": [
       "Signal\n",
       "1371953    False\n",
       "2020078    False\n",
       "2105300    False\n",
       "           ...  \n",
       "1566301    False\n",
       "2158945    False\n",
       "1614162    False\n",
       "Name: Positive_Pos, Length: 4313, dtype: bool"
      ]
     },
     "execution_count": 116,
     "metadata": {},
     "output_type": "execute_result"
    }
   ],
   "source": [
    "signals['Positive_Pos'].isnull()"
   ]
  },
  {
   "cell_type": "code",
   "execution_count": 117,
   "metadata": {},
   "outputs": [
    {
     "data": {
      "text/plain": [
       "0"
      ]
     },
     "execution_count": 117,
     "metadata": {},
     "output_type": "execute_result"
    }
   ],
   "source": [
    "signals['Positive_Pos'].isnull().sum()"
   ]
  },
  {
   "cell_type": "code",
   "execution_count": 118,
   "metadata": {},
   "outputs": [
    {
     "data": {
      "text/html": [
       "<div>\n",
       "<style scoped>\n",
       "    .dataframe tbody tr th:only-of-type {\n",
       "        vertical-align: middle;\n",
       "    }\n",
       "\n",
       "    .dataframe tbody tr th {\n",
       "        vertical-align: top;\n",
       "    }\n",
       "\n",
       "    .dataframe thead th {\n",
       "        text-align: right;\n",
       "    }\n",
       "</style>\n",
       "<table border=\"1\" class=\"dataframe\">\n",
       "  <thead>\n",
       "    <tr style=\"text-align: right;\">\n",
       "      <th></th>\n",
       "      <th>Maximum consecutive wins</th>\n",
       "      <th>Maximum consecutive losses</th>\n",
       "    </tr>\n",
       "    <tr>\n",
       "      <th>Signal</th>\n",
       "      <th></th>\n",
       "      <th></th>\n",
       "    </tr>\n",
       "  </thead>\n",
       "  <tbody>\n",
       "    <tr>\n",
       "      <th>1371953</th>\n",
       "      <td>61</td>\n",
       "      <td>11</td>\n",
       "    </tr>\n",
       "    <tr>\n",
       "      <th>2020078</th>\n",
       "      <td>28</td>\n",
       "      <td>6</td>\n",
       "    </tr>\n",
       "    <tr>\n",
       "      <th>2105300</th>\n",
       "      <td>25</td>\n",
       "      <td>10</td>\n",
       "    </tr>\n",
       "    <tr>\n",
       "      <th>...</th>\n",
       "      <td>...</td>\n",
       "      <td>...</td>\n",
       "    </tr>\n",
       "    <tr>\n",
       "      <th>1566301</th>\n",
       "      <td>52</td>\n",
       "      <td>58</td>\n",
       "    </tr>\n",
       "    <tr>\n",
       "      <th>2158945</th>\n",
       "      <td>19</td>\n",
       "      <td>12</td>\n",
       "    </tr>\n",
       "    <tr>\n",
       "      <th>1614162</th>\n",
       "      <td>39</td>\n",
       "      <td>35</td>\n",
       "    </tr>\n",
       "  </tbody>\n",
       "</table>\n",
       "<p>4313 rows × 2 columns</p>\n",
       "</div>"
      ],
      "text/plain": [
       "         Maximum consecutive wins  Maximum consecutive losses\n",
       "Signal                                                       \n",
       "1371953                        61                          11\n",
       "2020078                        28                           6\n",
       "2105300                        25                          10\n",
       "...                           ...                         ...\n",
       "1566301                        52                          58\n",
       "2158945                        19                          12\n",
       "1614162                        39                          35\n",
       "\n",
       "[4313 rows x 2 columns]"
      ]
     },
     "execution_count": 118,
     "metadata": {},
     "output_type": "execute_result"
    }
   ],
   "source": [
    "signals[['Maximum consecutive wins', 'Maximum consecutive losses']]"
   ]
  },
  {
   "cell_type": "code",
   "execution_count": 119,
   "metadata": {
    "collapsed": true
   },
   "outputs": [],
   "source": [
    "# create new \"is_cast_likes_more\"\n",
    "signals['is_consecutive_good'] = (signals['Maximum consecutive wins'] >= signals['Maximum consecutive losses'])"
   ]
  },
  {
   "cell_type": "code",
   "execution_count": 120,
   "metadata": {},
   "outputs": [
    {
     "data": {
      "text/html": [
       "<div>\n",
       "<style scoped>\n",
       "    .dataframe tbody tr th:only-of-type {\n",
       "        vertical-align: middle;\n",
       "    }\n",
       "\n",
       "    .dataframe tbody tr th {\n",
       "        vertical-align: top;\n",
       "    }\n",
       "\n",
       "    .dataframe thead th {\n",
       "        text-align: right;\n",
       "    }\n",
       "</style>\n",
       "<table border=\"1\" class=\"dataframe\">\n",
       "  <thead>\n",
       "    <tr style=\"text-align: right;\">\n",
       "      <th></th>\n",
       "      <th>Rating</th>\n",
       "      <th>Signals</th>\n",
       "      <th>Price</th>\n",
       "      <th>Growth</th>\n",
       "      <th>...</th>\n",
       "      <th>Score</th>\n",
       "      <th>Positive_Pos</th>\n",
       "      <th>Positive_Numbers</th>\n",
       "      <th>is_consecutive_good</th>\n",
       "    </tr>\n",
       "    <tr>\n",
       "      <th>Signal</th>\n",
       "      <th></th>\n",
       "      <th></th>\n",
       "      <th></th>\n",
       "      <th></th>\n",
       "      <th></th>\n",
       "      <th></th>\n",
       "      <th></th>\n",
       "      <th></th>\n",
       "      <th></th>\n",
       "    </tr>\n",
       "  </thead>\n",
       "  <tbody>\n",
       "    <tr>\n",
       "      <th>1371953</th>\n",
       "      <td>1</td>\n",
       "      <td>Activity</td>\n",
       "      <td>30</td>\n",
       "      <td>3</td>\n",
       "      <td>...</td>\n",
       "      <td>0</td>\n",
       "      <td>True</td>\n",
       "      <td>1138</td>\n",
       "      <td>True</td>\n",
       "    </tr>\n",
       "    <tr>\n",
       "      <th>2020078</th>\n",
       "      <td>10</td>\n",
       "      <td>EURSpecial</td>\n",
       "      <td>30</td>\n",
       "      <td>823</td>\n",
       "      <td>...</td>\n",
       "      <td>0</td>\n",
       "      <td>True</td>\n",
       "      <td>760</td>\n",
       "      <td>True</td>\n",
       "    </tr>\n",
       "    <tr>\n",
       "      <th>2105300</th>\n",
       "      <td>6</td>\n",
       "      <td>Arnold</td>\n",
       "      <td>30</td>\n",
       "      <td>1</td>\n",
       "      <td>...</td>\n",
       "      <td>0</td>\n",
       "      <td>True</td>\n",
       "      <td>1150</td>\n",
       "      <td>True</td>\n",
       "    </tr>\n",
       "    <tr>\n",
       "      <th>...</th>\n",
       "      <td>...</td>\n",
       "      <td>...</td>\n",
       "      <td>...</td>\n",
       "      <td>...</td>\n",
       "      <td>...</td>\n",
       "      <td>...</td>\n",
       "      <td>...</td>\n",
       "      <td>...</td>\n",
       "      <td>...</td>\n",
       "    </tr>\n",
       "    <tr>\n",
       "      <th>1566301</th>\n",
       "      <td>5688</td>\n",
       "      <td>High Risk</td>\n",
       "      <td>30</td>\n",
       "      <td>65</td>\n",
       "      <td>...</td>\n",
       "      <td>0</td>\n",
       "      <td>True</td>\n",
       "      <td>2262</td>\n",
       "      <td>False</td>\n",
       "    </tr>\n",
       "    <tr>\n",
       "      <th>2158945</th>\n",
       "      <td>5693</td>\n",
       "      <td>2</td>\n",
       "      <td>30</td>\n",
       "      <td>66</td>\n",
       "      <td>...</td>\n",
       "      <td>0</td>\n",
       "      <td>True</td>\n",
       "      <td>190</td>\n",
       "      <td>True</td>\n",
       "    </tr>\n",
       "    <tr>\n",
       "      <th>1614162</th>\n",
       "      <td>5720</td>\n",
       "      <td>345</td>\n",
       "      <td>30</td>\n",
       "      <td>70</td>\n",
       "      <td>...</td>\n",
       "      <td>0</td>\n",
       "      <td>True</td>\n",
       "      <td>3329</td>\n",
       "      <td>True</td>\n",
       "    </tr>\n",
       "  </tbody>\n",
       "</table>\n",
       "<p>4313 rows × 60 columns</p>\n",
       "</div>"
      ],
      "text/plain": [
       "        Rating     Signals  Price  Growth  ...  Score  Positive_Pos  \\\n",
       "Signal                                     ...                        \n",
       "1371953      1    Activity     30       3  ...      0          True   \n",
       "2020078     10  EURSpecial     30     823  ...      0          True   \n",
       "2105300      6      Arnold     30       1  ...      0          True   \n",
       "...        ...         ...    ...     ...  ...    ...           ...   \n",
       "1566301   5688   High Risk     30      65  ...      0          True   \n",
       "2158945   5693           2     30      66  ...      0          True   \n",
       "1614162   5720         345     30      70  ...      0          True   \n",
       "\n",
       "         Positive_Numbers  is_consecutive_good  \n",
       "Signal                                          \n",
       "1371953              1138                 True  \n",
       "2020078               760                 True  \n",
       "2105300              1150                 True  \n",
       "...                   ...                  ...  \n",
       "1566301              2262                False  \n",
       "2158945               190                 True  \n",
       "1614162              3329                 True  \n",
       "\n",
       "[4313 rows x 60 columns]"
      ]
     },
     "execution_count": 120,
     "metadata": {},
     "output_type": "execute_result"
    }
   ],
   "source": [
    "signals"
   ]
  },
  {
   "cell_type": "code",
   "execution_count": 121,
   "metadata": {},
   "outputs": [
    {
     "data": {
      "text/plain": [
       "is_consecutive_good\n",
       "True     3903\n",
       "False     410\n",
       "Name: count, dtype: int64"
      ]
     },
     "execution_count": 121,
     "metadata": {},
     "output_type": "execute_result"
    }
   ],
   "source": [
    "signals['is_consecutive_good'].value_counts()"
   ]
  },
  {
   "cell_type": "code",
   "execution_count": 122,
   "metadata": {},
   "outputs": [
    {
     "data": {
      "text/plain": [
       "False"
      ]
     },
     "execution_count": 122,
     "metadata": {},
     "output_type": "execute_result"
    }
   ],
   "source": [
    "signals['is_consecutive_good'].all()"
   ]
  },
  {
   "cell_type": "code",
   "execution_count": 123,
   "metadata": {
    "collapsed": true
   },
   "outputs": [
    {
     "data": {
      "text/html": [
       "<div>\n",
       "<style scoped>\n",
       "    .dataframe tbody tr th:only-of-type {\n",
       "        vertical-align: middle;\n",
       "    }\n",
       "\n",
       "    .dataframe tbody tr th {\n",
       "        vertical-align: top;\n",
       "    }\n",
       "\n",
       "    .dataframe thead th {\n",
       "        text-align: right;\n",
       "    }\n",
       "</style>\n",
       "<table border=\"1\" class=\"dataframe\">\n",
       "  <thead>\n",
       "    <tr style=\"text-align: right;\">\n",
       "      <th></th>\n",
       "      <th>Rating</th>\n",
       "      <th>Signals</th>\n",
       "      <th>Price</th>\n",
       "      <th>Growth</th>\n",
       "      <th>...</th>\n",
       "      <th>Relative drawdown by equity amount</th>\n",
       "      <th>Score</th>\n",
       "      <th>Positive_Pos</th>\n",
       "      <th>is_consecutive_good</th>\n",
       "    </tr>\n",
       "    <tr>\n",
       "      <th>Signal</th>\n",
       "      <th></th>\n",
       "      <th></th>\n",
       "      <th></th>\n",
       "      <th></th>\n",
       "      <th></th>\n",
       "      <th></th>\n",
       "      <th></th>\n",
       "      <th></th>\n",
       "      <th></th>\n",
       "    </tr>\n",
       "  </thead>\n",
       "  <tbody>\n",
       "    <tr>\n",
       "      <th>1371953</th>\n",
       "      <td>1</td>\n",
       "      <td>Activity</td>\n",
       "      <td>30</td>\n",
       "      <td>3</td>\n",
       "      <td>...</td>\n",
       "      <td>3553.24</td>\n",
       "      <td>0</td>\n",
       "      <td>True</td>\n",
       "      <td>True</td>\n",
       "    </tr>\n",
       "    <tr>\n",
       "      <th>2020078</th>\n",
       "      <td>10</td>\n",
       "      <td>EURSpecial</td>\n",
       "      <td>30</td>\n",
       "      <td>823</td>\n",
       "      <td>...</td>\n",
       "      <td>342.76</td>\n",
       "      <td>0</td>\n",
       "      <td>True</td>\n",
       "      <td>True</td>\n",
       "    </tr>\n",
       "    <tr>\n",
       "      <th>2105300</th>\n",
       "      <td>6</td>\n",
       "      <td>Arnold</td>\n",
       "      <td>30</td>\n",
       "      <td>1</td>\n",
       "      <td>...</td>\n",
       "      <td>329.80</td>\n",
       "      <td>0</td>\n",
       "      <td>True</td>\n",
       "      <td>True</td>\n",
       "    </tr>\n",
       "    <tr>\n",
       "      <th>...</th>\n",
       "      <td>...</td>\n",
       "      <td>...</td>\n",
       "      <td>...</td>\n",
       "      <td>...</td>\n",
       "      <td>...</td>\n",
       "      <td>...</td>\n",
       "      <td>...</td>\n",
       "      <td>...</td>\n",
       "      <td>...</td>\n",
       "    </tr>\n",
       "    <tr>\n",
       "      <th>1566301</th>\n",
       "      <td>5688</td>\n",
       "      <td>High Risk</td>\n",
       "      <td>30</td>\n",
       "      <td>65</td>\n",
       "      <td>...</td>\n",
       "      <td>8806.67</td>\n",
       "      <td>0</td>\n",
       "      <td>True</td>\n",
       "      <td>False</td>\n",
       "    </tr>\n",
       "    <tr>\n",
       "      <th>2158945</th>\n",
       "      <td>5693</td>\n",
       "      <td>2</td>\n",
       "      <td>30</td>\n",
       "      <td>66</td>\n",
       "      <td>...</td>\n",
       "      <td>210.08</td>\n",
       "      <td>0</td>\n",
       "      <td>True</td>\n",
       "      <td>True</td>\n",
       "    </tr>\n",
       "    <tr>\n",
       "      <th>1614162</th>\n",
       "      <td>5720</td>\n",
       "      <td>345</td>\n",
       "      <td>30</td>\n",
       "      <td>70</td>\n",
       "      <td>...</td>\n",
       "      <td>4213.67</td>\n",
       "      <td>0</td>\n",
       "      <td>True</td>\n",
       "      <td>True</td>\n",
       "    </tr>\n",
       "  </tbody>\n",
       "</table>\n",
       "<p>4313 rows × 59 columns</p>\n",
       "</div>"
      ],
      "text/plain": [
       "        Rating     Signals  Price  Growth  ...  \\\n",
       "Signal                                     ...   \n",
       "1371953      1    Activity     30       3  ...   \n",
       "2020078     10  EURSpecial     30     823  ...   \n",
       "2105300      6      Arnold     30       1  ...   \n",
       "...        ...         ...    ...     ...  ...   \n",
       "1566301   5688   High Risk     30      65  ...   \n",
       "2158945   5693           2     30      66  ...   \n",
       "1614162   5720         345     30      70  ...   \n",
       "\n",
       "         Relative drawdown by equity amount  Score  Positive_Pos  \\\n",
       "Signal                                                             \n",
       "1371953                             3553.24      0          True   \n",
       "2020078                              342.76      0          True   \n",
       "2105300                              329.80      0          True   \n",
       "...                                     ...    ...           ...   \n",
       "1566301                             8806.67      0          True   \n",
       "2158945                              210.08      0          True   \n",
       "1614162                             4213.67      0          True   \n",
       "\n",
       "         is_consecutive_good  \n",
       "Signal                        \n",
       "1371953                 True  \n",
       "2020078                 True  \n",
       "2105300                 True  \n",
       "...                      ...  \n",
       "1566301                False  \n",
       "2158945                 True  \n",
       "1614162                 True  \n",
       "\n",
       "[4313 rows x 59 columns]"
      ]
     },
     "execution_count": 123,
     "metadata": {},
     "output_type": "execute_result"
    }
   ],
   "source": [
    "signals = signals.drop('Positive_Numbers', axis='columns')\n",
    "signals"
   ]
  },
  {
   "cell_type": "markdown",
   "metadata": {},
   "source": [
    "## There's more..."
   ]
  },
  {
   "cell_type": "code",
   "execution_count": 124,
   "metadata": {},
   "outputs": [
    {
     "data": {
      "text/html": [
       "<div>\n",
       "<style scoped>\n",
       "    .dataframe tbody tr th:only-of-type {\n",
       "        vertical-align: middle;\n",
       "    }\n",
       "\n",
       "    .dataframe tbody tr th {\n",
       "        vertical-align: top;\n",
       "    }\n",
       "\n",
       "    .dataframe thead th {\n",
       "        text-align: right;\n",
       "    }\n",
       "</style>\n",
       "<table border=\"1\" class=\"dataframe\">\n",
       "  <thead>\n",
       "    <tr style=\"text-align: right;\">\n",
       "      <th></th>\n",
       "      <th>Rating</th>\n",
       "      <th>Signals</th>\n",
       "      <th>Price</th>\n",
       "      <th>Growth</th>\n",
       "      <th>...</th>\n",
       "      <th>Relative drawdown by equity amount</th>\n",
       "      <th>Score</th>\n",
       "      <th>Positive_Pos</th>\n",
       "      <th>is_consecutive_good</th>\n",
       "    </tr>\n",
       "    <tr>\n",
       "      <th>Signal</th>\n",
       "      <th></th>\n",
       "      <th></th>\n",
       "      <th></th>\n",
       "      <th></th>\n",
       "      <th></th>\n",
       "      <th></th>\n",
       "      <th></th>\n",
       "      <th></th>\n",
       "      <th></th>\n",
       "    </tr>\n",
       "  </thead>\n",
       "  <tbody>\n",
       "    <tr>\n",
       "      <th>1371953</th>\n",
       "      <td>1</td>\n",
       "      <td>Activity</td>\n",
       "      <td>30</td>\n",
       "      <td>3</td>\n",
       "      <td>...</td>\n",
       "      <td>3553.24</td>\n",
       "      <td>0</td>\n",
       "      <td>True</td>\n",
       "      <td>True</td>\n",
       "    </tr>\n",
       "    <tr>\n",
       "      <th>2020078</th>\n",
       "      <td>10</td>\n",
       "      <td>EURSpecial</td>\n",
       "      <td>30</td>\n",
       "      <td>823</td>\n",
       "      <td>...</td>\n",
       "      <td>342.76</td>\n",
       "      <td>0</td>\n",
       "      <td>True</td>\n",
       "      <td>True</td>\n",
       "    </tr>\n",
       "    <tr>\n",
       "      <th>2105300</th>\n",
       "      <td>6</td>\n",
       "      <td>Arnold</td>\n",
       "      <td>30</td>\n",
       "      <td>1</td>\n",
       "      <td>...</td>\n",
       "      <td>329.80</td>\n",
       "      <td>0</td>\n",
       "      <td>True</td>\n",
       "      <td>True</td>\n",
       "    </tr>\n",
       "    <tr>\n",
       "      <th>...</th>\n",
       "      <td>...</td>\n",
       "      <td>...</td>\n",
       "      <td>...</td>\n",
       "      <td>...</td>\n",
       "      <td>...</td>\n",
       "      <td>...</td>\n",
       "      <td>...</td>\n",
       "      <td>...</td>\n",
       "      <td>...</td>\n",
       "    </tr>\n",
       "    <tr>\n",
       "      <th>1566301</th>\n",
       "      <td>5688</td>\n",
       "      <td>High Risk</td>\n",
       "      <td>30</td>\n",
       "      <td>65</td>\n",
       "      <td>...</td>\n",
       "      <td>8806.67</td>\n",
       "      <td>0</td>\n",
       "      <td>True</td>\n",
       "      <td>False</td>\n",
       "    </tr>\n",
       "    <tr>\n",
       "      <th>2158945</th>\n",
       "      <td>5693</td>\n",
       "      <td>2</td>\n",
       "      <td>30</td>\n",
       "      <td>66</td>\n",
       "      <td>...</td>\n",
       "      <td>210.08</td>\n",
       "      <td>0</td>\n",
       "      <td>True</td>\n",
       "      <td>True</td>\n",
       "    </tr>\n",
       "    <tr>\n",
       "      <th>1614162</th>\n",
       "      <td>5720</td>\n",
       "      <td>345</td>\n",
       "      <td>30</td>\n",
       "      <td>70</td>\n",
       "      <td>...</td>\n",
       "      <td>4213.67</td>\n",
       "      <td>0</td>\n",
       "      <td>True</td>\n",
       "      <td>True</td>\n",
       "    </tr>\n",
       "  </tbody>\n",
       "</table>\n",
       "<p>4313 rows × 59 columns</p>\n",
       "</div>"
      ],
      "text/plain": [
       "        Rating     Signals  Price  Growth  ...  \\\n",
       "Signal                                     ...   \n",
       "1371953      1    Activity     30       3  ...   \n",
       "2020078     10  EURSpecial     30     823  ...   \n",
       "2105300      6      Arnold     30       1  ...   \n",
       "...        ...         ...    ...     ...  ...   \n",
       "1566301   5688   High Risk     30      65  ...   \n",
       "2158945   5693           2     30      66  ...   \n",
       "1614162   5720         345     30      70  ...   \n",
       "\n",
       "         Relative drawdown by equity amount  Score  Positive_Pos  \\\n",
       "Signal                                                             \n",
       "1371953                             3553.24      0          True   \n",
       "2020078                              342.76      0          True   \n",
       "2105300                              329.80      0          True   \n",
       "...                                     ...    ...           ...   \n",
       "1566301                             8806.67      0          True   \n",
       "2158945                              210.08      0          True   \n",
       "1614162                             4213.67      0          True   \n",
       "\n",
       "         is_consecutive_good  \n",
       "Signal                        \n",
       "1371953                 True  \n",
       "2020078                 True  \n",
       "2105300                 True  \n",
       "...                      ...  \n",
       "1566301                False  \n",
       "2158945                 True  \n",
       "1614162                 True  \n",
       "\n",
       "[4313 rows x 59 columns]"
      ]
     },
     "execution_count": 124,
     "metadata": {},
     "output_type": "execute_result"
    }
   ],
   "source": [
    "signals"
   ]
  },
  {
   "cell_type": "code",
   "execution_count": 125,
   "metadata": {},
   "outputs": [
    {
     "data": {
      "text/plain": [
       "<pandas.core.indexing._iLocIndexer at 0x7f46f8614d10>"
      ]
     },
     "execution_count": 125,
     "metadata": {},
     "output_type": "execute_result"
    }
   ],
   "source": [
    "signals.iloc(1)"
   ]
  }
 ],
 "metadata": {
  "kernelspec": {
   "display_name": "Python 3",
   "language": "python",
   "name": "python3"
  },
  "language_info": {
   "codemirror_mode": {
    "name": "ipython",
    "version": 3
   },
   "file_extension": ".py",
   "mimetype": "text/x-python",
   "name": "python",
   "nbconvert_exporter": "python",
   "pygments_lexer": "ipython3",
   "version": "3.8.18"
  }
 },
 "nbformat": 4,
 "nbformat_minor": 2
}
