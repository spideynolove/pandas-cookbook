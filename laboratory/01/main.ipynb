{
 "cells": [
  {
   "cell_type": "markdown",
   "metadata": {},
   "source": [
    "# Dig into Dataframe"
   ]
  },
  {
   "cell_type": "code",
   "execution_count": 7,
   "metadata": {},
   "outputs": [],
   "source": [
    "import pandas as pd\n",
    "import numpy as np\n",
    "import pandas_datareader as pdr\n",
    "import investpy as iv\n",
    "import pandas_ta as ta\n",
    "from datetime import datetime as dt\n",
    "pd.set_option('max_columns', 6, 'max_rows', 6, 'display.precision', 4)"
   ]
  },
  {
   "cell_type": "code",
   "execution_count": 1108,
   "metadata": {},
   "outputs": [],
   "source": [
    "# quotes = 'GBPUSD=X'\n",
    "# data_yh = pdr.DataReader(quotes, data_source=\"yahoo\",\n",
    "#                       start='01/01/2020', end='12/31/2021')\n",
    "# data_yh.to_csv('..\\\\cookbook_data\\\\owndata\\\\GBPUSD_yh.csv')"
   ]
  },
  {
   "cell_type": "code",
   "execution_count": 1109,
   "metadata": {},
   "outputs": [],
   "source": [
    "# data_yh = pd.read_csv('..\\\\cookbook_data\\\\owndata\\\\GBPUSD_yh.csv',\n",
    "#                       index_col=0, parse_dates=True)\n",
    "# data_yh.head()\n"
   ]
  },
  {
   "cell_type": "code",
   "execution_count": 1110,
   "metadata": {},
   "outputs": [],
   "source": [
    "# data_iv = iv.currency_crosses.get_currency_cross_historical_data('GBP/USD', '01/01/2019', '03/02/2022')\n",
    "# data_iv.to_csv('..\\\\cookbook_data\\\\owndata\\\\GBPUSD_iv.csv')"
   ]
  },
  {
   "cell_type": "code",
   "execution_count": 1111,
   "metadata": {},
   "outputs": [],
   "source": [
    "# data_iv = pd.read_csv('..\\\\data\\\\owndata\\\\GBPUSD_iv.csv',\n",
    "#                       index_col=0, parse_dates=True)\n",
    "# data_iv.tail()\n"
   ]
  },
  {
   "cell_type": "code",
   "execution_count": 5,
   "metadata": {},
   "outputs": [],
   "source": [
    "quotes = ('PHLX Australian Dollar', 'PHLX Canadian Dollar',\n",
    "          'PHLX Euro', 'PHLX Yen', 'PHLX New Zealand Dollar',\n",
    "          'PHLX Swiss Franc', 'PHLX British Pound',\n",
    "          'US Dollar Index')\n",
    "\n",
    "names = [quote.replace(' ', '_') for quote in quotes]\n",
    "# names"
   ]
  },
  {
   "cell_type": "code",
   "execution_count": 12,
   "metadata": {},
   "outputs": [],
   "source": [
    "today = dt.today().strftime('%d/%m/%Y')\n",
    "# today"
   ]
  },
  {
   "cell_type": "code",
   "execution_count": 14,
   "metadata": {},
   "outputs": [],
   "source": [
    "quotes = ('US Dollar Index',)"
   ]
  },
  {
   "cell_type": "code",
   "execution_count": 15,
   "metadata": {},
   "outputs": [],
   "source": [
    "for quote in quotes:\n",
    "    data_iv = iv.indices.get_index_historical_data(quote, 'united states', '01/01/2019', today)\n",
    "    name = quote.replace(' ', '_')\n",
    "    data_iv.to_csv(f'..\\\\cookbook_data\\\\owndata\\\\{name}_iv.csv')\n"
   ]
  },
  {
   "cell_type": "markdown",
   "metadata": {},
   "source": [
    "# End Extract Data"
   ]
  },
  {
   "cell_type": "code",
   "execution_count": 4,
   "metadata": {},
   "outputs": [
    {
     "data": {
      "text/plain": [
       "'PHLX_Yen'"
      ]
     },
     "execution_count": 4,
     "metadata": {},
     "output_type": "execute_result"
    }
   ],
   "source": [
    "name = names[3]\n",
    "name"
   ]
  },
  {
   "cell_type": "code",
   "execution_count": 1115,
   "metadata": {},
   "outputs": [
    {
     "data": {
      "text/html": [
       "<div>\n",
       "<style scoped>\n",
       "    .dataframe tbody tr th:only-of-type {\n",
       "        vertical-align: middle;\n",
       "    }\n",
       "\n",
       "    .dataframe tbody tr th {\n",
       "        vertical-align: top;\n",
       "    }\n",
       "\n",
       "    .dataframe thead th {\n",
       "        text-align: right;\n",
       "    }\n",
       "</style>\n",
       "<table border=\"1\" class=\"dataframe\">\n",
       "  <thead>\n",
       "    <tr style=\"text-align: right;\">\n",
       "      <th></th>\n",
       "      <th>Open</th>\n",
       "      <th>High</th>\n",
       "      <th>Low</th>\n",
       "      <th>Close</th>\n",
       "      <th>Volume</th>\n",
       "      <th>Currency</th>\n",
       "    </tr>\n",
       "    <tr>\n",
       "      <th>Date</th>\n",
       "      <th></th>\n",
       "      <th></th>\n",
       "      <th></th>\n",
       "      <th></th>\n",
       "      <th></th>\n",
       "      <th></th>\n",
       "    </tr>\n",
       "  </thead>\n",
       "  <tbody>\n",
       "    <tr>\n",
       "      <th>2022-01-28</th>\n",
       "      <td>69.72</td>\n",
       "      <td>70.09</td>\n",
       "      <td>69.68</td>\n",
       "      <td>69.90</td>\n",
       "      <td>0</td>\n",
       "      <td>USD</td>\n",
       "    </tr>\n",
       "    <tr>\n",
       "      <th>2022-01-31</th>\n",
       "      <td>70.52</td>\n",
       "      <td>70.78</td>\n",
       "      <td>70.38</td>\n",
       "      <td>70.67</td>\n",
       "      <td>0</td>\n",
       "      <td>USD</td>\n",
       "    </tr>\n",
       "    <tr>\n",
       "      <th>2022-02-01</th>\n",
       "      <td>70.95</td>\n",
       "      <td>71.31</td>\n",
       "      <td>70.77</td>\n",
       "      <td>71.28</td>\n",
       "      <td>0</td>\n",
       "      <td>USD</td>\n",
       "    </tr>\n",
       "    <tr>\n",
       "      <th>2022-02-02</th>\n",
       "      <td>71.57</td>\n",
       "      <td>71.59</td>\n",
       "      <td>71.18</td>\n",
       "      <td>71.37</td>\n",
       "      <td>0</td>\n",
       "      <td>USD</td>\n",
       "    </tr>\n",
       "    <tr>\n",
       "      <th>2022-02-03</th>\n",
       "      <td>71.26</td>\n",
       "      <td>71.69</td>\n",
       "      <td>71.19</td>\n",
       "      <td>71.38</td>\n",
       "      <td>0</td>\n",
       "      <td>USD</td>\n",
       "    </tr>\n",
       "  </tbody>\n",
       "</table>\n",
       "</div>"
      ],
      "text/plain": [
       "             Open   High    Low  Close  Volume Currency\n",
       "Date                                                   \n",
       "2022-01-28  69.72  70.09  69.68  69.90       0      USD\n",
       "2022-01-31  70.52  70.78  70.38  70.67       0      USD\n",
       "2022-02-01  70.95  71.31  70.77  71.28       0      USD\n",
       "2022-02-02  71.57  71.59  71.18  71.37       0      USD\n",
       "2022-02-03  71.26  71.69  71.19  71.38       0      USD"
      ]
     },
     "execution_count": 1115,
     "metadata": {},
     "output_type": "execute_result"
    }
   ],
   "source": [
    "data_iv = pd.read_csv(f'..\\\\cookbook_data\\\\owndata\\\\{name}_iv.csv',\n",
    "                      index_col=0, parse_dates=True)\n",
    "data_iv.tail()\n"
   ]
  },
  {
   "cell_type": "code",
   "execution_count": 1116,
   "metadata": {},
   "outputs": [
    {
     "data": {
      "text/html": [
       "<div>\n",
       "<style scoped>\n",
       "    .dataframe tbody tr th:only-of-type {\n",
       "        vertical-align: middle;\n",
       "    }\n",
       "\n",
       "    .dataframe tbody tr th {\n",
       "        vertical-align: top;\n",
       "    }\n",
       "\n",
       "    .dataframe thead th {\n",
       "        text-align: right;\n",
       "    }\n",
       "</style>\n",
       "<table border=\"1\" class=\"dataframe\">\n",
       "  <thead>\n",
       "    <tr style=\"text-align: right;\">\n",
       "      <th></th>\n",
       "      <th>Open</th>\n",
       "      <th>High</th>\n",
       "      <th>Low</th>\n",
       "      <th>Close</th>\n",
       "      <th>Volume</th>\n",
       "      <th>Currency</th>\n",
       "      <th>ohlc4</th>\n",
       "    </tr>\n",
       "    <tr>\n",
       "      <th>Date</th>\n",
       "      <th></th>\n",
       "      <th></th>\n",
       "      <th></th>\n",
       "      <th></th>\n",
       "      <th></th>\n",
       "      <th></th>\n",
       "      <th></th>\n",
       "    </tr>\n",
       "  </thead>\n",
       "  <tbody>\n",
       "    <tr>\n",
       "      <th>2019-01-02</th>\n",
       "      <td>70.04</td>\n",
       "      <td>70.11</td>\n",
       "      <td>69.80</td>\n",
       "      <td>69.81</td>\n",
       "      <td>0</td>\n",
       "      <td>USD</td>\n",
       "      <td>69.9400</td>\n",
       "    </tr>\n",
       "    <tr>\n",
       "      <th>2019-01-03</th>\n",
       "      <td>69.65</td>\n",
       "      <td>70.20</td>\n",
       "      <td>69.62</td>\n",
       "      <td>70.04</td>\n",
       "      <td>0</td>\n",
       "      <td>USD</td>\n",
       "      <td>69.8775</td>\n",
       "    </tr>\n",
       "    <tr>\n",
       "      <th>2019-01-04</th>\n",
       "      <td>70.46</td>\n",
       "      <td>71.25</td>\n",
       "      <td>70.27</td>\n",
       "      <td>71.20</td>\n",
       "      <td>0</td>\n",
       "      <td>USD</td>\n",
       "      <td>70.7950</td>\n",
       "    </tr>\n",
       "    <tr>\n",
       "      <th>2019-01-07</th>\n",
       "      <td>71.34</td>\n",
       "      <td>71.51</td>\n",
       "      <td>71.14</td>\n",
       "      <td>71.48</td>\n",
       "      <td>0</td>\n",
       "      <td>USD</td>\n",
       "      <td>71.3675</td>\n",
       "    </tr>\n",
       "    <tr>\n",
       "      <th>2019-01-08</th>\n",
       "      <td>71.37</td>\n",
       "      <td>71.47</td>\n",
       "      <td>71.17</td>\n",
       "      <td>71.38</td>\n",
       "      <td>0</td>\n",
       "      <td>USD</td>\n",
       "      <td>71.3475</td>\n",
       "    </tr>\n",
       "  </tbody>\n",
       "</table>\n",
       "</div>"
      ],
      "text/plain": [
       "             Open   High    Low  Close  Volume Currency    ohlc4\n",
       "Date                                                            \n",
       "2019-01-02  70.04  70.11  69.80  69.81       0      USD  69.9400\n",
       "2019-01-03  69.65  70.20  69.62  70.04       0      USD  69.8775\n",
       "2019-01-04  70.46  71.25  70.27  71.20       0      USD  70.7950\n",
       "2019-01-07  71.34  71.51  71.14  71.48       0      USD  71.3675\n",
       "2019-01-08  71.37  71.47  71.17  71.38       0      USD  71.3475"
      ]
     },
     "execution_count": 1116,
     "metadata": {},
     "output_type": "execute_result"
    }
   ],
   "source": [
    "data_iv['ohlc4'] = ta.ohlc4(data_iv.Open, data_iv.High, data_iv.Low, data_iv.Close)\n",
    "# data_iv.drop(['Currency'], axis=1, inplace=True)      # because notebook save file status\n",
    "data_iv.head()"
   ]
  },
  {
   "cell_type": "code",
   "execution_count": 1117,
   "metadata": {},
   "outputs": [],
   "source": [
    "columns_iv = data_iv.columns\n",
    "index_iv = data_iv.index\n",
    "values_iv = data_iv.values"
   ]
  },
  {
   "cell_type": "code",
   "execution_count": 1118,
   "metadata": {},
   "outputs": [
    {
     "name": "stdout",
     "output_type": "stream",
     "text": [
      "<class 'pandas.core.indexes.base.Index'>\n"
     ]
    }
   ],
   "source": [
    "# columns_iv\n",
    "print(type(columns_iv))"
   ]
  },
  {
   "cell_type": "code",
   "execution_count": 1119,
   "metadata": {},
   "outputs": [
    {
     "name": "stdout",
     "output_type": "stream",
     "text": [
      "<class 'pandas.core.indexes.datetimes.DatetimeIndex'>\n"
     ]
    }
   ],
   "source": [
    "# index_iv\n",
    "print(type(index_iv))"
   ]
  },
  {
   "cell_type": "code",
   "execution_count": 1120,
   "metadata": {},
   "outputs": [
    {
     "name": "stdout",
     "output_type": "stream",
     "text": [
      "<class 'numpy.ndarray'>\n"
     ]
    }
   ],
   "source": [
    "# values_iv\n",
    "print(type(values_iv))"
   ]
  },
  {
   "cell_type": "code",
   "execution_count": 1121,
   "metadata": {},
   "outputs": [
    {
     "data": {
      "text/plain": [
       "array(['Open', 'High', 'Low', 'Close', 'Volume', 'Currency', 'ohlc4'],\n",
       "      dtype=object)"
      ]
     },
     "execution_count": 1121,
     "metadata": {},
     "output_type": "execute_result"
    }
   ],
   "source": [
    "columns_iv.values"
   ]
  },
  {
   "cell_type": "code",
   "execution_count": 1122,
   "metadata": {},
   "outputs": [],
   "source": [
    "# index_iv.values"
   ]
  },
  {
   "cell_type": "markdown",
   "metadata": {},
   "source": [
    "#### Data types"
   ]
  },
  {
   "cell_type": "code",
   "execution_count": 1123,
   "metadata": {},
   "outputs": [
    {
     "data": {
      "text/plain": [
       "Open        float64\n",
       "High        float64\n",
       "Low         float64\n",
       "Close       float64\n",
       "             ...   \n",
       "Currency     object\n",
       "hl2         float64\n",
       "hlc3        float64\n",
       "ohlc4       float64\n",
       "Length: 9, dtype: object"
      ]
     },
     "execution_count": 1123,
     "metadata": {},
     "output_type": "execute_result"
    }
   ],
   "source": [
    "data_iv = pd.read_csv(f'..\\\\data\\\\owndata\\\\{name}_iv.csv',\n",
    "                      index_col=0, parse_dates=True)\n",
    "data_iv['hl2'] = ta.hl2(data_iv.High, data_iv.Low)\n",
    "data_iv['hlc3'] = ta.hlc3(data_iv.High, data_iv.Low, data_iv.Close)\n",
    "data_iv['ohlc4'] = ta.ohlc4(data_iv.Open, data_iv.High, data_iv.Low, data_iv.Close)\n",
    "# data_iv.drop(['Currency'], axis=1, inplace=True)      # because notebook save file status\n",
    "# data_iv.drop(['Currency', 'Volume'], axis=1, inplace=True)      # because notebook save file status\n",
    "data_iv.dtypes"
   ]
  },
  {
   "cell_type": "markdown",
   "metadata": {},
   "source": [
    "### [New idea: Fear & Greed Index](https://money.cnn.com/data/fear-and-greed)\n",
    "- [Safe haven assets](https://www.venn.twosigma.com/vennsights/five-safe-haven-assets)\n",
    "- How to calculate ... "
   ]
  },
  {
   "cell_type": "code",
   "execution_count": 1124,
   "metadata": {},
   "outputs": [
    {
     "data": {
      "text/plain": [
       "float64    7\n",
       "int64      1\n",
       "object     1\n",
       "dtype: int64"
      ]
     },
     "execution_count": 1124,
     "metadata": {},
     "output_type": "execute_result"
    }
   ],
   "source": [
    "data_iv.dtypes.value_counts()"
   ]
  },
  {
   "cell_type": "code",
   "execution_count": 1125,
   "metadata": {},
   "outputs": [],
   "source": [
    "data_iv['ohlc4_change'] = data_iv.ohlc4.pct_change().abs()"
   ]
  },
  {
   "cell_type": "code",
   "execution_count": 1126,
   "metadata": {},
   "outputs": [
    {
     "data": {
      "text/html": [
       "<div>\n",
       "<style scoped>\n",
       "    .dataframe tbody tr th:only-of-type {\n",
       "        vertical-align: middle;\n",
       "    }\n",
       "\n",
       "    .dataframe tbody tr th {\n",
       "        vertical-align: top;\n",
       "    }\n",
       "\n",
       "    .dataframe thead th {\n",
       "        text-align: right;\n",
       "    }\n",
       "</style>\n",
       "<table border=\"1\" class=\"dataframe\">\n",
       "  <thead>\n",
       "    <tr style=\"text-align: right;\">\n",
       "      <th></th>\n",
       "      <th>Open</th>\n",
       "      <th>High</th>\n",
       "      <th>Low</th>\n",
       "      <th>Close</th>\n",
       "      <th>...</th>\n",
       "      <th>hl2</th>\n",
       "      <th>hlc3</th>\n",
       "      <th>ohlc4</th>\n",
       "      <th>ohlc4_change</th>\n",
       "    </tr>\n",
       "    <tr>\n",
       "      <th>Date</th>\n",
       "      <th></th>\n",
       "      <th></th>\n",
       "      <th></th>\n",
       "      <th></th>\n",
       "      <th></th>\n",
       "      <th></th>\n",
       "      <th></th>\n",
       "      <th></th>\n",
       "      <th></th>\n",
       "    </tr>\n",
       "  </thead>\n",
       "  <tbody>\n",
       "    <tr>\n",
       "      <th>2022-01-28</th>\n",
       "      <td>69.72</td>\n",
       "      <td>70.09</td>\n",
       "      <td>69.68</td>\n",
       "      <td>69.90</td>\n",
       "      <td>...</td>\n",
       "      <td>69.885</td>\n",
       "      <td>69.89</td>\n",
       "      <td>69.8475</td>\n",
       "      <td>0.0100</td>\n",
       "    </tr>\n",
       "    <tr>\n",
       "      <th>2022-01-31</th>\n",
       "      <td>70.52</td>\n",
       "      <td>70.78</td>\n",
       "      <td>70.38</td>\n",
       "      <td>70.67</td>\n",
       "      <td>...</td>\n",
       "      <td>70.580</td>\n",
       "      <td>70.61</td>\n",
       "      <td>70.5875</td>\n",
       "      <td>0.0106</td>\n",
       "    </tr>\n",
       "    <tr>\n",
       "      <th>2022-02-01</th>\n",
       "      <td>70.95</td>\n",
       "      <td>71.31</td>\n",
       "      <td>70.77</td>\n",
       "      <td>71.28</td>\n",
       "      <td>...</td>\n",
       "      <td>71.040</td>\n",
       "      <td>71.12</td>\n",
       "      <td>71.0775</td>\n",
       "      <td>0.0069</td>\n",
       "    </tr>\n",
       "    <tr>\n",
       "      <th>2022-02-02</th>\n",
       "      <td>71.57</td>\n",
       "      <td>71.59</td>\n",
       "      <td>71.18</td>\n",
       "      <td>71.37</td>\n",
       "      <td>...</td>\n",
       "      <td>71.385</td>\n",
       "      <td>71.38</td>\n",
       "      <td>71.4275</td>\n",
       "      <td>0.0049</td>\n",
       "    </tr>\n",
       "    <tr>\n",
       "      <th>2022-02-03</th>\n",
       "      <td>71.26</td>\n",
       "      <td>71.69</td>\n",
       "      <td>71.19</td>\n",
       "      <td>71.38</td>\n",
       "      <td>...</td>\n",
       "      <td>71.440</td>\n",
       "      <td>71.42</td>\n",
       "      <td>71.3800</td>\n",
       "      <td>0.0007</td>\n",
       "    </tr>\n",
       "  </tbody>\n",
       "</table>\n",
       "<p>5 rows × 10 columns</p>\n",
       "</div>"
      ],
      "text/plain": [
       "             Open   High    Low  Close  ...     hl2   hlc3    ohlc4  \\\n",
       "Date                                    ...                           \n",
       "2022-01-28  69.72  70.09  69.68  69.90  ...  69.885  69.89  69.8475   \n",
       "2022-01-31  70.52  70.78  70.38  70.67  ...  70.580  70.61  70.5875   \n",
       "2022-02-01  70.95  71.31  70.77  71.28  ...  71.040  71.12  71.0775   \n",
       "2022-02-02  71.57  71.59  71.18  71.37  ...  71.385  71.38  71.4275   \n",
       "2022-02-03  71.26  71.69  71.19  71.38  ...  71.440  71.42  71.3800   \n",
       "\n",
       "            ohlc4_change  \n",
       "Date                      \n",
       "2022-01-28        0.0100  \n",
       "2022-01-31        0.0106  \n",
       "2022-02-01        0.0069  \n",
       "2022-02-02        0.0049  \n",
       "2022-02-03        0.0007  \n",
       "\n",
       "[5 rows x 10 columns]"
      ]
     },
     "execution_count": 1126,
     "metadata": {},
     "output_type": "execute_result"
    }
   ],
   "source": [
    "data_iv.tail()"
   ]
  },
  {
   "cell_type": "markdown",
   "metadata": {},
   "source": [
    "# Selecting "
   ]
  },
  {
   "cell_type": "code",
   "execution_count": 1127,
   "metadata": {},
   "outputs": [
    {
     "data": {
      "text/plain": [
       "'ohlc4'"
      ]
     },
     "execution_count": 1127,
     "metadata": {},
     "output_type": "execute_result"
    }
   ],
   "source": [
    "ohlc4 = data_iv.ohlc4\n",
    "ohlc4.name"
   ]
  },
  {
   "cell_type": "code",
   "execution_count": 1128,
   "metadata": {},
   "outputs": [
    {
     "data": {
      "text/html": [
       "<div>\n",
       "<style scoped>\n",
       "    .dataframe tbody tr th:only-of-type {\n",
       "        vertical-align: middle;\n",
       "    }\n",
       "\n",
       "    .dataframe tbody tr th {\n",
       "        vertical-align: top;\n",
       "    }\n",
       "\n",
       "    .dataframe thead th {\n",
       "        text-align: right;\n",
       "    }\n",
       "</style>\n",
       "<table border=\"1\" class=\"dataframe\">\n",
       "  <thead>\n",
       "    <tr style=\"text-align: right;\">\n",
       "      <th></th>\n",
       "      <th>ohlc4</th>\n",
       "    </tr>\n",
       "    <tr>\n",
       "      <th>Date</th>\n",
       "      <th></th>\n",
       "    </tr>\n",
       "  </thead>\n",
       "  <tbody>\n",
       "    <tr>\n",
       "      <th>2022-01-28</th>\n",
       "      <td>69.8475</td>\n",
       "    </tr>\n",
       "    <tr>\n",
       "      <th>2022-01-31</th>\n",
       "      <td>70.5875</td>\n",
       "    </tr>\n",
       "    <tr>\n",
       "      <th>2022-02-01</th>\n",
       "      <td>71.0775</td>\n",
       "    </tr>\n",
       "    <tr>\n",
       "      <th>2022-02-02</th>\n",
       "      <td>71.4275</td>\n",
       "    </tr>\n",
       "    <tr>\n",
       "      <th>2022-02-03</th>\n",
       "      <td>71.3800</td>\n",
       "    </tr>\n",
       "  </tbody>\n",
       "</table>\n",
       "</div>"
      ],
      "text/plain": [
       "              ohlc4\n",
       "Date               \n",
       "2022-01-28  69.8475\n",
       "2022-01-31  70.5875\n",
       "2022-02-01  71.0775\n",
       "2022-02-02  71.4275\n",
       "2022-02-03  71.3800"
      ]
     },
     "execution_count": 1128,
     "metadata": {},
     "output_type": "execute_result"
    }
   ],
   "source": [
    "ohlc4.to_frame().tail()"
   ]
  },
  {
   "cell_type": "code",
   "execution_count": 1129,
   "metadata": {},
   "outputs": [
    {
     "data": {
      "text/html": [
       "<div>\n",
       "<style scoped>\n",
       "    .dataframe tbody tr th:only-of-type {\n",
       "        vertical-align: middle;\n",
       "    }\n",
       "\n",
       "    .dataframe tbody tr th {\n",
       "        vertical-align: top;\n",
       "    }\n",
       "\n",
       "    .dataframe thead th {\n",
       "        text-align: right;\n",
       "    }\n",
       "</style>\n",
       "<table border=\"1\" class=\"dataframe\">\n",
       "  <thead>\n",
       "    <tr style=\"text-align: right;\">\n",
       "      <th></th>\n",
       "      <th>Open</th>\n",
       "      <th>High</th>\n",
       "      <th>Low</th>\n",
       "      <th>Close</th>\n",
       "      <th>...</th>\n",
       "      <th>hl2</th>\n",
       "      <th>hlc3</th>\n",
       "      <th>ohlc4</th>\n",
       "      <th>ohlc4_change</th>\n",
       "    </tr>\n",
       "  </thead>\n",
       "  <tbody>\n",
       "    <tr>\n",
       "      <th>count</th>\n",
       "      <td>100.0000</td>\n",
       "      <td>100.0000</td>\n",
       "      <td>100.0000</td>\n",
       "      <td>100.0000</td>\n",
       "      <td>...</td>\n",
       "      <td>100.0000</td>\n",
       "      <td>100.0000</td>\n",
       "      <td>100.0000</td>\n",
       "      <td>100.0000</td>\n",
       "    </tr>\n",
       "    <tr>\n",
       "      <th>mean</th>\n",
       "      <td>72.5909</td>\n",
       "      <td>72.8153</td>\n",
       "      <td>72.3637</td>\n",
       "      <td>72.5815</td>\n",
       "      <td>...</td>\n",
       "      <td>72.5895</td>\n",
       "      <td>72.5868</td>\n",
       "      <td>72.5879</td>\n",
       "      <td>0.0040</td>\n",
       "    </tr>\n",
       "    <tr>\n",
       "      <th>std</th>\n",
       "      <td>1.2593</td>\n",
       "      <td>1.2370</td>\n",
       "      <td>1.2755</td>\n",
       "      <td>1.2560</td>\n",
       "      <td>...</td>\n",
       "      <td>1.2536</td>\n",
       "      <td>1.2525</td>\n",
       "      <td>1.2516</td>\n",
       "      <td>0.0030</td>\n",
       "    </tr>\n",
       "    <tr>\n",
       "      <th>min</th>\n",
       "      <td>69.7200</td>\n",
       "      <td>70.0900</td>\n",
       "      <td>69.6800</td>\n",
       "      <td>69.9000</td>\n",
       "      <td>...</td>\n",
       "      <td>69.8850</td>\n",
       "      <td>69.8900</td>\n",
       "      <td>69.8475</td>\n",
       "      <td>0.0001</td>\n",
       "    </tr>\n",
       "    <tr>\n",
       "      <th>25%</th>\n",
       "      <td>71.5775</td>\n",
       "      <td>71.8200</td>\n",
       "      <td>71.3600</td>\n",
       "      <td>71.6975</td>\n",
       "      <td>...</td>\n",
       "      <td>71.5837</td>\n",
       "      <td>71.6475</td>\n",
       "      <td>71.6025</td>\n",
       "      <td>0.0013</td>\n",
       "    </tr>\n",
       "    <tr>\n",
       "      <th>50%</th>\n",
       "      <td>72.4750</td>\n",
       "      <td>72.7000</td>\n",
       "      <td>72.2050</td>\n",
       "      <td>72.4100</td>\n",
       "      <td>...</td>\n",
       "      <td>72.4650</td>\n",
       "      <td>72.4233</td>\n",
       "      <td>72.4450</td>\n",
       "      <td>0.0036</td>\n",
       "    </tr>\n",
       "    <tr>\n",
       "      <th>75%</th>\n",
       "      <td>73.3150</td>\n",
       "      <td>73.5175</td>\n",
       "      <td>73.1350</td>\n",
       "      <td>73.2825</td>\n",
       "      <td>...</td>\n",
       "      <td>73.3050</td>\n",
       "      <td>73.3000</td>\n",
       "      <td>73.2775</td>\n",
       "      <td>0.0058</td>\n",
       "    </tr>\n",
       "    <tr>\n",
       "      <th>max</th>\n",
       "      <td>75.3500</td>\n",
       "      <td>75.5700</td>\n",
       "      <td>75.1100</td>\n",
       "      <td>75.4100</td>\n",
       "      <td>...</td>\n",
       "      <td>75.3150</td>\n",
       "      <td>75.3467</td>\n",
       "      <td>75.3125</td>\n",
       "      <td>0.0121</td>\n",
       "    </tr>\n",
       "  </tbody>\n",
       "</table>\n",
       "<p>8 rows × 9 columns</p>\n",
       "</div>"
      ],
      "text/plain": [
       "           Open      High       Low     Close  ...       hl2      hlc3  \\\n",
       "count  100.0000  100.0000  100.0000  100.0000  ...  100.0000  100.0000   \n",
       "mean    72.5909   72.8153   72.3637   72.5815  ...   72.5895   72.5868   \n",
       "std      1.2593    1.2370    1.2755    1.2560  ...    1.2536    1.2525   \n",
       "min     69.7200   70.0900   69.6800   69.9000  ...   69.8850   69.8900   \n",
       "25%     71.5775   71.8200   71.3600   71.6975  ...   71.5837   71.6475   \n",
       "50%     72.4750   72.7000   72.2050   72.4100  ...   72.4650   72.4233   \n",
       "75%     73.3150   73.5175   73.1350   73.2825  ...   73.3050   73.3000   \n",
       "max     75.3500   75.5700   75.1100   75.4100  ...   75.3150   75.3467   \n",
       "\n",
       "          ohlc4  ohlc4_change  \n",
       "count  100.0000      100.0000  \n",
       "mean    72.5879        0.0040  \n",
       "std      1.2516        0.0030  \n",
       "min     69.8475        0.0001  \n",
       "25%     71.6025        0.0013  \n",
       "50%     72.4450        0.0036  \n",
       "75%     73.2775        0.0058  \n",
       "max     75.3125        0.0121  \n",
       "\n",
       "[8 rows x 9 columns]"
      ]
     },
     "execution_count": 1129,
     "metadata": {},
     "output_type": "execute_result"
    }
   ],
   "source": [
    "new_data_iv = data_iv.iloc[1:]\n",
    "# new_data_iv[-52:]\n",
    "new_data_iv[-100:].describe()"
   ]
  },
  {
   "cell_type": "code",
   "execution_count": 1130,
   "metadata": {},
   "outputs": [],
   "source": [
    "ohlc4_change = new_data_iv.ohlc4_change"
   ]
  },
  {
   "cell_type": "code",
   "execution_count": 1131,
   "metadata": {},
   "outputs": [
    {
     "data": {
      "text/plain": [
       "((779,), 779, 779, 779)"
      ]
     },
     "execution_count": 1131,
     "metadata": {},
     "output_type": "execute_result"
    }
   ],
   "source": [
    "ohlc4_change.shape, ohlc4_change.size, len(ohlc4_change), ohlc4_change.count()"
   ]
  },
  {
   "cell_type": "code",
   "execution_count": 1132,
   "metadata": {},
   "outputs": [],
   "source": [
    "pd.set_option('display.precision', 6)"
   ]
  },
  {
   "cell_type": "code",
   "execution_count": 1133,
   "metadata": {},
   "outputs": [
    {
     "data": {
      "text/plain": [
       "count    7.790000e+04\n",
       "mean     4.071481e-01\n",
       "std      3.701228e-01\n",
       "min      2.220446e-14\n",
       "25%      1.526588e-01\n",
       "50%      3.183119e-01\n",
       "75%      5.653866e-01\n",
       "max      3.095951e+00\n",
       "Name: ohlc4_change, dtype: float64"
      ]
     },
     "execution_count": 1133,
     "metadata": {},
     "output_type": "execute_result"
    }
   ],
   "source": [
    "# ohlc4_change.describe() \n",
    "\n",
    "norm_ohlc4_change = ohlc4_change.describe() * 100\n",
    "norm_ohlc4_change"
   ]
  },
  {
   "cell_type": "code",
   "execution_count": 1134,
   "metadata": {},
   "outputs": [
    {
     "data": {
      "text/plain": [
       "0.21892004121803146"
      ]
     },
     "execution_count": 1134,
     "metadata": {},
     "output_type": "execute_result"
    }
   ],
   "source": [
    "norm_ohlc4_change.quantile(.2)"
   ]
  },
  {
   "cell_type": "code",
   "execution_count": 1135,
   "metadata": {},
   "outputs": [
    {
     "data": {
      "text/plain": [
       "0.1    0.106861\n",
       "0.2    0.218920\n",
       "0.3    0.323493\n",
       "0.4    0.359761\n",
       "0.5    0.388635\n",
       "0.6    0.438796\n",
       "0.7    0.549563\n",
       "0.8    2.083726\n",
       "Name: ohlc4_change, dtype: float64"
      ]
     },
     "execution_count": 1135,
     "metadata": {},
     "output_type": "execute_result"
    }
   ],
   "source": [
    "norm_ohlc4_change.quantile([.1, .2, .3, .4, .5, .6, .7, .8])"
   ]
  },
  {
   "cell_type": "code",
   "execution_count": 1136,
   "metadata": {},
   "outputs": [
    {
     "data": {
      "text/plain": [
       "False    779\n",
       "Name: ohlc4_change, dtype: int64"
      ]
     },
     "execution_count": 1136,
     "metadata": {},
     "output_type": "execute_result"
    }
   ],
   "source": [
    "ohlc4_change.isnull().value_counts()"
   ]
  },
  {
   "cell_type": "markdown",
   "metadata": {},
   "source": [
    "### add daily min risk depend on min / mean value of ohlc change"
   ]
  },
  {
   "cell_type": "code",
   "execution_count": 1137,
   "metadata": {},
   "outputs": [
    {
     "data": {
      "text/plain": [
       "count    7.790000e+04\n",
       "mean     4.071481e-01\n",
       "std      3.701228e-01\n",
       "min      2.220446e-14\n",
       "25%      1.526588e-01\n",
       "50%      3.183119e-01\n",
       "75%      5.653866e-01\n",
       "max      3.095951e+00\n",
       "Name: ohlc4_change, dtype: float64"
      ]
     },
     "execution_count": 1137,
     "metadata": {},
     "output_type": "execute_result"
    }
   ],
   "source": [
    "norm_ohlc4_change"
   ]
  },
  {
   "cell_type": "code",
   "execution_count": 1138,
   "metadata": {},
   "outputs": [
    {
     "name": "stdout",
     "output_type": "stream",
     "text": [
      "count    50.000000\n",
      "mean      0.004590\n",
      "std       0.003294\n",
      "min       0.000139\n",
      "25%       0.001614\n",
      "50%       0.004314\n",
      "75%       0.006992\n",
      "max       0.012147\n",
      "Name: ohlc4_change, dtype: float64\n"
     ]
    },
    {
     "data": {
      "text/plain": [
       "0.458978423728905"
      ]
     },
     "execution_count": 1138,
     "metadata": {},
     "output_type": "execute_result"
    }
   ],
   "source": [
    "temp_data = ohlc4_change[-50:]\n",
    "print(temp_data.describe())\n",
    "\n",
    "mean_ohlc4_change = temp_data.mean()\n",
    "mean_ohlc4_change * 100"
   ]
  },
  {
   "cell_type": "code",
   "execution_count": 1139,
   "metadata": {},
   "outputs": [
    {
     "data": {
      "text/plain": [
       "False    28\n",
       "True     22\n",
       "Name: ohlc4_change, dtype: int64"
      ]
     },
     "execution_count": 1139,
     "metadata": {},
     "output_type": "execute_result"
    }
   ],
   "source": [
    "count_above_mean = temp_data >= mean_ohlc4_change\n",
    "count_above_mean.value_counts()"
   ]
  },
  {
   "cell_type": "code",
   "execution_count": 1140,
   "metadata": {},
   "outputs": [
    {
     "data": {
      "text/html": [
       "<div>\n",
       "<style scoped>\n",
       "    .dataframe tbody tr th:only-of-type {\n",
       "        vertical-align: middle;\n",
       "    }\n",
       "\n",
       "    .dataframe tbody tr th {\n",
       "        vertical-align: top;\n",
       "    }\n",
       "\n",
       "    .dataframe thead th {\n",
       "        text-align: right;\n",
       "    }\n",
       "</style>\n",
       "<table border=\"1\" class=\"dataframe\">\n",
       "  <thead>\n",
       "    <tr style=\"text-align: right;\">\n",
       "      <th></th>\n",
       "      <th>Open</th>\n",
       "      <th>High</th>\n",
       "      <th>Low</th>\n",
       "      <th>Close</th>\n",
       "      <th>...</th>\n",
       "      <th>Currency</th>\n",
       "      <th>hl2</th>\n",
       "      <th>hlc3</th>\n",
       "      <th>ohlc4</th>\n",
       "    </tr>\n",
       "    <tr>\n",
       "      <th>Date</th>\n",
       "      <th></th>\n",
       "      <th></th>\n",
       "      <th></th>\n",
       "      <th></th>\n",
       "      <th></th>\n",
       "      <th></th>\n",
       "      <th></th>\n",
       "      <th></th>\n",
       "      <th></th>\n",
       "    </tr>\n",
       "  </thead>\n",
       "  <tbody>\n",
       "    <tr>\n",
       "      <th>2019-01-02</th>\n",
       "      <td>70.04</td>\n",
       "      <td>70.11</td>\n",
       "      <td>69.80</td>\n",
       "      <td>69.81</td>\n",
       "      <td>...</td>\n",
       "      <td>USD</td>\n",
       "      <td>69.955</td>\n",
       "      <td>69.906667</td>\n",
       "      <td>69.9400</td>\n",
       "    </tr>\n",
       "    <tr>\n",
       "      <th>2019-01-03</th>\n",
       "      <td>69.65</td>\n",
       "      <td>70.20</td>\n",
       "      <td>69.62</td>\n",
       "      <td>70.04</td>\n",
       "      <td>...</td>\n",
       "      <td>USD</td>\n",
       "      <td>69.910</td>\n",
       "      <td>69.953333</td>\n",
       "      <td>69.8775</td>\n",
       "    </tr>\n",
       "    <tr>\n",
       "      <th>2019-01-04</th>\n",
       "      <td>70.46</td>\n",
       "      <td>71.25</td>\n",
       "      <td>70.27</td>\n",
       "      <td>71.20</td>\n",
       "      <td>...</td>\n",
       "      <td>USD</td>\n",
       "      <td>70.760</td>\n",
       "      <td>70.906667</td>\n",
       "      <td>70.7950</td>\n",
       "    </tr>\n",
       "    <tr>\n",
       "      <th>2019-01-07</th>\n",
       "      <td>71.34</td>\n",
       "      <td>71.51</td>\n",
       "      <td>71.14</td>\n",
       "      <td>71.48</td>\n",
       "      <td>...</td>\n",
       "      <td>USD</td>\n",
       "      <td>71.325</td>\n",
       "      <td>71.376667</td>\n",
       "      <td>71.3675</td>\n",
       "    </tr>\n",
       "    <tr>\n",
       "      <th>...</th>\n",
       "      <td>...</td>\n",
       "      <td>...</td>\n",
       "      <td>...</td>\n",
       "      <td>...</td>\n",
       "      <td>...</td>\n",
       "      <td>...</td>\n",
       "      <td>...</td>\n",
       "      <td>...</td>\n",
       "      <td>...</td>\n",
       "    </tr>\n",
       "    <tr>\n",
       "      <th>2022-01-31</th>\n",
       "      <td>70.52</td>\n",
       "      <td>70.78</td>\n",
       "      <td>70.38</td>\n",
       "      <td>70.67</td>\n",
       "      <td>...</td>\n",
       "      <td>USD</td>\n",
       "      <td>70.580</td>\n",
       "      <td>70.610000</td>\n",
       "      <td>70.5875</td>\n",
       "    </tr>\n",
       "    <tr>\n",
       "      <th>2022-02-01</th>\n",
       "      <td>70.95</td>\n",
       "      <td>71.31</td>\n",
       "      <td>70.77</td>\n",
       "      <td>71.28</td>\n",
       "      <td>...</td>\n",
       "      <td>USD</td>\n",
       "      <td>71.040</td>\n",
       "      <td>71.120000</td>\n",
       "      <td>71.0775</td>\n",
       "    </tr>\n",
       "    <tr>\n",
       "      <th>2022-02-02</th>\n",
       "      <td>71.57</td>\n",
       "      <td>71.59</td>\n",
       "      <td>71.18</td>\n",
       "      <td>71.37</td>\n",
       "      <td>...</td>\n",
       "      <td>USD</td>\n",
       "      <td>71.385</td>\n",
       "      <td>71.380000</td>\n",
       "      <td>71.4275</td>\n",
       "    </tr>\n",
       "    <tr>\n",
       "      <th>2022-02-03</th>\n",
       "      <td>71.26</td>\n",
       "      <td>71.69</td>\n",
       "      <td>71.19</td>\n",
       "      <td>71.38</td>\n",
       "      <td>...</td>\n",
       "      <td>USD</td>\n",
       "      <td>71.440</td>\n",
       "      <td>71.420000</td>\n",
       "      <td>71.3800</td>\n",
       "    </tr>\n",
       "  </tbody>\n",
       "</table>\n",
       "<p>780 rows × 9 columns</p>\n",
       "</div>"
      ],
      "text/plain": [
       "             Open   High    Low  Close  ...  Currency     hl2       hlc3  \\\n",
       "Date                                    ...                                \n",
       "2019-01-02  70.04  70.11  69.80  69.81  ...       USD  69.955  69.906667   \n",
       "2019-01-03  69.65  70.20  69.62  70.04  ...       USD  69.910  69.953333   \n",
       "2019-01-04  70.46  71.25  70.27  71.20  ...       USD  70.760  70.906667   \n",
       "2019-01-07  71.34  71.51  71.14  71.48  ...       USD  71.325  71.376667   \n",
       "...           ...    ...    ...    ...  ...       ...     ...        ...   \n",
       "2022-01-31  70.52  70.78  70.38  70.67  ...       USD  70.580  70.610000   \n",
       "2022-02-01  70.95  71.31  70.77  71.28  ...       USD  71.040  71.120000   \n",
       "2022-02-02  71.57  71.59  71.18  71.37  ...       USD  71.385  71.380000   \n",
       "2022-02-03  71.26  71.69  71.19  71.38  ...       USD  71.440  71.420000   \n",
       "\n",
       "              ohlc4  \n",
       "Date                 \n",
       "2019-01-02  69.9400  \n",
       "2019-01-03  69.8775  \n",
       "2019-01-04  70.7950  \n",
       "2019-01-07  71.3675  \n",
       "...             ...  \n",
       "2022-01-31  70.5875  \n",
       "2022-02-01  71.0775  \n",
       "2022-02-02  71.4275  \n",
       "2022-02-03  71.3800  \n",
       "\n",
       "[780 rows x 9 columns]"
      ]
     },
     "execution_count": 1140,
     "metadata": {},
     "output_type": "execute_result"
    }
   ],
   "source": [
    "data_iv = pd.read_csv(f'..\\\\cookbook_data\\\\owndata\\\\{name}_iv.csv',\n",
    "                      index_col=0, parse_dates=True)\n",
    "data_iv['hl2'] = ta.hl2(data_iv.High, data_iv.Low)\n",
    "data_iv['hlc3'] = ta.hlc3(data_iv.High, data_iv.Low, data_iv.Close)\n",
    "data_iv['ohlc4'] = ta.ohlc4(data_iv.Open, data_iv.High, data_iv.Low, data_iv.Close)\n",
    "# data_iv.drop(['Currency'], axis=1, inplace=True)      # because notebook save file status\n",
    "data_iv"
   ]
  },
  {
   "cell_type": "code",
   "execution_count": 1141,
   "metadata": {},
   "outputs": [
    {
     "data": {
      "text/html": [
       "<div>\n",
       "<style scoped>\n",
       "    .dataframe tbody tr th:only-of-type {\n",
       "        vertical-align: middle;\n",
       "    }\n",
       "\n",
       "    .dataframe tbody tr th {\n",
       "        vertical-align: top;\n",
       "    }\n",
       "\n",
       "    .dataframe thead th {\n",
       "        text-align: right;\n",
       "    }\n",
       "</style>\n",
       "<table border=\"1\" class=\"dataframe\">\n",
       "  <thead>\n",
       "    <tr style=\"text-align: right;\">\n",
       "      <th></th>\n",
       "      <th>Open</th>\n",
       "      <th>High</th>\n",
       "      <th>Low</th>\n",
       "      <th>Close</th>\n",
       "      <th>...</th>\n",
       "      <th>ohlc4</th>\n",
       "      <th>hl2_change</th>\n",
       "      <th>hlc3_change</th>\n",
       "      <th>ohlc4_change</th>\n",
       "    </tr>\n",
       "    <tr>\n",
       "      <th>Date</th>\n",
       "      <th></th>\n",
       "      <th></th>\n",
       "      <th></th>\n",
       "      <th></th>\n",
       "      <th></th>\n",
       "      <th></th>\n",
       "      <th></th>\n",
       "      <th></th>\n",
       "      <th></th>\n",
       "    </tr>\n",
       "  </thead>\n",
       "  <tbody>\n",
       "    <tr>\n",
       "      <th>2019-01-02</th>\n",
       "      <td>70.04</td>\n",
       "      <td>70.11</td>\n",
       "      <td>69.80</td>\n",
       "      <td>69.81</td>\n",
       "      <td>...</td>\n",
       "      <td>69.9400</td>\n",
       "      <td>NaN</td>\n",
       "      <td>NaN</td>\n",
       "      <td>NaN</td>\n",
       "    </tr>\n",
       "    <tr>\n",
       "      <th>2019-01-03</th>\n",
       "      <td>69.65</td>\n",
       "      <td>70.20</td>\n",
       "      <td>69.62</td>\n",
       "      <td>70.04</td>\n",
       "      <td>...</td>\n",
       "      <td>69.8775</td>\n",
       "      <td>0.000643</td>\n",
       "      <td>0.000668</td>\n",
       "      <td>0.000894</td>\n",
       "    </tr>\n",
       "    <tr>\n",
       "      <th>2019-01-04</th>\n",
       "      <td>70.46</td>\n",
       "      <td>71.25</td>\n",
       "      <td>70.27</td>\n",
       "      <td>71.20</td>\n",
       "      <td>...</td>\n",
       "      <td>70.7950</td>\n",
       "      <td>0.012158</td>\n",
       "      <td>0.013628</td>\n",
       "      <td>0.013130</td>\n",
       "    </tr>\n",
       "    <tr>\n",
       "      <th>2019-01-07</th>\n",
       "      <td>71.34</td>\n",
       "      <td>71.51</td>\n",
       "      <td>71.14</td>\n",
       "      <td>71.48</td>\n",
       "      <td>...</td>\n",
       "      <td>71.3675</td>\n",
       "      <td>0.007985</td>\n",
       "      <td>0.006628</td>\n",
       "      <td>0.008087</td>\n",
       "    </tr>\n",
       "    <tr>\n",
       "      <th>...</th>\n",
       "      <td>...</td>\n",
       "      <td>...</td>\n",
       "      <td>...</td>\n",
       "      <td>...</td>\n",
       "      <td>...</td>\n",
       "      <td>...</td>\n",
       "      <td>...</td>\n",
       "      <td>...</td>\n",
       "      <td>...</td>\n",
       "    </tr>\n",
       "    <tr>\n",
       "      <th>2022-01-31</th>\n",
       "      <td>70.52</td>\n",
       "      <td>70.78</td>\n",
       "      <td>70.38</td>\n",
       "      <td>70.67</td>\n",
       "      <td>...</td>\n",
       "      <td>70.5875</td>\n",
       "      <td>0.009945</td>\n",
       "      <td>0.010302</td>\n",
       "      <td>0.010595</td>\n",
       "    </tr>\n",
       "    <tr>\n",
       "      <th>2022-02-01</th>\n",
       "      <td>70.95</td>\n",
       "      <td>71.31</td>\n",
       "      <td>70.77</td>\n",
       "      <td>71.28</td>\n",
       "      <td>...</td>\n",
       "      <td>71.0775</td>\n",
       "      <td>0.006517</td>\n",
       "      <td>0.007223</td>\n",
       "      <td>0.006942</td>\n",
       "    </tr>\n",
       "    <tr>\n",
       "      <th>2022-02-02</th>\n",
       "      <td>71.57</td>\n",
       "      <td>71.59</td>\n",
       "      <td>71.18</td>\n",
       "      <td>71.37</td>\n",
       "      <td>...</td>\n",
       "      <td>71.4275</td>\n",
       "      <td>0.004856</td>\n",
       "      <td>0.003656</td>\n",
       "      <td>0.004924</td>\n",
       "    </tr>\n",
       "    <tr>\n",
       "      <th>2022-02-03</th>\n",
       "      <td>71.26</td>\n",
       "      <td>71.69</td>\n",
       "      <td>71.19</td>\n",
       "      <td>71.38</td>\n",
       "      <td>...</td>\n",
       "      <td>71.3800</td>\n",
       "      <td>0.000770</td>\n",
       "      <td>0.000560</td>\n",
       "      <td>0.000665</td>\n",
       "    </tr>\n",
       "  </tbody>\n",
       "</table>\n",
       "<p>780 rows × 12 columns</p>\n",
       "</div>"
      ],
      "text/plain": [
       "             Open   High    Low  Close  ...    ohlc4 hl2_change  hlc3_change  \\\n",
       "Date                                    ...                                    \n",
       "2019-01-02  70.04  70.11  69.80  69.81  ...  69.9400        NaN          NaN   \n",
       "2019-01-03  69.65  70.20  69.62  70.04  ...  69.8775   0.000643     0.000668   \n",
       "2019-01-04  70.46  71.25  70.27  71.20  ...  70.7950   0.012158     0.013628   \n",
       "2019-01-07  71.34  71.51  71.14  71.48  ...  71.3675   0.007985     0.006628   \n",
       "...           ...    ...    ...    ...  ...      ...        ...          ...   \n",
       "2022-01-31  70.52  70.78  70.38  70.67  ...  70.5875   0.009945     0.010302   \n",
       "2022-02-01  70.95  71.31  70.77  71.28  ...  71.0775   0.006517     0.007223   \n",
       "2022-02-02  71.57  71.59  71.18  71.37  ...  71.4275   0.004856     0.003656   \n",
       "2022-02-03  71.26  71.69  71.19  71.38  ...  71.3800   0.000770     0.000560   \n",
       "\n",
       "            ohlc4_change  \n",
       "Date                      \n",
       "2019-01-02           NaN  \n",
       "2019-01-03      0.000894  \n",
       "2019-01-04      0.013130  \n",
       "2019-01-07      0.008087  \n",
       "...                  ...  \n",
       "2022-01-31      0.010595  \n",
       "2022-02-01      0.006942  \n",
       "2022-02-02      0.004924  \n",
       "2022-02-03      0.000665  \n",
       "\n",
       "[780 rows x 12 columns]"
      ]
     },
     "execution_count": 1141,
     "metadata": {},
     "output_type": "execute_result"
    }
   ],
   "source": [
    "data_iv['hl2_change'] = data_iv.hl2.pct_change().abs()\n",
    "data_iv['hlc3_change'] = data_iv.hlc3.pct_change().abs()\n",
    "data_iv['ohlc4_change'] = data_iv.ohlc4.pct_change().abs()\n",
    "data_iv"
   ]
  },
  {
   "cell_type": "code",
   "execution_count": 1142,
   "metadata": {},
   "outputs": [],
   "source": [
    "temp_data = data_iv[-50:]\n",
    "temp_data_index = temp_data.index\n",
    "# temp_data.describe()"
   ]
  },
  {
   "cell_type": "code",
   "execution_count": 1143,
   "metadata": {},
   "outputs": [],
   "source": [
    "mean_hl2_change = temp_data.hl2_change.mean()\n",
    "mean_hlc3_change = temp_data.hlc3_change.mean()\n",
    "mean_ohlc4_change = temp_data.ohlc4_change.mean()"
   ]
  },
  {
   "cell_type": "code",
   "execution_count": 1144,
   "metadata": {},
   "outputs": [
    {
     "data": {
      "text/plain": [
       "False    27\n",
       "True     23\n",
       "Name: hl2_change, dtype: int64"
      ]
     },
     "execution_count": 1144,
     "metadata": {},
     "output_type": "execute_result"
    }
   ],
   "source": [
    "hl2_above_mean = temp_data.hl2_change >= mean_hl2_change\n",
    "hl2_above_mean.value_counts()\n",
    "# hl2_above_mean\n",
    "# type(hl2_above_mean)"
   ]
  },
  {
   "cell_type": "code",
   "execution_count": 1145,
   "metadata": {},
   "outputs": [],
   "source": [
    "np_hl2_above_mean = hl2_above_mean.to_numpy()"
   ]
  },
  {
   "cell_type": "code",
   "execution_count": 1146,
   "metadata": {},
   "outputs": [
    {
     "data": {
      "text/plain": [
       "False    28\n",
       "True     22\n",
       "Name: hlc3_change, dtype: int64"
      ]
     },
     "execution_count": 1146,
     "metadata": {},
     "output_type": "execute_result"
    }
   ],
   "source": [
    "hlc3_above_mean = temp_data.hlc3_change >= mean_hlc3_change\n",
    "hlc3_above_mean.value_counts()\n",
    "# hlc3_above_mean"
   ]
  },
  {
   "cell_type": "code",
   "execution_count": 1147,
   "metadata": {},
   "outputs": [],
   "source": [
    "np_hlc3_above_mean = hlc3_above_mean.to_numpy()"
   ]
  },
  {
   "cell_type": "code",
   "execution_count": 1148,
   "metadata": {},
   "outputs": [
    {
     "data": {
      "text/plain": [
       "False    28\n",
       "True     22\n",
       "Name: ohlc4_change, dtype: int64"
      ]
     },
     "execution_count": 1148,
     "metadata": {},
     "output_type": "execute_result"
    }
   ],
   "source": [
    "ohlc4_above_mean = temp_data.ohlc4_change >= mean_ohlc4_change\n",
    "ohlc4_above_mean.value_counts()\n",
    "# ohlc4_above_mean"
   ]
  },
  {
   "cell_type": "code",
   "execution_count": 1149,
   "metadata": {},
   "outputs": [],
   "source": [
    "np_ohlc4_above_mean = ohlc4_above_mean.to_numpy()"
   ]
  },
  {
   "cell_type": "code",
   "execution_count": 1150,
   "metadata": {},
   "outputs": [],
   "source": [
    "import numpy as np\n",
    "\n",
    "np_result = np.logical_and(np.logical_and(np_hl2_above_mean, np_hlc3_above_mean), np_ohlc4_above_mean)"
   ]
  },
  {
   "cell_type": "code",
   "execution_count": 1151,
   "metadata": {},
   "outputs": [
    {
     "data": {
      "text/plain": [
       "False    31\n",
       "True     19\n",
       "dtype: int64"
      ]
     },
     "execution_count": 1151,
     "metadata": {},
     "output_type": "execute_result"
    }
   ],
   "source": [
    "pd_result = pd.Series(np_result, index=temp_data_index)\n",
    "pd_result.value_counts()"
   ]
  },
  {
   "cell_type": "code",
   "execution_count": 1152,
   "metadata": {},
   "outputs": [],
   "source": [
    "data_iv['close_change'] = data_iv.Close.pct_change().abs()\n",
    "data_iv['close_status'] = data_iv.Close.pct_change()\n",
    "\n",
    "sample = data_iv[-50:]\n",
    "sample_index = sample.index\n",
    "\n",
    "mean_close_change = sample.close_change.mean()"
   ]
  },
  {
   "cell_type": "code",
   "execution_count": 1153,
   "metadata": {},
   "outputs": [
    {
     "data": {
      "text/plain": [
       "14"
      ]
     },
     "execution_count": 1153,
     "metadata": {},
     "output_type": "execute_result"
    }
   ],
   "source": [
    "col_len = len(sample.columns)\n",
    "col_len"
   ]
  },
  {
   "cell_type": "code",
   "execution_count": 1154,
   "metadata": {},
   "outputs": [
    {
     "name": "stderr",
     "output_type": "stream",
     "text": [
      "e:\\Code\\Algorithmic-Trading\\env\\lib\\site-packages\\ipykernel_launcher.py:6: SettingWithCopyWarning: \n",
      "A value is trying to be set on a copy of a slice from a DataFrame.\n",
      "Try using .loc[row_indexer,col_indexer] = value instead\n",
      "\n",
      "See the caveats in the documentation: https://pandas.pydata.org/pandas-docs/stable/user_guide/indexing.html#returning-a-view-versus-a-copy\n",
      "  \n"
     ]
    },
    {
     "data": {
      "text/html": [
       "<div>\n",
       "<style scoped>\n",
       "    .dataframe tbody tr th:only-of-type {\n",
       "        vertical-align: middle;\n",
       "    }\n",
       "\n",
       "    .dataframe tbody tr th {\n",
       "        vertical-align: top;\n",
       "    }\n",
       "\n",
       "    .dataframe thead th {\n",
       "        text-align: right;\n",
       "    }\n",
       "</style>\n",
       "<table border=\"1\" class=\"dataframe\">\n",
       "  <thead>\n",
       "    <tr style=\"text-align: right;\">\n",
       "      <th></th>\n",
       "      <th>Open</th>\n",
       "      <th>High</th>\n",
       "      <th>Low</th>\n",
       "      <th>Close</th>\n",
       "      <th>...</th>\n",
       "      <th>ohlc4_change</th>\n",
       "      <th>close_change</th>\n",
       "      <th>close_status</th>\n",
       "      <th>gt_mean_abs</th>\n",
       "    </tr>\n",
       "    <tr>\n",
       "      <th>Date</th>\n",
       "      <th></th>\n",
       "      <th></th>\n",
       "      <th></th>\n",
       "      <th></th>\n",
       "      <th></th>\n",
       "      <th></th>\n",
       "      <th></th>\n",
       "      <th></th>\n",
       "      <th></th>\n",
       "    </tr>\n",
       "  </thead>\n",
       "  <tbody>\n",
       "    <tr>\n",
       "      <th>2021-11-23</th>\n",
       "      <td>72.15</td>\n",
       "      <td>72.31</td>\n",
       "      <td>72.06</td>\n",
       "      <td>72.27</td>\n",
       "      <td>...</td>\n",
       "      <td>0.003451</td>\n",
       "      <td>0.000000</td>\n",
       "      <td>0.000000</td>\n",
       "      <td>False</td>\n",
       "    </tr>\n",
       "    <tr>\n",
       "      <th>2021-11-24</th>\n",
       "      <td>72.03</td>\n",
       "      <td>72.08</td>\n",
       "      <td>71.83</td>\n",
       "      <td>71.97</td>\n",
       "      <td>...</td>\n",
       "      <td>0.003047</td>\n",
       "      <td>0.004151</td>\n",
       "      <td>-0.004151</td>\n",
       "      <td>False</td>\n",
       "    </tr>\n",
       "    <tr>\n",
       "      <th>2021-11-26</th>\n",
       "      <td>71.49</td>\n",
       "      <td>71.54</td>\n",
       "      <td>71.15</td>\n",
       "      <td>71.24</td>\n",
       "      <td>...</td>\n",
       "      <td>0.008649</td>\n",
       "      <td>0.010143</td>\n",
       "      <td>-0.010143</td>\n",
       "      <td>True</td>\n",
       "    </tr>\n",
       "    <tr>\n",
       "      <th>2021-11-29</th>\n",
       "      <td>71.45</td>\n",
       "      <td>71.51</td>\n",
       "      <td>71.14</td>\n",
       "      <td>71.43</td>\n",
       "      <td>...</td>\n",
       "      <td>0.000385</td>\n",
       "      <td>0.002667</td>\n",
       "      <td>0.002667</td>\n",
       "      <td>False</td>\n",
       "    </tr>\n",
       "    <tr>\n",
       "      <th>...</th>\n",
       "      <td>...</td>\n",
       "      <td>...</td>\n",
       "      <td>...</td>\n",
       "      <td>...</td>\n",
       "      <td>...</td>\n",
       "      <td>...</td>\n",
       "      <td>...</td>\n",
       "      <td>...</td>\n",
       "      <td>...</td>\n",
       "    </tr>\n",
       "    <tr>\n",
       "      <th>2022-01-31</th>\n",
       "      <td>70.52</td>\n",
       "      <td>70.78</td>\n",
       "      <td>70.38</td>\n",
       "      <td>70.67</td>\n",
       "      <td>...</td>\n",
       "      <td>0.010595</td>\n",
       "      <td>0.011016</td>\n",
       "      <td>0.011016</td>\n",
       "      <td>True</td>\n",
       "    </tr>\n",
       "    <tr>\n",
       "      <th>2022-02-01</th>\n",
       "      <td>70.95</td>\n",
       "      <td>71.31</td>\n",
       "      <td>70.77</td>\n",
       "      <td>71.28</td>\n",
       "      <td>...</td>\n",
       "      <td>0.006942</td>\n",
       "      <td>0.008632</td>\n",
       "      <td>0.008632</td>\n",
       "      <td>True</td>\n",
       "    </tr>\n",
       "    <tr>\n",
       "      <th>2022-02-02</th>\n",
       "      <td>71.57</td>\n",
       "      <td>71.59</td>\n",
       "      <td>71.18</td>\n",
       "      <td>71.37</td>\n",
       "      <td>...</td>\n",
       "      <td>0.004924</td>\n",
       "      <td>0.001263</td>\n",
       "      <td>0.001263</td>\n",
       "      <td>False</td>\n",
       "    </tr>\n",
       "    <tr>\n",
       "      <th>2022-02-03</th>\n",
       "      <td>71.26</td>\n",
       "      <td>71.69</td>\n",
       "      <td>71.19</td>\n",
       "      <td>71.38</td>\n",
       "      <td>...</td>\n",
       "      <td>0.000665</td>\n",
       "      <td>0.000140</td>\n",
       "      <td>0.000140</td>\n",
       "      <td>False</td>\n",
       "    </tr>\n",
       "  </tbody>\n",
       "</table>\n",
       "<p>50 rows × 15 columns</p>\n",
       "</div>"
      ],
      "text/plain": [
       "             Open   High    Low  Close  ...  ohlc4_change close_change  \\\n",
       "Date                                    ...                              \n",
       "2021-11-23  72.15  72.31  72.06  72.27  ...      0.003451     0.000000   \n",
       "2021-11-24  72.03  72.08  71.83  71.97  ...      0.003047     0.004151   \n",
       "2021-11-26  71.49  71.54  71.15  71.24  ...      0.008649     0.010143   \n",
       "2021-11-29  71.45  71.51  71.14  71.43  ...      0.000385     0.002667   \n",
       "...           ...    ...    ...    ...  ...           ...          ...   \n",
       "2022-01-31  70.52  70.78  70.38  70.67  ...      0.010595     0.011016   \n",
       "2022-02-01  70.95  71.31  70.77  71.28  ...      0.006942     0.008632   \n",
       "2022-02-02  71.57  71.59  71.18  71.37  ...      0.004924     0.001263   \n",
       "2022-02-03  71.26  71.69  71.19  71.38  ...      0.000665     0.000140   \n",
       "\n",
       "            close_status  gt_mean_abs  \n",
       "Date                                   \n",
       "2021-11-23      0.000000        False  \n",
       "2021-11-24     -0.004151        False  \n",
       "2021-11-26     -0.010143         True  \n",
       "2021-11-29      0.002667        False  \n",
       "...                  ...          ...  \n",
       "2022-01-31      0.011016         True  \n",
       "2022-02-01      0.008632         True  \n",
       "2022-02-02      0.001263        False  \n",
       "2022-02-03      0.000140        False  \n",
       "\n",
       "[50 rows x 15 columns]"
      ]
     },
     "execution_count": 1154,
     "metadata": {},
     "output_type": "execute_result"
    }
   ],
   "source": [
    "# close_above_mean = sample.close_change >= mean_close_change\n",
    "\n",
    "# close_above_mean = sample.close_change.gt(mean_close_change)\n",
    "# close_above_mean.value_counts()\n",
    "\n",
    "sample['gt_mean_abs'] = sample.close_change.gt(mean_close_change)\n",
    "sample"
   ]
  },
  {
   "cell_type": "code",
   "execution_count": 1155,
   "metadata": {},
   "outputs": [
    {
     "name": "stderr",
     "output_type": "stream",
     "text": [
      "e:\\Code\\Algorithmic-Trading\\env\\lib\\site-packages\\ipykernel_launcher.py:2: SettingWithCopyWarning: \n",
      "A value is trying to be set on a copy of a slice from a DataFrame.\n",
      "Try using .loc[row_indexer,col_indexer] = value instead\n",
      "\n",
      "See the caveats in the documentation: https://pandas.pydata.org/pandas-docs/stable/user_guide/indexing.html#returning-a-view-versus-a-copy\n",
      "  \n",
      "e:\\Code\\Algorithmic-Trading\\env\\lib\\site-packages\\ipykernel_launcher.py:6: SettingWithCopyWarning: \n",
      "A value is trying to be set on a copy of a slice from a DataFrame.\n",
      "Try using .loc[row_indexer,col_indexer] = value instead\n",
      "\n",
      "See the caveats in the documentation: https://pandas.pydata.org/pandas-docs/stable/user_guide/indexing.html#returning-a-view-versus-a-copy\n",
      "  \n"
     ]
    },
    {
     "data": {
      "text/plain": [
       "False    0.78\n",
       "True     0.22\n",
       "Name: final_status, dtype: float64"
      ]
     },
     "execution_count": 1155,
     "metadata": {},
     "output_type": "execute_result"
    }
   ],
   "source": [
    "# import warnings\n",
    "sample['status'] = sample.close_status.gt(0.0)\n",
    "# sample[['gt_mean_abs', 'status']]\n",
    "\n",
    "# (greater/ smaller) and (bull or bear)\n",
    "sample['final_status'] = sample.gt_mean_abs.astype(int) * sample.status.astype(int)\n",
    "\n",
    "result_stt_sr = sample['final_status'].astype(bool)\n",
    "result_stt_sr.value_counts(normalize=True)"
   ]
  },
  {
   "cell_type": "code",
   "execution_count": 1156,
   "metadata": {},
   "outputs": [
    {
     "data": {
      "text/plain": [
       "False    28\n",
       "True     22\n",
       "Name: gt_mean_abs, dtype: int64"
      ]
     },
     "execution_count": 1156,
     "metadata": {},
     "output_type": "execute_result"
    }
   ],
   "source": [
    "sample.gt_mean_abs.value_counts()   # mean 28 times change < mean, 22 times change > mean "
   ]
  },
  {
   "cell_type": "code",
   "execution_count": 1157,
   "metadata": {},
   "outputs": [
    {
     "data": {
      "text/plain": [
       "False    27\n",
       "True     23\n",
       "Name: status, dtype: int64"
      ]
     },
     "execution_count": 1157,
     "metadata": {},
     "output_type": "execute_result"
    }
   ],
   "source": [
    "sample.status.value_counts()    # mean 28 times bull, 22 bear"
   ]
  },
  {
   "cell_type": "markdown",
   "metadata": {},
   "source": [
    "## Volume adding: T.B.D\n",
    "- yahoo finance refer\n",
    "- change > 75% ..."
   ]
  },
  {
   "cell_type": "markdown",
   "metadata": {},
   "source": []
  }
 ],
 "metadata": {
  "interpreter": {
   "hash": "f286ef182e6b807cc2e221ecf258f633461edf1c89db486e38c7dc82ac81346f"
  },
  "kernelspec": {
   "display_name": "Python 3.7.9 64-bit ('env': venv)",
   "language": "python",
   "name": "python3"
  },
  "language_info": {
   "codemirror_mode": {
    "name": "ipython",
    "version": 3
   },
   "file_extension": ".py",
   "mimetype": "text/x-python",
   "name": "python",
   "nbconvert_exporter": "python",
   "pygments_lexer": "ipython3",
   "version": "3.7.9"
  },
  "orig_nbformat": 4
 },
 "nbformat": 4,
 "nbformat_minor": 2
}
