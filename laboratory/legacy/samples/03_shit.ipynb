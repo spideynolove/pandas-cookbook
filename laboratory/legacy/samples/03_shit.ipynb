{
 "cells": [
  {
   "cell_type": "markdown",
   "metadata": {},
   "source": [
    "# Beginning Data Analysis with real financial data"
   ]
  },
  {
   "cell_type": "code",
   "execution_count": 25,
   "metadata": {},
   "outputs": [],
   "source": [
    "import numpy as np\n",
    "import pandas as pd\n",
    "from IPython.display import display\n",
    "pd.set_option('display.max_columns', 20)    # , 'display.max_rows', 20"
   ]
  },
  {
   "cell_type": "code",
   "execution_count": 26,
   "metadata": {},
   "outputs": [],
   "source": [
    "dxy = pd.read_csv('../cookbook_data/owndata/US_Dollar_Index_iv.csv', index_col=0, parse_dates=True)\n",
    "# type(dxy.index)"
   ]
  },
  {
   "cell_type": "code",
   "execution_count": 27,
   "metadata": {},
   "outputs": [],
   "source": [
    "dxy.drop(['Volume', 'Currency'], axis=1, inplace=True)"
   ]
  },
  {
   "cell_type": "code",
   "execution_count": 28,
   "metadata": {},
   "outputs": [],
   "source": [
    "# dxy.head()"
   ]
  },
  {
   "cell_type": "code",
   "execution_count": 29,
   "metadata": {},
   "outputs": [
    {
     "data": {
      "text/plain": [
       "(807, 4)"
      ]
     },
     "execution_count": 29,
     "metadata": {},
     "output_type": "execute_result"
    }
   ],
   "source": [
    "dxy.shape"
   ]
  },
  {
   "cell_type": "code",
   "execution_count": 30,
   "metadata": {},
   "outputs": [],
   "source": [
    "num = 30\n",
    "tmp_dxy = dxy.tail(num)\n",
    "# tmp_dxy"
   ]
  },
  {
   "cell_type": "code",
   "execution_count": 31,
   "metadata": {},
   "outputs": [
    {
     "data": {
      "text/html": [
       "<div>\n",
       "<style scoped>\n",
       "    .dataframe tbody tr th:only-of-type {\n",
       "        vertical-align: middle;\n",
       "    }\n",
       "\n",
       "    .dataframe tbody tr th {\n",
       "        vertical-align: top;\n",
       "    }\n",
       "\n",
       "    .dataframe thead th {\n",
       "        text-align: right;\n",
       "    }\n",
       "</style>\n",
       "<table border=\"1\" class=\"dataframe\">\n",
       "  <thead>\n",
       "    <tr style=\"text-align: right;\">\n",
       "      <th></th>\n",
       "      <th>count</th>\n",
       "      <th>mean</th>\n",
       "      <th>std</th>\n",
       "      <th>min</th>\n",
       "      <th>5%</th>\n",
       "      <th>25%</th>\n",
       "      <th>50%</th>\n",
       "      <th>75%</th>\n",
       "      <th>95%</th>\n",
       "      <th>max</th>\n",
       "    </tr>\n",
       "  </thead>\n",
       "  <tbody>\n",
       "    <tr>\n",
       "      <th>Open</th>\n",
       "      <td>30.0</td>\n",
       "      <td>95.970333</td>\n",
       "      <td>0.542265</td>\n",
       "      <td>94.87</td>\n",
       "      <td>95.0710</td>\n",
       "      <td>95.6875</td>\n",
       "      <td>95.975</td>\n",
       "      <td>96.1975</td>\n",
       "      <td>96.9860</td>\n",
       "      <td>97.25</td>\n",
       "    </tr>\n",
       "    <tr>\n",
       "      <th>High</th>\n",
       "      <td>30.0</td>\n",
       "      <td>96.217667</td>\n",
       "      <td>0.536564</td>\n",
       "      <td>95.02</td>\n",
       "      <td>95.3060</td>\n",
       "      <td>95.9125</td>\n",
       "      <td>96.265</td>\n",
       "      <td>96.3750</td>\n",
       "      <td>97.2955</td>\n",
       "      <td>97.44</td>\n",
       "    </tr>\n",
       "    <tr>\n",
       "      <th>Low</th>\n",
       "      <td>30.0</td>\n",
       "      <td>95.715667</td>\n",
       "      <td>0.531936</td>\n",
       "      <td>94.63</td>\n",
       "      <td>94.7725</td>\n",
       "      <td>95.4925</td>\n",
       "      <td>95.750</td>\n",
       "      <td>95.9975</td>\n",
       "      <td>96.5255</td>\n",
       "      <td>97.06</td>\n",
       "    </tr>\n",
       "    <tr>\n",
       "      <th>Close</th>\n",
       "      <td>30.0</td>\n",
       "      <td>95.942000</td>\n",
       "      <td>0.556017</td>\n",
       "      <td>94.79</td>\n",
       "      <td>95.0325</td>\n",
       "      <td>95.6600</td>\n",
       "      <td>95.960</td>\n",
       "      <td>96.2075</td>\n",
       "      <td>96.9305</td>\n",
       "      <td>97.27</td>\n",
       "    </tr>\n",
       "  </tbody>\n",
       "</table>\n",
       "</div>"
      ],
      "text/plain": [
       "       count       mean       std    min       5%      25%     50%      75%  \\\n",
       "Open    30.0  95.970333  0.542265  94.87  95.0710  95.6875  95.975  96.1975   \n",
       "High    30.0  96.217667  0.536564  95.02  95.3060  95.9125  96.265  96.3750   \n",
       "Low     30.0  95.715667  0.531936  94.63  94.7725  95.4925  95.750  95.9975   \n",
       "Close   30.0  95.942000  0.556017  94.79  95.0325  95.6600  95.960  96.2075   \n",
       "\n",
       "           95%    max  \n",
       "Open   96.9860  97.25  \n",
       "High   97.2955  97.44  \n",
       "Low    96.5255  97.06  \n",
       "Close  96.9305  97.27  "
      ]
     },
     "metadata": {},
     "output_type": "display_data"
    }
   ],
   "source": [
    "with pd.option_context('display.max_rows', 8):\n",
    "    # display(dxy.describe(include=[np.number]).T)\n",
    "\n",
    "    # refer\n",
    "    # result.describe(percentiles=[.01, .05, .1, .3, .4, .5, .6, .7, .8, .9, .95, .99])\n",
    "\n",
    "    display(tmp_dxy.describe(include=[np.number],\n",
    "            percentiles=[.05, .25, .5, .75, .95]).T)\n"
   ]
  },
  {
   "cell_type": "code",
   "execution_count": 34,
   "metadata": {},
   "outputs": [
    {
     "data": {
      "text/plain": [
       "Open     float64\n",
       "High     float64\n",
       "Low      float64\n",
       "Close    float64\n",
       "dtype: object"
      ]
     },
     "execution_count": 34,
     "metadata": {},
     "output_type": "execute_result"
    }
   ],
   "source": [
    "tmp_dxy.dtypes"
   ]
  },
  {
   "cell_type": "code",
   "execution_count": 33,
   "metadata": {},
   "outputs": [],
   "source": [
    "# tmp_dxy.describe(include=[object, pd.Categorical]).T"
   ]
  }
 ],
 "metadata": {
  "interpreter": {
   "hash": "f286ef182e6b807cc2e221ecf258f633461edf1c89db486e38c7dc82ac81346f"
  },
  "kernelspec": {
   "display_name": "Python 3.7.9 ('env': venv)",
   "language": "python",
   "name": "python3"
  },
  "language_info": {
   "codemirror_mode": {
    "name": "ipython",
    "version": 3
   },
   "file_extension": ".py",
   "mimetype": "text/x-python",
   "name": "python",
   "nbconvert_exporter": "python",
   "pygments_lexer": "ipython3",
   "version": "3.7.9"
  },
  "orig_nbformat": 4
 },
 "nbformat": 4,
 "nbformat_minor": 2
}
