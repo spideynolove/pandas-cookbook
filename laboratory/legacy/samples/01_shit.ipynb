{
 "cells": [
  {
   "cell_type": "code",
   "execution_count": 52,
   "metadata": {},
   "outputs": [],
   "source": [
    "import pandas as pd\n",
    "import numpy as np\n",
    "import pandas_datareader as pdr\n",
    "import investpy as iv\n",
    "import pandas_ta as ta\n",
    "pd.set_option('max_columns', 8, 'max_rows', 10, 'display.precision', 4)"
   ]
  },
  {
   "cell_type": "code",
   "execution_count": 53,
   "metadata": {},
   "outputs": [],
   "source": [
    "quotes = ('PHLX Australian Dollar', 'PHLX Canadian Dollar',\n",
    "          'PHLX Euro', 'PHLX Yen', 'PHLX New Zealand Dollar',\n",
    "          'PHLX Swiss Franc', 'PHLX British Pound',\n",
    "          'US Dollar Index')\n",
    "\n",
    "names = [quote.replace(' ', '_') for quote in quotes]\n",
    "# names"
   ]
  },
  {
   "cell_type": "code",
   "execution_count": 54,
   "metadata": {},
   "outputs": [],
   "source": [
    "def get_dataiv(filepath, index=0, parsed=True):\n",
    "    try:\n",
    "        data = pd.read_csv(filepath, index_col=index, parse_dates=parsed)\n",
    "        data.drop(['Volume'], axis=1, inplace=True) if 'Volume' in data_iv.columns else None\n",
    "        data.drop(['Currency'], axis=1, inplace=True) if 'Currency' in data_iv.columns else None\n",
    "    except FileNotFoundError:\n",
    "        print(\"File not found. Please check the filepath.\")\n",
    "    return data\n"
   ]
  },
  {
   "cell_type": "code",
   "execution_count": 55,
   "metadata": {},
   "outputs": [],
   "source": [
    "# 'Volume' in data_iv.columns"
   ]
  },
  {
   "cell_type": "code",
   "execution_count": 56,
   "metadata": {},
   "outputs": [],
   "source": [
    "# 'Currency' in data_iv.columns"
   ]
  },
  {
   "cell_type": "code",
   "execution_count": 57,
   "metadata": {},
   "outputs": [
    {
     "data": {
      "text/html": [
       "<div>\n",
       "<style scoped>\n",
       "    .dataframe tbody tr th:only-of-type {\n",
       "        vertical-align: middle;\n",
       "    }\n",
       "\n",
       "    .dataframe tbody tr th {\n",
       "        vertical-align: top;\n",
       "    }\n",
       "\n",
       "    .dataframe thead th {\n",
       "        text-align: right;\n",
       "    }\n",
       "</style>\n",
       "<table border=\"1\" class=\"dataframe\">\n",
       "  <thead>\n",
       "    <tr style=\"text-align: right;\">\n",
       "      <th></th>\n",
       "      <th>Open</th>\n",
       "      <th>High</th>\n",
       "      <th>Low</th>\n",
       "      <th>Close</th>\n",
       "    </tr>\n",
       "    <tr>\n",
       "      <th>Date</th>\n",
       "      <th></th>\n",
       "      <th></th>\n",
       "      <th></th>\n",
       "      <th></th>\n",
       "    </tr>\n",
       "  </thead>\n",
       "  <tbody>\n",
       "    <tr>\n",
       "      <th>2019-01-01</th>\n",
       "      <td>96.15</td>\n",
       "      <td>96.32</td>\n",
       "      <td>95.65</td>\n",
       "      <td>96.17</td>\n",
       "    </tr>\n",
       "    <tr>\n",
       "      <th>2019-01-02</th>\n",
       "      <td>96.14</td>\n",
       "      <td>96.96</td>\n",
       "      <td>95.82</td>\n",
       "      <td>96.82</td>\n",
       "    </tr>\n",
       "    <tr>\n",
       "      <th>2019-01-03</th>\n",
       "      <td>96.72</td>\n",
       "      <td>96.75</td>\n",
       "      <td>96.21</td>\n",
       "      <td>96.31</td>\n",
       "    </tr>\n",
       "    <tr>\n",
       "      <th>2019-01-04</th>\n",
       "      <td>96.28</td>\n",
       "      <td>96.61</td>\n",
       "      <td>96.05</td>\n",
       "      <td>96.18</td>\n",
       "    </tr>\n",
       "    <tr>\n",
       "      <th>2019-01-07</th>\n",
       "      <td>96.16</td>\n",
       "      <td>96.16</td>\n",
       "      <td>95.64</td>\n",
       "      <td>95.67</td>\n",
       "    </tr>\n",
       "    <tr>\n",
       "      <th>...</th>\n",
       "      <td>...</td>\n",
       "      <td>...</td>\n",
       "      <td>...</td>\n",
       "      <td>...</td>\n",
       "    </tr>\n",
       "    <tr>\n",
       "      <th>2022-01-28</th>\n",
       "      <td>97.25</td>\n",
       "      <td>97.44</td>\n",
       "      <td>97.06</td>\n",
       "      <td>97.27</td>\n",
       "    </tr>\n",
       "    <tr>\n",
       "      <th>2022-01-31</th>\n",
       "      <td>97.22</td>\n",
       "      <td>97.30</td>\n",
       "      <td>96.52</td>\n",
       "      <td>96.54</td>\n",
       "    </tr>\n",
       "    <tr>\n",
       "      <th>2022-02-01</th>\n",
       "      <td>96.70</td>\n",
       "      <td>96.72</td>\n",
       "      <td>96.24</td>\n",
       "      <td>96.39</td>\n",
       "    </tr>\n",
       "    <tr>\n",
       "      <th>2022-02-02</th>\n",
       "      <td>96.27</td>\n",
       "      <td>96.30</td>\n",
       "      <td>95.81</td>\n",
       "      <td>95.94</td>\n",
       "    </tr>\n",
       "    <tr>\n",
       "      <th>2022-02-03</th>\n",
       "      <td>96.02</td>\n",
       "      <td>96.25</td>\n",
       "      <td>95.24</td>\n",
       "      <td>95.38</td>\n",
       "    </tr>\n",
       "  </tbody>\n",
       "</table>\n",
       "<p>807 rows × 4 columns</p>\n",
       "</div>"
      ],
      "text/plain": [
       "             Open   High    Low  Close\n",
       "Date                                  \n",
       "2019-01-01  96.15  96.32  95.65  96.17\n",
       "2019-01-02  96.14  96.96  95.82  96.82\n",
       "2019-01-03  96.72  96.75  96.21  96.31\n",
       "2019-01-04  96.28  96.61  96.05  96.18\n",
       "2019-01-07  96.16  96.16  95.64  95.67\n",
       "...           ...    ...    ...    ...\n",
       "2022-01-28  97.25  97.44  97.06  97.27\n",
       "2022-01-31  97.22  97.30  96.52  96.54\n",
       "2022-02-01  96.70  96.72  96.24  96.39\n",
       "2022-02-02  96.27  96.30  95.81  95.94\n",
       "2022-02-03  96.02  96.25  95.24  95.38\n",
       "\n",
       "[807 rows x 4 columns]"
      ]
     },
     "execution_count": 57,
     "metadata": {},
     "output_type": "execute_result"
    }
   ],
   "source": [
    "df = get_dataiv(f'..\\\\cookbook_data\\\\owndata\\\\{names[-1]}_iv.csv')\n",
    "df"
   ]
  },
  {
   "cell_type": "code",
   "execution_count": 58,
   "metadata": {},
   "outputs": [],
   "source": [
    "# data_iv = pd.read_csv(f'..\\\\cookbook_data\\\\owndata\\\\{names[-1]}_iv.csv')\n",
    "# data_iv.tail()"
   ]
  },
  {
   "cell_type": "code",
   "execution_count": 59,
   "metadata": {},
   "outputs": [
    {
     "data": {
      "text/plain": [
       "((807, 4),\n",
       " Index(['Open', 'High', 'Low', 'Close'], dtype='object'),\n",
       " DatetimeIndex(['2019-01-01', '2019-01-02', '2019-01-03', '2019-01-04',\n",
       "                '2019-01-07', '2019-01-08', '2019-01-09', '2019-01-10',\n",
       "                '2019-01-11', '2019-01-14',\n",
       "                ...\n",
       "                '2022-01-21', '2022-01-24', '2022-01-25', '2022-01-26',\n",
       "                '2022-01-27', '2022-01-28', '2022-01-31', '2022-02-01',\n",
       "                '2022-02-02', '2022-02-03'],\n",
       "               dtype='datetime64[ns]', name='Date', length=807, freq=None))"
      ]
     },
     "execution_count": 59,
     "metadata": {},
     "output_type": "execute_result"
    }
   ],
   "source": [
    "df.shape, df.columns, df.index"
   ]
  },
  {
   "cell_type": "code",
   "execution_count": 60,
   "metadata": {},
   "outputs": [],
   "source": [
    "# df.info()\n",
    "# df.describe()"
   ]
  },
  {
   "cell_type": "code",
   "execution_count": 61,
   "metadata": {},
   "outputs": [
    {
     "data": {
      "text/plain": [
       "Open     float64\n",
       "High     float64\n",
       "Low      float64\n",
       "Close    float64\n",
       "dtype: object"
      ]
     },
     "execution_count": 61,
     "metadata": {},
     "output_type": "execute_result"
    }
   ],
   "source": [
    "df.dtypes"
   ]
  },
  {
   "cell_type": "code",
   "execution_count": 62,
   "metadata": {},
   "outputs": [
    {
     "data": {
      "text/plain": [
       "float64    4\n",
       "dtype: int64"
      ]
     },
     "execution_count": 62,
     "metadata": {},
     "output_type": "execute_result"
    }
   ],
   "source": [
    "df.dtypes.value_counts()"
   ]
  },
  {
   "cell_type": "code",
   "execution_count": 63,
   "metadata": {},
   "outputs": [
    {
     "data": {
      "text/plain": [
       "(pandas.core.series.Series, 'Close')"
      ]
     },
     "execution_count": 63,
     "metadata": {},
     "output_type": "execute_result"
    }
   ],
   "source": [
    "close = df['Close']\n",
    "type(close), close.name"
   ]
  },
  {
   "cell_type": "code",
   "execution_count": 64,
   "metadata": {},
   "outputs": [
    {
     "data": {
      "text/plain": [
       "pandas.core.frame.DataFrame"
      ]
     },
     "execution_count": 64,
     "metadata": {},
     "output_type": "execute_result"
    }
   ],
   "source": [
    "to_dframe = close.to_frame()\n",
    "type(to_dframe)"
   ]
  },
  {
   "cell_type": "code",
   "execution_count": 65,
   "metadata": {},
   "outputs": [
    {
     "data": {
      "text/html": [
       "<div>\n",
       "<style scoped>\n",
       "    .dataframe tbody tr th:only-of-type {\n",
       "        vertical-align: middle;\n",
       "    }\n",
       "\n",
       "    .dataframe tbody tr th {\n",
       "        vertical-align: top;\n",
       "    }\n",
       "\n",
       "    .dataframe thead th {\n",
       "        text-align: right;\n",
       "    }\n",
       "</style>\n",
       "<table border=\"1\" class=\"dataframe\">\n",
       "  <thead>\n",
       "    <tr style=\"text-align: right;\">\n",
       "      <th></th>\n",
       "      <th>Close</th>\n",
       "    </tr>\n",
       "    <tr>\n",
       "      <th>Date</th>\n",
       "      <th></th>\n",
       "    </tr>\n",
       "  </thead>\n",
       "  <tbody>\n",
       "    <tr>\n",
       "      <th>2022-01-28</th>\n",
       "      <td>97.27</td>\n",
       "    </tr>\n",
       "    <tr>\n",
       "      <th>2022-01-31</th>\n",
       "      <td>96.54</td>\n",
       "    </tr>\n",
       "    <tr>\n",
       "      <th>2022-02-01</th>\n",
       "      <td>96.39</td>\n",
       "    </tr>\n",
       "    <tr>\n",
       "      <th>2022-02-02</th>\n",
       "      <td>95.94</td>\n",
       "    </tr>\n",
       "    <tr>\n",
       "      <th>2022-02-03</th>\n",
       "      <td>95.38</td>\n",
       "    </tr>\n",
       "  </tbody>\n",
       "</table>\n",
       "</div>"
      ],
      "text/plain": [
       "            Close\n",
       "Date             \n",
       "2022-01-28  97.27\n",
       "2022-01-31  96.54\n",
       "2022-02-01  96.39\n",
       "2022-02-02  95.94\n",
       "2022-02-03  95.38"
      ]
     },
     "execution_count": 65,
     "metadata": {},
     "output_type": "execute_result"
    }
   ],
   "source": [
    "to_dframe.tail()"
   ]
  },
  {
   "cell_type": "markdown",
   "metadata": {},
   "source": [
    "#### some common functions, prop:\n",
    "- head, tail, drop, to_frame, value_counts, count, describe, quantile, fillna, \n",
    "- size, shape, dtypes, columns, index"
   ]
  },
  {
   "cell_type": "code",
   "execution_count": 66,
   "metadata": {},
   "outputs": [
    {
     "data": {
      "text/plain": [
       "False"
      ]
     },
     "execution_count": 66,
     "metadata": {},
     "output_type": "execute_result"
    }
   ],
   "source": [
    "close.hasnans"
   ]
  },
  {
   "cell_type": "code",
   "execution_count": 67,
   "metadata": {},
   "outputs": [
    {
     "data": {
      "text/html": [
       "<div>\n",
       "<style scoped>\n",
       "    .dataframe tbody tr th:only-of-type {\n",
       "        vertical-align: middle;\n",
       "    }\n",
       "\n",
       "    .dataframe tbody tr th {\n",
       "        vertical-align: top;\n",
       "    }\n",
       "\n",
       "    .dataframe thead th {\n",
       "        text-align: right;\n",
       "    }\n",
       "</style>\n",
       "<table border=\"1\" class=\"dataframe\">\n",
       "  <thead>\n",
       "    <tr style=\"text-align: right;\">\n",
       "      <th></th>\n",
       "      <th>Open</th>\n",
       "      <th>High</th>\n",
       "      <th>Low</th>\n",
       "      <th>Close</th>\n",
       "      <th>wma</th>\n",
       "    </tr>\n",
       "    <tr>\n",
       "      <th>Date</th>\n",
       "      <th></th>\n",
       "      <th></th>\n",
       "      <th></th>\n",
       "      <th></th>\n",
       "      <th></th>\n",
       "    </tr>\n",
       "  </thead>\n",
       "  <tbody>\n",
       "    <tr>\n",
       "      <th>2019-01-14</th>\n",
       "      <td>95.65</td>\n",
       "      <td>95.72</td>\n",
       "      <td>95.48</td>\n",
       "      <td>95.61</td>\n",
       "      <td>95.7309</td>\n",
       "    </tr>\n",
       "    <tr>\n",
       "      <th>2019-01-15</th>\n",
       "      <td>95.57</td>\n",
       "      <td>96.26</td>\n",
       "      <td>95.47</td>\n",
       "      <td>96.04</td>\n",
       "      <td>95.7547</td>\n",
       "    </tr>\n",
       "    <tr>\n",
       "      <th>2019-01-16</th>\n",
       "      <td>95.94</td>\n",
       "      <td>96.18</td>\n",
       "      <td>95.86</td>\n",
       "      <td>96.06</td>\n",
       "      <td>95.7845</td>\n",
       "    </tr>\n",
       "    <tr>\n",
       "      <th>2019-01-17</th>\n",
       "      <td>96.07</td>\n",
       "      <td>96.26</td>\n",
       "      <td>95.98</td>\n",
       "      <td>96.06</td>\n",
       "      <td>95.8282</td>\n",
       "    </tr>\n",
       "    <tr>\n",
       "      <th>2019-01-18</th>\n",
       "      <td>96.07</td>\n",
       "      <td>96.39</td>\n",
       "      <td>96.01</td>\n",
       "      <td>96.34</td>\n",
       "      <td>95.9273</td>\n",
       "    </tr>\n",
       "    <tr>\n",
       "      <th>...</th>\n",
       "      <td>...</td>\n",
       "      <td>...</td>\n",
       "      <td>...</td>\n",
       "      <td>...</td>\n",
       "      <td>...</td>\n",
       "    </tr>\n",
       "    <tr>\n",
       "      <th>2022-01-28</th>\n",
       "      <td>97.25</td>\n",
       "      <td>97.44</td>\n",
       "      <td>97.06</td>\n",
       "      <td>97.27</td>\n",
       "      <td>96.3755</td>\n",
       "    </tr>\n",
       "    <tr>\n",
       "      <th>2022-01-31</th>\n",
       "      <td>97.22</td>\n",
       "      <td>97.30</td>\n",
       "      <td>96.52</td>\n",
       "      <td>96.54</td>\n",
       "      <td>96.4616</td>\n",
       "    </tr>\n",
       "    <tr>\n",
       "      <th>2022-02-01</th>\n",
       "      <td>96.70</td>\n",
       "      <td>96.72</td>\n",
       "      <td>96.24</td>\n",
       "      <td>96.39</td>\n",
       "      <td>96.4973</td>\n",
       "    </tr>\n",
       "    <tr>\n",
       "      <th>2022-02-02</th>\n",
       "      <td>96.27</td>\n",
       "      <td>96.30</td>\n",
       "      <td>95.81</td>\n",
       "      <td>95.94</td>\n",
       "      <td>96.4391</td>\n",
       "    </tr>\n",
       "    <tr>\n",
       "      <th>2022-02-03</th>\n",
       "      <td>96.02</td>\n",
       "      <td>96.25</td>\n",
       "      <td>95.24</td>\n",
       "      <td>95.38</td>\n",
       "      <td>96.2713</td>\n",
       "    </tr>\n",
       "  </tbody>\n",
       "</table>\n",
       "<p>798 rows × 5 columns</p>\n",
       "</div>"
      ],
      "text/plain": [
       "             Open   High    Low  Close      wma\n",
       "Date                                           \n",
       "2019-01-14  95.65  95.72  95.48  95.61  95.7309\n",
       "2019-01-15  95.57  96.26  95.47  96.04  95.7547\n",
       "2019-01-16  95.94  96.18  95.86  96.06  95.7845\n",
       "2019-01-17  96.07  96.26  95.98  96.06  95.8282\n",
       "2019-01-18  96.07  96.39  96.01  96.34  95.9273\n",
       "...           ...    ...    ...    ...      ...\n",
       "2022-01-28  97.25  97.44  97.06  97.27  96.3755\n",
       "2022-01-31  97.22  97.30  96.52  96.54  96.4616\n",
       "2022-02-01  96.70  96.72  96.24  96.39  96.4973\n",
       "2022-02-02  96.27  96.30  95.81  95.94  96.4391\n",
       "2022-02-03  96.02  96.25  95.24  95.38  96.2713\n",
       "\n",
       "[798 rows x 5 columns]"
      ]
     },
     "execution_count": 67,
     "metadata": {},
     "output_type": "execute_result"
    }
   ],
   "source": [
    "df['wma'] = ta.wma(close, timeperiod=20)\n",
    "df.dropna(inplace=True)\n",
    "df"
   ]
  },
  {
   "cell_type": "code",
   "execution_count": 68,
   "metadata": {},
   "outputs": [
    {
     "data": {
      "text/plain": [
       "Date\n",
       "2019-01-14    191.3409\n",
       "2019-01-15    191.7947\n",
       "2019-01-16    191.8445\n",
       "2019-01-17    191.8882\n",
       "2019-01-18    192.2673\n",
       "                ...   \n",
       "2022-01-28    193.6455\n",
       "2022-01-31    193.0016\n",
       "2022-02-01    192.8873\n",
       "2022-02-02    192.3791\n",
       "2022-02-03    191.6513\n",
       "Length: 798, dtype: float64"
      ]
     },
     "execution_count": 68,
     "metadata": {},
     "output_type": "execute_result"
    }
   ],
   "source": [
    "df.Close.add(data_iv.wma)"
   ]
  },
  {
   "cell_type": "code",
   "execution_count": 69,
   "metadata": {},
   "outputs": [
    {
     "data": {
      "text/html": [
       "<div>\n",
       "<style scoped>\n",
       "    .dataframe tbody tr th:only-of-type {\n",
       "        vertical-align: middle;\n",
       "    }\n",
       "\n",
       "    .dataframe tbody tr th {\n",
       "        vertical-align: top;\n",
       "    }\n",
       "\n",
       "    .dataframe thead th {\n",
       "        text-align: right;\n",
       "    }\n",
       "</style>\n",
       "<table border=\"1\" class=\"dataframe\">\n",
       "  <thead>\n",
       "    <tr style=\"text-align: right;\">\n",
       "      <th></th>\n",
       "      <th>Open</th>\n",
       "      <th>High</th>\n",
       "      <th>Low</th>\n",
       "      <th>Close</th>\n",
       "      <th>wma</th>\n",
       "      <th>Square</th>\n",
       "      <th>M_Square</th>\n",
       "    </tr>\n",
       "    <tr>\n",
       "      <th>Date</th>\n",
       "      <th></th>\n",
       "      <th></th>\n",
       "      <th></th>\n",
       "      <th></th>\n",
       "      <th></th>\n",
       "      <th></th>\n",
       "      <th></th>\n",
       "    </tr>\n",
       "  </thead>\n",
       "  <tbody>\n",
       "    <tr>\n",
       "      <th>2019-01-14</th>\n",
       "      <td>95.65</td>\n",
       "      <td>95.72</td>\n",
       "      <td>95.48</td>\n",
       "      <td>95.61</td>\n",
       "      <td>95.7309</td>\n",
       "      <td>9.7811</td>\n",
       "      <td>False</td>\n",
       "    </tr>\n",
       "    <tr>\n",
       "      <th>2019-01-15</th>\n",
       "      <td>95.57</td>\n",
       "      <td>96.26</td>\n",
       "      <td>95.47</td>\n",
       "      <td>96.04</td>\n",
       "      <td>95.7547</td>\n",
       "      <td>9.7927</td>\n",
       "      <td>True</td>\n",
       "    </tr>\n",
       "    <tr>\n",
       "      <th>2019-01-16</th>\n",
       "      <td>95.94</td>\n",
       "      <td>96.18</td>\n",
       "      <td>95.86</td>\n",
       "      <td>96.06</td>\n",
       "      <td>95.7845</td>\n",
       "      <td>9.7940</td>\n",
       "      <td>True</td>\n",
       "    </tr>\n",
       "    <tr>\n",
       "      <th>2019-01-17</th>\n",
       "      <td>96.07</td>\n",
       "      <td>96.26</td>\n",
       "      <td>95.98</td>\n",
       "      <td>96.06</td>\n",
       "      <td>95.8282</td>\n",
       "      <td>9.7951</td>\n",
       "      <td>True</td>\n",
       "    </tr>\n",
       "    <tr>\n",
       "      <th>2019-01-18</th>\n",
       "      <td>96.07</td>\n",
       "      <td>96.39</td>\n",
       "      <td>96.01</td>\n",
       "      <td>96.34</td>\n",
       "      <td>95.9273</td>\n",
       "      <td>9.8048</td>\n",
       "      <td>True</td>\n",
       "    </tr>\n",
       "    <tr>\n",
       "      <th>...</th>\n",
       "      <td>...</td>\n",
       "      <td>...</td>\n",
       "      <td>...</td>\n",
       "      <td>...</td>\n",
       "      <td>...</td>\n",
       "      <td>...</td>\n",
       "      <td>...</td>\n",
       "    </tr>\n",
       "    <tr>\n",
       "      <th>2022-01-28</th>\n",
       "      <td>97.25</td>\n",
       "      <td>97.44</td>\n",
       "      <td>97.06</td>\n",
       "      <td>97.27</td>\n",
       "      <td>96.3755</td>\n",
       "      <td>9.8398</td>\n",
       "      <td>True</td>\n",
       "    </tr>\n",
       "    <tr>\n",
       "      <th>2022-01-31</th>\n",
       "      <td>97.22</td>\n",
       "      <td>97.30</td>\n",
       "      <td>96.52</td>\n",
       "      <td>96.54</td>\n",
       "      <td>96.4616</td>\n",
       "      <td>9.8235</td>\n",
       "      <td>True</td>\n",
       "    </tr>\n",
       "    <tr>\n",
       "      <th>2022-02-01</th>\n",
       "      <td>96.70</td>\n",
       "      <td>96.72</td>\n",
       "      <td>96.24</td>\n",
       "      <td>96.39</td>\n",
       "      <td>96.4973</td>\n",
       "      <td>9.8206</td>\n",
       "      <td>False</td>\n",
       "    </tr>\n",
       "    <tr>\n",
       "      <th>2022-02-02</th>\n",
       "      <td>96.27</td>\n",
       "      <td>96.30</td>\n",
       "      <td>95.81</td>\n",
       "      <td>95.94</td>\n",
       "      <td>96.4391</td>\n",
       "      <td>9.8076</td>\n",
       "      <td>False</td>\n",
       "    </tr>\n",
       "    <tr>\n",
       "      <th>2022-02-03</th>\n",
       "      <td>96.02</td>\n",
       "      <td>96.25</td>\n",
       "      <td>95.24</td>\n",
       "      <td>95.38</td>\n",
       "      <td>96.2713</td>\n",
       "      <td>9.7890</td>\n",
       "      <td>False</td>\n",
       "    </tr>\n",
       "  </tbody>\n",
       "</table>\n",
       "<p>798 rows × 7 columns</p>\n",
       "</div>"
      ],
      "text/plain": [
       "             Open   High    Low  Close      wma  Square  M_Square\n",
       "Date                                                             \n",
       "2019-01-14  95.65  95.72  95.48  95.61  95.7309  9.7811     False\n",
       "2019-01-15  95.57  96.26  95.47  96.04  95.7547  9.7927      True\n",
       "2019-01-16  95.94  96.18  95.86  96.06  95.7845  9.7940      True\n",
       "2019-01-17  96.07  96.26  95.98  96.06  95.8282  9.7951      True\n",
       "2019-01-18  96.07  96.39  96.01  96.34  95.9273  9.8048      True\n",
       "...           ...    ...    ...    ...      ...     ...       ...\n",
       "2022-01-28  97.25  97.44  97.06  97.27  96.3755  9.8398      True\n",
       "2022-01-31  97.22  97.30  96.52  96.54  96.4616  9.8235      True\n",
       "2022-02-01  96.70  96.72  96.24  96.39  96.4973  9.8206     False\n",
       "2022-02-02  96.27  96.30  95.81  95.94  96.4391  9.8076     False\n",
       "2022-02-03  96.02  96.25  95.24  95.38  96.2713  9.7890     False\n",
       "\n",
       "[798 rows x 7 columns]"
      ]
     },
     "execution_count": 69,
     "metadata": {},
     "output_type": "execute_result"
    }
   ],
   "source": [
    "df['Square'] = df.Close.mul(df.wma).pow(0.25)\n",
    "df['M_Square'] = df.Close.pow(0.5).ge(df.Square)\n",
    "df"
   ]
  }
 ],
 "metadata": {
  "interpreter": {
   "hash": "f286ef182e6b807cc2e221ecf258f633461edf1c89db486e38c7dc82ac81346f"
  },
  "kernelspec": {
   "display_name": "Python 3.7.9 ('env': venv)",
   "language": "python",
   "name": "python3"
  },
  "language_info": {
   "codemirror_mode": {
    "name": "ipython",
    "version": 3
   },
   "file_extension": ".py",
   "mimetype": "text/x-python",
   "name": "python",
   "nbconvert_exporter": "python",
   "pygments_lexer": "ipython3",
   "version": "3.7.9"
  },
  "orig_nbformat": 4
 },
 "nbformat": 4,
 "nbformat_minor": 2
}
