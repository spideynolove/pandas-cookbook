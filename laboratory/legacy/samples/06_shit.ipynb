{
 "cells": [
  {
   "cell_type": "markdown",
   "metadata": {},
   "source": [
    "# Index Alignment"
   ]
  },
  {
   "cell_type": "markdown",
   "metadata": {},
   "source": [
    "- Index object\n",
    "- Cartesian products\n",
    "- Exploding object\n",
    "- Filling values with unequal indexes\n",
    "- Appending columns from different DataFrames\n",
    "- Highlighting the maximum value from each column\n",
    "- Replicating idxmax with method chaining\n",
    "- Finding the most common maximum"
   ]
  }
 ],
 "metadata": {
  "interpreter": {
   "hash": "f286ef182e6b807cc2e221ecf258f633461edf1c89db486e38c7dc82ac81346f"
  },
  "kernelspec": {
   "display_name": "Python 3.7.9 ('env': venv)",
   "language": "python",
   "name": "python3"
  },
  "language_info": {
   "name": "python",
   "version": "3.7.9"
  },
  "orig_nbformat": 4
 },
 "nbformat": 4,
 "nbformat_minor": 2
}
