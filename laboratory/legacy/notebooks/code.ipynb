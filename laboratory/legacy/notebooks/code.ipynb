{
 "cells": [
  {
   "cell_type": "markdown",
   "metadata": {},
   "source": [
    "# Auto pull data from currency meter"
   ]
  },
  {
   "cell_type": "code",
   "execution_count": 17,
   "metadata": {},
   "outputs": [],
   "source": [
    "import requests as rq\n",
    "import pandas as pd\n",
    "import json\n",
    "import matplotlib.pyplot as plt\n",
    "from bs4 import BeautifulSoup\n",
    "from datetime import datetime"
   ]
  },
  {
   "cell_type": "markdown",
   "metadata": {},
   "source": [
    "#### pull part"
   ]
  },
  {
   "cell_type": "code",
   "execution_count": 18,
   "metadata": {},
   "outputs": [],
   "source": [
    "r = rq.get('https://currency-strength.com/php/chart1d.json')\n",
    "my_json = r.content.decode('utf8')\n",
    "data = json.loads(my_json)"
   ]
  },
  {
   "cell_type": "code",
   "execution_count": 19,
   "metadata": {},
   "outputs": [],
   "source": [
    "# with open('../cookbook_data/owndata/currency_meter.json', 'w') as f:\n",
    "#     json.dump(data, f)"
   ]
  },
  {
   "cell_type": "markdown",
   "metadata": {},
   "source": [
    "#### read part"
   ]
  },
  {
   "cell_type": "code",
   "execution_count": 20,
   "metadata": {},
   "outputs": [],
   "source": [
    "# # each time pull have a specific file name then save to DB\n",
    "# with open('../cookbook_data/owndata/currency_meter.json') as f:\n",
    "#     data = json.load(f)"
   ]
  },
  {
   "cell_type": "code",
   "execution_count": 21,
   "metadata": {},
   "outputs": [
    {
     "data": {
      "text/html": [
       "<div>\n",
       "<style scoped>\n",
       "    .dataframe tbody tr th:only-of-type {\n",
       "        vertical-align: middle;\n",
       "    }\n",
       "\n",
       "    .dataframe tbody tr th {\n",
       "        vertical-align: top;\n",
       "    }\n",
       "\n",
       "    .dataframe thead th {\n",
       "        text-align: right;\n",
       "    }\n",
       "</style>\n",
       "<table border=\"1\" class=\"dataframe\">\n",
       "  <thead>\n",
       "    <tr style=\"text-align: right;\">\n",
       "      <th></th>\n",
       "      <th>USD</th>\n",
       "      <th>EUR</th>\n",
       "      <th>JPY</th>\n",
       "      <th>GBP</th>\n",
       "      <th>AUD</th>\n",
       "      <th>CHF</th>\n",
       "      <th>CAD</th>\n",
       "      <th>NZD</th>\n",
       "    </tr>\n",
       "    <tr>\n",
       "      <th>Date</th>\n",
       "      <th></th>\n",
       "      <th></th>\n",
       "      <th></th>\n",
       "      <th></th>\n",
       "      <th></th>\n",
       "      <th></th>\n",
       "      <th></th>\n",
       "      <th></th>\n",
       "    </tr>\n",
       "  </thead>\n",
       "  <tbody>\n",
       "    <tr>\n",
       "      <th>2022-02-24 05:00:00</th>\n",
       "      <td>0.00</td>\n",
       "      <td>0.00</td>\n",
       "      <td>0.00</td>\n",
       "      <td>0.00</td>\n",
       "      <td>0.00</td>\n",
       "      <td>0.00</td>\n",
       "      <td>0.00</td>\n",
       "      <td>0.00</td>\n",
       "    </tr>\n",
       "    <tr>\n",
       "      <th>2022-02-24 05:05:00</th>\n",
       "      <td>-0.20</td>\n",
       "      <td>5.16</td>\n",
       "      <td>1.89</td>\n",
       "      <td>1.07</td>\n",
       "      <td>-4.30</td>\n",
       "      <td>7.40</td>\n",
       "      <td>1.33</td>\n",
       "      <td>-12.35</td>\n",
       "    </tr>\n",
       "    <tr>\n",
       "      <th>2022-02-24 05:10:00</th>\n",
       "      <td>-0.39</td>\n",
       "      <td>4.87</td>\n",
       "      <td>1.30</td>\n",
       "      <td>0.46</td>\n",
       "      <td>-4.50</td>\n",
       "      <td>7.21</td>\n",
       "      <td>2.75</td>\n",
       "      <td>-11.70</td>\n",
       "    </tr>\n",
       "    <tr>\n",
       "      <th>2022-02-24 05:15:00</th>\n",
       "      <td>-1.28</td>\n",
       "      <td>1.15</td>\n",
       "      <td>1.10</td>\n",
       "      <td>-1.28</td>\n",
       "      <td>-5.39</td>\n",
       "      <td>9.15</td>\n",
       "      <td>2.22</td>\n",
       "      <td>-5.67</td>\n",
       "    </tr>\n",
       "    <tr>\n",
       "      <th>2022-02-24 05:20:00</th>\n",
       "      <td>-0.16</td>\n",
       "      <td>2.87</td>\n",
       "      <td>1.13</td>\n",
       "      <td>-0.16</td>\n",
       "      <td>-3.48</td>\n",
       "      <td>4.69</td>\n",
       "      <td>1.54</td>\n",
       "      <td>-6.41</td>\n",
       "    </tr>\n",
       "    <tr>\n",
       "      <th>...</th>\n",
       "      <td>...</td>\n",
       "      <td>...</td>\n",
       "      <td>...</td>\n",
       "      <td>...</td>\n",
       "      <td>...</td>\n",
       "      <td>...</td>\n",
       "      <td>...</td>\n",
       "      <td>...</td>\n",
       "    </tr>\n",
       "    <tr>\n",
       "      <th>2022-02-25 00:10:00</th>\n",
       "      <td>121.77</td>\n",
       "      <td>-41.99</td>\n",
       "      <td>76.94</td>\n",
       "      <td>-51.34</td>\n",
       "      <td>-48.43</td>\n",
       "      <td>15.85</td>\n",
       "      <td>19.74</td>\n",
       "      <td>-92.55</td>\n",
       "    </tr>\n",
       "    <tr>\n",
       "      <th>2022-02-25 00:15:00</th>\n",
       "      <td>115.11</td>\n",
       "      <td>-42.90</td>\n",
       "      <td>81.28</td>\n",
       "      <td>-47.37</td>\n",
       "      <td>-47.87</td>\n",
       "      <td>20.67</td>\n",
       "      <td>12.02</td>\n",
       "      <td>-90.95</td>\n",
       "    </tr>\n",
       "    <tr>\n",
       "      <th>2022-02-25 00:20:00</th>\n",
       "      <td>115.12</td>\n",
       "      <td>-44.74</td>\n",
       "      <td>78.91</td>\n",
       "      <td>-49.76</td>\n",
       "      <td>-48.50</td>\n",
       "      <td>23.76</td>\n",
       "      <td>17.18</td>\n",
       "      <td>-91.97</td>\n",
       "    </tr>\n",
       "    <tr>\n",
       "      <th>2022-02-25 00:25:00</th>\n",
       "      <td>112.81</td>\n",
       "      <td>-45.61</td>\n",
       "      <td>82.74</td>\n",
       "      <td>-46.59</td>\n",
       "      <td>-49.21</td>\n",
       "      <td>25.04</td>\n",
       "      <td>14.07</td>\n",
       "      <td>-93.25</td>\n",
       "    </tr>\n",
       "    <tr>\n",
       "      <th>2022-02-25 00:30:00</th>\n",
       "      <td>104.02</td>\n",
       "      <td>-33.10</td>\n",
       "      <td>76.92</td>\n",
       "      <td>-45.12</td>\n",
       "      <td>-46.62</td>\n",
       "      <td>24.27</td>\n",
       "      <td>9.82</td>\n",
       "      <td>-90.19</td>\n",
       "    </tr>\n",
       "  </tbody>\n",
       "</table>\n",
       "<p>235 rows × 8 columns</p>\n",
       "</div>"
      ],
      "text/plain": [
       "                        USD    EUR    JPY    GBP    AUD    CHF    CAD    NZD\n",
       "Date                                                                        \n",
       "2022-02-24 05:00:00    0.00   0.00   0.00   0.00   0.00   0.00   0.00   0.00\n",
       "2022-02-24 05:05:00   -0.20   5.16   1.89   1.07  -4.30   7.40   1.33 -12.35\n",
       "2022-02-24 05:10:00   -0.39   4.87   1.30   0.46  -4.50   7.21   2.75 -11.70\n",
       "2022-02-24 05:15:00   -1.28   1.15   1.10  -1.28  -5.39   9.15   2.22  -5.67\n",
       "2022-02-24 05:20:00   -0.16   2.87   1.13  -0.16  -3.48   4.69   1.54  -6.41\n",
       "...                     ...    ...    ...    ...    ...    ...    ...    ...\n",
       "2022-02-25 00:10:00  121.77 -41.99  76.94 -51.34 -48.43  15.85  19.74 -92.55\n",
       "2022-02-25 00:15:00  115.11 -42.90  81.28 -47.37 -47.87  20.67  12.02 -90.95\n",
       "2022-02-25 00:20:00  115.12 -44.74  78.91 -49.76 -48.50  23.76  17.18 -91.97\n",
       "2022-02-25 00:25:00  112.81 -45.61  82.74 -46.59 -49.21  25.04  14.07 -93.25\n",
       "2022-02-25 00:30:00  104.02 -33.10  76.92 -45.12 -46.62  24.27   9.82 -90.19\n",
       "\n",
       "[235 rows x 8 columns]"
      ]
     },
     "execution_count": 21,
     "metadata": {},
     "output_type": "execute_result"
    }
   ],
   "source": [
    "list_df = list()\n",
    "for i in range(len(data)):\n",
    "    df = pd.DataFrame.from_dict(data[i])\n",
    "    new_df = pd.DataFrame(df['values'].to_list(), columns=['Date', data[i]['key']])\n",
    "    new_df['Date'] = new_df['Date'].apply(lambda d: datetime.fromtimestamp(d/1000.0))\n",
    "    new_df.set_index('Date', inplace=True)\n",
    "    list_df.append(new_df)\n",
    "\n",
    "results = pd.concat(list_df, axis=1, ignore_index=False)\n",
    "results = results.apply(pd.to_numeric)\n",
    "# results.plot(figsize=(20,12))\n",
    "results"
   ]
  },
  {
   "cell_type": "code",
   "execution_count": 22,
   "metadata": {},
   "outputs": [],
   "source": [
    "# results.to_csv('../cookbook_data/owndata/currency_meter.csv')"
   ]
  },
  {
   "cell_type": "code",
   "execution_count": 23,
   "metadata": {},
   "outputs": [
    {
     "data": {
      "text/plain": [
       "DatetimeIndex(['2022-02-24 05:00:00', '2022-02-24 05:05:00',\n",
       "               '2022-02-24 05:10:00', '2022-02-24 05:15:00',\n",
       "               '2022-02-24 05:20:00', '2022-02-24 05:25:00',\n",
       "               '2022-02-24 05:30:00', '2022-02-24 05:35:00',\n",
       "               '2022-02-24 05:40:00', '2022-02-24 05:45:00',\n",
       "               ...\n",
       "               '2022-02-24 23:45:00', '2022-02-24 23:50:00',\n",
       "               '2022-02-24 23:55:00', '2022-02-25 00:00:00',\n",
       "               '2022-02-25 00:05:00', '2022-02-25 00:10:00',\n",
       "               '2022-02-25 00:15:00', '2022-02-25 00:20:00',\n",
       "               '2022-02-25 00:25:00', '2022-02-25 00:30:00'],\n",
       "              dtype='datetime64[ns]', name='Date', length=235, freq=None)"
      ]
     },
     "execution_count": 23,
     "metadata": {},
     "output_type": "execute_result"
    }
   ],
   "source": [
    "results.index"
   ]
  }
 ],
 "metadata": {
  "interpreter": {
   "hash": "f286ef182e6b807cc2e221ecf258f633461edf1c89db486e38c7dc82ac81346f"
  },
  "kernelspec": {
   "display_name": "Python 3.7.9 ('env': venv)",
   "language": "python",
   "name": "python3"
  },
  "language_info": {
   "codemirror_mode": {
    "name": "ipython",
    "version": 3
   },
   "file_extension": ".py",
   "mimetype": "text/x-python",
   "name": "python",
   "nbconvert_exporter": "python",
   "pygments_lexer": "ipython3",
   "version": "3.7.9"
  },
  "orig_nbformat": 4
 },
 "nbformat": 4,
 "nbformat_minor": 2
}
