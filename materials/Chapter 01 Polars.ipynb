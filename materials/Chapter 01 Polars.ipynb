{
 "cells": [
  {
   "cell_type": "markdown",
   "metadata": {},
   "source": [
    "# Chapter 1: Pandas Foundations\n",
    "\n",
    "## Recipes\n",
    "* [Dissecting the anatomy of a DataFrame](#Dissecting-the-anatomy-of-a-DataFrame)\n",
    "* [Accessing the main DataFrame components](#Accessing-the-main-DataFrame-components)\n",
    "* [Understanding data types](#Understanding-data-types)\n",
    "* [Selecting a single column of data as a Series](#Selecting-a-single-column-of-data-as-a-Series)\n",
    "* [Calling Series methods](#Calling-Series-methods)\n",
    "* [Working with operators on a Series](#Working-with-operators-on-a-Series)\n",
    "* [Chaining Series methods together](#Chaining-Series-methods-together)\n",
    "* [Making the index meaningful](#Making-the-index-meaningful)\n",
    "* [Renaming row and column names](#Renaming-row-and-column-names)\n",
    "* [Creating and deleting columns](#Creating-and-deleting-columns)"
   ]
  },
  {
   "cell_type": "code",
   "execution_count": 142,
   "metadata": {
    "collapsed": true
   },
   "outputs": [],
   "source": [
    "import pandas as pd\n",
    "import polars as pl\n",
    "import numpy as np\n",
    "import time"
   ]
  },
  {
   "cell_type": "markdown",
   "metadata": {},
   "source": [
    "# Dissecting the anatomy of a DataFrame"
   ]
  },
  {
   "cell_type": "markdown",
   "metadata": {},
   "source": [
    "#### Change options to get specific output for book"
   ]
  },
  {
   "cell_type": "code",
   "execution_count": 143,
   "metadata": {
    "collapsed": true
   },
   "outputs": [],
   "source": [
    "pd.set_option('display.max_columns', 8)\n",
    "pd.set_option('display.max_rows', 10)\n",
    "\n",
    "# pl.config.set_option('max_columns', 8)\n",
    "# pl.config.set_option('max_rows', 30)"
   ]
  },
  {
   "cell_type": "code",
   "execution_count": 144,
   "metadata": {},
   "outputs": [
    {
     "name": "stdout",
     "output_type": "stream",
     "text": [
      "Execution time for Pandas: 0.04725837707519531\n"
     ]
    }
   ],
   "source": [
    "start_time_pandas = time.time()\n",
    "movie_pandas = pd.read_csv('data/movie.csv')\n",
    "end_time_pandas = time.time()\n",
    "execution_time_pandas = end_time_pandas - start_time_pandas\n",
    "print(\"Execution time for Pandas:\", execution_time_pandas)"
   ]
  },
  {
   "cell_type": "code",
   "execution_count": 145,
   "metadata": {},
   "outputs": [
    {
     "name": "stdout",
     "output_type": "stream",
     "text": [
      "Execution time for Polars: 0.004992961883544922\n"
     ]
    }
   ],
   "source": [
    "start_time_polars = time.time()\n",
    "movie_polars = pl.read_csv('data/movie.csv')\n",
    "end_time_polars = time.time()\n",
    "execution_time_polars = end_time_polars - start_time_polars\n",
    "print(\"Execution time for Polars:\", execution_time_polars)"
   ]
  },
  {
   "cell_type": "code",
   "execution_count": 146,
   "metadata": {},
   "outputs": [
    {
     "data": {
      "text/html": [
       "<div><style>\n",
       ".dataframe > thead > tr,\n",
       ".dataframe > tbody > tr {\n",
       "  text-align: right;\n",
       "  white-space: pre-wrap;\n",
       "}\n",
       "</style>\n",
       "<small>shape: (5, 28)</small><table border=\"1\" class=\"dataframe\"><thead><tr><th>color</th><th>director_name</th><th>num_critic_for_reviews</th><th>duration</th><th>director_facebook_likes</th><th>actor_3_facebook_likes</th><th>actor_2_name</th><th>actor_1_facebook_likes</th><th>gross</th><th>genres</th><th>actor_1_name</th><th>movie_title</th><th>num_voted_users</th><th>cast_total_facebook_likes</th><th>actor_3_name</th><th>facenumber_in_poster</th><th>plot_keywords</th><th>movie_imdb_link</th><th>num_user_for_reviews</th><th>language</th><th>country</th><th>content_rating</th><th>budget</th><th>title_year</th><th>actor_2_facebook_likes</th><th>imdb_score</th><th>aspect_ratio</th><th>movie_facebook_likes</th></tr><tr><td>str</td><td>str</td><td>f64</td><td>f64</td><td>f64</td><td>f64</td><td>str</td><td>f64</td><td>f64</td><td>str</td><td>str</td><td>str</td><td>i64</td><td>i64</td><td>str</td><td>f64</td><td>str</td><td>str</td><td>f64</td><td>str</td><td>str</td><td>str</td><td>f64</td><td>f64</td><td>f64</td><td>f64</td><td>f64</td><td>i64</td></tr></thead><tbody><tr><td>&quot;Color&quot;</td><td>&quot;James Cameron&quot;</td><td>723.0</td><td>178.0</td><td>0.0</td><td>855.0</td><td>&quot;Joel David Moo…</td><td>1000.0</td><td>7.60505847e8</td><td>&quot;Action|Adventu…</td><td>&quot;CCH Pounder&quot;</td><td>&quot;Avatar&quot;</td><td>886204</td><td>4834</td><td>&quot;Wes Studi&quot;</td><td>0.0</td><td>&quot;avatar|future|…</td><td>&quot;http://www.imd…</td><td>3054.0</td><td>&quot;English&quot;</td><td>&quot;USA&quot;</td><td>&quot;PG-13&quot;</td><td>2.37e8</td><td>2009.0</td><td>936.0</td><td>7.9</td><td>1.78</td><td>33000</td></tr><tr><td>&quot;Color&quot;</td><td>&quot;Gore Verbinski…</td><td>302.0</td><td>169.0</td><td>563.0</td><td>1000.0</td><td>&quot;Orlando Bloom&quot;</td><td>40000.0</td><td>3.09404152e8</td><td>&quot;Action|Adventu…</td><td>&quot;Johnny Depp&quot;</td><td>&quot;Pirates of the…</td><td>471220</td><td>48350</td><td>&quot;Jack Davenport…</td><td>0.0</td><td>&quot;goddess|marria…</td><td>&quot;http://www.imd…</td><td>1238.0</td><td>&quot;English&quot;</td><td>&quot;USA&quot;</td><td>&quot;PG-13&quot;</td><td>3e8</td><td>2007.0</td><td>5000.0</td><td>7.1</td><td>2.35</td><td>0</td></tr><tr><td>&quot;Color&quot;</td><td>&quot;Sam Mendes&quot;</td><td>602.0</td><td>148.0</td><td>0.0</td><td>161.0</td><td>&quot;Rory Kinnear&quot;</td><td>11000.0</td><td>2.00074175e8</td><td>&quot;Action|Adventu…</td><td>&quot;Christoph Walt…</td><td>&quot;Spectre&quot;</td><td>275868</td><td>11700</td><td>&quot;Stephanie Sigm…</td><td>1.0</td><td>&quot;bomb|espionage…</td><td>&quot;http://www.imd…</td><td>994.0</td><td>&quot;English&quot;</td><td>&quot;UK&quot;</td><td>&quot;PG-13&quot;</td><td>2.45e8</td><td>2015.0</td><td>393.0</td><td>6.8</td><td>2.35</td><td>85000</td></tr><tr><td>&quot;Color&quot;</td><td>&quot;Christopher No…</td><td>813.0</td><td>164.0</td><td>22000.0</td><td>23000.0</td><td>&quot;Christian Bale…</td><td>27000.0</td><td>4.48130642e8</td><td>&quot;Action|Thrille…</td><td>&quot;Tom Hardy&quot;</td><td>&quot;The Dark Knigh…</td><td>1144337</td><td>106759</td><td>&quot;Joseph Gordon-…</td><td>0.0</td><td>&quot;deception|impr…</td><td>&quot;http://www.imd…</td><td>2701.0</td><td>&quot;English&quot;</td><td>&quot;USA&quot;</td><td>&quot;PG-13&quot;</td><td>2.5e8</td><td>2012.0</td><td>23000.0</td><td>8.5</td><td>2.35</td><td>164000</td></tr><tr><td>null</td><td>&quot;Doug Walker&quot;</td><td>null</td><td>null</td><td>131.0</td><td>null</td><td>&quot;Rob Walker&quot;</td><td>131.0</td><td>null</td><td>&quot;Documentary&quot;</td><td>&quot;Doug Walker&quot;</td><td>&quot;Star Wars: Epi…</td><td>8</td><td>143</td><td>null</td><td>0.0</td><td>null</td><td>&quot;http://www.imd…</td><td>null</td><td>null</td><td>null</td><td>null</td><td>null</td><td>null</td><td>12.0</td><td>7.1</td><td>null</td><td>0</td></tr></tbody></table></div>"
      ],
      "text/plain": [
       "shape: (5, 28)\n",
       "┌───────┬────────────┬────────────┬──────────┬───┬────────────┬────────────┬───────────┬───────────┐\n",
       "│ color ┆ director_n ┆ num_critic ┆ duration ┆ … ┆ actor_2_fa ┆ imdb_score ┆ aspect_ra ┆ movie_fac │\n",
       "│ ---   ┆ ame        ┆ _for_revie ┆ ---      ┆   ┆ cebook_lik ┆ ---        ┆ tio       ┆ ebook_lik │\n",
       "│ str   ┆ ---        ┆ ws         ┆ f64      ┆   ┆ es         ┆ f64        ┆ ---       ┆ es        │\n",
       "│       ┆ str        ┆ ---        ┆          ┆   ┆ ---        ┆            ┆ f64       ┆ ---       │\n",
       "│       ┆            ┆ f64        ┆          ┆   ┆ f64        ┆            ┆           ┆ i64       │\n",
       "╞═══════╪════════════╪════════════╪══════════╪═══╪════════════╪════════════╪═══════════╪═══════════╡\n",
       "│ Color ┆ James      ┆ 723.0      ┆ 178.0    ┆ … ┆ 936.0      ┆ 7.9        ┆ 1.78      ┆ 33000     │\n",
       "│       ┆ Cameron    ┆            ┆          ┆   ┆            ┆            ┆           ┆           │\n",
       "│ Color ┆ Gore       ┆ 302.0      ┆ 169.0    ┆ … ┆ 5000.0     ┆ 7.1        ┆ 2.35      ┆ 0         │\n",
       "│       ┆ Verbinski  ┆            ┆          ┆   ┆            ┆            ┆           ┆           │\n",
       "│ Color ┆ Sam Mendes ┆ 602.0      ┆ 148.0    ┆ … ┆ 393.0      ┆ 6.8        ┆ 2.35      ┆ 85000     │\n",
       "│ Color ┆ Christophe ┆ 813.0      ┆ 164.0    ┆ … ┆ 23000.0    ┆ 8.5        ┆ 2.35      ┆ 164000    │\n",
       "│       ┆ r Nolan    ┆            ┆          ┆   ┆            ┆            ┆           ┆           │\n",
       "│ null  ┆ Doug       ┆ null       ┆ null     ┆ … ┆ 12.0       ┆ 7.1        ┆ null      ┆ 0         │\n",
       "│       ┆ Walker     ┆            ┆          ┆   ┆            ┆            ┆           ┆           │\n",
       "└───────┴────────────┴────────────┴──────────┴───┴────────────┴────────────┴───────────┴───────────┘"
      ]
     },
     "execution_count": 146,
     "metadata": {},
     "output_type": "execute_result"
    }
   ],
   "source": [
    "movie_pl = pl.read_csv('data/movie.csv')\n",
    "movie_pl.head()"
   ]
  },
  {
   "cell_type": "markdown",
   "metadata": {},
   "source": [
    "![dataframe anatomy](../images/ch01_dataframe_anatomy.png)"
   ]
  },
  {
   "cell_type": "markdown",
   "metadata": {},
   "source": [
    "# Accessing the main DataFrame components"
   ]
  },
  {
   "cell_type": "code",
   "execution_count": 147,
   "metadata": {
    "collapsed": true
   },
   "outputs": [
    {
     "data": {
      "text/plain": [
       "['color',\n",
       " 'director_name',\n",
       " 'num_critic_for_reviews',\n",
       " 'duration',\n",
       " 'director_facebook_likes',\n",
       " 'actor_3_facebook_likes',\n",
       " 'actor_2_name',\n",
       " 'actor_1_facebook_likes',\n",
       " 'gross',\n",
       " 'genres',\n",
       " 'actor_1_name',\n",
       " 'movie_title',\n",
       " 'num_voted_users',\n",
       " 'cast_total_facebook_likes',\n",
       " 'actor_3_name',\n",
       " 'facenumber_in_poster',\n",
       " 'plot_keywords',\n",
       " 'movie_imdb_link',\n",
       " 'num_user_for_reviews',\n",
       " 'language',\n",
       " 'country',\n",
       " 'content_rating',\n",
       " 'budget',\n",
       " 'title_year',\n",
       " 'actor_2_facebook_likes',\n",
       " 'imdb_score',\n",
       " 'aspect_ratio',\n",
       " 'movie_facebook_likes']"
      ]
     },
     "execution_count": 147,
     "metadata": {},
     "output_type": "execute_result"
    }
   ],
   "source": [
    "columns = movie_pl.columns\n",
    "columns"
   ]
  },
  {
   "cell_type": "code",
   "execution_count": 148,
   "metadata": {},
   "outputs": [
    {
     "data": {
      "text/plain": [
       "(list, list)"
      ]
     },
     "execution_count": 148,
     "metadata": {},
     "output_type": "execute_result"
    }
   ],
   "source": [
    "type(movie_pl.rows()), type(columns)"
   ]
  },
  {
   "cell_type": "code",
   "execution_count": 149,
   "metadata": {},
   "outputs": [
    {
     "name": "stdout",
     "output_type": "stream",
     "text": [
      "('Color', 'James Cameron', 723.0, 178.0, 0.0, 855.0, 'Joel David Moore', 1000.0, 760505847.0, 'Action|Adventure|Fantasy|Sci-Fi', 'CCH Pounder', 'Avatar', 886204, 4834, 'Wes Studi', 0.0, 'avatar|future|marine|native|paraplegic', 'http://www.imdb.com/title/tt0499549/?ref_=fn_tt_tt_1', 3054.0, 'English', 'USA', 'PG-13', 237000000.0, 2009.0, 936.0, 7.9, 1.78, 33000)\n",
      "<class 'tuple'>\n",
      "('Color', 'Gore Verbinski', 302.0, 169.0, 563.0, 1000.0, 'Orlando Bloom', 40000.0, 309404152.0, 'Action|Adventure|Fantasy', 'Johnny Depp', \"Pirates of the Caribbean: At World's End\", 471220, 48350, 'Jack Davenport', 0.0, 'goddess|marriage ceremony|marriage proposal|pirate|singapore', 'http://www.imdb.com/title/tt0449088/?ref_=fn_tt_tt_1', 1238.0, 'English', 'USA', 'PG-13', 300000000.0, 2007.0, 5000.0, 7.1, 2.35, 0)\n",
      "<class 'tuple'>\n"
     ]
    }
   ],
   "source": [
    "for row in movie_pl.rows()[:2]:\n",
    "    print(row)\n",
    "    print(type(row))"
   ]
  },
  {
   "cell_type": "markdown",
   "metadata": {},
   "source": [
    "# Understanding data types"
   ]
  },
  {
   "cell_type": "code",
   "execution_count": 150,
   "metadata": {
    "collapsed": true
   },
   "outputs": [],
   "source": [
    "movie_pl = pl.read_csv('data/movie.csv')\n",
    "# movie = pd.read_csv('data/movie.csv')"
   ]
  },
  {
   "cell_type": "code",
   "execution_count": 151,
   "metadata": {},
   "outputs": [],
   "source": [
    "# movie_pl.dtypes"
   ]
  },
  {
   "cell_type": "code",
   "execution_count": 152,
   "metadata": {},
   "outputs": [
    {
     "data": {
      "text/plain": [
       "color            director_name     num_critic_for_reviews  duration  director_facebook_likes  actor_3_facebook_likes  actor_2_name      actor_1_facebook_likes  gross        genres                           actor_1_name       movie_title       num_voted_users  cast_total_facebook_likes  actor_3_name       facenumber_in_poster  plot_keywords                                                              movie_imdb_link                                       num_user_for_reviews  language  country  content_rating  budget      title_year  actor_2_facebook_likes  imdb_score  aspect_ratio  movie_facebook_likes\n",
       "Black and White  Akira Kurosawa    153.0                   202.0     0.0                      4.0                     Minoru Chiaki     304.0                   269061.0     Action|Adventure|Drama           Takashi Shimura    Seven Samurai     229012           338                        Kamatari Fujiwara  6.0                   16th century|battle|japan|practice|samurai                                 http://www.imdb.com/title/tt0047478/?ref_=fn_tt_tt_1  596.0                 Japanese  Japan    Unrated         2000000.0   1954.0      8.0                     8.7         1.37          11000                   1\n",
       "Color            Nick Cassavetes   129.0                   116.0     415.0                    644.0                   Laura Harring     18000.0                 71026631.0   Crime|Drama|Thriller             Denzel Washington  John Q            98899            20970                      Anne Heche         1.0                   health care|heart transplant|hospital|hostage|insurance                    http://www.imdb.com/title/tt0251160/?ref_=fn_tt_tt_1  394.0                 English   USA      PG-13           36000000.0  2002.0      669.0                   7.0         1.85          0                       1\n",
       "                                   177.0                   123.0     415.0                    545.0                   Kevin Connolly    33000.0                 64286.0      Drama|Romance                    Ryan Gosling       The Notebook      396396           34495                      Gena Rowlands      0.0                   class differences|letter|nursing home|second chance|summer love            http://www.imdb.com/title/tt0332280/?ref_=fn_tt_tt_1  1111.0                English   USA      PG-13           29000000.0  2004.0      638.0                   7.9         2.35          57000                   1\n",
       "                                   191.0                   109.0     415.0                    119.0                   Kate Upton        982.0                   83906114.0   Comedy|Romance                   Don Johnson        The Other Woman   104481           2357                       David Thornton     2.0                   beach house|blonde bombshell|cheating husband|revenge|wife meets mistress  http://www.imdb.com/title/tt2203939/?ref_=fn_tt_tt_1  189.0                 English   USA      PG-13           40000000.0  2014.0      971.0                   6.0         2.35          16000                   1\n",
       "                 Nick Gomez        84.0                    96.0      22.0                     324.0                   Jamie Lee Curtis  8000.0                  15427192.0   Comedy|Crime|Mystery             Will Ferrell       Drowning Mona     11768            11078                      Tracey Walter      0.0                   crying woman|plot|suspect|waitress|younger man older woman relationship    http://www.imdb.com/title/tt0186045/?ref_=fn_tt_tt_1  148.0                 English   USA      PG-13           16000000.0  2000.0      2000.0                  5.6         1.85          492                     1\n",
       "                                                                                                                                                                                                                                                                                                                                                                                                                                                                                                                                                                                                                                   ..\n",
       "                 Greg Harrison     46.0                    86.0      7.0                      17.0                    Ari Gold          328.0                   1114943.0    Drama|Music                      Rachel True        Groove            3562             407                        Denny Kirkwood     0.0                   dj|ecstasy the drug|rave|raver|warehouse                                   http://www.imdb.com/title/tt0212974/?ref_=fn_tt_tt_1  74.0                  English   USA      R               500000.0    2000.0      27.0                    6.5         1.85          0                       1\n",
       "                 Greg Mottola      256.0                   119.0     99.0                     778.0                   Joe Lo Truglio    15000.0                 121463226.0  Comedy                           Emma Stone         Superbad          422606           17584                      Kevin Corrigan     2.0                   black comedy|bromance|party|school|teen comedy                             http://www.imdb.com/title/tt0829482/?ref_=fn_tt_tt_1  555.0                 English   USA      R               20000000.0  2007.0      833.0                   7.6         1.85          0                       1\n",
       "                                   342.0                   109.0     99.0                     57.0                    Nelson Ascencio   176.0                   37371385.0   Adventure|Comedy|Sci-Fi          Bobby Lee          Paul              192462           390                        Jeremy Owen        0.0                   alien|geek|nerd|road trip|ufo                                              http://www.imdb.com/title/tt1092026/?ref_=fn_tt_tt_1  334.0                 English   USA      R               40000000.0  2011.0      61.0                    7.0         2.35          42000                   1\n",
       "                 Gregor Jordan     109.0                   98.0      34.0                     730.0                   Scott Glenn       936.0                   353743.0     Comedy|Crime|Drama|Thriller|War  Dean Stockwell     Buffalo Soldiers  20730            3578                       Leon               1.0                   berlin wall|germany|murder|soldier|specialist                              http://www.imdb.com/title/tt0252299/?ref_=fn_tt_tt_1  111.0                 English   UK       R               15000000.0  2001.0      826.0                   6.9         2.35          664                     1\n",
       "                 Émile Gaudreault  67.0                    92.0      9.0                      71.0                    Luke Kirby        636.0                   6239558.0    Comedy|Drama                     Paul Sorvino       Mambo Italiano    5548             1033                       Claudia Ferri      0.0                   gay|immigrant|italian|police|police officer                                http://www.imdb.com/title/tt0330602/?ref_=fn_tt_tt_1  67.0                  English   Canada   R               5000000.0   2003.0      210.0                   6.7         1.85          352                     1\n",
       "Name: count, Length: 3654, dtype: int64"
      ]
     },
     "execution_count": 152,
     "metadata": {},
     "output_type": "execute_result"
    }
   ],
   "source": [
    "movie_pandas.value_counts()"
   ]
  },
  {
   "cell_type": "code",
   "execution_count": 153,
   "metadata": {},
   "outputs": [
    {
     "data": {
      "text/html": [
       "<div><style>\n",
       ".dataframe > thead > tr,\n",
       ".dataframe > tbody > tr {\n",
       "  text-align: right;\n",
       "  white-space: pre-wrap;\n",
       "}\n",
       "</style>\n",
       "<small>shape: (878, 2)</small><table border=\"1\" class=\"dataframe\"><thead><tr><th>actor_1_facebook_likes</th><th>count</th></tr><tr><td>f64</td><td>u32</td></tr></thead><tbody><tr><td>11.0</td><td>3</td></tr><tr><td>797.0</td><td>1</td></tr><tr><td>380.0</td><td>4</td></tr><tr><td>311.0</td><td>2</td></tr><tr><td>165.0</td><td>1</td></tr><tr><td>&hellip;</td><td>&hellip;</td></tr><tr><td>319.0</td><td>3</td></tr><tr><td>846.0</td><td>1</td></tr><tr><td>905.0</td><td>2</td></tr><tr><td>308.0</td><td>2</td></tr><tr><td>539.0</td><td>5</td></tr></tbody></table></div>"
      ],
      "text/plain": [
       "shape: (878, 2)\n",
       "┌────────────────────────┬───────┐\n",
       "│ actor_1_facebook_likes ┆ count │\n",
       "│ ---                    ┆ ---   │\n",
       "│ f64                    ┆ u32   │\n",
       "╞════════════════════════╪═══════╡\n",
       "│ 11.0                   ┆ 3     │\n",
       "│ 797.0                  ┆ 1     │\n",
       "│ 380.0                  ┆ 4     │\n",
       "│ 311.0                  ┆ 2     │\n",
       "│ 165.0                  ┆ 1     │\n",
       "│ …                      ┆ …     │\n",
       "│ 319.0                  ┆ 3     │\n",
       "│ 846.0                  ┆ 1     │\n",
       "│ 905.0                  ┆ 2     │\n",
       "│ 308.0                  ┆ 2     │\n",
       "│ 539.0                  ┆ 5     │\n",
       "└────────────────────────┴───────┘"
      ]
     },
     "execution_count": 153,
     "metadata": {},
     "output_type": "execute_result"
    }
   ],
   "source": [
    "movie_pl['actor_1_facebook_likes'].value_counts()"
   ]
  },
  {
   "cell_type": "code",
   "execution_count": 154,
   "metadata": {},
   "outputs": [
    {
     "data": {
      "text/html": [
       "<div><style>\n",
       ".dataframe > thead > tr,\n",
       ".dataframe > tbody > tr {\n",
       "  text-align: right;\n",
       "  white-space: pre-wrap;\n",
       "}\n",
       "</style>\n",
       "<small>shape: (4_528, 3)</small><table border=\"1\" class=\"dataframe\"><thead><tr><th>director_name</th><th>genres</th><th>len</th></tr><tr><td>str</td><td>str</td><td>u32</td></tr></thead><tbody><tr><td>&quot;Norman Jewison…</td><td>&quot;Drama|Thriller…</td><td>1</td></tr><tr><td>&quot;Josh Gordon&quot;</td><td>&quot;Comedy|Sport&quot;</td><td>1</td></tr><tr><td>&quot;Mark Waters&quot;</td><td>&quot;Comedy&quot;</td><td>1</td></tr><tr><td>&quot;Gregory Poirie…</td><td>&quot;Comedy&quot;</td><td>1</td></tr><tr><td>&quot;Nicholas Hytne…</td><td>&quot;Drama|Music|Ro…</td><td>1</td></tr><tr><td>&hellip;</td><td>&hellip;</td><td>&hellip;</td></tr><tr><td>&quot;Frank Coraci&quot;</td><td>&quot;Comedy|Family|…</td><td>1</td></tr><tr><td>&quot;Spike Jonze&quot;</td><td>&quot;Comedy|Drama|F…</td><td>1</td></tr><tr><td>&quot;Clint Eastwood…</td><td>&quot;Western&quot;</td><td>1</td></tr><tr><td>&quot;Colin Trevorro…</td><td>&quot;Comedy|Drama|R…</td><td>1</td></tr><tr><td>&quot;Tay Garnett&quot;</td><td>&quot;Drama&quot;</td><td>1</td></tr></tbody></table></div>"
      ],
      "text/plain": [
       "shape: (4_528, 3)\n",
       "┌─────────────────┬───────────────────────┬─────┐\n",
       "│ director_name   ┆ genres                ┆ len │\n",
       "│ ---             ┆ ---                   ┆ --- │\n",
       "│ str             ┆ str                   ┆ u32 │\n",
       "╞═════════════════╪═══════════════════════╪═════╡\n",
       "│ Norman Jewison  ┆ Drama|Thriller        ┆ 1   │\n",
       "│ Josh Gordon     ┆ Comedy|Sport          ┆ 1   │\n",
       "│ Mark Waters     ┆ Comedy                ┆ 1   │\n",
       "│ Gregory Poirier ┆ Comedy                ┆ 1   │\n",
       "│ Nicholas Hytner ┆ Drama|Music|Romance   ┆ 1   │\n",
       "│ …               ┆ …                     ┆ …   │\n",
       "│ Frank Coraci    ┆ Comedy|Family|Romance ┆ 1   │\n",
       "│ Spike Jonze     ┆ Comedy|Drama|Fantasy  ┆ 1   │\n",
       "│ Clint Eastwood  ┆ Western               ┆ 1   │\n",
       "│ Colin Trevorrow ┆ Comedy|Drama|Romance  ┆ 1   │\n",
       "│ Tay Garnett     ┆ Drama                 ┆ 1   │\n",
       "└─────────────────┴───────────────────────┴─────┘"
      ]
     },
     "execution_count": 154,
     "metadata": {},
     "output_type": "execute_result"
    }
   ],
   "source": [
    "# value_counts = movie_pl.group_by(columns).len()\n",
    "value_counts = movie_pl.group_by(['director_name', 'genres']).len()\n",
    "value_counts"
   ]
  },
  {
   "cell_type": "markdown",
   "metadata": {},
   "source": [
    "# Selecting a single column of data as a Series"
   ]
  },
  {
   "cell_type": "code",
   "execution_count": 155,
   "metadata": {
    "collapsed": true
   },
   "outputs": [],
   "source": [
    "# movie = pd.read_csv('data/movie.csv')\n",
    "movie_pl = pl.read_csv('data/movie.csv')\n"
   ]
  },
  {
   "cell_type": "code",
   "execution_count": 156,
   "metadata": {},
   "outputs": [
    {
     "data": {
      "text/html": [
       "<div><style>\n",
       ".dataframe > thead > tr,\n",
       ".dataframe > tbody > tr {\n",
       "  text-align: right;\n",
       "  white-space: pre-wrap;\n",
       "}\n",
       "</style>\n",
       "<small>shape: (4_916,)</small><table border=\"1\" class=\"dataframe\"><thead><tr><th>director_name</th></tr><tr><td>str</td></tr></thead><tbody><tr><td>&quot;James Cameron&quot;</td></tr><tr><td>&quot;Gore Verbinski…</td></tr><tr><td>&quot;Sam Mendes&quot;</td></tr><tr><td>&quot;Christopher No…</td></tr><tr><td>&quot;Doug Walker&quot;</td></tr><tr><td>&hellip;</td></tr><tr><td>&quot;Scott Smith&quot;</td></tr><tr><td>null</td></tr><tr><td>&quot;Benjamin Rober…</td></tr><tr><td>&quot;Daniel Hsia&quot;</td></tr><tr><td>&quot;Jon Gunn&quot;</td></tr></tbody></table></div>"
      ],
      "text/plain": [
       "shape: (4_916,)\n",
       "Series: 'director_name' [str]\n",
       "[\n",
       "\t\"James Cameron\"\n",
       "\t\"Gore Verbinski…\n",
       "\t\"Sam Mendes\"\n",
       "\t\"Christopher No…\n",
       "\t\"Doug Walker\"\n",
       "\t…\n",
       "\t\"Scott Smith\"\n",
       "\tnull\n",
       "\t\"Benjamin Rober…\n",
       "\t\"Daniel Hsia\"\n",
       "\t\"Jon Gunn\"\n",
       "]"
      ]
     },
     "execution_count": 156,
     "metadata": {},
     "output_type": "execute_result"
    }
   ],
   "source": [
    "movie_pl['director_name']"
   ]
  },
  {
   "cell_type": "code",
   "execution_count": 157,
   "metadata": {},
   "outputs": [],
   "source": [
    "# movie_pl.director_name  # AttributeError: 'DataFrame' object has no attribute 'director_name'"
   ]
  },
  {
   "cell_type": "code",
   "execution_count": 158,
   "metadata": {},
   "outputs": [
    {
     "data": {
      "text/plain": [
       "polars.series.series.Series"
      ]
     },
     "execution_count": 158,
     "metadata": {},
     "output_type": "execute_result"
    }
   ],
   "source": [
    "type(movie_pl['director_name'])"
   ]
  },
  {
   "cell_type": "markdown",
   "metadata": {},
   "source": [
    "## There's more"
   ]
  },
  {
   "cell_type": "code",
   "execution_count": 159,
   "metadata": {},
   "outputs": [
    {
     "data": {
      "text/plain": [
       "'director_name'"
      ]
     },
     "execution_count": 159,
     "metadata": {},
     "output_type": "execute_result"
    }
   ],
   "source": [
    "director = movie_pl['director_name'] # save Series to variable\n",
    "director.name"
   ]
  },
  {
   "cell_type": "code",
   "execution_count": 160,
   "metadata": {},
   "outputs": [
    {
     "data": {
      "text/html": [
       "<div><style>\n",
       ".dataframe > thead > tr,\n",
       ".dataframe > tbody > tr {\n",
       "  text-align: right;\n",
       "  white-space: pre-wrap;\n",
       "}\n",
       "</style>\n",
       "<small>shape: (5, 1)</small><table border=\"1\" class=\"dataframe\"><thead><tr><th>director_name</th></tr><tr><td>str</td></tr></thead><tbody><tr><td>&quot;James Cameron&quot;</td></tr><tr><td>&quot;Gore Verbinski…</td></tr><tr><td>&quot;Sam Mendes&quot;</td></tr><tr><td>&quot;Christopher No…</td></tr><tr><td>&quot;Doug Walker&quot;</td></tr></tbody></table></div>"
      ],
      "text/plain": [
       "shape: (5, 1)\n",
       "┌───────────────────┐\n",
       "│ director_name     │\n",
       "│ ---               │\n",
       "│ str               │\n",
       "╞═══════════════════╡\n",
       "│ James Cameron     │\n",
       "│ Gore Verbinski    │\n",
       "│ Sam Mendes        │\n",
       "│ Christopher Nolan │\n",
       "│ Doug Walker       │\n",
       "└───────────────────┘"
      ]
     },
     "execution_count": 160,
     "metadata": {},
     "output_type": "execute_result"
    }
   ],
   "source": [
    "director.to_frame().head()"
   ]
  },
  {
   "cell_type": "markdown",
   "metadata": {},
   "source": [
    "# Calling Series methods"
   ]
  },
  {
   "cell_type": "markdown",
   "metadata": {},
   "source": [
    "## Getting ready..."
   ]
  },
  {
   "cell_type": "code",
   "execution_count": 161,
   "metadata": {},
   "outputs": [
    {
     "data": {
      "text/plain": [
       "285"
      ]
     },
     "execution_count": 161,
     "metadata": {},
     "output_type": "execute_result"
    }
   ],
   "source": [
    "s_attr_methods = set(dir(pl.Series))\n",
    "len(s_attr_methods)"
   ]
  },
  {
   "cell_type": "code",
   "execution_count": 162,
   "metadata": {},
   "outputs": [
    {
     "data": {
      "text/plain": [
       "197"
      ]
     },
     "execution_count": 162,
     "metadata": {},
     "output_type": "execute_result"
    }
   ],
   "source": [
    "df_attr_methods = set(dir(pl.DataFrame))\n",
    "len(df_attr_methods)"
   ]
  },
  {
   "cell_type": "code",
   "execution_count": 163,
   "metadata": {},
   "outputs": [
    {
     "data": {
      "text/plain": [
       "108"
      ]
     },
     "execution_count": 163,
     "metadata": {},
     "output_type": "execute_result"
    }
   ],
   "source": [
    "len(s_attr_methods & df_attr_methods)"
   ]
  },
  {
   "cell_type": "markdown",
   "metadata": {},
   "source": [
    "## How to do it..."
   ]
  },
  {
   "cell_type": "code",
   "execution_count": 256,
   "metadata": {
    "collapsed": true
   },
   "outputs": [],
   "source": [
    "movie_pl = pl.read_csv('data/movie.csv')\n",
    "# movie = pd.read_csv('data/movie.csv')\n",
    "director = movie_pl['director_name']\n",
    "actor_1_fb_likes = movie_pl['actor_1_facebook_likes']"
   ]
  },
  {
   "cell_type": "code",
   "execution_count": 257,
   "metadata": {},
   "outputs": [
    {
     "data": {
      "text/html": [
       "<div><style>\n",
       ".dataframe > thead > tr,\n",
       ".dataframe > tbody > tr {\n",
       "  text-align: right;\n",
       "  white-space: pre-wrap;\n",
       "}\n",
       "</style>\n",
       "<small>shape: (10,)</small><table border=\"1\" class=\"dataframe\"><thead><tr><th>director_name</th></tr><tr><td>str</td></tr></thead><tbody><tr><td>&quot;James Cameron&quot;</td></tr><tr><td>&quot;Gore Verbinski…</td></tr><tr><td>&quot;Sam Mendes&quot;</td></tr><tr><td>&quot;Christopher No…</td></tr><tr><td>&quot;Doug Walker&quot;</td></tr><tr><td>&quot;Andrew Stanton…</td></tr><tr><td>&quot;Sam Raimi&quot;</td></tr><tr><td>&quot;Nathan Greno&quot;</td></tr><tr><td>&quot;Joss Whedon&quot;</td></tr><tr><td>&quot;David Yates&quot;</td></tr></tbody></table></div>"
      ],
      "text/plain": [
       "shape: (10,)\n",
       "Series: 'director_name' [str]\n",
       "[\n",
       "\t\"James Cameron\"\n",
       "\t\"Gore Verbinski…\n",
       "\t\"Sam Mendes\"\n",
       "\t\"Christopher No…\n",
       "\t\"Doug Walker\"\n",
       "\t\"Andrew Stanton…\n",
       "\t\"Sam Raimi\"\n",
       "\t\"Nathan Greno\"\n",
       "\t\"Joss Whedon\"\n",
       "\t\"David Yates\"\n",
       "]"
      ]
     },
     "execution_count": 257,
     "metadata": {},
     "output_type": "execute_result"
    }
   ],
   "source": [
    "director.head()"
   ]
  },
  {
   "cell_type": "code",
   "execution_count": 258,
   "metadata": {},
   "outputs": [
    {
     "data": {
      "text/html": [
       "<div><style>\n",
       ".dataframe > thead > tr,\n",
       ".dataframe > tbody > tr {\n",
       "  text-align: right;\n",
       "  white-space: pre-wrap;\n",
       "}\n",
       "</style>\n",
       "<small>shape: (10,)</small><table border=\"1\" class=\"dataframe\"><thead><tr><th>actor_1_facebook_likes</th></tr><tr><td>f64</td></tr></thead><tbody><tr><td>1000.0</td></tr><tr><td>40000.0</td></tr><tr><td>11000.0</td></tr><tr><td>27000.0</td></tr><tr><td>131.0</td></tr><tr><td>640.0</td></tr><tr><td>24000.0</td></tr><tr><td>799.0</td></tr><tr><td>26000.0</td></tr><tr><td>25000.0</td></tr></tbody></table></div>"
      ],
      "text/plain": [
       "shape: (10,)\n",
       "Series: 'actor_1_facebook_likes' [f64]\n",
       "[\n",
       "\t1000.0\n",
       "\t40000.0\n",
       "\t11000.0\n",
       "\t27000.0\n",
       "\t131.0\n",
       "\t640.0\n",
       "\t24000.0\n",
       "\t799.0\n",
       "\t26000.0\n",
       "\t25000.0\n",
       "]"
      ]
     },
     "execution_count": 258,
     "metadata": {},
     "output_type": "execute_result"
    }
   ],
   "source": [
    "actor_1_fb_likes.head()"
   ]
  },
  {
   "cell_type": "code",
   "execution_count": 259,
   "metadata": {},
   "outputs": [
    {
     "data": {
      "text/html": [
       "<div><style>\n",
       ".dataframe > thead > tr,\n",
       ".dataframe > tbody > tr {\n",
       "  text-align: right;\n",
       "  white-space: pre-wrap;\n",
       "}\n",
       "</style>\n",
       "<small>shape: (2_398, 2)</small><table border=\"1\" class=\"dataframe\"><thead><tr><th>director_name</th><th>count</th></tr><tr><td>str</td><td>u32</td></tr></thead><tbody><tr><td>&quot;Corbin Bernsen…</td><td>1</td></tr><tr><td>&quot;Peyton Reed&quot;</td><td>4</td></tr><tr><td>&quot;Shana Feste&quot;</td><td>3</td></tr><tr><td>&quot;Ronny Yu&quot;</td><td>4</td></tr><tr><td>&quot;Patrick Meaney…</td><td>1</td></tr><tr><td>&hellip;</td><td>&hellip;</td></tr><tr><td>&quot;Douglas Aarnio…</td><td>2</td></tr><tr><td>&quot;Mora Stephens&quot;</td><td>1</td></tr><tr><td>&quot;Jared Hess&quot;</td><td>3</td></tr><tr><td>&quot;Youssef Delara…</td><td>2</td></tr><tr><td>&quot;Randall Miller…</td><td>2</td></tr></tbody></table></div>"
      ],
      "text/plain": [
       "shape: (2_398, 2)\n",
       "┌─────────────────────┬───────┐\n",
       "│ director_name       ┆ count │\n",
       "│ ---                 ┆ ---   │\n",
       "│ str                 ┆ u32   │\n",
       "╞═════════════════════╪═══════╡\n",
       "│ Corbin Bernsen      ┆ 1     │\n",
       "│ Peyton Reed         ┆ 4     │\n",
       "│ Shana Feste         ┆ 3     │\n",
       "│ Ronny Yu            ┆ 4     │\n",
       "│ Patrick Meaney      ┆ 1     │\n",
       "│ …                   ┆ …     │\n",
       "│ Douglas Aarniokoski ┆ 2     │\n",
       "│ Mora Stephens       ┆ 1     │\n",
       "│ Jared Hess          ┆ 3     │\n",
       "│ Youssef Delara      ┆ 2     │\n",
       "│ Randall Miller      ┆ 2     │\n",
       "└─────────────────────┴───────┘"
      ]
     },
     "execution_count": 259,
     "metadata": {},
     "output_type": "execute_result"
    }
   ],
   "source": [
    "# pd.set_option('max_rows', 8)\n",
    "# pd.set_option('display.max_rows', 10)\n",
    "director.value_counts()"
   ]
  },
  {
   "cell_type": "code",
   "execution_count": 260,
   "metadata": {},
   "outputs": [
    {
     "data": {
      "text/html": [
       "<div><style>\n",
       ".dataframe > thead > tr,\n",
       ".dataframe > tbody > tr {\n",
       "  text-align: right;\n",
       "  white-space: pre-wrap;\n",
       "}\n",
       "</style>\n",
       "<small>shape: (10, 2)</small><table border=\"1\" class=\"dataframe\"><thead><tr><th>director_name</th><th>count</th></tr><tr><td>str</td><td>u32</td></tr></thead><tbody><tr><td>&quot;Nicholas Hytne…</td><td>3</td></tr><tr><td>&quot;Paul McGuigan&quot;</td><td>3</td></tr><tr><td>&quot;Ian Sharp&quot;</td><td>1</td></tr><tr><td>&quot;Dror Moreh&quot;</td><td>1</td></tr><tr><td>&quot;Nancy Walker&quot;</td><td>1</td></tr><tr><td>&quot;Billy Wilder&quot;</td><td>4</td></tr><tr><td>&quot;Ron Shelton&quot;</td><td>4</td></tr><tr><td>&quot;Elia Kazan&quot;</td><td>3</td></tr><tr><td>&quot;Rob Marshall&quot;</td><td>5</td></tr><tr><td>&quot;Michael Polish…</td><td>5</td></tr></tbody></table></div>"
      ],
      "text/plain": [
       "shape: (10, 2)\n",
       "┌─────────────────┬───────┐\n",
       "│ director_name   ┆ count │\n",
       "│ ---             ┆ ---   │\n",
       "│ str             ┆ u32   │\n",
       "╞═════════════════╪═══════╡\n",
       "│ Nicholas Hytner ┆ 3     │\n",
       "│ Paul McGuigan   ┆ 3     │\n",
       "│ Ian Sharp       ┆ 1     │\n",
       "│ Dror Moreh      ┆ 1     │\n",
       "│ Nancy Walker    ┆ 1     │\n",
       "│ Billy Wilder    ┆ 4     │\n",
       "│ Ron Shelton     ┆ 4     │\n",
       "│ Elia Kazan      ┆ 3     │\n",
       "│ Rob Marshall    ┆ 5     │\n",
       "│ Michael Polish  ┆ 5     │\n",
       "└─────────────────┴───────┘"
      ]
     },
     "execution_count": 260,
     "metadata": {},
     "output_type": "execute_result"
    }
   ],
   "source": [
    "director.value_counts().limit(10)  "
   ]
  },
  {
   "cell_type": "code",
   "execution_count": 261,
   "metadata": {},
   "outputs": [
    {
     "data": {
      "text/html": [
       "<div><style>\n",
       ".dataframe > thead > tr,\n",
       ".dataframe > tbody > tr {\n",
       "  text-align: right;\n",
       "  white-space: pre-wrap;\n",
       "}\n",
       "</style>\n",
       "<small>shape: (878, 2)</small><table border=\"1\" class=\"dataframe\"><thead><tr><th>actor_1_facebook_likes</th><th>count</th></tr><tr><td>f64</td><td>u32</td></tr></thead><tbody><tr><td>260000.0</td><td>3</td></tr><tr><td>14.0</td><td>2</td></tr><tr><td>612.0</td><td>1</td></tr><tr><td>466.0</td><td>2</td></tr><tr><td>735.0</td><td>2</td></tr><tr><td>&hellip;</td><td>&hellip;</td></tr><tr><td>39.0</td><td>2</td></tr><tr><td>123.0</td><td>1</td></tr><tr><td>736.0</td><td>2</td></tr><tr><td>334.0</td><td>1</td></tr><tr><td>465.0</td><td>4</td></tr></tbody></table></div>"
      ],
      "text/plain": [
       "shape: (878, 2)\n",
       "┌────────────────────────┬───────┐\n",
       "│ actor_1_facebook_likes ┆ count │\n",
       "│ ---                    ┆ ---   │\n",
       "│ f64                    ┆ u32   │\n",
       "╞════════════════════════╪═══════╡\n",
       "│ 260000.0               ┆ 3     │\n",
       "│ 14.0                   ┆ 2     │\n",
       "│ 612.0                  ┆ 1     │\n",
       "│ 466.0                  ┆ 2     │\n",
       "│ 735.0                  ┆ 2     │\n",
       "│ …                      ┆ …     │\n",
       "│ 39.0                   ┆ 2     │\n",
       "│ 123.0                  ┆ 1     │\n",
       "│ 736.0                  ┆ 2     │\n",
       "│ 334.0                  ┆ 1     │\n",
       "│ 465.0                  ┆ 4     │\n",
       "└────────────────────────┴───────┘"
      ]
     },
     "execution_count": 261,
     "metadata": {},
     "output_type": "execute_result"
    }
   ],
   "source": [
    "actor_1_fb_likes.value_counts()"
   ]
  },
  {
   "cell_type": "code",
   "execution_count": 263,
   "metadata": {},
   "outputs": [
    {
     "data": {
      "text/plain": [
       "4916"
      ]
     },
     "execution_count": 263,
     "metadata": {},
     "output_type": "execute_result"
    }
   ],
   "source": [
    "# director.size\n",
    "len(director)"
   ]
  },
  {
   "cell_type": "code",
   "execution_count": 264,
   "metadata": {},
   "outputs": [
    {
     "data": {
      "text/plain": [
       "(4916,)"
      ]
     },
     "execution_count": 264,
     "metadata": {},
     "output_type": "execute_result"
    }
   ],
   "source": [
    "director.shape"
   ]
  },
  {
   "cell_type": "code",
   "execution_count": 265,
   "metadata": {},
   "outputs": [
    {
     "data": {
      "text/plain": [
       "4814"
      ]
     },
     "execution_count": 265,
     "metadata": {},
     "output_type": "execute_result"
    }
   ],
   "source": [
    "director.count()"
   ]
  },
  {
   "cell_type": "code",
   "execution_count": 266,
   "metadata": {},
   "outputs": [
    {
     "data": {
      "text/plain": [
       "4909"
      ]
     },
     "execution_count": 266,
     "metadata": {},
     "output_type": "execute_result"
    }
   ],
   "source": [
    "actor_1_fb_likes.count()"
   ]
  },
  {
   "cell_type": "code",
   "execution_count": 269,
   "metadata": {},
   "outputs": [
    {
     "data": {
      "text/plain": [
       "982.0"
      ]
     },
     "execution_count": 269,
     "metadata": {},
     "output_type": "execute_result"
    }
   ],
   "source": [
    "# actor_1_fb_likes.quantile() # 50th percentile by default\n",
    "actor_1_fb_likes.quantile(0.5) # need define\n"
   ]
  },
  {
   "cell_type": "code",
   "execution_count": 270,
   "metadata": {},
   "outputs": [
    {
     "data": {
      "text/plain": [
       "(0.0, 640000.0, 6494.488490527602, 982.0, 15106.986883848185, 31881444.0)"
      ]
     },
     "execution_count": 270,
     "metadata": {},
     "output_type": "execute_result"
    }
   ],
   "source": [
    "actor_1_fb_likes.min(), actor_1_fb_likes.max(), \\\n",
    "actor_1_fb_likes.mean(), actor_1_fb_likes.median(), \\\n",
    "actor_1_fb_likes.std(), actor_1_fb_likes.sum()"
   ]
  },
  {
   "cell_type": "code",
   "execution_count": 271,
   "metadata": {},
   "outputs": [
    {
     "data": {
      "text/html": [
       "<div><style>\n",
       ".dataframe > thead > tr,\n",
       ".dataframe > tbody > tr {\n",
       "  text-align: right;\n",
       "  white-space: pre-wrap;\n",
       "}\n",
       "</style>\n",
       "<small>shape: (9, 2)</small><table border=\"1\" class=\"dataframe\"><thead><tr><th>statistic</th><th>value</th></tr><tr><td>str</td><td>f64</td></tr></thead><tbody><tr><td>&quot;count&quot;</td><td>4909.0</td></tr><tr><td>&quot;null_count&quot;</td><td>7.0</td></tr><tr><td>&quot;mean&quot;</td><td>6494.488491</td></tr><tr><td>&quot;std&quot;</td><td>15106.986884</td></tr><tr><td>&quot;min&quot;</td><td>0.0</td></tr><tr><td>&quot;25%&quot;</td><td>607.0</td></tr><tr><td>&quot;50%&quot;</td><td>982.0</td></tr><tr><td>&quot;75%&quot;</td><td>11000.0</td></tr><tr><td>&quot;max&quot;</td><td>640000.0</td></tr></tbody></table></div>"
      ],
      "text/plain": [
       "shape: (9, 2)\n",
       "┌────────────┬──────────────┐\n",
       "│ statistic  ┆ value        │\n",
       "│ ---        ┆ ---          │\n",
       "│ str        ┆ f64          │\n",
       "╞════════════╪══════════════╡\n",
       "│ count      ┆ 4909.0       │\n",
       "│ null_count ┆ 7.0          │\n",
       "│ mean       ┆ 6494.488491  │\n",
       "│ std        ┆ 15106.986884 │\n",
       "│ min        ┆ 0.0          │\n",
       "│ 25%        ┆ 607.0        │\n",
       "│ 50%        ┆ 982.0        │\n",
       "│ 75%        ┆ 11000.0      │\n",
       "│ max        ┆ 640000.0     │\n",
       "└────────────┴──────────────┘"
      ]
     },
     "execution_count": 271,
     "metadata": {},
     "output_type": "execute_result"
    }
   ],
   "source": [
    "actor_1_fb_likes.describe()"
   ]
  },
  {
   "cell_type": "code",
   "execution_count": 272,
   "metadata": {},
   "outputs": [
    {
     "data": {
      "text/html": [
       "<div><style>\n",
       ".dataframe > thead > tr,\n",
       ".dataframe > tbody > tr {\n",
       "  text-align: right;\n",
       "  white-space: pre-wrap;\n",
       "}\n",
       "</style>\n",
       "<small>shape: (4, 2)</small><table border=\"1\" class=\"dataframe\"><thead><tr><th>statistic</th><th>value</th></tr><tr><td>str</td><td>str</td></tr></thead><tbody><tr><td>&quot;count&quot;</td><td>&quot;4814&quot;</td></tr><tr><td>&quot;null_count&quot;</td><td>&quot;102&quot;</td></tr><tr><td>&quot;min&quot;</td><td>&quot;A. Raven Cruz&quot;</td></tr><tr><td>&quot;max&quot;</td><td>&quot;Étienne Faure&quot;</td></tr></tbody></table></div>"
      ],
      "text/plain": [
       "shape: (4, 2)\n",
       "┌────────────┬───────────────┐\n",
       "│ statistic  ┆ value         │\n",
       "│ ---        ┆ ---           │\n",
       "│ str        ┆ str           │\n",
       "╞════════════╪═══════════════╡\n",
       "│ count      ┆ 4814          │\n",
       "│ null_count ┆ 102           │\n",
       "│ min        ┆ A. Raven Cruz │\n",
       "│ max        ┆ Étienne Faure │\n",
       "└────────────┴───────────────┘"
      ]
     },
     "execution_count": 272,
     "metadata": {},
     "output_type": "execute_result"
    }
   ],
   "source": [
    "director.describe()"
   ]
  },
  {
   "cell_type": "code",
   "execution_count": 273,
   "metadata": {},
   "outputs": [
    {
     "data": {
      "text/plain": [
       "510.0"
      ]
     },
     "execution_count": 273,
     "metadata": {},
     "output_type": "execute_result"
    }
   ],
   "source": [
    "actor_1_fb_likes.quantile(.2)"
   ]
  },
  {
   "cell_type": "code",
   "execution_count": 280,
   "metadata": {},
   "outputs": [
    {
     "data": {
      "text/html": [
       "<div><style>\n",
       ".dataframe > thead > tr,\n",
       ".dataframe > tbody > tr {\n",
       "  text-align: right;\n",
       "  white-space: pre-wrap;\n",
       "}\n",
       "</style>\n",
       "<small>shape: (4_909,)</small><table border=\"1\" class=\"dataframe\"><thead><tr><th>actor_1_facebook_likes</th></tr><tr><td>f64</td></tr></thead><tbody><tr><td>0.0</td></tr><tr><td>0.0</td></tr><tr><td>0.0</td></tr><tr><td>0.0</td></tr><tr><td>0.0</td></tr><tr><td>&hellip;</td></tr><tr><td>164000.0</td></tr><tr><td>260000.0</td></tr><tr><td>260000.0</td></tr><tr><td>260000.0</td></tr><tr><td>640000.0</td></tr></tbody></table></div>"
      ],
      "text/plain": [
       "shape: (4_909,)\n",
       "Series: 'actor_1_facebook_likes' [f64]\n",
       "[\n",
       "\t0.0\n",
       "\t0.0\n",
       "\t0.0\n",
       "\t0.0\n",
       "\t0.0\n",
       "\t…\n",
       "\t164000.0\n",
       "\t260000.0\n",
       "\t260000.0\n",
       "\t260000.0\n",
       "\t640000.0\n",
       "]"
      ]
     },
     "execution_count": 280,
     "metadata": {},
     "output_type": "execute_result"
    }
   ],
   "source": [
    "temp = actor_1_fb_likes\n",
    "\n",
    "# temp.dropna(inplace=True)\n",
    "# temp.sort_values(ascending=True)\n",
    "\n",
    "# temp.drop_nulls_mut(inplace=True)   # for df\n",
    "temp = temp.drop_nulls()\n",
    "sorted_series = temp.sort()\n",
    "sorted_series"
   ]
  },
  {
   "cell_type": "code",
   "execution_count": 282,
   "metadata": {},
   "outputs": [
    {
     "data": {
      "text/plain": [
       "[607.0, 982.0, 11000.0]"
      ]
     },
     "execution_count": 282,
     "metadata": {},
     "output_type": "execute_result"
    }
   ],
   "source": [
    "# actor_1_fb_likes.quantile()\n",
    "# actor_1_fb_likes.quantile(.2)\n",
    "# actor_1_fb_likes.quantile([.1, .2, .3, .4, .5, ])\n",
    "\n",
    "quantiles = [0.25, 0.5, 0.75]  # Quantiles to calculate\n",
    "quantile_values = [actor_1_fb_likes.quantile(q) for q in quantiles]\n",
    "quantile_values"
   ]
  },
  {
   "cell_type": "code",
   "execution_count": 285,
   "metadata": {},
   "outputs": [
    {
     "data": {
      "text/plain": [
       "[240.0, 510.0, 694.0, 854.0, 982.0, 1000.0, 8000.0, 13000.0, 18000.0]"
      ]
     },
     "execution_count": 285,
     "metadata": {},
     "output_type": "execute_result"
    }
   ],
   "source": [
    "# actor_1_fb_likes.quantile([.1, .2, .3, .4, .5, .6, .7, .8, .9])\n",
    "\n",
    "quantiles = [.1, .2, .3, .4, .5, .6, .7, .8, .9]  # Quantiles to calculate\n",
    "quantile_values = [actor_1_fb_likes.quantile(q) for q in quantiles]\n",
    "quantile_values"
   ]
  },
  {
   "cell_type": "code",
   "execution_count": 287,
   "metadata": {},
   "outputs": [
    {
     "data": {
      "text/html": [
       "<div><style>\n",
       ".dataframe > thead > tr,\n",
       ".dataframe > tbody > tr {\n",
       "  text-align: right;\n",
       "  white-space: pre-wrap;\n",
       "}\n",
       "</style>\n",
       "<small>shape: (4_916,)</small><table border=\"1\" class=\"dataframe\"><thead><tr><th>director_name</th></tr><tr><td>bool</td></tr></thead><tbody><tr><td>true</td></tr><tr><td>true</td></tr><tr><td>true</td></tr><tr><td>true</td></tr><tr><td>true</td></tr><tr><td>&hellip;</td></tr><tr><td>true</td></tr><tr><td>false</td></tr><tr><td>true</td></tr><tr><td>true</td></tr><tr><td>true</td></tr></tbody></table></div>"
      ],
      "text/plain": [
       "shape: (4_916,)\n",
       "Series: 'director_name' [bool]\n",
       "[\n",
       "\ttrue\n",
       "\ttrue\n",
       "\ttrue\n",
       "\ttrue\n",
       "\ttrue\n",
       "\t…\n",
       "\ttrue\n",
       "\tfalse\n",
       "\ttrue\n",
       "\ttrue\n",
       "\ttrue\n",
       "]"
      ]
     },
     "execution_count": 287,
     "metadata": {},
     "output_type": "execute_result"
    }
   ],
   "source": [
    "director.is_not_null()"
   ]
  },
  {
   "cell_type": "code",
   "execution_count": 290,
   "metadata": {},
   "outputs": [
    {
     "data": {
      "text/plain": [
       "4909"
      ]
     },
     "execution_count": 290,
     "metadata": {},
     "output_type": "execute_result"
    }
   ],
   "source": [
    "actor_1_fb_likes.count()"
   ]
  },
  {
   "cell_type": "code",
   "execution_count": 289,
   "metadata": {},
   "outputs": [
    {
     "data": {
      "text/plain": [
       "4916"
      ]
     },
     "execution_count": 289,
     "metadata": {},
     "output_type": "execute_result"
    }
   ],
   "source": [
    "# actor_1_fb_likes_filled = actor_1_fb_likes.fillna(0)\n",
    "actor_1_fb_likes_filled = actor_1_fb_likes.fill_null(0)\n",
    "actor_1_fb_likes_filled.count()"
   ]
  },
  {
   "cell_type": "code",
   "execution_count": 292,
   "metadata": {},
   "outputs": [
    {
     "data": {
      "text/plain": [
       "(4909,)"
      ]
     },
     "execution_count": 292,
     "metadata": {},
     "output_type": "execute_result"
    }
   ],
   "source": [
    "# actor_1_fb_likes_dropped = actor_1_fb_likes.dropna()\n",
    "actor_1_fb_likes_dropped = actor_1_fb_likes.drop_nulls()\n",
    "actor_1_fb_likes_dropped.shape"
   ]
  },
  {
   "cell_type": "markdown",
   "metadata": {},
   "source": [
    "## There's more..."
   ]
  },
  {
   "cell_type": "code",
   "execution_count": 296,
   "metadata": {},
   "outputs": [
    {
     "name": "stderr",
     "output_type": "stream",
     "text": [
      "thread 'polars-0' panicked at crates/polars-core/src/series/arithmetic/borrowed.rs:492:42:\n",
      "data types don't match: InvalidOperation(ErrString(\"div operation not supported for dtypes `str` and `str`\"))\n",
      "note: run with `RUST_BACKTRACE=1` environment variable to display a backtrace\n"
     ]
    },
    {
     "ename": "PanicException",
     "evalue": "data types don't match: InvalidOperation(ErrString(\"div operation not supported for dtypes `str` and `str`\"))",
     "output_type": "error",
     "traceback": [
      "\u001b[0;31m---------------------------------------------------------------------------\u001b[0m",
      "\u001b[0;31mPanicException\u001b[0m                            Traceback (most recent call last)",
      "\u001b[0;32m/tmp/ipykernel_38871/2906560262.py\u001b[0m in \u001b[0;36m?\u001b[0;34m()\u001b[0m\n\u001b[0;32m----> 6\u001b[0;31m \u001b[0;31m# director.value_counts(normalize=True)\u001b[0m\u001b[0;34m\u001b[0m\u001b[0;34m\u001b[0m\u001b[0;34m\u001b[0m\u001b[0m\n\u001b[0m\u001b[1;32m      7\u001b[0m \u001b[0;34m\u001b[0m\u001b[0m\n\u001b[1;32m      8\u001b[0m \u001b[0;34m\u001b[0m\u001b[0m\n\u001b[1;32m      9\u001b[0m \u001b[0mcounts\u001b[0m \u001b[0;34m=\u001b[0m \u001b[0mdirector\u001b[0m\u001b[0;34m.\u001b[0m\u001b[0mvalue_counts\u001b[0m\u001b[0;34m(\u001b[0m\u001b[0;34m)\u001b[0m\u001b[0;34m\u001b[0m\u001b[0;34m\u001b[0m\u001b[0m\n",
      "\u001b[0;32m~/.local/share/virtualenvs/stock_investing-VnnxBpBf/lib/python3.8/site-packages/polars/dataframe/frame.py\u001b[0m in \u001b[0;36m?\u001b[0;34m(self, other)\u001b[0m\n\u001b[1;32m    901\u001b[0m     \u001b[0;32mdef\u001b[0m \u001b[0m__truediv__\u001b[0m\u001b[0;34m(\u001b[0m\u001b[0mself\u001b[0m\u001b[0;34m,\u001b[0m \u001b[0mother\u001b[0m\u001b[0;34m:\u001b[0m \u001b[0mDataFrame\u001b[0m \u001b[0;34m|\u001b[0m \u001b[0mSeries\u001b[0m \u001b[0;34m|\u001b[0m \u001b[0mint\u001b[0m \u001b[0;34m|\u001b[0m \u001b[0mfloat\u001b[0m\u001b[0;34m)\u001b[0m \u001b[0;34m->\u001b[0m \u001b[0mDataFrame\u001b[0m\u001b[0;34m:\u001b[0m\u001b[0;34m\u001b[0m\u001b[0;34m\u001b[0m\u001b[0m\n\u001b[0;32m--> 902\u001b[0;31m         \u001b[0;32mreturn\u001b[0m \u001b[0mself\u001b[0m\u001b[0;34m.\u001b[0m\u001b[0m_div\u001b[0m\u001b[0;34m(\u001b[0m\u001b[0mother\u001b[0m\u001b[0;34m,\u001b[0m \u001b[0mfloordiv\u001b[0m\u001b[0;34m=\u001b[0m\u001b[0;32mFalse\u001b[0m\u001b[0;34m)\u001b[0m\u001b[0;34m\u001b[0m\u001b[0;34m\u001b[0m\u001b[0m\n\u001b[0m",
      "\u001b[0;32m~/.local/share/virtualenvs/stock_investing-VnnxBpBf/lib/python3.8/site-packages/polars/dataframe/frame.py\u001b[0m in \u001b[0;36m?\u001b[0;34m(self, other, floordiv)\u001b[0m\n\u001b[1;32m    871\u001b[0m             \u001b[0mother\u001b[0m \u001b[0;34m=\u001b[0m \u001b[0mDataFrame\u001b[0m\u001b[0;34m(\u001b[0m\u001b[0;34m[\u001b[0m\u001b[0ms\u001b[0m\u001b[0;34m.\u001b[0m\u001b[0malias\u001b[0m\u001b[0;34m(\u001b[0m\u001b[0;34mf\"n{i}\"\u001b[0m\u001b[0;34m)\u001b[0m \u001b[0;32mfor\u001b[0m \u001b[0mi\u001b[0m \u001b[0;32min\u001b[0m \u001b[0mrange\u001b[0m\u001b[0;34m(\u001b[0m\u001b[0mlen\u001b[0m\u001b[0;34m(\u001b[0m\u001b[0mself\u001b[0m\u001b[0;34m.\u001b[0m\u001b[0mcolumns\u001b[0m\u001b[0;34m)\u001b[0m\u001b[0;34m)\u001b[0m\u001b[0;34m]\u001b[0m\u001b[0;34m)\u001b[0m\u001b[0;34m\u001b[0m\u001b[0;34m\u001b[0m\u001b[0m\n\u001b[1;32m    872\u001b[0m \u001b[0;34m\u001b[0m\u001b[0m\n\u001b[1;32m    873\u001b[0m         \u001b[0morig_dtypes\u001b[0m \u001b[0;34m=\u001b[0m \u001b[0mother\u001b[0m\u001b[0;34m.\u001b[0m\u001b[0mdtypes\u001b[0m\u001b[0;34m\u001b[0m\u001b[0;34m\u001b[0m\u001b[0m\n\u001b[1;32m    874\u001b[0m         \u001b[0mother\u001b[0m \u001b[0;34m=\u001b[0m \u001b[0mself\u001b[0m\u001b[0;34m.\u001b[0m\u001b[0m_cast_all_from_to\u001b[0m\u001b[0;34m(\u001b[0m\u001b[0mother\u001b[0m\u001b[0;34m,\u001b[0m \u001b[0mINTEGER_DTYPES\u001b[0m\u001b[0;34m,\u001b[0m \u001b[0mFloat64\u001b[0m\u001b[0;34m)\u001b[0m\u001b[0;34m\u001b[0m\u001b[0;34m\u001b[0m\u001b[0m\n\u001b[0;32m--> 875\u001b[0;31m         \u001b[0mdf\u001b[0m \u001b[0;34m=\u001b[0m \u001b[0mself\u001b[0m\u001b[0;34m.\u001b[0m\u001b[0m_from_pydf\u001b[0m\u001b[0;34m(\u001b[0m\u001b[0mself\u001b[0m\u001b[0;34m.\u001b[0m\u001b[0m_df\u001b[0m\u001b[0;34m.\u001b[0m\u001b[0mdiv_df\u001b[0m\u001b[0;34m(\u001b[0m\u001b[0mother\u001b[0m\u001b[0;34m.\u001b[0m\u001b[0m_df\u001b[0m\u001b[0;34m)\u001b[0m\u001b[0;34m)\u001b[0m\u001b[0;34m\u001b[0m\u001b[0;34m\u001b[0m\u001b[0m\n\u001b[0m\u001b[1;32m    876\u001b[0m \u001b[0;34m\u001b[0m\u001b[0m\n\u001b[1;32m    877\u001b[0m         df = (\n\u001b[1;32m    878\u001b[0m             \u001b[0mdf\u001b[0m\u001b[0;34m\u001b[0m\u001b[0;34m\u001b[0m\u001b[0m\n",
      "\u001b[0;31mPanicException\u001b[0m: data types don't match: InvalidOperation(ErrString(\"div operation not supported for dtypes `str` and `str`\"))"
     ]
    }
   ],
   "source": [
    "# director.value_counts(normalize=True)\n",
    "\n",
    "\n",
    "counts = director.value_counts()\n",
    "total_count = counts.sum()\n",
    "normalized_counts = counts / total_count\n",
    "normalized_counts"
   ]
  },
  {
   "cell_type": "code",
   "execution_count": 186,
   "metadata": {},
   "outputs": [
    {
     "data": {
      "text/plain": [
       "True"
      ]
     },
     "execution_count": 186,
     "metadata": {},
     "output_type": "execute_result"
    }
   ],
   "source": [
    "director.hasnans"
   ]
  },
  {
   "cell_type": "code",
   "execution_count": 187,
   "metadata": {},
   "outputs": [
    {
     "data": {
      "text/plain": [
       "0        True\n",
       "1        True\n",
       "2        True\n",
       "3        True\n",
       "4        True\n",
       "        ...  \n",
       "4911     True\n",
       "4912    False\n",
       "4913     True\n",
       "4914     True\n",
       "4915     True\n",
       "Name: director_name, Length: 4916, dtype: bool"
      ]
     },
     "execution_count": 187,
     "metadata": {},
     "output_type": "execute_result"
    }
   ],
   "source": [
    "director.notnull()"
   ]
  },
  {
   "cell_type": "markdown",
   "metadata": {},
   "source": [
    "# Working with operators on a Series"
   ]
  },
  {
   "cell_type": "code",
   "execution_count": 188,
   "metadata": {
    "collapsed": true
   },
   "outputs": [],
   "source": [
    "pd.options.display.max_rows = 6"
   ]
  },
  {
   "cell_type": "code",
   "execution_count": 189,
   "metadata": {},
   "outputs": [
    {
     "data": {
      "text/plain": [
       "14"
      ]
     },
     "execution_count": 189,
     "metadata": {},
     "output_type": "execute_result"
    }
   ],
   "source": [
    "5 + 9    # plus operator example. Adds 5 and 9"
   ]
  },
  {
   "cell_type": "code",
   "execution_count": 190,
   "metadata": {},
   "outputs": [
    {
     "data": {
      "text/plain": [
       "16"
      ]
     },
     "execution_count": 190,
     "metadata": {},
     "output_type": "execute_result"
    }
   ],
   "source": [
    "4 ** 2   # exponentiation operator. Raises 4 to the second power"
   ]
  },
  {
   "cell_type": "code",
   "execution_count": 191,
   "metadata": {
    "collapsed": true
   },
   "outputs": [],
   "source": [
    "a = 10   # assignment operator."
   ]
  },
  {
   "cell_type": "code",
   "execution_count": 192,
   "metadata": {},
   "outputs": [
    {
     "data": {
      "text/plain": [
       "True"
      ]
     },
     "execution_count": 192,
     "metadata": {},
     "output_type": "execute_result"
    }
   ],
   "source": [
    "5 <= 9   # less than or equal to operator"
   ]
  },
  {
   "cell_type": "code",
   "execution_count": 193,
   "metadata": {},
   "outputs": [
    {
     "data": {
      "text/plain": [
       "'abcdefg'"
      ]
     },
     "execution_count": 193,
     "metadata": {},
     "output_type": "execute_result"
    }
   ],
   "source": [
    "'abcde' + 'fg'    # plus operator for strings. C"
   ]
  },
  {
   "cell_type": "code",
   "execution_count": 194,
   "metadata": {},
   "outputs": [
    {
     "data": {
      "text/plain": [
       "False"
      ]
     },
     "execution_count": 194,
     "metadata": {},
     "output_type": "execute_result"
    }
   ],
   "source": [
    "not (5 <= 9)      # not is an operator that is a reserved keyword and reverse a boolean"
   ]
  },
  {
   "cell_type": "code",
   "execution_count": 195,
   "metadata": {},
   "outputs": [
    {
     "data": {
      "text/plain": [
       "False"
      ]
     },
     "execution_count": 195,
     "metadata": {},
     "output_type": "execute_result"
    }
   ],
   "source": [
    "7 in [1, 2, 6]    # in operator checks for membership of a list"
   ]
  },
  {
   "cell_type": "code",
   "execution_count": 196,
   "metadata": {},
   "outputs": [
    {
     "data": {
      "text/plain": [
       "{2, 3}"
      ]
     },
     "execution_count": 196,
     "metadata": {},
     "output_type": "execute_result"
    }
   ],
   "source": [
    "set([1,2,3]) & set([2,3,4])"
   ]
  },
  {
   "cell_type": "code",
   "execution_count": 197,
   "metadata": {},
   "outputs": [],
   "source": [
    "# [1, 2, 3] - 3   # TypeError: unsupported operand type(s) for -: 'list' and 'int'"
   ]
  },
  {
   "cell_type": "code",
   "execution_count": 198,
   "metadata": {},
   "outputs": [],
   "source": [
    "# a = set([1,2,3])     \n",
    "# a[0]                 # the indexing operator does not work with sets | TypeError: 'set' object does not support indexing"
   ]
  },
  {
   "cell_type": "markdown",
   "metadata": {},
   "source": [
    "## Getting ready..."
   ]
  },
  {
   "cell_type": "code",
   "execution_count": 199,
   "metadata": {},
   "outputs": [
    {
     "data": {
      "text/plain": [
       "0       7.9\n",
       "1       7.1\n",
       "2       6.8\n",
       "       ... \n",
       "4913    6.3\n",
       "4914    6.3\n",
       "4915    6.6\n",
       "Name: imdb_score, Length: 4916, dtype: float64"
      ]
     },
     "execution_count": 199,
     "metadata": {},
     "output_type": "execute_result"
    }
   ],
   "source": [
    "movie_pl = pl.read_csv('data/movie.csv')\n",
    "# movie = pd.read_csv('data/movie.csv')\n",
    "imdb_score = movie['imdb_score']\n",
    "imdb_score"
   ]
  },
  {
   "cell_type": "code",
   "execution_count": 200,
   "metadata": {},
   "outputs": [
    {
     "data": {
      "text/plain": [
       "0       8.9\n",
       "1       8.1\n",
       "2       7.8\n",
       "       ... \n",
       "4913    7.3\n",
       "4914    7.3\n",
       "4915    7.6\n",
       "Name: imdb_score, Length: 4916, dtype: float64"
      ]
     },
     "execution_count": 200,
     "metadata": {},
     "output_type": "execute_result"
    }
   ],
   "source": [
    "imdb_score + 1"
   ]
  },
  {
   "cell_type": "code",
   "execution_count": 201,
   "metadata": {},
   "outputs": [
    {
     "data": {
      "text/plain": [
       "0       19.75\n",
       "1       17.75\n",
       "2       17.00\n",
       "        ...  \n",
       "4913    15.75\n",
       "4914    15.75\n",
       "4915    16.50\n",
       "Name: imdb_score, Length: 4916, dtype: float64"
      ]
     },
     "execution_count": 201,
     "metadata": {},
     "output_type": "execute_result"
    }
   ],
   "source": [
    "imdb_score * 2.5"
   ]
  },
  {
   "cell_type": "code",
   "execution_count": 202,
   "metadata": {},
   "outputs": [
    {
     "data": {
      "text/plain": [
       "0       1.0\n",
       "1       1.0\n",
       "2       0.0\n",
       "       ... \n",
       "4913    0.0\n",
       "4914    0.0\n",
       "4915    0.0\n",
       "Name: imdb_score, Length: 4916, dtype: float64"
      ]
     },
     "execution_count": 202,
     "metadata": {},
     "output_type": "execute_result"
    }
   ],
   "source": [
    "imdb_score // 7"
   ]
  },
  {
   "cell_type": "code",
   "execution_count": 203,
   "metadata": {},
   "outputs": [
    {
     "data": {
      "text/plain": [
       "0        True\n",
       "1        True\n",
       "2       False\n",
       "        ...  \n",
       "4913    False\n",
       "4914    False\n",
       "4915    False\n",
       "Name: imdb_score, Length: 4916, dtype: bool"
      ]
     },
     "execution_count": 203,
     "metadata": {},
     "output_type": "execute_result"
    }
   ],
   "source": [
    "imdb_score > 7"
   ]
  },
  {
   "cell_type": "code",
   "execution_count": 204,
   "metadata": {
    "collapsed": true
   },
   "outputs": [],
   "source": [
    "director = movie['director_name']"
   ]
  },
  {
   "cell_type": "code",
   "execution_count": 205,
   "metadata": {},
   "outputs": [
    {
     "data": {
      "text/plain": [
       "0        True\n",
       "1       False\n",
       "2       False\n",
       "        ...  \n",
       "4913    False\n",
       "4914    False\n",
       "4915    False\n",
       "Name: director_name, Length: 4916, dtype: bool"
      ]
     },
     "execution_count": 205,
     "metadata": {},
     "output_type": "execute_result"
    }
   ],
   "source": [
    "director == 'James Cameron'"
   ]
  },
  {
   "cell_type": "markdown",
   "metadata": {},
   "source": [
    "## There's more..."
   ]
  },
  {
   "cell_type": "code",
   "execution_count": 206,
   "metadata": {},
   "outputs": [
    {
     "data": {
      "text/plain": [
       "0       8.9\n",
       "1       8.1\n",
       "2       7.8\n",
       "       ... \n",
       "4913    7.3\n",
       "4914    7.3\n",
       "4915    7.6\n",
       "Name: imdb_score, Length: 4916, dtype: float64"
      ]
     },
     "execution_count": 206,
     "metadata": {},
     "output_type": "execute_result"
    }
   ],
   "source": [
    "imdb_score.add(1)              # imdb_score + 1"
   ]
  },
  {
   "cell_type": "code",
   "execution_count": 207,
   "metadata": {},
   "outputs": [
    {
     "data": {
      "text/plain": [
       "0       19.75\n",
       "1       17.75\n",
       "2       17.00\n",
       "        ...  \n",
       "4913    15.75\n",
       "4914    15.75\n",
       "4915    16.50\n",
       "Name: imdb_score, Length: 4916, dtype: float64"
      ]
     },
     "execution_count": 207,
     "metadata": {},
     "output_type": "execute_result"
    }
   ],
   "source": [
    "imdb_score.mul(2.5)            # imdb_score * 2.5"
   ]
  },
  {
   "cell_type": "code",
   "execution_count": 208,
   "metadata": {},
   "outputs": [
    {
     "data": {
      "text/plain": [
       "0       1.0\n",
       "1       1.0\n",
       "2       0.0\n",
       "       ... \n",
       "4913    0.0\n",
       "4914    0.0\n",
       "4915    0.0\n",
       "Name: imdb_score, Length: 4916, dtype: float64"
      ]
     },
     "execution_count": 208,
     "metadata": {},
     "output_type": "execute_result"
    }
   ],
   "source": [
    "imdb_score.floordiv(7)         # imdb_score // 7"
   ]
  },
  {
   "cell_type": "code",
   "execution_count": 209,
   "metadata": {},
   "outputs": [
    {
     "data": {
      "text/plain": [
       "0        True\n",
       "1        True\n",
       "2       False\n",
       "        ...  \n",
       "4913    False\n",
       "4914    False\n",
       "4915    False\n",
       "Name: imdb_score, Length: 4916, dtype: bool"
      ]
     },
     "execution_count": 209,
     "metadata": {},
     "output_type": "execute_result"
    }
   ],
   "source": [
    "imdb_score.gt(7)               # imdb_score > 7"
   ]
  },
  {
   "cell_type": "code",
   "execution_count": 210,
   "metadata": {},
   "outputs": [
    {
     "data": {
      "text/plain": [
       "0        True\n",
       "1       False\n",
       "2       False\n",
       "        ...  \n",
       "4913    False\n",
       "4914    False\n",
       "4915    False\n",
       "Name: director_name, Length: 4916, dtype: bool"
      ]
     },
     "execution_count": 210,
     "metadata": {},
     "output_type": "execute_result"
    }
   ],
   "source": [
    "director.eq('James Cameron')   # director == 'James Cameron'"
   ]
  },
  {
   "cell_type": "code",
   "execution_count": 211,
   "metadata": {},
   "outputs": [
    {
     "data": {
      "text/plain": [
       "0       2\n",
       "1       2\n",
       "2       1\n",
       "       ..\n",
       "4913    1\n",
       "4914    1\n",
       "4915    1\n",
       "Name: imdb_score, Length: 4916, dtype: int64"
      ]
     },
     "execution_count": 211,
     "metadata": {},
     "output_type": "execute_result"
    }
   ],
   "source": [
    "imdb_score.astype(int).mod(5)"
   ]
  },
  {
   "cell_type": "code",
   "execution_count": 212,
   "metadata": {
    "collapsed": true
   },
   "outputs": [],
   "source": [
    "a = type(1)"
   ]
  },
  {
   "cell_type": "code",
   "execution_count": 213,
   "metadata": {},
   "outputs": [
    {
     "data": {
      "text/plain": [
       "type"
      ]
     },
     "execution_count": 213,
     "metadata": {},
     "output_type": "execute_result"
    }
   ],
   "source": [
    "type(a)"
   ]
  },
  {
   "cell_type": "code",
   "execution_count": 214,
   "metadata": {
    "collapsed": true
   },
   "outputs": [],
   "source": [
    "a = type(imdb_score)"
   ]
  },
  {
   "cell_type": "code",
   "execution_count": 215,
   "metadata": {},
   "outputs": [
    {
     "data": {
      "text/plain": [
       "0    1\n",
       "1    2\n",
       "2    3\n",
       "dtype: int64"
      ]
     },
     "execution_count": 215,
     "metadata": {},
     "output_type": "execute_result"
    }
   ],
   "source": [
    "a([1,2,3])"
   ]
  },
  {
   "cell_type": "markdown",
   "metadata": {},
   "source": [
    "# Chaining Series methods together"
   ]
  },
  {
   "cell_type": "code",
   "execution_count": 216,
   "metadata": {
    "collapsed": true
   },
   "outputs": [],
   "source": [
    "movie_pl = pl.read_csv('data/movie.csv')\n",
    "# movie = pd.read_csv('data/movie.csv')\n",
    "actor_1_fb_likes = movie['actor_1_facebook_likes']\n",
    "director = movie['director_name']"
   ]
  },
  {
   "cell_type": "code",
   "execution_count": 217,
   "metadata": {},
   "outputs": [
    {
     "data": {
      "text/plain": [
       "director_name\n",
       "Steven Spielberg    26\n",
       "Woody Allen         22\n",
       "Martin Scorsese     20\n",
       "Name: count, dtype: int64"
      ]
     },
     "execution_count": 217,
     "metadata": {},
     "output_type": "execute_result"
    }
   ],
   "source": [
    "director.value_counts().head(3)"
   ]
  },
  {
   "cell_type": "code",
   "execution_count": 218,
   "metadata": {},
   "outputs": [
    {
     "data": {
      "text/plain": [
       "7"
      ]
     },
     "execution_count": 218,
     "metadata": {},
     "output_type": "execute_result"
    }
   ],
   "source": [
    "actor_1_fb_likes.isnull().sum()"
   ]
  },
  {
   "cell_type": "code",
   "execution_count": 219,
   "metadata": {},
   "outputs": [
    {
     "data": {
      "text/plain": [
       "dtype('float64')"
      ]
     },
     "execution_count": 219,
     "metadata": {},
     "output_type": "execute_result"
    }
   ],
   "source": [
    "actor_1_fb_likes.dtype"
   ]
  },
  {
   "cell_type": "code",
   "execution_count": 220,
   "metadata": {},
   "outputs": [
    {
     "data": {
      "text/plain": [
       "0     1000\n",
       "1    40000\n",
       "2    11000\n",
       "3    27000\n",
       "4      131\n",
       "Name: actor_1_facebook_likes, dtype: int64"
      ]
     },
     "execution_count": 220,
     "metadata": {},
     "output_type": "execute_result"
    }
   ],
   "source": [
    "actor_1_fb_likes.fillna(0)\\\n",
    "                .astype(int)\\\n",
    "                .head()"
   ]
  },
  {
   "cell_type": "markdown",
   "metadata": {},
   "source": [
    "## There's more..."
   ]
  },
  {
   "cell_type": "code",
   "execution_count": 221,
   "metadata": {},
   "outputs": [
    {
     "data": {
      "text/plain": [
       "0.0014239218877135883"
      ]
     },
     "execution_count": 221,
     "metadata": {},
     "output_type": "execute_result"
    }
   ],
   "source": [
    "actor_1_fb_likes.isnull().mean()"
   ]
  },
  {
   "cell_type": "code",
   "execution_count": 222,
   "metadata": {},
   "outputs": [
    {
     "data": {
      "text/plain": [
       "0     1000\n",
       "1    40000\n",
       "2    11000\n",
       "3    27000\n",
       "4      131\n",
       "Name: actor_1_facebook_likes, dtype: int64"
      ]
     },
     "execution_count": 222,
     "metadata": {},
     "output_type": "execute_result"
    }
   ],
   "source": [
    "(actor_1_fb_likes.fillna(0)\n",
    "                 .astype(int)\n",
    "                 .head())"
   ]
  },
  {
   "cell_type": "markdown",
   "metadata": {},
   "source": [
    "# Making the index meaningful"
   ]
  },
  {
   "cell_type": "code",
   "execution_count": 223,
   "metadata": {
    "collapsed": true
   },
   "outputs": [],
   "source": [
    "movie_pl = pl.read_csv('data/movie.csv')\n",
    "# movie = pd.read_csv('data/movie.csv')"
   ]
  },
  {
   "cell_type": "code",
   "execution_count": 224,
   "metadata": {},
   "outputs": [
    {
     "data": {
      "text/plain": [
       "(4916, 33)"
      ]
     },
     "execution_count": 224,
     "metadata": {},
     "output_type": "execute_result"
    }
   ],
   "source": [
    "movie.shape"
   ]
  },
  {
   "cell_type": "code",
   "execution_count": 225,
   "metadata": {},
   "outputs": [
    {
     "data": {
      "text/html": [
       "<div>\n",
       "<style scoped>\n",
       "    .dataframe tbody tr th:only-of-type {\n",
       "        vertical-align: middle;\n",
       "    }\n",
       "\n",
       "    .dataframe tbody tr th {\n",
       "        vertical-align: top;\n",
       "    }\n",
       "\n",
       "    .dataframe thead th {\n",
       "        text-align: right;\n",
       "    }\n",
       "</style>\n",
       "<table border=\"1\" class=\"dataframe\">\n",
       "  <thead>\n",
       "    <tr style=\"text-align: right;\">\n",
       "      <th></th>\n",
       "      <th>color</th>\n",
       "      <th>director_name</th>\n",
       "      <th>num_critic_for_reviews</th>\n",
       "      <th>duration</th>\n",
       "      <th>...</th>\n",
       "      <th>has_seen</th>\n",
       "      <th>is_cast_likes_more</th>\n",
       "      <th>actor_total_facebook_likes</th>\n",
       "      <th>pct_actor_cast_like</th>\n",
       "    </tr>\n",
       "    <tr>\n",
       "      <th>movie_title</th>\n",
       "      <th></th>\n",
       "      <th></th>\n",
       "      <th></th>\n",
       "      <th></th>\n",
       "      <th></th>\n",
       "      <th></th>\n",
       "      <th></th>\n",
       "      <th></th>\n",
       "      <th></th>\n",
       "    </tr>\n",
       "  </thead>\n",
       "  <tbody>\n",
       "    <tr>\n",
       "      <th>Avatar</th>\n",
       "      <td>Color</td>\n",
       "      <td>James Cameron</td>\n",
       "      <td>723.0</td>\n",
       "      <td>178.0</td>\n",
       "      <td>...</td>\n",
       "      <td>0</td>\n",
       "      <td>True</td>\n",
       "      <td>2791.0</td>\n",
       "      <td>0.577369</td>\n",
       "    </tr>\n",
       "    <tr>\n",
       "      <th>Pirates of the Caribbean: At World's End</th>\n",
       "      <td>Color</td>\n",
       "      <td>Gore Verbinski</td>\n",
       "      <td>302.0</td>\n",
       "      <td>169.0</td>\n",
       "      <td>...</td>\n",
       "      <td>0</td>\n",
       "      <td>True</td>\n",
       "      <td>46000.0</td>\n",
       "      <td>0.951396</td>\n",
       "    </tr>\n",
       "    <tr>\n",
       "      <th>Spectre</th>\n",
       "      <td>Color</td>\n",
       "      <td>Sam Mendes</td>\n",
       "      <td>602.0</td>\n",
       "      <td>148.0</td>\n",
       "      <td>...</td>\n",
       "      <td>0</td>\n",
       "      <td>True</td>\n",
       "      <td>11554.0</td>\n",
       "      <td>0.987521</td>\n",
       "    </tr>\n",
       "    <tr>\n",
       "      <th>...</th>\n",
       "      <td>...</td>\n",
       "      <td>...</td>\n",
       "      <td>...</td>\n",
       "      <td>...</td>\n",
       "      <td>...</td>\n",
       "      <td>...</td>\n",
       "      <td>...</td>\n",
       "      <td>...</td>\n",
       "      <td>...</td>\n",
       "    </tr>\n",
       "    <tr>\n",
       "      <th>A Plague So Pleasant</th>\n",
       "      <td>Color</td>\n",
       "      <td>Benjamin Roberds</td>\n",
       "      <td>13.0</td>\n",
       "      <td>76.0</td>\n",
       "      <td>...</td>\n",
       "      <td>0</td>\n",
       "      <td>True</td>\n",
       "      <td>0.0</td>\n",
       "      <td>NaN</td>\n",
       "    </tr>\n",
       "    <tr>\n",
       "      <th>Shanghai Calling</th>\n",
       "      <td>Color</td>\n",
       "      <td>Daniel Hsia</td>\n",
       "      <td>14.0</td>\n",
       "      <td>100.0</td>\n",
       "      <td>...</td>\n",
       "      <td>0</td>\n",
       "      <td>True</td>\n",
       "      <td>2154.0</td>\n",
       "      <td>0.902766</td>\n",
       "    </tr>\n",
       "    <tr>\n",
       "      <th>My Date with Drew</th>\n",
       "      <td>Color</td>\n",
       "      <td>Jon Gunn</td>\n",
       "      <td>43.0</td>\n",
       "      <td>90.0</td>\n",
       "      <td>...</td>\n",
       "      <td>0</td>\n",
       "      <td>True</td>\n",
       "      <td>125.0</td>\n",
       "      <td>0.766871</td>\n",
       "    </tr>\n",
       "  </tbody>\n",
       "</table>\n",
       "<p>4916 rows × 32 columns</p>\n",
       "</div>"
      ],
      "text/plain": [
       "                                          color     director_name  \\\n",
       "movie_title                                                         \n",
       "Avatar                                    Color     James Cameron   \n",
       "Pirates of the Caribbean: At World's End  Color    Gore Verbinski   \n",
       "Spectre                                   Color        Sam Mendes   \n",
       "...                                         ...               ...   \n",
       "A Plague So Pleasant                      Color  Benjamin Roberds   \n",
       "Shanghai Calling                          Color       Daniel Hsia   \n",
       "My Date with Drew                         Color          Jon Gunn   \n",
       "\n",
       "                                          num_critic_for_reviews  duration  \\\n",
       "movie_title                                                                  \n",
       "Avatar                                                     723.0     178.0   \n",
       "Pirates of the Caribbean: At World's End                   302.0     169.0   \n",
       "Spectre                                                    602.0     148.0   \n",
       "...                                                          ...       ...   \n",
       "A Plague So Pleasant                                        13.0      76.0   \n",
       "Shanghai Calling                                            14.0     100.0   \n",
       "My Date with Drew                                           43.0      90.0   \n",
       "\n",
       "                                          ...  has_seen  is_cast_likes_more  \\\n",
       "movie_title                               ...                                 \n",
       "Avatar                                    ...         0                True   \n",
       "Pirates of the Caribbean: At World's End  ...         0                True   \n",
       "Spectre                                   ...         0                True   \n",
       "...                                       ...       ...                 ...   \n",
       "A Plague So Pleasant                      ...         0                True   \n",
       "Shanghai Calling                          ...         0                True   \n",
       "My Date with Drew                         ...         0                True   \n",
       "\n",
       "                                         actor_total_facebook_likes  \\\n",
       "movie_title                                                           \n",
       "Avatar                                                       2791.0   \n",
       "Pirates of the Caribbean: At World's End                    46000.0   \n",
       "Spectre                                                     11554.0   \n",
       "...                                                             ...   \n",
       "A Plague So Pleasant                                            0.0   \n",
       "Shanghai Calling                                             2154.0   \n",
       "My Date with Drew                                             125.0   \n",
       "\n",
       "                                          pct_actor_cast_like  \n",
       "movie_title                                                    \n",
       "Avatar                                               0.577369  \n",
       "Pirates of the Caribbean: At World's End             0.951396  \n",
       "Spectre                                              0.987521  \n",
       "...                                                       ...  \n",
       "A Plague So Pleasant                                      NaN  \n",
       "Shanghai Calling                                     0.902766  \n",
       "My Date with Drew                                    0.766871  \n",
       "\n",
       "[4916 rows x 32 columns]"
      ]
     },
     "execution_count": 225,
     "metadata": {},
     "output_type": "execute_result"
    }
   ],
   "source": [
    "movie2 = movie.set_index('movie_title')\n",
    "movie2"
   ]
  },
  {
   "cell_type": "code",
   "execution_count": 226,
   "metadata": {
    "scrolled": true
   },
   "outputs": [],
   "source": [
    "movie_pl = pl.read_csv('data/movie.csv')\n",
    "# pd.read_csv('data/movie.csv', index_col='movie_title')"
   ]
  },
  {
   "cell_type": "markdown",
   "metadata": {},
   "source": [
    "# There's more..."
   ]
  },
  {
   "cell_type": "code",
   "execution_count": 227,
   "metadata": {},
   "outputs": [
    {
     "data": {
      "text/html": [
       "<div>\n",
       "<style scoped>\n",
       "    .dataframe tbody tr th:only-of-type {\n",
       "        vertical-align: middle;\n",
       "    }\n",
       "\n",
       "    .dataframe tbody tr th {\n",
       "        vertical-align: top;\n",
       "    }\n",
       "\n",
       "    .dataframe thead th {\n",
       "        text-align: right;\n",
       "    }\n",
       "</style>\n",
       "<table border=\"1\" class=\"dataframe\">\n",
       "  <thead>\n",
       "    <tr style=\"text-align: right;\">\n",
       "      <th></th>\n",
       "      <th>movie_title</th>\n",
       "      <th>color</th>\n",
       "      <th>director_name</th>\n",
       "      <th>num_critic_for_reviews</th>\n",
       "      <th>...</th>\n",
       "      <th>has_seen</th>\n",
       "      <th>is_cast_likes_more</th>\n",
       "      <th>actor_total_facebook_likes</th>\n",
       "      <th>pct_actor_cast_like</th>\n",
       "    </tr>\n",
       "  </thead>\n",
       "  <tbody>\n",
       "    <tr>\n",
       "      <th>0</th>\n",
       "      <td>Avatar</td>\n",
       "      <td>Color</td>\n",
       "      <td>James Cameron</td>\n",
       "      <td>723.0</td>\n",
       "      <td>...</td>\n",
       "      <td>0</td>\n",
       "      <td>True</td>\n",
       "      <td>2791.0</td>\n",
       "      <td>0.577369</td>\n",
       "    </tr>\n",
       "    <tr>\n",
       "      <th>1</th>\n",
       "      <td>Pirates of the Caribbean: At World's End</td>\n",
       "      <td>Color</td>\n",
       "      <td>Gore Verbinski</td>\n",
       "      <td>302.0</td>\n",
       "      <td>...</td>\n",
       "      <td>0</td>\n",
       "      <td>True</td>\n",
       "      <td>46000.0</td>\n",
       "      <td>0.951396</td>\n",
       "    </tr>\n",
       "    <tr>\n",
       "      <th>2</th>\n",
       "      <td>Spectre</td>\n",
       "      <td>Color</td>\n",
       "      <td>Sam Mendes</td>\n",
       "      <td>602.0</td>\n",
       "      <td>...</td>\n",
       "      <td>0</td>\n",
       "      <td>True</td>\n",
       "      <td>11554.0</td>\n",
       "      <td>0.987521</td>\n",
       "    </tr>\n",
       "    <tr>\n",
       "      <th>...</th>\n",
       "      <td>...</td>\n",
       "      <td>...</td>\n",
       "      <td>...</td>\n",
       "      <td>...</td>\n",
       "      <td>...</td>\n",
       "      <td>...</td>\n",
       "      <td>...</td>\n",
       "      <td>...</td>\n",
       "      <td>...</td>\n",
       "    </tr>\n",
       "    <tr>\n",
       "      <th>4913</th>\n",
       "      <td>A Plague So Pleasant</td>\n",
       "      <td>Color</td>\n",
       "      <td>Benjamin Roberds</td>\n",
       "      <td>13.0</td>\n",
       "      <td>...</td>\n",
       "      <td>0</td>\n",
       "      <td>True</td>\n",
       "      <td>0.0</td>\n",
       "      <td>NaN</td>\n",
       "    </tr>\n",
       "    <tr>\n",
       "      <th>4914</th>\n",
       "      <td>Shanghai Calling</td>\n",
       "      <td>Color</td>\n",
       "      <td>Daniel Hsia</td>\n",
       "      <td>14.0</td>\n",
       "      <td>...</td>\n",
       "      <td>0</td>\n",
       "      <td>True</td>\n",
       "      <td>2154.0</td>\n",
       "      <td>0.902766</td>\n",
       "    </tr>\n",
       "    <tr>\n",
       "      <th>4915</th>\n",
       "      <td>My Date with Drew</td>\n",
       "      <td>Color</td>\n",
       "      <td>Jon Gunn</td>\n",
       "      <td>43.0</td>\n",
       "      <td>...</td>\n",
       "      <td>0</td>\n",
       "      <td>True</td>\n",
       "      <td>125.0</td>\n",
       "      <td>0.766871</td>\n",
       "    </tr>\n",
       "  </tbody>\n",
       "</table>\n",
       "<p>4916 rows × 33 columns</p>\n",
       "</div>"
      ],
      "text/plain": [
       "                                   movie_title  color     director_name  \\\n",
       "0                                       Avatar  Color     James Cameron   \n",
       "1     Pirates of the Caribbean: At World's End  Color    Gore Verbinski   \n",
       "2                                      Spectre  Color        Sam Mendes   \n",
       "...                                        ...    ...               ...   \n",
       "4913                      A Plague So Pleasant  Color  Benjamin Roberds   \n",
       "4914                          Shanghai Calling  Color       Daniel Hsia   \n",
       "4915                         My Date with Drew  Color          Jon Gunn   \n",
       "\n",
       "      num_critic_for_reviews  ...  has_seen  is_cast_likes_more  \\\n",
       "0                      723.0  ...         0                True   \n",
       "1                      302.0  ...         0                True   \n",
       "2                      602.0  ...         0                True   \n",
       "...                      ...  ...       ...                 ...   \n",
       "4913                    13.0  ...         0                True   \n",
       "4914                    14.0  ...         0                True   \n",
       "4915                    43.0  ...         0                True   \n",
       "\n",
       "      actor_total_facebook_likes pct_actor_cast_like  \n",
       "0                         2791.0            0.577369  \n",
       "1                        46000.0            0.951396  \n",
       "2                        11554.0            0.987521  \n",
       "...                          ...                 ...  \n",
       "4913                         0.0                 NaN  \n",
       "4914                      2154.0            0.902766  \n",
       "4915                       125.0            0.766871  \n",
       "\n",
       "[4916 rows x 33 columns]"
      ]
     },
     "execution_count": 227,
     "metadata": {},
     "output_type": "execute_result"
    }
   ],
   "source": [
    "movie2.reset_index()"
   ]
  },
  {
   "cell_type": "markdown",
   "metadata": {},
   "source": [
    "# Renaming row and column names"
   ]
  },
  {
   "cell_type": "code",
   "execution_count": 228,
   "metadata": {
    "collapsed": true
   },
   "outputs": [],
   "source": [
    "movie_pl = pl.read_csv('data/movie.csv')\n",
    "# movie = pd.read_csv('data/movie.csv', index_col='movie_title')"
   ]
  },
  {
   "cell_type": "code",
   "execution_count": 229,
   "metadata": {
    "collapsed": true
   },
   "outputs": [],
   "source": [
    "idx_rename = {'Avatar':'Ratava', 'Spectre': 'Ertceps'} \n",
    "col_rename = {'director_name':'Director Name', \n",
    "              'num_critic_for_reviews': 'Critical Reviews'} "
   ]
  },
  {
   "cell_type": "code",
   "execution_count": 230,
   "metadata": {},
   "outputs": [
    {
     "data": {
      "text/html": [
       "<div>\n",
       "<style scoped>\n",
       "    .dataframe tbody tr th:only-of-type {\n",
       "        vertical-align: middle;\n",
       "    }\n",
       "\n",
       "    .dataframe tbody tr th {\n",
       "        vertical-align: top;\n",
       "    }\n",
       "\n",
       "    .dataframe thead th {\n",
       "        text-align: right;\n",
       "    }\n",
       "</style>\n",
       "<table border=\"1\" class=\"dataframe\">\n",
       "  <thead>\n",
       "    <tr style=\"text-align: right;\">\n",
       "      <th></th>\n",
       "      <th>color</th>\n",
       "      <th>Director Name</th>\n",
       "      <th>Critical Reviews</th>\n",
       "      <th>duration</th>\n",
       "      <th>...</th>\n",
       "      <th>has_seen</th>\n",
       "      <th>is_cast_likes_more</th>\n",
       "      <th>actor_total_facebook_likes</th>\n",
       "      <th>pct_actor_cast_like</th>\n",
       "    </tr>\n",
       "  </thead>\n",
       "  <tbody>\n",
       "    <tr>\n",
       "      <th>0</th>\n",
       "      <td>Color</td>\n",
       "      <td>James Cameron</td>\n",
       "      <td>723.0</td>\n",
       "      <td>178.0</td>\n",
       "      <td>...</td>\n",
       "      <td>0</td>\n",
       "      <td>True</td>\n",
       "      <td>2791.0</td>\n",
       "      <td>0.577369</td>\n",
       "    </tr>\n",
       "    <tr>\n",
       "      <th>1</th>\n",
       "      <td>Color</td>\n",
       "      <td>Gore Verbinski</td>\n",
       "      <td>302.0</td>\n",
       "      <td>169.0</td>\n",
       "      <td>...</td>\n",
       "      <td>0</td>\n",
       "      <td>True</td>\n",
       "      <td>46000.0</td>\n",
       "      <td>0.951396</td>\n",
       "    </tr>\n",
       "    <tr>\n",
       "      <th>2</th>\n",
       "      <td>Color</td>\n",
       "      <td>Sam Mendes</td>\n",
       "      <td>602.0</td>\n",
       "      <td>148.0</td>\n",
       "      <td>...</td>\n",
       "      <td>0</td>\n",
       "      <td>True</td>\n",
       "      <td>11554.0</td>\n",
       "      <td>0.987521</td>\n",
       "    </tr>\n",
       "    <tr>\n",
       "      <th>3</th>\n",
       "      <td>Color</td>\n",
       "      <td>Christopher Nolan</td>\n",
       "      <td>813.0</td>\n",
       "      <td>164.0</td>\n",
       "      <td>...</td>\n",
       "      <td>0</td>\n",
       "      <td>True</td>\n",
       "      <td>73000.0</td>\n",
       "      <td>0.683783</td>\n",
       "    </tr>\n",
       "    <tr>\n",
       "      <th>4</th>\n",
       "      <td>NaN</td>\n",
       "      <td>Doug Walker</td>\n",
       "      <td>NaN</td>\n",
       "      <td>NaN</td>\n",
       "      <td>...</td>\n",
       "      <td>0</td>\n",
       "      <td>True</td>\n",
       "      <td>0.0</td>\n",
       "      <td>0.000000</td>\n",
       "    </tr>\n",
       "  </tbody>\n",
       "</table>\n",
       "<p>5 rows × 33 columns</p>\n",
       "</div>"
      ],
      "text/plain": [
       "   color      Director Name  Critical Reviews  duration  ...  has_seen  \\\n",
       "0  Color      James Cameron             723.0     178.0  ...         0   \n",
       "1  Color     Gore Verbinski             302.0     169.0  ...         0   \n",
       "2  Color         Sam Mendes             602.0     148.0  ...         0   \n",
       "3  Color  Christopher Nolan             813.0     164.0  ...         0   \n",
       "4    NaN        Doug Walker               NaN       NaN  ...         0   \n",
       "\n",
       "   is_cast_likes_more actor_total_facebook_likes  pct_actor_cast_like  \n",
       "0                True                     2791.0             0.577369  \n",
       "1                True                    46000.0             0.951396  \n",
       "2                True                    11554.0             0.987521  \n",
       "3                True                    73000.0             0.683783  \n",
       "4                True                        0.0             0.000000  \n",
       "\n",
       "[5 rows x 33 columns]"
      ]
     },
     "execution_count": 230,
     "metadata": {},
     "output_type": "execute_result"
    }
   ],
   "source": [
    "movie.rename(index=idx_rename, columns=col_rename).head()"
   ]
  },
  {
   "cell_type": "markdown",
   "metadata": {
    "collapsed": true
   },
   "source": [
    "# There's more"
   ]
  },
  {
   "cell_type": "code",
   "execution_count": 231,
   "metadata": {
    "collapsed": true
   },
   "outputs": [],
   "source": [
    "movie_pl = pl.read_csv('data/movie.csv')\n",
    "# movie = pd.read_csv('data/movie.csv', index_col='movie_title')\n",
    "index = movie.index\n",
    "columns = movie.columns\n",
    "\n",
    "# using tolist function\n",
    "index_list = index.tolist()\n",
    "column_list = columns.tolist()\n",
    "\n",
    "index_list[0] = 'Ratava'\n",
    "index_list[2] = 'Ertceps'\n",
    "column_list[1] = 'Director Name'\n",
    "column_list[2] = 'Critical Reviews'"
   ]
  },
  {
   "cell_type": "code",
   "execution_count": 232,
   "metadata": {},
   "outputs": [
    {
     "name": "stdout",
     "output_type": "stream",
     "text": [
      "['Ratava', 1, 'Ertceps', 3, 4]\n"
     ]
    }
   ],
   "source": [
    "print(index_list[:5])"
   ]
  },
  {
   "cell_type": "code",
   "execution_count": 233,
   "metadata": {},
   "outputs": [
    {
     "name": "stdout",
     "output_type": "stream",
     "text": [
      "['color', 'Director Name', 'Critical Reviews', 'duration', 'director_facebook_likes', 'actor_3_facebook_likes', 'actor_2_name', 'actor_1_facebook_likes', 'gross', 'profit', 'genres', 'actor_1_name', 'movie_title', 'num_voted_users', 'cast_total_facebook_likes', 'actor_3_name', 'facenumber_in_poster', 'plot_keywords', 'movie_imdb_link', 'num_user_for_reviews', 'language', 'country', 'content_rating', 'budget', 'title_year', 'actor_2_facebook_likes', 'imdb_score', 'aspect_ratio', 'movie_facebook_likes', 'has_seen', 'is_cast_likes_more', 'actor_total_facebook_likes', 'pct_actor_cast_like']\n"
     ]
    }
   ],
   "source": [
    "print(column_list)"
   ]
  },
  {
   "cell_type": "code",
   "execution_count": 234,
   "metadata": {
    "collapsed": true
   },
   "outputs": [],
   "source": [
    "movie.index = index_list\n",
    "movie.columns = column_list"
   ]
  },
  {
   "cell_type": "code",
   "execution_count": 235,
   "metadata": {},
   "outputs": [
    {
     "data": {
      "text/html": [
       "<div>\n",
       "<style scoped>\n",
       "    .dataframe tbody tr th:only-of-type {\n",
       "        vertical-align: middle;\n",
       "    }\n",
       "\n",
       "    .dataframe tbody tr th {\n",
       "        vertical-align: top;\n",
       "    }\n",
       "\n",
       "    .dataframe thead th {\n",
       "        text-align: right;\n",
       "    }\n",
       "</style>\n",
       "<table border=\"1\" class=\"dataframe\">\n",
       "  <thead>\n",
       "    <tr style=\"text-align: right;\">\n",
       "      <th></th>\n",
       "      <th>color</th>\n",
       "      <th>Director Name</th>\n",
       "      <th>Critical Reviews</th>\n",
       "      <th>duration</th>\n",
       "      <th>...</th>\n",
       "      <th>has_seen</th>\n",
       "      <th>is_cast_likes_more</th>\n",
       "      <th>actor_total_facebook_likes</th>\n",
       "      <th>pct_actor_cast_like</th>\n",
       "    </tr>\n",
       "  </thead>\n",
       "  <tbody>\n",
       "    <tr>\n",
       "      <th>Ratava</th>\n",
       "      <td>Color</td>\n",
       "      <td>James Cameron</td>\n",
       "      <td>723.0</td>\n",
       "      <td>178.0</td>\n",
       "      <td>...</td>\n",
       "      <td>0</td>\n",
       "      <td>True</td>\n",
       "      <td>2791.0</td>\n",
       "      <td>0.577369</td>\n",
       "    </tr>\n",
       "    <tr>\n",
       "      <th>1</th>\n",
       "      <td>Color</td>\n",
       "      <td>Gore Verbinski</td>\n",
       "      <td>302.0</td>\n",
       "      <td>169.0</td>\n",
       "      <td>...</td>\n",
       "      <td>0</td>\n",
       "      <td>True</td>\n",
       "      <td>46000.0</td>\n",
       "      <td>0.951396</td>\n",
       "    </tr>\n",
       "    <tr>\n",
       "      <th>Ertceps</th>\n",
       "      <td>Color</td>\n",
       "      <td>Sam Mendes</td>\n",
       "      <td>602.0</td>\n",
       "      <td>148.0</td>\n",
       "      <td>...</td>\n",
       "      <td>0</td>\n",
       "      <td>True</td>\n",
       "      <td>11554.0</td>\n",
       "      <td>0.987521</td>\n",
       "    </tr>\n",
       "    <tr>\n",
       "      <th>3</th>\n",
       "      <td>Color</td>\n",
       "      <td>Christopher Nolan</td>\n",
       "      <td>813.0</td>\n",
       "      <td>164.0</td>\n",
       "      <td>...</td>\n",
       "      <td>0</td>\n",
       "      <td>True</td>\n",
       "      <td>73000.0</td>\n",
       "      <td>0.683783</td>\n",
       "    </tr>\n",
       "    <tr>\n",
       "      <th>4</th>\n",
       "      <td>NaN</td>\n",
       "      <td>Doug Walker</td>\n",
       "      <td>NaN</td>\n",
       "      <td>NaN</td>\n",
       "      <td>...</td>\n",
       "      <td>0</td>\n",
       "      <td>True</td>\n",
       "      <td>0.0</td>\n",
       "      <td>0.000000</td>\n",
       "    </tr>\n",
       "  </tbody>\n",
       "</table>\n",
       "<p>5 rows × 33 columns</p>\n",
       "</div>"
      ],
      "text/plain": [
       "         color      Director Name  Critical Reviews  duration  ...  has_seen  \\\n",
       "Ratava   Color      James Cameron             723.0     178.0  ...         0   \n",
       "1        Color     Gore Verbinski             302.0     169.0  ...         0   \n",
       "Ertceps  Color         Sam Mendes             602.0     148.0  ...         0   \n",
       "3        Color  Christopher Nolan             813.0     164.0  ...         0   \n",
       "4          NaN        Doug Walker               NaN       NaN  ...         0   \n",
       "\n",
       "         is_cast_likes_more actor_total_facebook_likes  pct_actor_cast_like  \n",
       "Ratava                 True                     2791.0             0.577369  \n",
       "1                      True                    46000.0             0.951396  \n",
       "Ertceps                True                    11554.0             0.987521  \n",
       "3                      True                    73000.0             0.683783  \n",
       "4                      True                        0.0             0.000000  \n",
       "\n",
       "[5 rows x 33 columns]"
      ]
     },
     "execution_count": 235,
     "metadata": {},
     "output_type": "execute_result"
    }
   ],
   "source": [
    "movie.head()"
   ]
  },
  {
   "cell_type": "markdown",
   "metadata": {},
   "source": [
    "# Creating and deleting columns"
   ]
  },
  {
   "cell_type": "code",
   "execution_count": 236,
   "metadata": {
    "collapsed": true
   },
   "outputs": [],
   "source": [
    "movie_pl = pl.read_csv('data/movie.csv')\n",
    "# movie = pd.read_csv('data/movie.csv')"
   ]
  },
  {
   "cell_type": "code",
   "execution_count": 237,
   "metadata": {
    "collapsed": true
   },
   "outputs": [],
   "source": [
    "movie['has_seen'] = 0"
   ]
  },
  {
   "cell_type": "code",
   "execution_count": 238,
   "metadata": {},
   "outputs": [
    {
     "data": {
      "text/plain": [
       "Index(['color', 'Director Name', 'Critical Reviews', 'duration',\n",
       "       'director_facebook_likes', 'actor_3_facebook_likes', 'actor_2_name',\n",
       "       'actor_1_facebook_likes', 'gross', 'profit', 'genres', 'actor_1_name',\n",
       "       'movie_title', 'num_voted_users', 'cast_total_facebook_likes',\n",
       "       'actor_3_name', 'facenumber_in_poster', 'plot_keywords',\n",
       "       'movie_imdb_link', 'num_user_for_reviews', 'language', 'country',\n",
       "       'content_rating', 'budget', 'title_year', 'actor_2_facebook_likes',\n",
       "       'imdb_score', 'aspect_ratio', 'movie_facebook_likes', 'has_seen',\n",
       "       'is_cast_likes_more', 'actor_total_facebook_likes',\n",
       "       'pct_actor_cast_like'],\n",
       "      dtype='object')"
      ]
     },
     "execution_count": 238,
     "metadata": {},
     "output_type": "execute_result"
    }
   ],
   "source": [
    "movie.columns"
   ]
  },
  {
   "cell_type": "code",
   "execution_count": 239,
   "metadata": {
    "collapsed": true
   },
   "outputs": [],
   "source": [
    "# create new actor_director_facebook_likes\n",
    "movie['actor_director_facebook_likes'] = (movie['actor_1_facebook_likes'] + \n",
    "                                              movie['actor_2_facebook_likes'] + \n",
    "                                              movie['actor_3_facebook_likes'] + \n",
    "                                              movie['director_facebook_likes'])"
   ]
  },
  {
   "cell_type": "code",
   "execution_count": 240,
   "metadata": {},
   "outputs": [
    {
     "data": {
      "text/plain": [
       "Ratava     False\n",
       "1          False\n",
       "Ertceps    False\n",
       "           ...  \n",
       "4913       False\n",
       "4914       False\n",
       "4915       False\n",
       "Name: actor_director_facebook_likes, Length: 4916, dtype: bool"
      ]
     },
     "execution_count": 240,
     "metadata": {},
     "output_type": "execute_result"
    }
   ],
   "source": [
    "movie['actor_director_facebook_likes'].isnull()"
   ]
  },
  {
   "cell_type": "code",
   "execution_count": 241,
   "metadata": {},
   "outputs": [
    {
     "data": {
      "text/plain": [
       "122"
      ]
     },
     "execution_count": 241,
     "metadata": {},
     "output_type": "execute_result"
    }
   ],
   "source": [
    "movie['actor_director_facebook_likes'].isnull().sum()"
   ]
  },
  {
   "cell_type": "code",
   "execution_count": 242,
   "metadata": {
    "collapsed": true
   },
   "outputs": [],
   "source": [
    "movie['actor_director_facebook_likes'] = movie['actor_director_facebook_likes'].fillna(0)"
   ]
  },
  {
   "cell_type": "code",
   "execution_count": 243,
   "metadata": {},
   "outputs": [
    {
     "data": {
      "text/plain": [
       "0"
      ]
     },
     "execution_count": 243,
     "metadata": {},
     "output_type": "execute_result"
    }
   ],
   "source": [
    "movie['actor_director_facebook_likes'].isnull().sum()"
   ]
  },
  {
   "cell_type": "code",
   "execution_count": 244,
   "metadata": {
    "collapsed": true
   },
   "outputs": [],
   "source": [
    "# create new \"is_cast_likes_more\"\n",
    "movie['is_cast_likes_more'] = (movie['cast_total_facebook_likes'] >= movie['actor_director_facebook_likes'])"
   ]
  },
  {
   "cell_type": "code",
   "execution_count": 245,
   "metadata": {},
   "outputs": [
    {
     "data": {
      "text/plain": [
       "is_cast_likes_more\n",
       "True     3973\n",
       "False     943\n",
       "Name: count, dtype: int64"
      ]
     },
     "execution_count": 245,
     "metadata": {},
     "output_type": "execute_result"
    }
   ],
   "source": [
    "movie['is_cast_likes_more'].value_counts()"
   ]
  },
  {
   "cell_type": "code",
   "execution_count": 246,
   "metadata": {},
   "outputs": [
    {
     "data": {
      "text/plain": [
       "False"
      ]
     },
     "execution_count": 246,
     "metadata": {},
     "output_type": "execute_result"
    }
   ],
   "source": [
    "movie['is_cast_likes_more'].all()"
   ]
  },
  {
   "cell_type": "code",
   "execution_count": 247,
   "metadata": {
    "collapsed": true
   },
   "outputs": [],
   "source": [
    "# drop actor_director_facebook_likes column\n",
    "movie = movie.drop('actor_director_facebook_likes', axis='columns')"
   ]
  },
  {
   "cell_type": "code",
   "execution_count": 248,
   "metadata": {
    "collapsed": true
   },
   "outputs": [],
   "source": [
    "movie['actor_total_facebook_likes'] = (movie['actor_1_facebook_likes'] + \n",
    "                                       movie['actor_2_facebook_likes'] + \n",
    "                                       movie['actor_3_facebook_likes'])\n",
    "\n",
    "movie['actor_total_facebook_likes'] = movie['actor_total_facebook_likes'].fillna(0)"
   ]
  },
  {
   "cell_type": "code",
   "execution_count": 249,
   "metadata": {},
   "outputs": [
    {
     "data": {
      "text/plain": [
       "True"
      ]
     },
     "execution_count": 249,
     "metadata": {},
     "output_type": "execute_result"
    }
   ],
   "source": [
    "movie['is_cast_likes_more'] = movie['cast_total_facebook_likes'] >= movie['actor_total_facebook_likes']\n",
    "    \n",
    "movie['is_cast_likes_more'].all()"
   ]
  },
  {
   "cell_type": "code",
   "execution_count": 250,
   "metadata": {
    "collapsed": true
   },
   "outputs": [],
   "source": [
    "movie['pct_actor_cast_like'] = (movie['actor_total_facebook_likes'] / movie['cast_total_facebook_likes'])"
   ]
  },
  {
   "cell_type": "code",
   "execution_count": 251,
   "metadata": {},
   "outputs": [
    {
     "data": {
      "text/plain": [
       "(0.0, 1.0)"
      ]
     },
     "execution_count": 251,
     "metadata": {},
     "output_type": "execute_result"
    }
   ],
   "source": [
    "movie['pct_actor_cast_like'].min(), movie['pct_actor_cast_like'].max() "
   ]
  },
  {
   "cell_type": "code",
   "execution_count": 252,
   "metadata": {},
   "outputs": [
    {
     "data": {
      "text/plain": [
       "movie_title\n",
       "Avatar                                        0.577369\n",
       "Pirates of the Caribbean: At World's End      0.951396\n",
       "Spectre                                       0.987521\n",
       "The Dark Knight Rises                         0.683783\n",
       "Star Wars: Episode VII - The Force Awakens    0.000000\n",
       "Name: pct_actor_cast_like, dtype: float64"
      ]
     },
     "execution_count": 252,
     "metadata": {},
     "output_type": "execute_result"
    }
   ],
   "source": [
    "movie.set_index('movie_title')['pct_actor_cast_like'].head()"
   ]
  },
  {
   "cell_type": "markdown",
   "metadata": {},
   "source": [
    "## There's more..."
   ]
  },
  {
   "cell_type": "code",
   "execution_count": 253,
   "metadata": {},
   "outputs": [
    {
     "data": {
      "text/plain": [
       "8"
      ]
     },
     "execution_count": 253,
     "metadata": {},
     "output_type": "execute_result"
    }
   ],
   "source": [
    "movie.columns.get_loc('gross')"
   ]
  },
  {
   "cell_type": "code",
   "execution_count": 254,
   "metadata": {},
   "outputs": [
    {
     "data": {
      "text/plain": [
       "9"
      ]
     },
     "execution_count": 254,
     "metadata": {},
     "output_type": "execute_result"
    }
   ],
   "source": [
    "profit_index = movie.columns.get_loc('gross') + 1\n",
    "profit_index"
   ]
  },
  {
   "cell_type": "code",
   "execution_count": 255,
   "metadata": {
    "collapsed": true
   },
   "outputs": [
    {
     "ename": "ValueError",
     "evalue": "cannot insert profit, already exists",
     "output_type": "error",
     "traceback": [
      "\u001b[0;31m---------------------------------------------------------------------------\u001b[0m",
      "\u001b[0;31mValueError\u001b[0m                                Traceback (most recent call last)",
      "\u001b[0;32m/tmp/ipykernel_38871/2174627221.py\u001b[0m in \u001b[0;36m?\u001b[0;34m()\u001b[0m\n\u001b[0;32m----> 1\u001b[0;31m \u001b[0mmovie\u001b[0m\u001b[0;34m.\u001b[0m\u001b[0minsert\u001b[0m\u001b[0;34m(\u001b[0m\u001b[0mloc\u001b[0m\u001b[0;34m=\u001b[0m\u001b[0mprofit_index\u001b[0m\u001b[0;34m,\u001b[0m \u001b[0mcolumn\u001b[0m\u001b[0;34m=\u001b[0m\u001b[0;34m'profit'\u001b[0m\u001b[0;34m,\u001b[0m \u001b[0mvalue\u001b[0m\u001b[0;34m=\u001b[0m\u001b[0mmovie\u001b[0m\u001b[0;34m[\u001b[0m\u001b[0;34m'gross'\u001b[0m\u001b[0;34m]\u001b[0m \u001b[0;34m-\u001b[0m \u001b[0mmovie\u001b[0m\u001b[0;34m[\u001b[0m\u001b[0;34m'budget'\u001b[0m\u001b[0;34m]\u001b[0m\u001b[0;34m)\u001b[0m\u001b[0;34m\u001b[0m\u001b[0;34m\u001b[0m\u001b[0m\n\u001b[0m",
      "\u001b[0;32m~/.local/share/virtualenvs/stock_investing-VnnxBpBf/lib/python3.8/site-packages/pandas/core/frame.py\u001b[0m in \u001b[0;36m?\u001b[0;34m(self, loc, column, value, allow_duplicates)\u001b[0m\n\u001b[1;32m   4768\u001b[0m                 \u001b[0;34m\"'self.flags.allows_duplicate_labels' is False.\"\u001b[0m\u001b[0;34m\u001b[0m\u001b[0;34m\u001b[0m\u001b[0m\n\u001b[1;32m   4769\u001b[0m             )\n\u001b[1;32m   4770\u001b[0m         \u001b[0;32mif\u001b[0m \u001b[0;32mnot\u001b[0m \u001b[0mallow_duplicates\u001b[0m \u001b[0;32mand\u001b[0m \u001b[0mcolumn\u001b[0m \u001b[0;32min\u001b[0m \u001b[0mself\u001b[0m\u001b[0;34m.\u001b[0m\u001b[0mcolumns\u001b[0m\u001b[0;34m:\u001b[0m\u001b[0;34m\u001b[0m\u001b[0;34m\u001b[0m\u001b[0m\n\u001b[1;32m   4771\u001b[0m             \u001b[0;31m# Should this be a different kind of error??\u001b[0m\u001b[0;34m\u001b[0m\u001b[0;34m\u001b[0m\u001b[0;34m\u001b[0m\u001b[0m\n\u001b[0;32m-> 4772\u001b[0;31m             \u001b[0;32mraise\u001b[0m \u001b[0mValueError\u001b[0m\u001b[0;34m(\u001b[0m\u001b[0;34mf\"cannot insert {column}, already exists\"\u001b[0m\u001b[0;34m)\u001b[0m\u001b[0;34m\u001b[0m\u001b[0;34m\u001b[0m\u001b[0m\n\u001b[0m\u001b[1;32m   4773\u001b[0m         \u001b[0;32mif\u001b[0m \u001b[0;32mnot\u001b[0m \u001b[0misinstance\u001b[0m\u001b[0;34m(\u001b[0m\u001b[0mloc\u001b[0m\u001b[0;34m,\u001b[0m \u001b[0mint\u001b[0m\u001b[0;34m)\u001b[0m\u001b[0;34m:\u001b[0m\u001b[0;34m\u001b[0m\u001b[0;34m\u001b[0m\u001b[0m\n\u001b[1;32m   4774\u001b[0m             \u001b[0;32mraise\u001b[0m \u001b[0mTypeError\u001b[0m\u001b[0;34m(\u001b[0m\u001b[0;34m\"loc must be int\"\u001b[0m\u001b[0;34m)\u001b[0m\u001b[0;34m\u001b[0m\u001b[0;34m\u001b[0m\u001b[0m\n\u001b[1;32m   4775\u001b[0m \u001b[0;34m\u001b[0m\u001b[0m\n",
      "\u001b[0;31mValueError\u001b[0m: cannot insert profit, already exists"
     ]
    }
   ],
   "source": [
    "movie.insert(loc=profit_index, column='profit', value=movie['gross'] - movie['budget'])"
   ]
  },
  {
   "cell_type": "code",
   "execution_count": null,
   "metadata": {},
   "outputs": [
    {
     "data": {
      "text/html": [
       "<div>\n",
       "<style scoped>\n",
       "    .dataframe tbody tr th:only-of-type {\n",
       "        vertical-align: middle;\n",
       "    }\n",
       "\n",
       "    .dataframe tbody tr th {\n",
       "        vertical-align: top;\n",
       "    }\n",
       "\n",
       "    .dataframe thead th {\n",
       "        text-align: right;\n",
       "    }\n",
       "</style>\n",
       "<table border=\"1\" class=\"dataframe\">\n",
       "  <thead>\n",
       "    <tr style=\"text-align: right;\">\n",
       "      <th></th>\n",
       "      <th>color</th>\n",
       "      <th>director_name</th>\n",
       "      <th>num_critic_for_reviews</th>\n",
       "      <th>duration</th>\n",
       "      <th>...</th>\n",
       "      <th>has_seen</th>\n",
       "      <th>is_cast_likes_more</th>\n",
       "      <th>actor_total_facebook_likes</th>\n",
       "      <th>pct_actor_cast_like</th>\n",
       "    </tr>\n",
       "  </thead>\n",
       "  <tbody>\n",
       "    <tr>\n",
       "      <th>0</th>\n",
       "      <td>Color</td>\n",
       "      <td>James Cameron</td>\n",
       "      <td>723.0</td>\n",
       "      <td>178.0</td>\n",
       "      <td>...</td>\n",
       "      <td>0</td>\n",
       "      <td>True</td>\n",
       "      <td>2791.0</td>\n",
       "      <td>0.577369</td>\n",
       "    </tr>\n",
       "    <tr>\n",
       "      <th>1</th>\n",
       "      <td>Color</td>\n",
       "      <td>Gore Verbinski</td>\n",
       "      <td>302.0</td>\n",
       "      <td>169.0</td>\n",
       "      <td>...</td>\n",
       "      <td>0</td>\n",
       "      <td>True</td>\n",
       "      <td>46000.0</td>\n",
       "      <td>0.951396</td>\n",
       "    </tr>\n",
       "    <tr>\n",
       "      <th>2</th>\n",
       "      <td>Color</td>\n",
       "      <td>Sam Mendes</td>\n",
       "      <td>602.0</td>\n",
       "      <td>148.0</td>\n",
       "      <td>...</td>\n",
       "      <td>0</td>\n",
       "      <td>True</td>\n",
       "      <td>11554.0</td>\n",
       "      <td>0.987521</td>\n",
       "    </tr>\n",
       "    <tr>\n",
       "      <th>3</th>\n",
       "      <td>Color</td>\n",
       "      <td>Christopher Nolan</td>\n",
       "      <td>813.0</td>\n",
       "      <td>164.0</td>\n",
       "      <td>...</td>\n",
       "      <td>0</td>\n",
       "      <td>True</td>\n",
       "      <td>73000.0</td>\n",
       "      <td>0.683783</td>\n",
       "    </tr>\n",
       "    <tr>\n",
       "      <th>4</th>\n",
       "      <td>NaN</td>\n",
       "      <td>Doug Walker</td>\n",
       "      <td>NaN</td>\n",
       "      <td>NaN</td>\n",
       "      <td>...</td>\n",
       "      <td>0</td>\n",
       "      <td>True</td>\n",
       "      <td>0.0</td>\n",
       "      <td>0.000000</td>\n",
       "    </tr>\n",
       "  </tbody>\n",
       "</table>\n",
       "<p>5 rows × 33 columns</p>\n",
       "</div>"
      ],
      "text/plain": [
       "   color      director_name  num_critic_for_reviews  duration  ...  has_seen  \\\n",
       "0  Color      James Cameron                   723.0     178.0  ...         0   \n",
       "1  Color     Gore Verbinski                   302.0     169.0  ...         0   \n",
       "2  Color         Sam Mendes                   602.0     148.0  ...         0   \n",
       "3  Color  Christopher Nolan                   813.0     164.0  ...         0   \n",
       "4    NaN        Doug Walker                     NaN       NaN  ...         0   \n",
       "\n",
       "   is_cast_likes_more actor_total_facebook_likes  pct_actor_cast_like  \n",
       "0                True                     2791.0             0.577369  \n",
       "1                True                    46000.0             0.951396  \n",
       "2                True                    11554.0             0.987521  \n",
       "3                True                    73000.0             0.683783  \n",
       "4                True                        0.0             0.000000  \n",
       "\n",
       "[5 rows x 33 columns]"
      ]
     },
     "execution_count": 113,
     "metadata": {},
     "output_type": "execute_result"
    }
   ],
   "source": [
    "movie.head()"
   ]
  }
 ],
 "metadata": {
  "kernelspec": {
   "display_name": "Python 3",
   "language": "python",
   "name": "python3"
  },
  "language_info": {
   "codemirror_mode": {
    "name": "ipython",
    "version": 3
   },
   "file_extension": ".py",
   "mimetype": "text/x-python",
   "name": "python",
   "nbconvert_exporter": "python",
   "pygments_lexer": "ipython3",
   "version": "3.8.18"
  }
 },
 "nbformat": 4,
 "nbformat_minor": 2
}
