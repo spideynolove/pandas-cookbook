{
 "cells": [
  {
   "cell_type": "markdown",
   "metadata": {},
   "source": [
    "# Selecting Subsets of Real financial Data"
   ]
  },
  {
   "cell_type": "code",
   "execution_count": 40,
   "metadata": {},
   "outputs": [],
   "source": [
    "import pandas as pd\n",
    "import numpy as np\n",
    "from data_pre import (\n",
    "    strip_unuse, quote_filtering, quote_numericing, split_filter)\n",
    "pd.set_option('display.max_rows', 8)\n"
   ]
  },
  {
   "cell_type": "code",
   "execution_count": 44,
   "metadata": {},
   "outputs": [],
   "source": [
    "# import sys\n",
    "# sys.path.insert(0, '..')"
   ]
  },
  {
   "cell_type": "markdown",
   "metadata": {},
   "source": [
    "#### read data path"
   ]
  },
  {
   "cell_type": "code",
   "execution_count": null,
   "metadata": {},
   "outputs": [],
   "source": [
    "data = pd.read_csv('../cookbook_data/owndata/economic_calendar_2.csv', index_col=1)\n",
    "data.drop('id', axis=1, inplace=True)\n",
    "\n",
    "time_format = '%d/%m/%Y'\n",
    "data.index = pd.to_datetime(data.index, format=time_format)"
   ]
  },
  {
   "cell_type": "code",
   "execution_count": null,
   "metadata": {},
   "outputs": [
    {
     "data": {
      "text/html": [
       "<div>\n",
       "<style scoped>\n",
       "    .dataframe tbody tr th:only-of-type {\n",
       "        vertical-align: middle;\n",
       "    }\n",
       "\n",
       "    .dataframe tbody tr th {\n",
       "        vertical-align: top;\n",
       "    }\n",
       "\n",
       "    .dataframe thead th {\n",
       "        text-align: right;\n",
       "    }\n",
       "</style>\n",
       "<table border=\"1\" class=\"dataframe\">\n",
       "  <thead>\n",
       "    <tr style=\"text-align: right;\">\n",
       "      <th></th>\n",
       "      <th>time</th>\n",
       "      <th>zone</th>\n",
       "      <th>currency</th>\n",
       "      <th>importance</th>\n",
       "      <th>event</th>\n",
       "      <th>actual</th>\n",
       "      <th>forecast</th>\n",
       "      <th>previous</th>\n",
       "    </tr>\n",
       "    <tr>\n",
       "      <th>date</th>\n",
       "      <th></th>\n",
       "      <th></th>\n",
       "      <th></th>\n",
       "      <th></th>\n",
       "      <th></th>\n",
       "      <th></th>\n",
       "      <th></th>\n",
       "      <th></th>\n",
       "    </tr>\n",
       "  </thead>\n",
       "  <tbody>\n",
       "    <tr>\n",
       "      <th>2022-02-01</th>\n",
       "      <td>All Day</td>\n",
       "      <td>china</td>\n",
       "      <td>NaN</td>\n",
       "      <td>NaN</td>\n",
       "      <td>China - Spring Festival</td>\n",
       "      <td>NaN</td>\n",
       "      <td>NaN</td>\n",
       "      <td>NaN</td>\n",
       "    </tr>\n",
       "    <tr>\n",
       "      <th>2022-02-01</th>\n",
       "      <td>All Day</td>\n",
       "      <td>china</td>\n",
       "      <td>NaN</td>\n",
       "      <td>NaN</td>\n",
       "      <td>China - Spring Festival</td>\n",
       "      <td>NaN</td>\n",
       "      <td>NaN</td>\n",
       "      <td>NaN</td>\n",
       "    </tr>\n",
       "    <tr>\n",
       "      <th>2022-02-01</th>\n",
       "      <td>00:40</td>\n",
       "      <td>united states</td>\n",
       "      <td>USD</td>\n",
       "      <td>medium</td>\n",
       "      <td>FOMC Member George Speaks</td>\n",
       "      <td>NaN</td>\n",
       "      <td>NaN</td>\n",
       "      <td>NaN</td>\n",
       "    </tr>\n",
       "    <tr>\n",
       "      <th>2022-02-01</th>\n",
       "      <td>04:30</td>\n",
       "      <td>australia</td>\n",
       "      <td>AUD</td>\n",
       "      <td>medium</td>\n",
       "      <td>AIG Manufacturing Index  (Dec)</td>\n",
       "      <td>48.4</td>\n",
       "      <td>NaN</td>\n",
       "      <td>54.8</td>\n",
       "    </tr>\n",
       "    <tr>\n",
       "      <th>2022-02-01</th>\n",
       "      <td>04:45</td>\n",
       "      <td>new zealand</td>\n",
       "      <td>NZD</td>\n",
       "      <td>medium</td>\n",
       "      <td>Trade Balance (YoY)  (Dec)</td>\n",
       "      <td>-6,780M</td>\n",
       "      <td>NaN</td>\n",
       "      <td>-6,230M</td>\n",
       "    </tr>\n",
       "  </tbody>\n",
       "</table>\n",
       "</div>"
      ],
      "text/plain": [
       "               time           zone currency importance  \\\n",
       "date                                                     \n",
       "2022-02-01  All Day          china      NaN        NaN   \n",
       "2022-02-01  All Day          china      NaN        NaN   \n",
       "2022-02-01    00:40  united states      USD     medium   \n",
       "2022-02-01    04:30      australia      AUD     medium   \n",
       "2022-02-01    04:45    new zealand      NZD     medium   \n",
       "\n",
       "                                     event   actual forecast previous  \n",
       "date                                                                   \n",
       "2022-02-01         China - Spring Festival      NaN      NaN      NaN  \n",
       "2022-02-01         China - Spring Festival      NaN      NaN      NaN  \n",
       "2022-02-01       FOMC Member George Speaks      NaN      NaN      NaN  \n",
       "2022-02-01  AIG Manufacturing Index  (Dec)     48.4      NaN     54.8  \n",
       "2022-02-01      Trade Balance (YoY)  (Dec)  -6,780M      NaN  -6,230M  "
      ]
     },
     "execution_count": 8,
     "metadata": {},
     "output_type": "execute_result"
    }
   ],
   "source": [
    "data.head()"
   ]
  },
  {
   "cell_type": "code",
   "execution_count": null,
   "metadata": {},
   "outputs": [
    {
     "data": {
      "text/plain": [
       "date\n",
       "2022-02-01              China - Spring Festival\n",
       "2022-02-01              China - Spring Festival\n",
       "2022-02-01            FOMC Member George Speaks\n",
       "2022-02-01       AIG Manufacturing Index  (Dec)\n",
       "                            ...                \n",
       "2022-02-01                     Home Loans (MoM)\n",
       "2022-02-01            Retail Sales (MoM)  (Dec)\n",
       "2022-02-01    RBA Interest Rate Decision  (Feb)\n",
       "2022-02-01                   RBA Rate Statement\n",
       "Name: event, Length: 11, dtype: object"
      ]
     },
     "execution_count": 13,
     "metadata": {},
     "output_type": "execute_result"
    }
   ],
   "source": [
    "events = data['event']\n",
    "events.head(11)"
   ]
  },
  {
   "cell_type": "code",
   "execution_count": null,
   "metadata": {},
   "outputs": [
    {
     "data": {
      "text/plain": [
       "'FOMC Member George Speaks'"
      ]
     },
     "execution_count": 10,
     "metadata": {},
     "output_type": "execute_result"
    }
   ],
   "source": [
    "events.iloc[2]"
   ]
  },
  {
   "cell_type": "code",
   "execution_count": null,
   "metadata": {},
   "outputs": [
    {
     "data": {
      "text/plain": [
       "date\n",
       "2022-02-01       China - Spring Festival\n",
       "2022-02-01    Trade Balance (MoM)  (Dec)\n",
       "2022-02-01            RBA Rate Statement\n",
       "Name: event, dtype: object"
      ]
     },
     "execution_count": 14,
     "metadata": {},
     "output_type": "execute_result"
    }
   ],
   "source": [
    "events.iloc[[1, 5, 10]]"
   ]
  },
  {
   "cell_type": "code",
   "execution_count": null,
   "metadata": {},
   "outputs": [
    {
     "data": {
      "text/plain": [
       "date\n",
       "2022-02-01              China - Spring Festival\n",
       "2022-02-01       AIG Manufacturing Index  (Dec)\n",
       "2022-02-01           Trade Balance (MoM)  (Dec)\n",
       "2022-02-01                     Home Loans (MoM)\n",
       "2022-02-01    RBA Interest Rate Decision  (Feb)\n",
       "Name: event, dtype: object"
      ]
     },
     "execution_count": 15,
     "metadata": {},
     "output_type": "execute_result"
    }
   ],
   "source": [
    "events.iloc[1:10:2]"
   ]
  },
  {
   "cell_type": "code",
   "execution_count": 69,
   "metadata": {},
   "outputs": [
    {
     "data": {
      "text/html": [
       "<div>\n",
       "<style scoped>\n",
       "    .dataframe tbody tr th:only-of-type {\n",
       "        vertical-align: middle;\n",
       "    }\n",
       "\n",
       "    .dataframe tbody tr th {\n",
       "        vertical-align: top;\n",
       "    }\n",
       "\n",
       "    .dataframe thead th {\n",
       "        text-align: right;\n",
       "    }\n",
       "</style>\n",
       "<table border=\"1\" class=\"dataframe\">\n",
       "  <thead>\n",
       "    <tr style=\"text-align: right;\">\n",
       "      <th></th>\n",
       "      <th>time</th>\n",
       "      <th>zone</th>\n",
       "      <th>currency</th>\n",
       "      <th>importance</th>\n",
       "      <th>event</th>\n",
       "      <th>actual</th>\n",
       "      <th>forecast</th>\n",
       "      <th>previous</th>\n",
       "    </tr>\n",
       "    <tr>\n",
       "      <th>date</th>\n",
       "      <th></th>\n",
       "      <th></th>\n",
       "      <th></th>\n",
       "      <th></th>\n",
       "      <th></th>\n",
       "      <th></th>\n",
       "      <th></th>\n",
       "      <th></th>\n",
       "    </tr>\n",
       "  </thead>\n",
       "  <tbody>\n",
       "    <tr>\n",
       "      <th>2022-02-01</th>\n",
       "      <td>21:45</td>\n",
       "      <td>united states</td>\n",
       "      <td>USD</td>\n",
       "      <td>medium</td>\n",
       "      <td>Manufacturing PMI  (Jan)</td>\n",
       "      <td>55.500</td>\n",
       "      <td>55.000</td>\n",
       "      <td>57.700</td>\n",
       "    </tr>\n",
       "    <tr>\n",
       "      <th>2022-02-01</th>\n",
       "      <td>22:00</td>\n",
       "      <td>united states</td>\n",
       "      <td>USD</td>\n",
       "      <td>medium</td>\n",
       "      <td>ISM Manufacturing Employment  (Jan)</td>\n",
       "      <td>54.500</td>\n",
       "      <td>53.500</td>\n",
       "      <td>53.900</td>\n",
       "    </tr>\n",
       "    <tr>\n",
       "      <th>2022-02-02</th>\n",
       "      <td>04:30</td>\n",
       "      <td>united states</td>\n",
       "      <td>USD</td>\n",
       "      <td>medium</td>\n",
       "      <td>API Weekly Crude Oil Stock</td>\n",
       "      <td>-1.645</td>\n",
       "      <td>1.833</td>\n",
       "      <td>-0.872</td>\n",
       "    </tr>\n",
       "    <tr>\n",
       "      <th>2022-02-03</th>\n",
       "      <td>20:30</td>\n",
       "      <td>united states</td>\n",
       "      <td>USD</td>\n",
       "      <td>medium</td>\n",
       "      <td>Nonfarm Productivity (QoQ)  (Q4)</td>\n",
       "      <td>6.600</td>\n",
       "      <td>3.200</td>\n",
       "      <td>-5.000</td>\n",
       "    </tr>\n",
       "    <tr>\n",
       "      <th>...</th>\n",
       "      <td>...</td>\n",
       "      <td>...</td>\n",
       "      <td>...</td>\n",
       "      <td>...</td>\n",
       "      <td>...</td>\n",
       "      <td>...</td>\n",
       "      <td>...</td>\n",
       "      <td>...</td>\n",
       "    </tr>\n",
       "    <tr>\n",
       "      <th>2022-02-03</th>\n",
       "      <td>22:00</td>\n",
       "      <td>united states</td>\n",
       "      <td>USD</td>\n",
       "      <td>medium</td>\n",
       "      <td>Factory Orders (MoM)  (Dec)</td>\n",
       "      <td>-0.400</td>\n",
       "      <td>-0.200</td>\n",
       "      <td>1.800</td>\n",
       "    </tr>\n",
       "    <tr>\n",
       "      <th>2022-02-04</th>\n",
       "      <td>20:30</td>\n",
       "      <td>united states</td>\n",
       "      <td>USD</td>\n",
       "      <td>medium</td>\n",
       "      <td>Average Hourly Earnings (MoM)  (Jan)</td>\n",
       "      <td>0.700</td>\n",
       "      <td>0.500</td>\n",
       "      <td>0.500</td>\n",
       "    </tr>\n",
       "    <tr>\n",
       "      <th>2022-02-04</th>\n",
       "      <td>20:30</td>\n",
       "      <td>united states</td>\n",
       "      <td>USD</td>\n",
       "      <td>medium</td>\n",
       "      <td>Average Hourly Earnings (YoY) (YoY)  (Jan)</td>\n",
       "      <td>5.700</td>\n",
       "      <td>5.200</td>\n",
       "      <td>5.000</td>\n",
       "    </tr>\n",
       "    <tr>\n",
       "      <th>2022-02-04</th>\n",
       "      <td>20:30</td>\n",
       "      <td>united states</td>\n",
       "      <td>USD</td>\n",
       "      <td>medium</td>\n",
       "      <td>Private Nonfarm Payrolls  (Jan)</td>\n",
       "      <td>444.000</td>\n",
       "      <td>150.000</td>\n",
       "      <td>503.000</td>\n",
       "    </tr>\n",
       "  </tbody>\n",
       "</table>\n",
       "<p>11 rows × 8 columns</p>\n",
       "</div>"
      ],
      "text/plain": [
       "             time           zone currency importance  \\\n",
       "date                                                   \n",
       "2022-02-01  21:45  united states      USD     medium   \n",
       "2022-02-01  22:00  united states      USD     medium   \n",
       "2022-02-02  04:30  united states      USD     medium   \n",
       "2022-02-03  20:30  united states      USD     medium   \n",
       "...           ...            ...      ...        ...   \n",
       "2022-02-03  22:00  united states      USD     medium   \n",
       "2022-02-04  20:30  united states      USD     medium   \n",
       "2022-02-04  20:30  united states      USD     medium   \n",
       "2022-02-04  20:30  united states      USD     medium   \n",
       "\n",
       "                                                 event   actual  forecast  \\\n",
       "date                                                                        \n",
       "2022-02-01                    Manufacturing PMI  (Jan)   55.500    55.000   \n",
       "2022-02-01         ISM Manufacturing Employment  (Jan)   54.500    53.500   \n",
       "2022-02-02                  API Weekly Crude Oil Stock   -1.645     1.833   \n",
       "2022-02-03            Nonfarm Productivity (QoQ)  (Q4)    6.600     3.200   \n",
       "...                                                ...      ...       ...   \n",
       "2022-02-03                 Factory Orders (MoM)  (Dec)   -0.400    -0.200   \n",
       "2022-02-04        Average Hourly Earnings (MoM)  (Jan)    0.700     0.500   \n",
       "2022-02-04  Average Hourly Earnings (YoY) (YoY)  (Jan)    5.700     5.200   \n",
       "2022-02-04             Private Nonfarm Payrolls  (Jan)  444.000   150.000   \n",
       "\n",
       "            previous  \n",
       "date                  \n",
       "2022-02-01    57.700  \n",
       "2022-02-01    53.900  \n",
       "2022-02-02    -0.872  \n",
       "2022-02-03    -5.000  \n",
       "...              ...  \n",
       "2022-02-03     1.800  \n",
       "2022-02-04     0.500  \n",
       "2022-02-04     5.000  \n",
       "2022-02-04   503.000  \n",
       "\n",
       "[11 rows x 8 columns]"
      ]
     },
     "execution_count": 69,
     "metadata": {},
     "output_type": "execute_result"
    }
   ],
   "source": [
    "notnan_filter = data[data.currency.notnull()]\n",
    "quote_medium, quote_high = quote_filtering(notnan_filter, 'USD')\n",
    "notall_num, result_num = split_filter(quote_medium)\n",
    "# result_num"
   ]
  },
  {
   "cell_type": "code",
   "execution_count": 71,
   "metadata": {},
   "outputs": [
    {
     "data": {
      "text/html": [
       "<div>\n",
       "<style scoped>\n",
       "    .dataframe tbody tr th:only-of-type {\n",
       "        vertical-align: middle;\n",
       "    }\n",
       "\n",
       "    .dataframe tbody tr th {\n",
       "        vertical-align: top;\n",
       "    }\n",
       "\n",
       "    .dataframe thead th {\n",
       "        text-align: right;\n",
       "    }\n",
       "</style>\n",
       "<table border=\"1\" class=\"dataframe\">\n",
       "  <thead>\n",
       "    <tr style=\"text-align: right;\">\n",
       "      <th></th>\n",
       "      <th>time</th>\n",
       "      <th>zone</th>\n",
       "      <th>currency</th>\n",
       "      <th>importance</th>\n",
       "      <th>event</th>\n",
       "      <th>actual</th>\n",
       "      <th>forecast</th>\n",
       "      <th>previous</th>\n",
       "    </tr>\n",
       "    <tr>\n",
       "      <th>date</th>\n",
       "      <th></th>\n",
       "      <th></th>\n",
       "      <th></th>\n",
       "      <th></th>\n",
       "      <th></th>\n",
       "      <th></th>\n",
       "      <th></th>\n",
       "      <th></th>\n",
       "    </tr>\n",
       "  </thead>\n",
       "  <tbody>\n",
       "    <tr>\n",
       "      <th>2022-02-01</th>\n",
       "      <td>21:45</td>\n",
       "      <td>united states</td>\n",
       "      <td>USD</td>\n",
       "      <td>medium</td>\n",
       "      <td>Manufacturing PMI  (Jan)</td>\n",
       "      <td>55.5</td>\n",
       "      <td>55.0</td>\n",
       "      <td>57.7</td>\n",
       "    </tr>\n",
       "    <tr>\n",
       "      <th>2022-02-01</th>\n",
       "      <td>22:00</td>\n",
       "      <td>united states</td>\n",
       "      <td>USD</td>\n",
       "      <td>medium</td>\n",
       "      <td>ISM Manufacturing Employment  (Jan)</td>\n",
       "      <td>54.5</td>\n",
       "      <td>53.5</td>\n",
       "      <td>53.9</td>\n",
       "    </tr>\n",
       "  </tbody>\n",
       "</table>\n",
       "</div>"
      ],
      "text/plain": [
       "             time           zone currency importance  \\\n",
       "date                                                   \n",
       "2022-02-01  21:45  united states      USD     medium   \n",
       "2022-02-01  22:00  united states      USD     medium   \n",
       "\n",
       "                                          event  actual  forecast  previous  \n",
       "date                                                                         \n",
       "2022-02-01             Manufacturing PMI  (Jan)    55.5      55.0      57.7  \n",
       "2022-02-01  ISM Manufacturing Employment  (Jan)    54.5      53.5      53.9  "
      ]
     },
     "execution_count": 71,
     "metadata": {},
     "output_type": "execute_result"
    }
   ],
   "source": [
    "# events.loc['2022-02-11']\n",
    "result_num.loc['2022-02-01']"
   ]
  },
  {
   "cell_type": "code",
   "execution_count": 65,
   "metadata": {},
   "outputs": [],
   "source": [
    "np.random.seed(2)"
   ]
  },
  {
   "cell_type": "code",
   "execution_count": 66,
   "metadata": {},
   "outputs": [
    {
     "data": {
      "text/plain": [
       "[numpy.datetime64('2022-02-11T00:00:00.000000000')]"
      ]
     },
     "execution_count": 66,
     "metadata": {},
     "output_type": "execute_result"
    }
   ],
   "source": [
    "labels = list(np.random.choice(events.index, 1))      # random sampling\n",
    "labels"
   ]
  },
  {
   "cell_type": "code",
   "execution_count": 67,
   "metadata": {},
   "outputs": [
    {
     "data": {
      "text/plain": [
       "date\n",
       "2022-02-11                     Japan - National Day\n",
       "2022-02-11            Federal Budget Balance  (Jan)\n",
       "2022-02-11                    BoE Gov Bailey Speaks\n",
       "2022-02-11                   Business NZ PMI  (Jan)\n",
       "                              ...                  \n",
       "2022-02-11    Michigan Consumer Expectations  (Feb)\n",
       "2022-02-11       Michigan Consumer Sentiment  (Feb)\n",
       "2022-02-11                     Japan - National Day\n",
       "2022-02-11                     Japan - National Day\n",
       "Name: event, Length: 25, dtype: object"
      ]
     },
     "execution_count": 67,
     "metadata": {},
     "output_type": "execute_result"
    }
   ],
   "source": [
    "events.loc[labels]"
   ]
  },
  {
   "cell_type": "code",
   "execution_count": 76,
   "metadata": {},
   "outputs": [
    {
     "data": {
      "text/html": [
       "<div>\n",
       "<style scoped>\n",
       "    .dataframe tbody tr th:only-of-type {\n",
       "        vertical-align: middle;\n",
       "    }\n",
       "\n",
       "    .dataframe tbody tr th {\n",
       "        vertical-align: top;\n",
       "    }\n",
       "\n",
       "    .dataframe thead th {\n",
       "        text-align: right;\n",
       "    }\n",
       "</style>\n",
       "<table border=\"1\" class=\"dataframe\">\n",
       "  <thead>\n",
       "    <tr style=\"text-align: right;\">\n",
       "      <th></th>\n",
       "      <th>time</th>\n",
       "      <th>zone</th>\n",
       "      <th>currency</th>\n",
       "      <th>importance</th>\n",
       "      <th>event</th>\n",
       "      <th>actual</th>\n",
       "      <th>forecast</th>\n",
       "      <th>previous</th>\n",
       "    </tr>\n",
       "    <tr>\n",
       "      <th>date</th>\n",
       "      <th></th>\n",
       "      <th></th>\n",
       "      <th></th>\n",
       "      <th></th>\n",
       "      <th></th>\n",
       "      <th></th>\n",
       "      <th></th>\n",
       "      <th></th>\n",
       "    </tr>\n",
       "  </thead>\n",
       "  <tbody>\n",
       "    <tr>\n",
       "      <th>2022-02-01</th>\n",
       "      <td>21:45</td>\n",
       "      <td>united states</td>\n",
       "      <td>USD</td>\n",
       "      <td>medium</td>\n",
       "      <td>Manufacturing PMI  (Jan)</td>\n",
       "      <td>55.500</td>\n",
       "      <td>55.000</td>\n",
       "      <td>57.700</td>\n",
       "    </tr>\n",
       "    <tr>\n",
       "      <th>2022-02-01</th>\n",
       "      <td>22:00</td>\n",
       "      <td>united states</td>\n",
       "      <td>USD</td>\n",
       "      <td>medium</td>\n",
       "      <td>ISM Manufacturing Employment  (Jan)</td>\n",
       "      <td>54.500</td>\n",
       "      <td>53.500</td>\n",
       "      <td>53.900</td>\n",
       "    </tr>\n",
       "    <tr>\n",
       "      <th>2022-02-02</th>\n",
       "      <td>04:30</td>\n",
       "      <td>united states</td>\n",
       "      <td>USD</td>\n",
       "      <td>medium</td>\n",
       "      <td>API Weekly Crude Oil Stock</td>\n",
       "      <td>-1.645</td>\n",
       "      <td>1.833</td>\n",
       "      <td>-0.872</td>\n",
       "    </tr>\n",
       "    <tr>\n",
       "      <th>2022-02-03</th>\n",
       "      <td>20:30</td>\n",
       "      <td>united states</td>\n",
       "      <td>USD</td>\n",
       "      <td>medium</td>\n",
       "      <td>Nonfarm Productivity (QoQ)  (Q4)</td>\n",
       "      <td>6.600</td>\n",
       "      <td>3.200</td>\n",
       "      <td>-5.000</td>\n",
       "    </tr>\n",
       "    <tr>\n",
       "      <th>2022-02-03</th>\n",
       "      <td>20:30</td>\n",
       "      <td>united states</td>\n",
       "      <td>USD</td>\n",
       "      <td>medium</td>\n",
       "      <td>Unit Labor Costs (QoQ)  (Q4)</td>\n",
       "      <td>0.300</td>\n",
       "      <td>1.500</td>\n",
       "      <td>9.300</td>\n",
       "    </tr>\n",
       "    <tr>\n",
       "      <th>2022-02-03</th>\n",
       "      <td>21:45</td>\n",
       "      <td>united states</td>\n",
       "      <td>USD</td>\n",
       "      <td>medium</td>\n",
       "      <td>Markit Composite PMI  (Jan)</td>\n",
       "      <td>51.100</td>\n",
       "      <td>50.800</td>\n",
       "      <td>57.000</td>\n",
       "    </tr>\n",
       "    <tr>\n",
       "      <th>2022-02-03</th>\n",
       "      <td>21:45</td>\n",
       "      <td>united states</td>\n",
       "      <td>USD</td>\n",
       "      <td>medium</td>\n",
       "      <td>Services PMI  (Jan)</td>\n",
       "      <td>51.200</td>\n",
       "      <td>50.900</td>\n",
       "      <td>57.600</td>\n",
       "    </tr>\n",
       "    <tr>\n",
       "      <th>2022-02-03</th>\n",
       "      <td>22:00</td>\n",
       "      <td>united states</td>\n",
       "      <td>USD</td>\n",
       "      <td>medium</td>\n",
       "      <td>Factory Orders (MoM)  (Dec)</td>\n",
       "      <td>-0.400</td>\n",
       "      <td>-0.200</td>\n",
       "      <td>1.800</td>\n",
       "    </tr>\n",
       "  </tbody>\n",
       "</table>\n",
       "</div>"
      ],
      "text/plain": [
       "             time           zone currency importance  \\\n",
       "date                                                   \n",
       "2022-02-01  21:45  united states      USD     medium   \n",
       "2022-02-01  22:00  united states      USD     medium   \n",
       "2022-02-02  04:30  united states      USD     medium   \n",
       "2022-02-03  20:30  united states      USD     medium   \n",
       "2022-02-03  20:30  united states      USD     medium   \n",
       "2022-02-03  21:45  united states      USD     medium   \n",
       "2022-02-03  21:45  united states      USD     medium   \n",
       "2022-02-03  22:00  united states      USD     medium   \n",
       "\n",
       "                                          event  actual  forecast  previous  \n",
       "date                                                                         \n",
       "2022-02-01             Manufacturing PMI  (Jan)  55.500    55.000    57.700  \n",
       "2022-02-01  ISM Manufacturing Employment  (Jan)  54.500    53.500    53.900  \n",
       "2022-02-02           API Weekly Crude Oil Stock  -1.645     1.833    -0.872  \n",
       "2022-02-03     Nonfarm Productivity (QoQ)  (Q4)   6.600     3.200    -5.000  \n",
       "2022-02-03         Unit Labor Costs (QoQ)  (Q4)   0.300     1.500     9.300  \n",
       "2022-02-03          Markit Composite PMI  (Jan)  51.100    50.800    57.000  \n",
       "2022-02-03                  Services PMI  (Jan)  51.200    50.900    57.600  \n",
       "2022-02-03          Factory Orders (MoM)  (Dec)  -0.400    -0.200     1.800  "
      ]
     },
     "execution_count": 76,
     "metadata": {},
     "output_type": "execute_result"
    }
   ],
   "source": [
    "result_num['2022-02-01': '2022-02-03']"
   ]
  },
  {
   "cell_type": "code",
   "execution_count": 77,
   "metadata": {},
   "outputs": [
    {
     "data": {
      "text/html": [
       "<div>\n",
       "<style scoped>\n",
       "    .dataframe tbody tr th:only-of-type {\n",
       "        vertical-align: middle;\n",
       "    }\n",
       "\n",
       "    .dataframe tbody tr th {\n",
       "        vertical-align: top;\n",
       "    }\n",
       "\n",
       "    .dataframe thead th {\n",
       "        text-align: right;\n",
       "    }\n",
       "</style>\n",
       "<table border=\"1\" class=\"dataframe\">\n",
       "  <thead>\n",
       "    <tr style=\"text-align: right;\">\n",
       "      <th></th>\n",
       "      <th>time</th>\n",
       "      <th>zone</th>\n",
       "      <th>currency</th>\n",
       "      <th>importance</th>\n",
       "      <th>event</th>\n",
       "      <th>actual</th>\n",
       "      <th>forecast</th>\n",
       "      <th>previous</th>\n",
       "    </tr>\n",
       "    <tr>\n",
       "      <th>date</th>\n",
       "      <th></th>\n",
       "      <th></th>\n",
       "      <th></th>\n",
       "      <th></th>\n",
       "      <th></th>\n",
       "      <th></th>\n",
       "      <th></th>\n",
       "      <th></th>\n",
       "    </tr>\n",
       "  </thead>\n",
       "  <tbody>\n",
       "    <tr>\n",
       "      <th>2022-02-01</th>\n",
       "      <td>21:45</td>\n",
       "      <td>united states</td>\n",
       "      <td>USD</td>\n",
       "      <td>medium</td>\n",
       "      <td>Manufacturing PMI  (Jan)</td>\n",
       "      <td>55.500</td>\n",
       "      <td>55.000</td>\n",
       "      <td>57.700</td>\n",
       "    </tr>\n",
       "    <tr>\n",
       "      <th>2022-02-02</th>\n",
       "      <td>04:30</td>\n",
       "      <td>united states</td>\n",
       "      <td>USD</td>\n",
       "      <td>medium</td>\n",
       "      <td>API Weekly Crude Oil Stock</td>\n",
       "      <td>-1.645</td>\n",
       "      <td>1.833</td>\n",
       "      <td>-0.872</td>\n",
       "    </tr>\n",
       "    <tr>\n",
       "      <th>2022-02-03</th>\n",
       "      <td>20:30</td>\n",
       "      <td>united states</td>\n",
       "      <td>USD</td>\n",
       "      <td>medium</td>\n",
       "      <td>Unit Labor Costs (QoQ)  (Q4)</td>\n",
       "      <td>0.300</td>\n",
       "      <td>1.500</td>\n",
       "      <td>9.300</td>\n",
       "    </tr>\n",
       "    <tr>\n",
       "      <th>2022-02-03</th>\n",
       "      <td>21:45</td>\n",
       "      <td>united states</td>\n",
       "      <td>USD</td>\n",
       "      <td>medium</td>\n",
       "      <td>Services PMI  (Jan)</td>\n",
       "      <td>51.200</td>\n",
       "      <td>50.900</td>\n",
       "      <td>57.600</td>\n",
       "    </tr>\n",
       "  </tbody>\n",
       "</table>\n",
       "</div>"
      ],
      "text/plain": [
       "             time           zone currency importance  \\\n",
       "date                                                   \n",
       "2022-02-01  21:45  united states      USD     medium   \n",
       "2022-02-02  04:30  united states      USD     medium   \n",
       "2022-02-03  20:30  united states      USD     medium   \n",
       "2022-02-03  21:45  united states      USD     medium   \n",
       "\n",
       "                                   event  actual  forecast  previous  \n",
       "date                                                                  \n",
       "2022-02-01      Manufacturing PMI  (Jan)  55.500    55.000    57.700  \n",
       "2022-02-02    API Weekly Crude Oil Stock  -1.645     1.833    -0.872  \n",
       "2022-02-03  Unit Labor Costs (QoQ)  (Q4)   0.300     1.500     9.300  \n",
       "2022-02-03           Services PMI  (Jan)  51.200    50.900    57.600  "
      ]
     },
     "execution_count": 77,
     "metadata": {},
     "output_type": "execute_result"
    }
   ],
   "source": [
    "result_num['2022-02-01': '2022-02-03': 2]"
   ]
  },
  {
   "cell_type": "code",
   "execution_count": 78,
   "metadata": {},
   "outputs": [
    {
     "data": {
      "text/html": [
       "<div>\n",
       "<style scoped>\n",
       "    .dataframe tbody tr th:only-of-type {\n",
       "        vertical-align: middle;\n",
       "    }\n",
       "\n",
       "    .dataframe tbody tr th {\n",
       "        vertical-align: top;\n",
       "    }\n",
       "\n",
       "    .dataframe thead th {\n",
       "        text-align: right;\n",
       "    }\n",
       "</style>\n",
       "<table border=\"1\" class=\"dataframe\">\n",
       "  <thead>\n",
       "    <tr style=\"text-align: right;\">\n",
       "      <th></th>\n",
       "      <th>time</th>\n",
       "      <th>zone</th>\n",
       "      <th>currency</th>\n",
       "      <th>importance</th>\n",
       "      <th>event</th>\n",
       "      <th>actual</th>\n",
       "      <th>forecast</th>\n",
       "      <th>previous</th>\n",
       "    </tr>\n",
       "    <tr>\n",
       "      <th>date</th>\n",
       "      <th></th>\n",
       "      <th></th>\n",
       "      <th></th>\n",
       "      <th></th>\n",
       "      <th></th>\n",
       "      <th></th>\n",
       "      <th></th>\n",
       "      <th></th>\n",
       "    </tr>\n",
       "  </thead>\n",
       "  <tbody>\n",
       "    <tr>\n",
       "      <th>2022-02-02</th>\n",
       "      <td>04:30</td>\n",
       "      <td>united states</td>\n",
       "      <td>USD</td>\n",
       "      <td>medium</td>\n",
       "      <td>API Weekly Crude Oil Stock</td>\n",
       "      <td>-1.645</td>\n",
       "      <td>1.833</td>\n",
       "      <td>-0.872</td>\n",
       "    </tr>\n",
       "  </tbody>\n",
       "</table>\n",
       "</div>"
      ],
      "text/plain": [
       "             time           zone currency importance  \\\n",
       "date                                                   \n",
       "2022-02-02  04:30  united states      USD     medium   \n",
       "\n",
       "                                 event  actual  forecast  previous  \n",
       "date                                                                \n",
       "2022-02-02  API Weekly Crude Oil Stock  -1.645     1.833    -0.872  "
      ]
     },
     "execution_count": 78,
     "metadata": {},
     "output_type": "execute_result"
    }
   ],
   "source": [
    "result_num.iloc[[2]]"
   ]
  },
  {
   "cell_type": "code",
   "execution_count": 79,
   "metadata": {},
   "outputs": [
    {
     "data": {
      "text/html": [
       "<div>\n",
       "<style scoped>\n",
       "    .dataframe tbody tr th:only-of-type {\n",
       "        vertical-align: middle;\n",
       "    }\n",
       "\n",
       "    .dataframe tbody tr th {\n",
       "        vertical-align: top;\n",
       "    }\n",
       "\n",
       "    .dataframe thead th {\n",
       "        text-align: right;\n",
       "    }\n",
       "</style>\n",
       "<table border=\"1\" class=\"dataframe\">\n",
       "  <thead>\n",
       "    <tr style=\"text-align: right;\">\n",
       "      <th></th>\n",
       "      <th>time</th>\n",
       "      <th>zone</th>\n",
       "      <th>currency</th>\n",
       "      <th>importance</th>\n",
       "      <th>event</th>\n",
       "      <th>actual</th>\n",
       "      <th>forecast</th>\n",
       "      <th>previous</th>\n",
       "    </tr>\n",
       "    <tr>\n",
       "      <th>date</th>\n",
       "      <th></th>\n",
       "      <th></th>\n",
       "      <th></th>\n",
       "      <th></th>\n",
       "      <th></th>\n",
       "      <th></th>\n",
       "      <th></th>\n",
       "      <th></th>\n",
       "    </tr>\n",
       "  </thead>\n",
       "  <tbody>\n",
       "    <tr>\n",
       "      <th>2022-02-01</th>\n",
       "      <td>21:45</td>\n",
       "      <td>united states</td>\n",
       "      <td>USD</td>\n",
       "      <td>medium</td>\n",
       "      <td>Manufacturing PMI  (Jan)</td>\n",
       "      <td>55.500</td>\n",
       "      <td>55.000</td>\n",
       "      <td>57.700</td>\n",
       "    </tr>\n",
       "    <tr>\n",
       "      <th>2022-02-02</th>\n",
       "      <td>04:30</td>\n",
       "      <td>united states</td>\n",
       "      <td>USD</td>\n",
       "      <td>medium</td>\n",
       "      <td>API Weekly Crude Oil Stock</td>\n",
       "      <td>-1.645</td>\n",
       "      <td>1.833</td>\n",
       "      <td>-0.872</td>\n",
       "    </tr>\n",
       "    <tr>\n",
       "      <th>2022-02-03</th>\n",
       "      <td>20:30</td>\n",
       "      <td>united states</td>\n",
       "      <td>USD</td>\n",
       "      <td>medium</td>\n",
       "      <td>Unit Labor Costs (QoQ)  (Q4)</td>\n",
       "      <td>0.300</td>\n",
       "      <td>1.500</td>\n",
       "      <td>9.300</td>\n",
       "    </tr>\n",
       "    <tr>\n",
       "      <th>2022-02-03</th>\n",
       "      <td>21:45</td>\n",
       "      <td>united states</td>\n",
       "      <td>USD</td>\n",
       "      <td>medium</td>\n",
       "      <td>Services PMI  (Jan)</td>\n",
       "      <td>51.200</td>\n",
       "      <td>50.900</td>\n",
       "      <td>57.600</td>\n",
       "    </tr>\n",
       "  </tbody>\n",
       "</table>\n",
       "</div>"
      ],
      "text/plain": [
       "             time           zone currency importance  \\\n",
       "date                                                   \n",
       "2022-02-01  21:45  united states      USD     medium   \n",
       "2022-02-02  04:30  united states      USD     medium   \n",
       "2022-02-03  20:30  united states      USD     medium   \n",
       "2022-02-03  21:45  united states      USD     medium   \n",
       "\n",
       "                                   event  actual  forecast  previous  \n",
       "date                                                                  \n",
       "2022-02-01      Manufacturing PMI  (Jan)  55.500    55.000    57.700  \n",
       "2022-02-02    API Weekly Crude Oil Stock  -1.645     1.833    -0.872  \n",
       "2022-02-03  Unit Labor Costs (QoQ)  (Q4)   0.300     1.500     9.300  \n",
       "2022-02-03           Services PMI  (Jan)  51.200    50.900    57.600  "
      ]
     },
     "execution_count": 79,
     "metadata": {},
     "output_type": "execute_result"
    }
   ],
   "source": [
    "result_num.loc['2022-02-01': '2022-02-03': 2]"
   ]
  },
  {
   "cell_type": "code",
   "execution_count": 83,
   "metadata": {},
   "outputs": [
    {
     "data": {
      "text/html": [
       "<div>\n",
       "<style scoped>\n",
       "    .dataframe tbody tr th:only-of-type {\n",
       "        vertical-align: middle;\n",
       "    }\n",
       "\n",
       "    .dataframe tbody tr th {\n",
       "        vertical-align: top;\n",
       "    }\n",
       "\n",
       "    .dataframe thead th {\n",
       "        text-align: right;\n",
       "    }\n",
       "</style>\n",
       "<table border=\"1\" class=\"dataframe\">\n",
       "  <thead>\n",
       "    <tr style=\"text-align: right;\">\n",
       "      <th></th>\n",
       "      <th>time</th>\n",
       "      <th>zone</th>\n",
       "      <th>currency</th>\n",
       "      <th>importance</th>\n",
       "      <th>event</th>\n",
       "      <th>actual</th>\n",
       "      <th>forecast</th>\n",
       "      <th>previous</th>\n",
       "    </tr>\n",
       "    <tr>\n",
       "      <th>date</th>\n",
       "      <th></th>\n",
       "      <th></th>\n",
       "      <th></th>\n",
       "      <th></th>\n",
       "      <th></th>\n",
       "      <th></th>\n",
       "      <th></th>\n",
       "      <th></th>\n",
       "    </tr>\n",
       "  </thead>\n",
       "  <tbody>\n",
       "    <tr>\n",
       "      <th>2022-02-04</th>\n",
       "      <td>20:30</td>\n",
       "      <td>united states</td>\n",
       "      <td>USD</td>\n",
       "      <td>medium</td>\n",
       "      <td>Private Nonfarm Payrolls  (Jan)</td>\n",
       "      <td>444.000</td>\n",
       "      <td>150.000</td>\n",
       "      <td>503.000</td>\n",
       "    </tr>\n",
       "    <tr>\n",
       "      <th>2022-02-04</th>\n",
       "      <td>20:30</td>\n",
       "      <td>united states</td>\n",
       "      <td>USD</td>\n",
       "      <td>medium</td>\n",
       "      <td>Average Hourly Earnings (MoM)  (Jan)</td>\n",
       "      <td>0.700</td>\n",
       "      <td>0.500</td>\n",
       "      <td>0.500</td>\n",
       "    </tr>\n",
       "    <tr>\n",
       "      <th>2022-02-03</th>\n",
       "      <td>21:45</td>\n",
       "      <td>united states</td>\n",
       "      <td>USD</td>\n",
       "      <td>medium</td>\n",
       "      <td>Services PMI  (Jan)</td>\n",
       "      <td>51.200</td>\n",
       "      <td>50.900</td>\n",
       "      <td>57.600</td>\n",
       "    </tr>\n",
       "    <tr>\n",
       "      <th>2022-02-03</th>\n",
       "      <td>20:30</td>\n",
       "      <td>united states</td>\n",
       "      <td>USD</td>\n",
       "      <td>medium</td>\n",
       "      <td>Unit Labor Costs (QoQ)  (Q4)</td>\n",
       "      <td>0.300</td>\n",
       "      <td>1.500</td>\n",
       "      <td>9.300</td>\n",
       "    </tr>\n",
       "    <tr>\n",
       "      <th>2022-02-02</th>\n",
       "      <td>04:30</td>\n",
       "      <td>united states</td>\n",
       "      <td>USD</td>\n",
       "      <td>medium</td>\n",
       "      <td>API Weekly Crude Oil Stock</td>\n",
       "      <td>-1.645</td>\n",
       "      <td>1.833</td>\n",
       "      <td>-0.872</td>\n",
       "    </tr>\n",
       "    <tr>\n",
       "      <th>2022-02-01</th>\n",
       "      <td>21:45</td>\n",
       "      <td>united states</td>\n",
       "      <td>USD</td>\n",
       "      <td>medium</td>\n",
       "      <td>Manufacturing PMI  (Jan)</td>\n",
       "      <td>55.500</td>\n",
       "      <td>55.000</td>\n",
       "      <td>57.700</td>\n",
       "    </tr>\n",
       "  </tbody>\n",
       "</table>\n",
       "</div>"
      ],
      "text/plain": [
       "             time           zone currency importance  \\\n",
       "date                                                   \n",
       "2022-02-04  20:30  united states      USD     medium   \n",
       "2022-02-04  20:30  united states      USD     medium   \n",
       "2022-02-03  21:45  united states      USD     medium   \n",
       "2022-02-03  20:30  united states      USD     medium   \n",
       "2022-02-02  04:30  united states      USD     medium   \n",
       "2022-02-01  21:45  united states      USD     medium   \n",
       "\n",
       "                                           event   actual  forecast  previous  \n",
       "date                                                                           \n",
       "2022-02-04       Private Nonfarm Payrolls  (Jan)  444.000   150.000   503.000  \n",
       "2022-02-04  Average Hourly Earnings (MoM)  (Jan)    0.700     0.500     0.500  \n",
       "2022-02-03                   Services PMI  (Jan)   51.200    50.900    57.600  \n",
       "2022-02-03          Unit Labor Costs (QoQ)  (Q4)    0.300     1.500     9.300  \n",
       "2022-02-02            API Weekly Crude Oil Stock   -1.645     1.833    -0.872  \n",
       "2022-02-01              Manufacturing PMI  (Jan)   55.500    55.000    57.700  "
      ]
     },
     "execution_count": 83,
     "metadata": {},
     "output_type": "execute_result"
    }
   ],
   "source": [
    "result_num['2022-02-04': '2022-02-01': -2]"
   ]
  },
  {
   "cell_type": "code",
   "execution_count": 85,
   "metadata": {},
   "outputs": [
    {
     "data": {
      "text/html": [
       "<div>\n",
       "<style scoped>\n",
       "    .dataframe tbody tr th:only-of-type {\n",
       "        vertical-align: middle;\n",
       "    }\n",
       "\n",
       "    .dataframe tbody tr th {\n",
       "        vertical-align: top;\n",
       "    }\n",
       "\n",
       "    .dataframe thead th {\n",
       "        text-align: right;\n",
       "    }\n",
       "</style>\n",
       "<table border=\"1\" class=\"dataframe\">\n",
       "  <thead>\n",
       "    <tr style=\"text-align: right;\">\n",
       "      <th></th>\n",
       "      <th>event</th>\n",
       "      <th>actual</th>\n",
       "      <th>forecast</th>\n",
       "      <th>previous</th>\n",
       "    </tr>\n",
       "    <tr>\n",
       "      <th>date</th>\n",
       "      <th></th>\n",
       "      <th></th>\n",
       "      <th></th>\n",
       "      <th></th>\n",
       "    </tr>\n",
       "  </thead>\n",
       "  <tbody>\n",
       "    <tr>\n",
       "      <th>2022-02-01</th>\n",
       "      <td>Manufacturing PMI  (Jan)</td>\n",
       "      <td>55.500</td>\n",
       "      <td>55.000</td>\n",
       "      <td>57.700</td>\n",
       "    </tr>\n",
       "    <tr>\n",
       "      <th>2022-02-01</th>\n",
       "      <td>ISM Manufacturing Employment  (Jan)</td>\n",
       "      <td>54.500</td>\n",
       "      <td>53.500</td>\n",
       "      <td>53.900</td>\n",
       "    </tr>\n",
       "    <tr>\n",
       "      <th>2022-02-02</th>\n",
       "      <td>API Weekly Crude Oil Stock</td>\n",
       "      <td>-1.645</td>\n",
       "      <td>1.833</td>\n",
       "      <td>-0.872</td>\n",
       "    </tr>\n",
       "  </tbody>\n",
       "</table>\n",
       "</div>"
      ],
      "text/plain": [
       "                                          event  actual  forecast  previous\n",
       "date                                                                       \n",
       "2022-02-01             Manufacturing PMI  (Jan)  55.500    55.000    57.700\n",
       "2022-02-01  ISM Manufacturing Employment  (Jan)  54.500    53.500    53.900\n",
       "2022-02-02           API Weekly Crude Oil Stock  -1.645     1.833    -0.872"
      ]
     },
     "execution_count": 85,
     "metadata": {},
     "output_type": "execute_result"
    }
   ],
   "source": [
    "result_num.iloc[:3, 4:]    # first 3 rows, last 4 columns"
   ]
  },
  {
   "cell_type": "code",
   "execution_count": 91,
   "metadata": {},
   "outputs": [
    {
     "data": {
      "text/html": [
       "<div>\n",
       "<style scoped>\n",
       "    .dataframe tbody tr th:only-of-type {\n",
       "        vertical-align: middle;\n",
       "    }\n",
       "\n",
       "    .dataframe tbody tr th {\n",
       "        vertical-align: top;\n",
       "    }\n",
       "\n",
       "    .dataframe thead th {\n",
       "        text-align: right;\n",
       "    }\n",
       "</style>\n",
       "<table border=\"1\" class=\"dataframe\">\n",
       "  <thead>\n",
       "    <tr style=\"text-align: right;\">\n",
       "      <th></th>\n",
       "      <th>event</th>\n",
       "      <th>actual</th>\n",
       "      <th>forecast</th>\n",
       "      <th>previous</th>\n",
       "    </tr>\n",
       "    <tr>\n",
       "      <th>date</th>\n",
       "      <th></th>\n",
       "      <th></th>\n",
       "      <th></th>\n",
       "      <th></th>\n",
       "    </tr>\n",
       "  </thead>\n",
       "  <tbody>\n",
       "    <tr>\n",
       "      <th>2022-02-01</th>\n",
       "      <td>Manufacturing PMI  (Jan)</td>\n",
       "      <td>55.500</td>\n",
       "      <td>55.000</td>\n",
       "      <td>57.700</td>\n",
       "    </tr>\n",
       "    <tr>\n",
       "      <th>2022-02-01</th>\n",
       "      <td>ISM Manufacturing Employment  (Jan)</td>\n",
       "      <td>54.500</td>\n",
       "      <td>53.500</td>\n",
       "      <td>53.900</td>\n",
       "    </tr>\n",
       "    <tr>\n",
       "      <th>2022-02-02</th>\n",
       "      <td>API Weekly Crude Oil Stock</td>\n",
       "      <td>-1.645</td>\n",
       "      <td>1.833</td>\n",
       "      <td>-0.872</td>\n",
       "    </tr>\n",
       "    <tr>\n",
       "      <th>2022-02-03</th>\n",
       "      <td>Nonfarm Productivity (QoQ)  (Q4)</td>\n",
       "      <td>6.600</td>\n",
       "      <td>3.200</td>\n",
       "      <td>-5.000</td>\n",
       "    </tr>\n",
       "    <tr>\n",
       "      <th>2022-02-03</th>\n",
       "      <td>Unit Labor Costs (QoQ)  (Q4)</td>\n",
       "      <td>0.300</td>\n",
       "      <td>1.500</td>\n",
       "      <td>9.300</td>\n",
       "    </tr>\n",
       "  </tbody>\n",
       "</table>\n",
       "</div>"
      ],
      "text/plain": [
       "                                          event  actual  forecast  previous\n",
       "date                                                                       \n",
       "2022-02-01             Manufacturing PMI  (Jan)  55.500    55.000    57.700\n",
       "2022-02-01  ISM Manufacturing Employment  (Jan)  54.500    53.500    53.900\n",
       "2022-02-02           API Weekly Crude Oil Stock  -1.645     1.833    -0.872\n",
       "2022-02-03     Nonfarm Productivity (QoQ)  (Q4)   6.600     3.200    -5.000\n",
       "2022-02-03         Unit Labor Costs (QoQ)  (Q4)   0.300     1.500     9.300"
      ]
     },
     "execution_count": 91,
     "metadata": {},
     "output_type": "execute_result"
    }
   ],
   "source": [
    "result_num.iloc[:, [4, 5, 6, 7]].head()\n",
    "# result_num.iloc[:, 4:8].head()    # same above"
   ]
  },
  {
   "cell_type": "code",
   "execution_count": 93,
   "metadata": {},
   "outputs": [
    {
     "data": {
      "text/html": [
       "<div>\n",
       "<style scoped>\n",
       "    .dataframe tbody tr th:only-of-type {\n",
       "        vertical-align: middle;\n",
       "    }\n",
       "\n",
       "    .dataframe tbody tr th {\n",
       "        vertical-align: top;\n",
       "    }\n",
       "\n",
       "    .dataframe thead th {\n",
       "        text-align: right;\n",
       "    }\n",
       "</style>\n",
       "<table border=\"1\" class=\"dataframe\">\n",
       "  <thead>\n",
       "    <tr style=\"text-align: right;\">\n",
       "      <th></th>\n",
       "      <th>forecast</th>\n",
       "      <th>previous</th>\n",
       "    </tr>\n",
       "    <tr>\n",
       "      <th>date</th>\n",
       "      <th></th>\n",
       "      <th></th>\n",
       "    </tr>\n",
       "  </thead>\n",
       "  <tbody>\n",
       "    <tr>\n",
       "      <th>2022-02-02</th>\n",
       "      <td>1.833</td>\n",
       "      <td>-0.872</td>\n",
       "    </tr>\n",
       "    <tr>\n",
       "      <th>2022-02-04</th>\n",
       "      <td>0.500</td>\n",
       "      <td>0.500</td>\n",
       "    </tr>\n",
       "  </tbody>\n",
       "</table>\n",
       "</div>"
      ],
      "text/plain": [
       "            forecast  previous\n",
       "date                          \n",
       "2022-02-02     1.833    -0.872\n",
       "2022-02-04     0.500     0.500"
      ]
     },
     "execution_count": 93,
     "metadata": {},
     "output_type": "execute_result"
    }
   ],
   "source": [
    "result_num.iloc[[2, 8], [6, 7]]"
   ]
  },
  {
   "cell_type": "code",
   "execution_count": 96,
   "metadata": {},
   "outputs": [
    {
     "data": {
      "text/plain": [
       "'Markit Composite PMI  (Jan)'"
      ]
     },
     "execution_count": 96,
     "metadata": {},
     "output_type": "execute_result"
    }
   ],
   "source": [
    "result_num.iloc[5, -4] # get cell at row 5, column -4\n",
    "# result_num.iloc[:, -4]"
   ]
  },
  {
   "cell_type": "code",
   "execution_count": 98,
   "metadata": {},
   "outputs": [
    {
     "data": {
      "text/plain": [
       "date\n",
       "2022-02-04         Private Nonfarm Payrolls  (Jan)\n",
       "2022-02-04    Average Hourly Earnings (MoM)  (Jan)\n",
       "2022-02-03                     Services PMI  (Jan)\n",
       "2022-02-03            Unit Labor Costs (QoQ)  (Q4)\n",
       "Name: event, dtype: object"
      ]
     },
     "execution_count": 98,
     "metadata": {},
     "output_type": "execute_result"
    }
   ],
   "source": [
    "result_num.iloc[10:3:-2, 4]   # get cells at rows 90 to 80, column 5"
   ]
  },
  {
   "cell_type": "code",
   "execution_count": 101,
   "metadata": {},
   "outputs": [
    {
     "data": {
      "text/html": [
       "<div>\n",
       "<style scoped>\n",
       "    .dataframe tbody tr th:only-of-type {\n",
       "        vertical-align: middle;\n",
       "    }\n",
       "\n",
       "    .dataframe tbody tr th {\n",
       "        vertical-align: top;\n",
       "    }\n",
       "\n",
       "    .dataframe thead th {\n",
       "        text-align: right;\n",
       "    }\n",
       "</style>\n",
       "<table border=\"1\" class=\"dataframe\">\n",
       "  <thead>\n",
       "    <tr style=\"text-align: right;\">\n",
       "      <th></th>\n",
       "      <th>time</th>\n",
       "    </tr>\n",
       "    <tr>\n",
       "      <th>date</th>\n",
       "      <th></th>\n",
       "    </tr>\n",
       "  </thead>\n",
       "  <tbody>\n",
       "    <tr>\n",
       "      <th>2022-02-01</th>\n",
       "      <td>21:45</td>\n",
       "    </tr>\n",
       "    <tr>\n",
       "      <th>2022-02-01</th>\n",
       "      <td>22:00</td>\n",
       "    </tr>\n",
       "    <tr>\n",
       "      <th>2022-02-02</th>\n",
       "      <td>04:30</td>\n",
       "    </tr>\n",
       "    <tr>\n",
       "      <th>2022-02-03</th>\n",
       "      <td>20:30</td>\n",
       "    </tr>\n",
       "    <tr>\n",
       "      <th>2022-02-03</th>\n",
       "      <td>20:30</td>\n",
       "    </tr>\n",
       "    <tr>\n",
       "      <th>2022-02-03</th>\n",
       "      <td>21:45</td>\n",
       "    </tr>\n",
       "    <tr>\n",
       "      <th>2022-02-03</th>\n",
       "      <td>21:45</td>\n",
       "    </tr>\n",
       "    <tr>\n",
       "      <th>2022-02-03</th>\n",
       "      <td>22:00</td>\n",
       "    </tr>\n",
       "  </tbody>\n",
       "</table>\n",
       "</div>"
      ],
      "text/plain": [
       "             time\n",
       "date             \n",
       "2022-02-01  21:45\n",
       "2022-02-01  22:00\n",
       "2022-02-02  04:30\n",
       "2022-02-03  20:30\n",
       "2022-02-03  20:30\n",
       "2022-02-03  21:45\n",
       "2022-02-03  21:45\n",
       "2022-02-03  22:00"
      ]
     },
     "execution_count": 101,
     "metadata": {},
     "output_type": "execute_result"
    }
   ],
   "source": [
    "result_num.loc[:'2022-02-03', :'time']"
   ]
  },
  {
   "cell_type": "code",
   "execution_count": 102,
   "metadata": {},
   "outputs": [
    {
     "data": {
      "text/html": [
       "<div>\n",
       "<style scoped>\n",
       "    .dataframe tbody tr th:only-of-type {\n",
       "        vertical-align: middle;\n",
       "    }\n",
       "\n",
       "    .dataframe tbody tr th {\n",
       "        vertical-align: top;\n",
       "    }\n",
       "\n",
       "    .dataframe thead th {\n",
       "        text-align: right;\n",
       "    }\n",
       "</style>\n",
       "<table border=\"1\" class=\"dataframe\">\n",
       "  <thead>\n",
       "    <tr style=\"text-align: right;\">\n",
       "      <th></th>\n",
       "      <th>time</th>\n",
       "      <th>event</th>\n",
       "    </tr>\n",
       "    <tr>\n",
       "      <th>date</th>\n",
       "      <th></th>\n",
       "      <th></th>\n",
       "    </tr>\n",
       "  </thead>\n",
       "  <tbody>\n",
       "    <tr>\n",
       "      <th>2022-02-01</th>\n",
       "      <td>21:45</td>\n",
       "      <td>Manufacturing PMI  (Jan)</td>\n",
       "    </tr>\n",
       "    <tr>\n",
       "      <th>2022-02-01</th>\n",
       "      <td>22:00</td>\n",
       "      <td>ISM Manufacturing Employment  (Jan)</td>\n",
       "    </tr>\n",
       "    <tr>\n",
       "      <th>2022-02-02</th>\n",
       "      <td>04:30</td>\n",
       "      <td>API Weekly Crude Oil Stock</td>\n",
       "    </tr>\n",
       "    <tr>\n",
       "      <th>2022-02-03</th>\n",
       "      <td>20:30</td>\n",
       "      <td>Nonfarm Productivity (QoQ)  (Q4)</td>\n",
       "    </tr>\n",
       "    <tr>\n",
       "      <th>...</th>\n",
       "      <td>...</td>\n",
       "      <td>...</td>\n",
       "    </tr>\n",
       "    <tr>\n",
       "      <th>2022-02-03</th>\n",
       "      <td>22:00</td>\n",
       "      <td>Factory Orders (MoM)  (Dec)</td>\n",
       "    </tr>\n",
       "    <tr>\n",
       "      <th>2022-02-04</th>\n",
       "      <td>20:30</td>\n",
       "      <td>Average Hourly Earnings (MoM)  (Jan)</td>\n",
       "    </tr>\n",
       "    <tr>\n",
       "      <th>2022-02-04</th>\n",
       "      <td>20:30</td>\n",
       "      <td>Average Hourly Earnings (YoY) (YoY)  (Jan)</td>\n",
       "    </tr>\n",
       "    <tr>\n",
       "      <th>2022-02-04</th>\n",
       "      <td>20:30</td>\n",
       "      <td>Private Nonfarm Payrolls  (Jan)</td>\n",
       "    </tr>\n",
       "  </tbody>\n",
       "</table>\n",
       "<p>11 rows × 2 columns</p>\n",
       "</div>"
      ],
      "text/plain": [
       "             time                                       event\n",
       "date                                                         \n",
       "2022-02-01  21:45                    Manufacturing PMI  (Jan)\n",
       "2022-02-01  22:00         ISM Manufacturing Employment  (Jan)\n",
       "2022-02-02  04:30                  API Weekly Crude Oil Stock\n",
       "2022-02-03  20:30            Nonfarm Productivity (QoQ)  (Q4)\n",
       "...           ...                                         ...\n",
       "2022-02-03  22:00                 Factory Orders (MoM)  (Dec)\n",
       "2022-02-04  20:30        Average Hourly Earnings (MoM)  (Jan)\n",
       "2022-02-04  20:30  Average Hourly Earnings (YoY) (YoY)  (Jan)\n",
       "2022-02-04  20:30             Private Nonfarm Payrolls  (Jan)\n",
       "\n",
       "[11 rows x 2 columns]"
      ]
     },
     "execution_count": 102,
     "metadata": {},
     "output_type": "execute_result"
    }
   ],
   "source": [
    "result_num.loc[:, ['time', 'event']]"
   ]
  },
  {
   "cell_type": "code",
   "execution_count": 109,
   "metadata": {},
   "outputs": [
    {
     "data": {
      "text/plain": [
       "date\n",
       "2022-02-01               Manufacturing PMI  (Jan)\n",
       "2022-02-01    ISM Manufacturing Employment  (Jan)\n",
       "Name: event, dtype: object"
      ]
     },
     "execution_count": 109,
     "metadata": {},
     "output_type": "execute_result"
    }
   ],
   "source": [
    "result_num.loc['2022-02-01', 'event']"
   ]
  },
  {
   "cell_type": "code",
   "execution_count": 132,
   "metadata": {},
   "outputs": [
    {
     "data": {
      "text/plain": [
       "pandas.core.indexes.datetimes.DatetimeIndex"
      ]
     },
     "execution_count": 132,
     "metadata": {},
     "output_type": "execute_result"
    }
   ],
   "source": [
    "type(result_num.index)"
   ]
  },
  {
   "cell_type": "code",
   "execution_count": 145,
   "metadata": {},
   "outputs": [],
   "source": [
    "# rows = ['2022-02-01', '2022-02-02', '2022-02-03']\n",
    "# time_rows = list(pd.DatetimeIndex([pd.to_datetime(row, format='%Y-%m-%d')]) for row in rows)\n",
    "# print(time_rows)\n",
    "\n",
    "# columns = ['forecast', 'previous']\n",
    "# result_num.loc[time_rows, columns]"
   ]
  },
  {
   "cell_type": "code",
   "execution_count": 148,
   "metadata": {},
   "outputs": [],
   "source": [
    "result_event = result_num.copy().set_index('event')\n",
    "# result_event.loc['Manufacturing PMI  (Jan)']\n",
    "# result_event.index\n",
    "# type(result_event.index)"
   ]
  },
  {
   "cell_type": "code",
   "execution_count": 149,
   "metadata": {},
   "outputs": [
    {
     "data": {
      "text/html": [
       "<div>\n",
       "<style scoped>\n",
       "    .dataframe tbody tr th:only-of-type {\n",
       "        vertical-align: middle;\n",
       "    }\n",
       "\n",
       "    .dataframe tbody tr th {\n",
       "        vertical-align: top;\n",
       "    }\n",
       "\n",
       "    .dataframe thead th {\n",
       "        text-align: right;\n",
       "    }\n",
       "</style>\n",
       "<table border=\"1\" class=\"dataframe\">\n",
       "  <thead>\n",
       "    <tr style=\"text-align: right;\">\n",
       "      <th></th>\n",
       "      <th>forecast</th>\n",
       "      <th>previous</th>\n",
       "    </tr>\n",
       "    <tr>\n",
       "      <th>event</th>\n",
       "      <th></th>\n",
       "      <th></th>\n",
       "    </tr>\n",
       "  </thead>\n",
       "  <tbody>\n",
       "    <tr>\n",
       "      <th>Manufacturing PMI  (Jan)</th>\n",
       "      <td>55.000</td>\n",
       "      <td>57.700</td>\n",
       "    </tr>\n",
       "    <tr>\n",
       "      <th>Average Hourly Earnings (MoM)  (Jan)</th>\n",
       "      <td>0.500</td>\n",
       "      <td>0.500</td>\n",
       "    </tr>\n",
       "    <tr>\n",
       "      <th>API Weekly Crude Oil Stock</th>\n",
       "      <td>1.833</td>\n",
       "      <td>-0.872</td>\n",
       "    </tr>\n",
       "  </tbody>\n",
       "</table>\n",
       "</div>"
      ],
      "text/plain": [
       "                                      forecast  previous\n",
       "event                                                   \n",
       "Manufacturing PMI  (Jan)                55.000    57.700\n",
       "Average Hourly Earnings (MoM)  (Jan)     0.500     0.500\n",
       "API Weekly Crude Oil Stock               1.833    -0.872"
      ]
     },
     "execution_count": 149,
     "metadata": {},
     "output_type": "execute_result"
    }
   ],
   "source": [
    "# ------------ pass name instead of index ------------\n",
    "rows = ['Manufacturing PMI  (Jan)', 'Average Hourly Earnings (MoM)  (Jan)', 'API Weekly Crude Oil Stock']\n",
    "columns = ['forecast', 'previous']\n",
    "result_event.loc[rows, columns]"
   ]
  },
  {
   "cell_type": "code",
   "execution_count": 150,
   "metadata": {},
   "outputs": [
    {
     "data": {
      "text/plain": [
       "55.0"
      ]
     },
     "execution_count": 150,
     "metadata": {},
     "output_type": "execute_result"
    }
   ],
   "source": [
    "result_event.loc['Manufacturing PMI  (Jan)', 'forecast']"
   ]
  },
  {
   "cell_type": "code",
   "execution_count": 154,
   "metadata": {},
   "outputs": [
    {
     "data": {
      "text/plain": [
       "Index(['Manufacturing PMI  (Jan)', 'ISM Manufacturing Employment  (Jan)',\n",
       "       'API Weekly Crude Oil Stock', 'Nonfarm Productivity (QoQ)  (Q4)',\n",
       "       'Unit Labor Costs (QoQ)  (Q4)', 'Markit Composite PMI  (Jan)',\n",
       "       'Services PMI  (Jan)', 'Factory Orders (MoM)  (Dec)',\n",
       "       'Average Hourly Earnings (MoM)  (Jan)',\n",
       "       'Average Hourly Earnings (YoY) (YoY)  (Jan)',\n",
       "       'Private Nonfarm Payrolls  (Jan)'],\n",
       "      dtype='object', name='event')"
      ]
     },
     "execution_count": 154,
     "metadata": {},
     "output_type": "execute_result"
    }
   ],
   "source": [
    "result_event.index"
   ]
  },
  {
   "cell_type": "code",
   "execution_count": 155,
   "metadata": {},
   "outputs": [
    {
     "data": {
      "text/plain": [
       "event\n",
       "Manufacturing PMI  (Jan)                 55.000\n",
       "API Weekly Crude Oil Stock                1.833\n",
       "Unit Labor Costs (QoQ)  (Q4)              1.500\n",
       "Services PMI  (Jan)                      50.900\n",
       "Average Hourly Earnings (MoM)  (Jan)      0.500\n",
       "Private Nonfarm Payrolls  (Jan)         150.000\n",
       "Name: forecast, dtype: float64"
      ]
     },
     "execution_count": 155,
     "metadata": {},
     "output_type": "execute_result"
    }
   ],
   "source": [
    "start, stop = 'Manufacturing PMI  (Jan)', 'Private Nonfarm Payrolls  (Jan)'\n",
    "result_event.loc[start:stop:2, 'forecast']\n"
   ]
  },
  {
   "cell_type": "markdown",
   "metadata": {},
   "source": [
    "## Selecting data with both integers and labels"
   ]
  },
  {
   "cell_type": "code",
   "execution_count": 156,
   "metadata": {},
   "outputs": [],
   "source": [
    "data = pd.read_csv('../cookbook_data/owndata/economic_calendar_2.csv', index_col=1)\n",
    "data.drop('id', axis=1, inplace=True)\n",
    "\n",
    "time_format = '%d/%m/%Y'\n",
    "data.index = pd.to_datetime(data.index, format=time_format)"
   ]
  },
  {
   "cell_type": "code",
   "execution_count": 163,
   "metadata": {},
   "outputs": [],
   "source": [
    "col_start = data.columns.get_loc('event')\n",
    "col_end = data.columns.get_loc('event') + 4"
   ]
  },
  {
   "cell_type": "code",
   "execution_count": 164,
   "metadata": {},
   "outputs": [
    {
     "data": {
      "text/html": [
       "<div>\n",
       "<style scoped>\n",
       "    .dataframe tbody tr th:only-of-type {\n",
       "        vertical-align: middle;\n",
       "    }\n",
       "\n",
       "    .dataframe tbody tr th {\n",
       "        vertical-align: top;\n",
       "    }\n",
       "\n",
       "    .dataframe thead th {\n",
       "        text-align: right;\n",
       "    }\n",
       "</style>\n",
       "<table border=\"1\" class=\"dataframe\">\n",
       "  <thead>\n",
       "    <tr style=\"text-align: right;\">\n",
       "      <th></th>\n",
       "      <th>event</th>\n",
       "      <th>actual</th>\n",
       "      <th>forecast</th>\n",
       "      <th>previous</th>\n",
       "    </tr>\n",
       "    <tr>\n",
       "      <th>date</th>\n",
       "      <th></th>\n",
       "      <th></th>\n",
       "      <th></th>\n",
       "      <th></th>\n",
       "    </tr>\n",
       "  </thead>\n",
       "  <tbody>\n",
       "    <tr>\n",
       "      <th>2022-02-01</th>\n",
       "      <td>China - Spring Festival</td>\n",
       "      <td>NaN</td>\n",
       "      <td>NaN</td>\n",
       "      <td>NaN</td>\n",
       "    </tr>\n",
       "    <tr>\n",
       "      <th>2022-02-01</th>\n",
       "      <td>China - Spring Festival</td>\n",
       "      <td>NaN</td>\n",
       "      <td>NaN</td>\n",
       "      <td>NaN</td>\n",
       "    </tr>\n",
       "    <tr>\n",
       "      <th>2022-02-01</th>\n",
       "      <td>FOMC Member George Speaks</td>\n",
       "      <td>NaN</td>\n",
       "      <td>NaN</td>\n",
       "      <td>NaN</td>\n",
       "    </tr>\n",
       "    <tr>\n",
       "      <th>2022-02-01</th>\n",
       "      <td>AIG Manufacturing Index  (Dec)</td>\n",
       "      <td>48.4</td>\n",
       "      <td>NaN</td>\n",
       "      <td>54.8</td>\n",
       "    </tr>\n",
       "    <tr>\n",
       "      <th>2022-02-01</th>\n",
       "      <td>Trade Balance (YoY)  (Dec)</td>\n",
       "      <td>-6,780M</td>\n",
       "      <td>NaN</td>\n",
       "      <td>-6,230M</td>\n",
       "    </tr>\n",
       "  </tbody>\n",
       "</table>\n",
       "</div>"
      ],
      "text/plain": [
       "                                     event   actual forecast previous\n",
       "date                                                                 \n",
       "2022-02-01         China - Spring Festival      NaN      NaN      NaN\n",
       "2022-02-01         China - Spring Festival      NaN      NaN      NaN\n",
       "2022-02-01       FOMC Member George Speaks      NaN      NaN      NaN\n",
       "2022-02-01  AIG Manufacturing Index  (Dec)     48.4      NaN     54.8\n",
       "2022-02-01      Trade Balance (YoY)  (Dec)  -6,780M      NaN  -6,230M"
      ]
     },
     "execution_count": 164,
     "metadata": {},
     "output_type": "execute_result"
    }
   ],
   "source": [
    "data.iloc[:5, col_start:col_end]"
   ]
  },
  {
   "cell_type": "code",
   "execution_count": 168,
   "metadata": {},
   "outputs": [
    {
     "data": {
      "text/plain": [
       "315"
      ]
     },
     "execution_count": 168,
     "metadata": {},
     "output_type": "execute_result"
    }
   ],
   "source": [
    "len(data.index)"
   ]
  },
  {
   "cell_type": "markdown",
   "metadata": {},
   "source": [
    "#### unique index issue"
   ]
  },
  {
   "cell_type": "code",
   "execution_count": 184,
   "metadata": {},
   "outputs": [],
   "source": [
    "# data.index = data.index.unique()\n",
    "# data"
   ]
  },
  {
   "cell_type": "code",
   "execution_count": 172,
   "metadata": {},
   "outputs": [],
   "source": [
    "data_event = data.copy().set_index('event')"
   ]
  },
  {
   "cell_type": "markdown",
   "metadata": {},
   "source": [
    "#### [count the duplicates of each type of row](https://stackoverflow.com/questions/35584085/how-to-count-duplicate-rows-in-pandas-dataframe) "
   ]
  },
  {
   "cell_type": "code",
   "execution_count": 188,
   "metadata": {},
   "outputs": [
    {
     "data": {
      "text/html": [
       "<div>\n",
       "<style scoped>\n",
       "    .dataframe tbody tr th:only-of-type {\n",
       "        vertical-align: middle;\n",
       "    }\n",
       "\n",
       "    .dataframe tbody tr th {\n",
       "        vertical-align: top;\n",
       "    }\n",
       "\n",
       "    .dataframe thead th {\n",
       "        text-align: right;\n",
       "    }\n",
       "</style>\n",
       "<table border=\"1\" class=\"dataframe\">\n",
       "  <thead>\n",
       "    <tr style=\"text-align: right;\">\n",
       "      <th></th>\n",
       "      <th>time</th>\n",
       "      <th>zone</th>\n",
       "      <th>currency</th>\n",
       "      <th>importance</th>\n",
       "      <th>actual</th>\n",
       "      <th>forecast</th>\n",
       "      <th>previous</th>\n",
       "      <th>size</th>\n",
       "    </tr>\n",
       "  </thead>\n",
       "  <tbody>\n",
       "    <tr>\n",
       "      <th>0</th>\n",
       "      <td>04:30</td>\n",
       "      <td>united states</td>\n",
       "      <td>USD</td>\n",
       "      <td>medium</td>\n",
       "      <td>-1.645M</td>\n",
       "      <td>1.833M</td>\n",
       "      <td>-0.872M</td>\n",
       "      <td>1</td>\n",
       "    </tr>\n",
       "    <tr>\n",
       "      <th>1</th>\n",
       "      <td>04:45</td>\n",
       "      <td>new zealand</td>\n",
       "      <td>NZD</td>\n",
       "      <td>high</td>\n",
       "      <td>0.1%</td>\n",
       "      <td>0.3%</td>\n",
       "      <td>2.0%</td>\n",
       "      <td>1</td>\n",
       "    </tr>\n",
       "    <tr>\n",
       "      <th>2</th>\n",
       "      <td>04:45</td>\n",
       "      <td>new zealand</td>\n",
       "      <td>NZD</td>\n",
       "      <td>medium</td>\n",
       "      <td>-477M</td>\n",
       "      <td>-700M</td>\n",
       "      <td>-1,060M</td>\n",
       "      <td>1</td>\n",
       "    </tr>\n",
       "    <tr>\n",
       "      <th>3</th>\n",
       "      <td>04:45</td>\n",
       "      <td>new zealand</td>\n",
       "      <td>NZD</td>\n",
       "      <td>medium</td>\n",
       "      <td>3.2%</td>\n",
       "      <td>3.4%</td>\n",
       "      <td>3.3%</td>\n",
       "      <td>1</td>\n",
       "    </tr>\n",
       "    <tr>\n",
       "      <th>...</th>\n",
       "      <td>...</td>\n",
       "      <td>...</td>\n",
       "      <td>...</td>\n",
       "      <td>...</td>\n",
       "      <td>...</td>\n",
       "      <td>...</td>\n",
       "      <td>...</td>\n",
       "      <td>...</td>\n",
       "    </tr>\n",
       "    <tr>\n",
       "      <th>52</th>\n",
       "      <td>22:00</td>\n",
       "      <td>united states</td>\n",
       "      <td>USD</td>\n",
       "      <td>high</td>\n",
       "      <td>59.9</td>\n",
       "      <td>59.5</td>\n",
       "      <td>62.3</td>\n",
       "      <td>1</td>\n",
       "    </tr>\n",
       "    <tr>\n",
       "      <th>53</th>\n",
       "      <td>22:00</td>\n",
       "      <td>united states</td>\n",
       "      <td>USD</td>\n",
       "      <td>medium</td>\n",
       "      <td>-0.4%</td>\n",
       "      <td>-0.2%</td>\n",
       "      <td>1.8%</td>\n",
       "      <td>1</td>\n",
       "    </tr>\n",
       "    <tr>\n",
       "      <th>54</th>\n",
       "      <td>22:00</td>\n",
       "      <td>united states</td>\n",
       "      <td>USD</td>\n",
       "      <td>medium</td>\n",
       "      <td>54.5</td>\n",
       "      <td>53.5</td>\n",
       "      <td>53.9</td>\n",
       "      <td>1</td>\n",
       "    </tr>\n",
       "    <tr>\n",
       "      <th>55</th>\n",
       "      <td>22:30</td>\n",
       "      <td>united states</td>\n",
       "      <td>USD</td>\n",
       "      <td>high</td>\n",
       "      <td>-1.046M</td>\n",
       "      <td>1.525M</td>\n",
       "      <td>2.377M</td>\n",
       "      <td>1</td>\n",
       "    </tr>\n",
       "  </tbody>\n",
       "</table>\n",
       "<p>56 rows × 8 columns</p>\n",
       "</div>"
      ],
      "text/plain": [
       "     time           zone currency importance   actual forecast previous  size\n",
       "0   04:30  united states      USD     medium  -1.645M   1.833M  -0.872M     1\n",
       "1   04:45    new zealand      NZD       high     0.1%     0.3%     2.0%     1\n",
       "2   04:45    new zealand      NZD     medium    -477M    -700M  -1,060M     1\n",
       "3   04:45    new zealand      NZD     medium     3.2%     3.4%     3.3%     1\n",
       "..    ...            ...      ...        ...      ...      ...      ...   ...\n",
       "52  22:00  united states      USD       high     59.9     59.5     62.3     1\n",
       "53  22:00  united states      USD     medium    -0.4%    -0.2%     1.8%     1\n",
       "54  22:00  united states      USD     medium     54.5     53.5     53.9     1\n",
       "55  22:30  united states      USD       high  -1.046M   1.525M   2.377M     1\n",
       "\n",
       "[56 rows x 8 columns]"
      ]
     },
     "execution_count": 188,
     "metadata": {},
     "output_type": "execute_result"
    }
   ],
   "source": [
    "data_event.groupby(data_event.columns.tolist(),as_index=False).size()"
   ]
  },
  {
   "cell_type": "code",
   "execution_count": 190,
   "metadata": {},
   "outputs": [
    {
     "data": {
      "text/plain": [
       "('RBA Rate Statement', 'RBA Governor Lowe Speaks')"
      ]
     },
     "execution_count": 190,
     "metadata": {},
     "output_type": "execute_result"
    }
   ],
   "source": [
    "row_start, row_end = data_event.index[10], data_event.index[35] # non-unique label\n",
    "row_start, row_end\n",
    "# data_event.loc[row_start:row_end, 'actual':'previous']    # comment because error"
   ]
  },
  {
   "cell_type": "markdown",
   "metadata": {},
   "source": [
    "#### Speeding up scalar selection"
   ]
  },
  {
   "cell_type": "code",
   "execution_count": 193,
   "metadata": {},
   "outputs": [
    {
     "data": {
      "text/plain": [
       "Index(['China - Spring Festival', 'China - Spring Festival',\n",
       "       'FOMC Member George Speaks', 'AIG Manufacturing Index  (Dec)',\n",
       "       'Trade Balance (YoY)  (Dec)', 'Trade Balance (MoM)  (Dec)',\n",
       "       'Jobs/applications ratio  (Dec)', 'Home Loans (MoM)',\n",
       "       'Retail Sales (MoM)  (Dec)', 'RBA Interest Rate Decision  (Feb)',\n",
       "       ...\n",
       "       'China - Spring Festival', 'China - Spring Festival',\n",
       "       'China - Spring Festival', 'China - Spring Festival',\n",
       "       'China - Spring Festival', 'New Zealand - National Day',\n",
       "       'Japan - National Day', 'United States - Presidents' Day',\n",
       "       'Canada - Family Day', 'Japan - Emperor's Birthday'],\n",
       "      dtype='object', name='event', length=315)"
      ]
     },
     "execution_count": 193,
     "metadata": {},
     "output_type": "execute_result"
    }
   ],
   "source": [
    "data_event.index"
   ]
  },
  {
   "cell_type": "code",
   "execution_count": 197,
   "metadata": {},
   "outputs": [
    {
     "data": {
      "text/plain": [
       "'-6,780M'"
      ]
     },
     "execution_count": 197,
     "metadata": {},
     "output_type": "execute_result"
    }
   ],
   "source": [
    "cn = 'Trade Balance (YoY)  (Dec)'\n",
    "data_event.loc[cn, 'actual']\n",
    "# data_event.loc[cn, ['actual', 'forecast', 'previous']]"
   ]
  },
  {
   "cell_type": "code",
   "execution_count": 196,
   "metadata": {},
   "outputs": [
    {
     "data": {
      "text/plain": [
       "'-6,780M'"
      ]
     },
     "execution_count": 196,
     "metadata": {},
     "output_type": "execute_result"
    }
   ],
   "source": [
    "data_event.at[cn, 'actual']\n"
   ]
  },
  {
   "cell_type": "code",
   "execution_count": 199,
   "metadata": {},
   "outputs": [
    {
     "data": {
      "text/plain": [
       "(4, 5)"
      ]
     },
     "execution_count": 199,
     "metadata": {},
     "output_type": "execute_result"
    }
   ],
   "source": [
    "row_num = data_event.index.get_loc(cn)\n",
    "col_num = data_event.columns.get_loc('forecast')\n",
    "row_num, col_num"
   ]
  },
  {
   "cell_type": "code",
   "execution_count": 203,
   "metadata": {},
   "outputs": [
    {
     "name": "stdout",
     "output_type": "stream",
     "text": [
      "28.2 µs ± 2.4 µs per loop (mean ± std. dev. of 7 runs, 10000 loops each)\n"
     ]
    }
   ],
   "source": [
    "# %timeit data_event.iloc[row_num, col_num]"
   ]
  },
  {
   "cell_type": "code",
   "execution_count": 205,
   "metadata": {},
   "outputs": [
    {
     "name": "stdout",
     "output_type": "stream",
     "text": [
      "21.2 µs ± 1.02 µs per loop (mean ± std. dev. of 7 runs, 10000 loops each)\n"
     ]
    }
   ],
   "source": [
    "# %timeit data_event.iat[row_num, col_num]"
   ]
  },
  {
   "cell_type": "code",
   "execution_count": 201,
   "metadata": {},
   "outputs": [
    {
     "name": "stdout",
     "output_type": "stream",
     "text": [
      "29.2 µs ± 1.6 µs per loop (mean ± std. dev. of 7 runs, 10000 loops each)\n"
     ]
    }
   ],
   "source": [
    "# %timeit data_event.iloc[5, col_num]"
   ]
  },
  {
   "cell_type": "code",
   "execution_count": 202,
   "metadata": {},
   "outputs": [
    {
     "name": "stdout",
     "output_type": "stream",
     "text": [
      "27.1 µs ± 1.03 µs per loop (mean ± std. dev. of 7 runs, 10000 loops each)\n"
     ]
    }
   ],
   "source": [
    "# %timeit data_event.iloc[5, col_num]"
   ]
  },
  {
   "cell_type": "code",
   "execution_count": 220,
   "metadata": {},
   "outputs": [],
   "source": [
    "act_val = data_event['previous']\n",
    "# act_val.index"
   ]
  },
  {
   "cell_type": "code",
   "execution_count": 216,
   "metadata": {},
   "outputs": [
    {
     "data": {
      "text/plain": [
       "'52.1'"
      ]
     },
     "execution_count": 216,
     "metadata": {},
     "output_type": "execute_result"
    }
   ],
   "source": [
    "act_val.iat[50]"
   ]
  },
  {
   "cell_type": "code",
   "execution_count": 219,
   "metadata": {},
   "outputs": [
    {
     "data": {
      "text/plain": [
       "event\n",
       "Retail Sales (MoM)  (Dec)    7.3%\n",
       "Retail Sales (MoM)  (Dec)    0.7%\n",
       "Name: previous, dtype: object"
      ]
     },
     "execution_count": 219,
     "metadata": {},
     "output_type": "execute_result"
    }
   ],
   "source": [
    "act_val.at['Retail Sales (MoM)  (Dec)']"
   ]
  },
  {
   "cell_type": "markdown",
   "metadata": {},
   "source": [
    "#### Slicing rows lazily"
   ]
  },
  {
   "cell_type": "code",
   "execution_count": 221,
   "metadata": {},
   "outputs": [],
   "source": [
    "data = pd.read_csv('../cookbook_data/owndata/economic_calendar_2.csv', index_col=1)\n",
    "data.drop('id', axis=1, inplace=True)\n",
    "\n",
    "time_format = '%d/%m/%Y'\n",
    "data.index = pd.to_datetime(data.index, format=time_format)"
   ]
  },
  {
   "cell_type": "code",
   "execution_count": 222,
   "metadata": {},
   "outputs": [
    {
     "data": {
      "text/plain": [
       "date\n",
       "2022-02-01            China - Spring Festival\n",
       "2022-02-01            China - Spring Festival\n",
       "2022-02-01          FOMC Member George Speaks\n",
       "2022-02-01     AIG Manufacturing Index  (Dec)\n",
       "                           ...               \n",
       "2022-02-11               Japan - National Day\n",
       "2022-02-21    United States - Presidents' Day\n",
       "2022-02-21                Canada - Family Day\n",
       "2022-02-23         Japan - Emperor's Birthday\n",
       "Name: event, Length: 315, dtype: object"
      ]
     },
     "execution_count": 222,
     "metadata": {},
     "output_type": "execute_result"
    }
   ],
   "source": [
    "events = data['event']\n",
    "# events"
   ]
  },
  {
   "cell_type": "code",
   "execution_count": 224,
   "metadata": {},
   "outputs": [
    {
     "data": {
      "text/plain": [
       "date\n",
       "2022-02-01     Trade Balance (YoY)  (Dec)\n",
       "2022-02-01      Retail Sales (MoM)  (Dec)\n",
       "2022-02-01    Nationwide HPI (YoY)  (Jan)\n",
       "2022-02-01    SECO Consumer Climate  (Q1)\n",
       "Name: event, dtype: object"
      ]
     },
     "execution_count": 224,
     "metadata": {},
     "output_type": "execute_result"
    }
   ],
   "source": [
    "events[4:20:4]"
   ]
  },
  {
   "cell_type": "code",
   "execution_count": 227,
   "metadata": {},
   "outputs": [
    {
     "data": {
      "text/plain": [
       "Timestamp('2022-02-21 00:00:00')"
      ]
     },
     "execution_count": 227,
     "metadata": {},
     "output_type": "execute_result"
    }
   ],
   "source": [
    "events.index[313]"
   ]
  },
  {
   "cell_type": "code",
   "execution_count": 229,
   "metadata": {},
   "outputs": [
    {
     "data": {
      "text/plain": [
       "date\n",
       "2022-02-16        Core Retail Sales (MoM)  (Jan)\n",
       "2022-02-16    Industrial Production (MoM)  (Jan)\n",
       "2022-02-18             Retail Sales (MoM)  (Jan)\n",
       "2022-02-22                   Services PMI  (Feb)\n",
       "2022-02-25     Durable Goods Orders (MoM)  (Jan)\n",
       "Name: event, dtype: object"
      ]
     },
     "execution_count": 229,
     "metadata": {},
     "output_type": "execute_result"
    }
   ],
   "source": [
    "# text - datetimeIndex issue\n",
    "start = 'Mesa Community College'\n",
    "stop = 'Spokane Community College'\n",
    "# events[200:300:20]"
   ]
  },
  {
   "cell_type": "code",
   "execution_count": 238,
   "metadata": {},
   "outputs": [
    {
     "data": {
      "text/html": [
       "<div>\n",
       "<style scoped>\n",
       "    .dataframe tbody tr th:only-of-type {\n",
       "        vertical-align: middle;\n",
       "    }\n",
       "\n",
       "    .dataframe tbody tr th {\n",
       "        vertical-align: top;\n",
       "    }\n",
       "\n",
       "    .dataframe thead th {\n",
       "        text-align: right;\n",
       "    }\n",
       "</style>\n",
       "<table border=\"1\" class=\"dataframe\">\n",
       "  <thead>\n",
       "    <tr style=\"text-align: right;\">\n",
       "      <th></th>\n",
       "      <th>event</th>\n",
       "    </tr>\n",
       "    <tr>\n",
       "      <th>date</th>\n",
       "      <th></th>\n",
       "    </tr>\n",
       "  </thead>\n",
       "  <tbody>\n",
       "    <tr>\n",
       "      <th>2022-02-01</th>\n",
       "      <td>China - Spring Festival</td>\n",
       "    </tr>\n",
       "    <tr>\n",
       "      <th>2022-02-01</th>\n",
       "      <td>China - Spring Festival</td>\n",
       "    </tr>\n",
       "    <tr>\n",
       "      <th>2022-02-01</th>\n",
       "      <td>FOMC Member George Speaks</td>\n",
       "    </tr>\n",
       "    <tr>\n",
       "      <th>2022-02-01</th>\n",
       "      <td>AIG Manufacturing Index  (Dec)</td>\n",
       "    </tr>\n",
       "    <tr>\n",
       "      <th>...</th>\n",
       "      <td>...</td>\n",
       "    </tr>\n",
       "    <tr>\n",
       "      <th>2022-02-01</th>\n",
       "      <td>China - Spring Festival</td>\n",
       "    </tr>\n",
       "    <tr>\n",
       "      <th>2022-02-01</th>\n",
       "      <td>China - Spring Festival</td>\n",
       "    </tr>\n",
       "    <tr>\n",
       "      <th>2022-02-01</th>\n",
       "      <td>China - Spring Festival</td>\n",
       "    </tr>\n",
       "    <tr>\n",
       "      <th>2022-02-01</th>\n",
       "      <td>China - Spring Festival</td>\n",
       "    </tr>\n",
       "  </tbody>\n",
       "</table>\n",
       "<p>340 rows × 1 columns</p>\n",
       "</div>"
      ],
      "text/plain": [
       "                                     event\n",
       "date                                      \n",
       "2022-02-01         China - Spring Festival\n",
       "2022-02-01         China - Spring Festival\n",
       "2022-02-01       FOMC Member George Speaks\n",
       "2022-02-01  AIG Manufacturing Index  (Dec)\n",
       "...                                    ...\n",
       "2022-02-01         China - Spring Festival\n",
       "2022-02-01         China - Spring Festival\n",
       "2022-02-01         China - Spring Festival\n",
       "2022-02-01         China - Spring Festival\n",
       "\n",
       "[340 rows x 1 columns]"
      ]
     },
     "execution_count": 238,
     "metadata": {},
     "output_type": "execute_result"
    }
   ],
   "source": [
    "first_ten_instnm = data.index[:10]\n",
    "# len(first_ten_instnm), type(first_ten_instnm)\n",
    "\n",
    "# data.loc[first_ten_instnm, ['time', 'event']]\n",
    "data.loc[first_ten_instnm, ['event']]"
   ]
  },
  {
   "cell_type": "markdown",
   "metadata": {},
   "source": [
    "### Slicing Lexicographically\n",
    "- select data based on the lexicographic order of the values in the index\n",
    "- select all rows with an index lexicographically using slice notation\n",
    "- This works only if the index is sorted"
   ]
  },
  {
   "cell_type": "code",
   "execution_count": null,
   "metadata": {},
   "outputs": [],
   "source": [
    "pd.options.display.max_rows = 6"
   ]
  },
  {
   "cell_type": "code",
   "execution_count": null,
   "metadata": {},
   "outputs": [],
   "source": [
    "data = pd.read_csv('../cookbook_data/owndata/economic_calendar_2.csv', index_col=1)\n",
    "data.drop('id', axis=1, inplace=True)\n",
    "\n",
    "time_format = '%d/%m/%Y'\n",
    "data.index = pd.to_datetime(data.index, format=time_format)"
   ]
  },
  {
   "cell_type": "code",
   "execution_count": 244,
   "metadata": {},
   "outputs": [],
   "source": [
    "data_event = data.copy().set_index('event')"
   ]
  },
  {
   "cell_type": "code",
   "execution_count": 245,
   "metadata": {},
   "outputs": [],
   "source": [
    "data_event = data_event.sort_index()"
   ]
  },
  {
   "cell_type": "code",
   "execution_count": 248,
   "metadata": {},
   "outputs": [
    {
     "data": {
      "text/html": [
       "<div>\n",
       "<style scoped>\n",
       "    .dataframe tbody tr th:only-of-type {\n",
       "        vertical-align: middle;\n",
       "    }\n",
       "\n",
       "    .dataframe tbody tr th {\n",
       "        vertical-align: top;\n",
       "    }\n",
       "\n",
       "    .dataframe thead th {\n",
       "        text-align: right;\n",
       "    }\n",
       "</style>\n",
       "<table border=\"1\" class=\"dataframe\">\n",
       "  <thead>\n",
       "    <tr style=\"text-align: right;\">\n",
       "      <th></th>\n",
       "      <th>time</th>\n",
       "      <th>zone</th>\n",
       "      <th>currency</th>\n",
       "      <th>importance</th>\n",
       "      <th>actual</th>\n",
       "      <th>forecast</th>\n",
       "      <th>previous</th>\n",
       "    </tr>\n",
       "    <tr>\n",
       "      <th>event</th>\n",
       "      <th></th>\n",
       "      <th></th>\n",
       "      <th></th>\n",
       "      <th></th>\n",
       "      <th></th>\n",
       "      <th></th>\n",
       "      <th></th>\n",
       "    </tr>\n",
       "  </thead>\n",
       "  <tbody>\n",
       "    <tr>\n",
       "      <th>ADP Nonfarm Employment Change  (Jan)</th>\n",
       "      <td>20:15</td>\n",
       "      <td>united states</td>\n",
       "      <td>USD</td>\n",
       "      <td>high</td>\n",
       "      <td>-301K</td>\n",
       "      <td>207K</td>\n",
       "      <td>776K</td>\n",
       "    </tr>\n",
       "    <tr>\n",
       "      <th>AIG Manufacturing Index  (Dec)</th>\n",
       "      <td>04:30</td>\n",
       "      <td>australia</td>\n",
       "      <td>AUD</td>\n",
       "      <td>medium</td>\n",
       "      <td>48.4</td>\n",
       "      <td>NaN</td>\n",
       "      <td>54.8</td>\n",
       "    </tr>\n",
       "    <tr>\n",
       "      <th>ANZ Business Confidence</th>\n",
       "      <td>Tentative</td>\n",
       "      <td>new zealand</td>\n",
       "      <td>NZD</td>\n",
       "      <td>medium</td>\n",
       "      <td>NaN</td>\n",
       "      <td>NaN</td>\n",
       "      <td>-23.2</td>\n",
       "    </tr>\n",
       "    <tr>\n",
       "      <th>ANZ Business Confidence  (Feb)</th>\n",
       "      <td>07:00</td>\n",
       "      <td>new zealand</td>\n",
       "      <td>NZD</td>\n",
       "      <td>medium</td>\n",
       "      <td>NaN</td>\n",
       "      <td>NaN</td>\n",
       "      <td>-23.2</td>\n",
       "    </tr>\n",
       "    <tr>\n",
       "      <th>API Weekly Crude Oil Stock</th>\n",
       "      <td>04:30</td>\n",
       "      <td>united states</td>\n",
       "      <td>USD</td>\n",
       "      <td>medium</td>\n",
       "      <td>NaN</td>\n",
       "      <td>NaN</td>\n",
       "      <td>-1.645M</td>\n",
       "    </tr>\n",
       "    <tr>\n",
       "      <th>API Weekly Crude Oil Stock</th>\n",
       "      <td>04:30</td>\n",
       "      <td>united states</td>\n",
       "      <td>USD</td>\n",
       "      <td>medium</td>\n",
       "      <td>-1.645M</td>\n",
       "      <td>1.833M</td>\n",
       "      <td>-0.872M</td>\n",
       "    </tr>\n",
       "  </tbody>\n",
       "</table>\n",
       "</div>"
      ],
      "text/plain": [
       "                                           time           zone currency  \\\n",
       "event                                                                     \n",
       "ADP Nonfarm Employment Change  (Jan)      20:15  united states      USD   \n",
       "AIG Manufacturing Index  (Dec)            04:30      australia      AUD   \n",
       "ANZ Business Confidence               Tentative    new zealand      NZD   \n",
       "ANZ Business Confidence  (Feb)            07:00    new zealand      NZD   \n",
       "API Weekly Crude Oil Stock                04:30  united states      USD   \n",
       "API Weekly Crude Oil Stock                04:30  united states      USD   \n",
       "\n",
       "                                     importance   actual forecast previous  \n",
       "event                                                                       \n",
       "ADP Nonfarm Employment Change  (Jan)       high    -301K     207K     776K  \n",
       "AIG Manufacturing Index  (Dec)           medium     48.4      NaN     54.8  \n",
       "ANZ Business Confidence                  medium      NaN      NaN    -23.2  \n",
       "ANZ Business Confidence  (Feb)           medium      NaN      NaN    -23.2  \n",
       "API Weekly Crude Oil Stock               medium      NaN      NaN  -1.645M  \n",
       "API Weekly Crude Oil Stock               medium  -1.645M   1.833M  -0.872M  "
      ]
     },
     "execution_count": 248,
     "metadata": {},
     "output_type": "execute_result"
    }
   ],
   "source": [
    "data_event.loc['AD':'AZ']"
   ]
  },
  {
   "cell_type": "code",
   "execution_count": 249,
   "metadata": {},
   "outputs": [
    {
     "data": {
      "text/plain": [
       "True"
      ]
     },
     "execution_count": 249,
     "metadata": {},
     "output_type": "execute_result"
    }
   ],
   "source": [
    "data_event = data_event.sort_index(ascending=False)\n",
    "data_event.index.is_monotonic_decreasing\n",
    "# college.head()"
   ]
  },
  {
   "cell_type": "code",
   "execution_count": 250,
   "metadata": {},
   "outputs": [
    {
     "data": {
      "text/html": [
       "<div>\n",
       "<style scoped>\n",
       "    .dataframe tbody tr th:only-of-type {\n",
       "        vertical-align: middle;\n",
       "    }\n",
       "\n",
       "    .dataframe tbody tr th {\n",
       "        vertical-align: top;\n",
       "    }\n",
       "\n",
       "    .dataframe thead th {\n",
       "        text-align: right;\n",
       "    }\n",
       "</style>\n",
       "<table border=\"1\" class=\"dataframe\">\n",
       "  <thead>\n",
       "    <tr style=\"text-align: right;\">\n",
       "      <th></th>\n",
       "      <th>time</th>\n",
       "      <th>zone</th>\n",
       "      <th>currency</th>\n",
       "      <th>importance</th>\n",
       "      <th>actual</th>\n",
       "      <th>forecast</th>\n",
       "      <th>previous</th>\n",
       "    </tr>\n",
       "    <tr>\n",
       "      <th>event</th>\n",
       "      <th></th>\n",
       "      <th></th>\n",
       "      <th></th>\n",
       "      <th></th>\n",
       "      <th></th>\n",
       "      <th></th>\n",
       "      <th></th>\n",
       "    </tr>\n",
       "  </thead>\n",
       "  <tbody>\n",
       "    <tr>\n",
       "      <th>Business NZ PMI  (Jan)</th>\n",
       "      <td>04:30</td>\n",
       "      <td>new zealand</td>\n",
       "      <td>NZD</td>\n",
       "      <td>medium</td>\n",
       "      <td>NaN</td>\n",
       "      <td>NaN</td>\n",
       "      <td>53.7</td>\n",
       "    </tr>\n",
       "    <tr>\n",
       "      <th>Business Investment (QoQ)  (Q4)</th>\n",
       "      <td>14:00</td>\n",
       "      <td>united kingdom</td>\n",
       "      <td>GBP</td>\n",
       "      <td>medium</td>\n",
       "      <td>NaN</td>\n",
       "      <td>2.6%</td>\n",
       "      <td>-2.5%</td>\n",
       "    </tr>\n",
       "    <tr>\n",
       "      <th>Business Inventories (MoM)  (Dec)</th>\n",
       "      <td>22:00</td>\n",
       "      <td>united states</td>\n",
       "      <td>USD</td>\n",
       "      <td>medium</td>\n",
       "      <td>NaN</td>\n",
       "      <td>1.8%</td>\n",
       "      <td>1.3%</td>\n",
       "    </tr>\n",
       "    <tr>\n",
       "      <th>Building Permits (MoM)  (Jan)</th>\n",
       "      <td>20:30</td>\n",
       "      <td>united states</td>\n",
       "      <td>USD</td>\n",
       "      <td>medium</td>\n",
       "      <td>NaN</td>\n",
       "      <td>NaN</td>\n",
       "      <td>9.8%</td>\n",
       "    </tr>\n",
       "    <tr>\n",
       "      <th>...</th>\n",
       "      <td>...</td>\n",
       "      <td>...</td>\n",
       "      <td>...</td>\n",
       "      <td>...</td>\n",
       "      <td>...</td>\n",
       "      <td>...</td>\n",
       "      <td>...</td>\n",
       "    </tr>\n",
       "    <tr>\n",
       "      <th>ANZ Business Confidence  (Feb)</th>\n",
       "      <td>07:00</td>\n",
       "      <td>new zealand</td>\n",
       "      <td>NZD</td>\n",
       "      <td>medium</td>\n",
       "      <td>NaN</td>\n",
       "      <td>NaN</td>\n",
       "      <td>-23.2</td>\n",
       "    </tr>\n",
       "    <tr>\n",
       "      <th>ANZ Business Confidence</th>\n",
       "      <td>Tentative</td>\n",
       "      <td>new zealand</td>\n",
       "      <td>NZD</td>\n",
       "      <td>medium</td>\n",
       "      <td>NaN</td>\n",
       "      <td>NaN</td>\n",
       "      <td>-23.2</td>\n",
       "    </tr>\n",
       "    <tr>\n",
       "      <th>AIG Manufacturing Index  (Dec)</th>\n",
       "      <td>04:30</td>\n",
       "      <td>australia</td>\n",
       "      <td>AUD</td>\n",
       "      <td>medium</td>\n",
       "      <td>48.4</td>\n",
       "      <td>NaN</td>\n",
       "      <td>54.8</td>\n",
       "    </tr>\n",
       "    <tr>\n",
       "      <th>ADP Nonfarm Employment Change  (Jan)</th>\n",
       "      <td>20:15</td>\n",
       "      <td>united states</td>\n",
       "      <td>USD</td>\n",
       "      <td>high</td>\n",
       "      <td>-301K</td>\n",
       "      <td>207K</td>\n",
       "      <td>776K</td>\n",
       "    </tr>\n",
       "  </tbody>\n",
       "</table>\n",
       "<p>34 rows × 7 columns</p>\n",
       "</div>"
      ],
      "text/plain": [
       "                                           time            zone currency  \\\n",
       "event                                                                      \n",
       "Business NZ PMI  (Jan)                    04:30     new zealand      NZD   \n",
       "Business Investment (QoQ)  (Q4)           14:00  united kingdom      GBP   \n",
       "Business Inventories (MoM)  (Dec)         22:00   united states      USD   \n",
       "Building Permits (MoM)  (Jan)             20:30   united states      USD   \n",
       "...                                         ...             ...      ...   \n",
       "ANZ Business Confidence  (Feb)            07:00     new zealand      NZD   \n",
       "ANZ Business Confidence               Tentative     new zealand      NZD   \n",
       "AIG Manufacturing Index  (Dec)            04:30       australia      AUD   \n",
       "ADP Nonfarm Employment Change  (Jan)      20:15   united states      USD   \n",
       "\n",
       "                                     importance actual forecast previous  \n",
       "event                                                                     \n",
       "Business NZ PMI  (Jan)                   medium    NaN      NaN     53.7  \n",
       "Business Investment (QoQ)  (Q4)          medium    NaN     2.6%    -2.5%  \n",
       "Business Inventories (MoM)  (Dec)        medium    NaN     1.8%     1.3%  \n",
       "Building Permits (MoM)  (Jan)            medium    NaN      NaN     9.8%  \n",
       "...                                         ...    ...      ...      ...  \n",
       "ANZ Business Confidence  (Feb)           medium    NaN      NaN    -23.2  \n",
       "ANZ Business Confidence                  medium    NaN      NaN    -23.2  \n",
       "AIG Manufacturing Index  (Dec)           medium   48.4      NaN     54.8  \n",
       "ADP Nonfarm Employment Change  (Jan)       high  -301K     207K     776K  \n",
       "\n",
       "[34 rows x 7 columns]"
      ]
     },
     "execution_count": 250,
     "metadata": {},
     "output_type": "execute_result"
    }
   ],
   "source": [
    "data_event.loc['C':'A']"
   ]
  }
 ],
 "metadata": {
  "kernelspec": {
   "display_name": "Python 3.7.10 ('algo-env')",
   "language": "python",
   "name": "python3"
  },
  "language_info": {
   "codemirror_mode": {
    "name": "ipython",
    "version": 3
   },
   "file_extension": ".py",
   "mimetype": "text/x-python",
   "name": "python",
   "nbconvert_exporter": "python",
   "pygments_lexer": "ipython3",
   "version": "3.7.10"
  },
  "orig_nbformat": 4,
  "vscode": {
   "interpreter": {
    "hash": "0781bcc80d8235e9d81679890229c60f7416d60cfdf9469dc7d56f24a05b98d6"
   }
  }
 },
 "nbformat": 4,
 "nbformat_minor": 2
}
