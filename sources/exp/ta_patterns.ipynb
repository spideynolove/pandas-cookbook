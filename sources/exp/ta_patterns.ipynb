{
 "cells": [
  {
   "cell_type": "markdown",
   "metadata": {},
   "source": [
    "# [alpaca](https://alpaca.markets/learn/algorithmic-trading-chart-pattern-python/)\n"
   ]
  },
  {
   "cell_type": "code",
   "execution_count": 2,
   "metadata": {},
   "outputs": [],
   "source": [
    "import pandas as pd\n",
    "import numpy as np\n",
    "from scipy.signal import argrelextrema\n",
    "from datetime import timedelta\n",
    "from collections import defaultdict\n",
    "\n",
    "\n",
    "# import alpaca_trade_api as tradeapi"
   ]
  },
  {
   "cell_type": "markdown",
   "metadata": {},
   "source": [
    "#### grab data"
   ]
  },
  {
   "cell_type": "code",
   "execution_count": null,
   "metadata": {},
   "outputs": [],
   "source": [
    "api = tradeapi.REST('YOUR API KEY HERE',\n",
    "                    'YOUR API SECRET CODE HERE',\n",
    "                    'https://paper-api.alpaca.markets')\n",
    "\n",
    "\n",
    "def get_data(symbol, lookback):\n",
    "    '''get historical data for a symbol in minutes'''\n",
    "    all_data = pd.DataFrame()\n",
    "    for x in range(lookback):\n",
    "        if x == 0:\n",
    "            data = api.polygon.historic_agg('minute', symbol, limit=None).df\n",
    "        else:\n",
    "            data = api.polygon.historic_agg('minute', symbol, _from=(\n",
    "                data.index.min() - timedelta(days=5)).strftime('%x %X'), to=start, limit=None).df\n",
    "        start = data.index.min().strftime('%x %X')\n",
    "        end = data.index.max().strftime('%x %X')\n",
    "        all_data = pd.concat([data, all_data], axis=0)\n",
    "        \n",
    "    all_data.drop(columns=['volume'], inplace=True)\n",
    "    all_data.dropna(inplace=True)\n",
    "    all_data = all_data[~all_data.index.duplicated()]\n",
    "    all_data.replace(0, method='bfill', inplace=True)\n",
    "    return all_data\n",
    "\n",
    "\n",
    "data = get_data('CAT', 3)\n",
    "\n",
    "data\n"
   ]
  },
  {
   "cell_type": "markdown",
   "metadata": {},
   "source": [
    "#### find peaks in the data."
   ]
  },
  {
   "cell_type": "code",
   "execution_count": null,
   "metadata": {},
   "outputs": [],
   "source": [
    "def get_max_min(prices, smoothing, window_range):\n",
    "    smooth_prices = prices['close'].rolling(window=smoothing).mean().dropna()\n",
    "    local_max = argrelextrema(smooth_prices.values, np.greater)[0]\n",
    "    local_min = argrelextrema(smooth_prices.values, np.less)[0]\n",
    "    price_local_max_dt = []\n",
    "    for i in local_max:\n",
    "        if (i > window_range) and (i < len(prices)-window_range):\n",
    "            price_local_max_dt.append(\n",
    "                prices.iloc[i-window_range:i+window_range]['close'].idxmax())\n",
    "    price_local_min_dt = []\n",
    "    for i in local_min:\n",
    "        if (i > window_range) and (i < len(prices)-window_range):\n",
    "            price_local_min_dt.append(\n",
    "                prices.iloc[i-window_range:i+window_range]['close'].idxmin())\n",
    "    maxima = pd.DataFrame(prices.loc[price_local_max_dt])\n",
    "    minima = pd.DataFrame(prices.loc[price_local_min_dt])\n",
    "    max_min = pd.concat([maxima, minima]).sort_index()\n",
    "    max_min.index.name = 'date'\n",
    "    max_min = max_min.reset_index()\n",
    "    max_min = max_min[~max_min.date.duplicated()]\n",
    "    p = prices.reset_index()\n",
    "    max_min['day_num'] = p[p['timestamp'].isin(max_min.date)].index.values\n",
    "    max_min = max_min.set_index('day_num')['close']\n",
    "\n",
    "    return max_min\n",
    "\n",
    "\n",
    "smoothing = 3\n",
    "window = 10\n",
    "\n",
    "minmax = get_max_min(resampled_data, smoothing, window)\n",
    "minmax\n"
   ]
  },
  {
   "cell_type": "code",
   "execution_count": null,
   "metadata": {},
   "outputs": [],
   "source": [
    "resampled_data.reset_index()['close'].plot()\n",
    "plt.scatter(minmax.index, minmax.values, color='red', alpha=0.5)"
   ]
  },
  {
   "cell_type": "markdown",
   "metadata": {},
   "source": [
    "#### find windows where the points meet some pattern criteria\n",
    "- For example, an inverse head and shoulders can roughly be defined as:\n",
    "    + C < A, B, D, E\n",
    "    + A, E < B, D\n",
    "\n",
    "- To filter for head and shoulders with even necklines:\n",
    "    + abs(B-D) < np.mean([B, D])*0.05\n",
    "\n",
    "(The difference between the necklines must not be more than 5%.)"
   ]
  },
  {
   "cell_type": "code",
   "execution_count": null,
   "metadata": {},
   "outputs": [],
   "source": [
    "def find_patterns(max_min):\n",
    "    patterns = defaultdict(list)\n",
    "\n",
    "    # Window range is 5 units\n",
    "    for i in range(5, len(max_min)):\n",
    "        window = max_min.iloc[i-5:i]\n",
    "\n",
    "        # Pattern must play out in less than n units\n",
    "        if window.index[-1] - window.index[0] > 100:\n",
    "            continue\n",
    "\n",
    "        a, b, c, d, e = window.iloc[0:5]\n",
    "\n",
    "        # IHS\n",
    "        if a < strong and c < a and c < e and c < d and e < d and abs(b-d) <= np.mean([b, d])*0.02:\n",
    "            patterns['IHS'].append((window.index[0], window.index[-1]))\n",
    "\n",
    "    return patterns\n",
    "\n",
    "\n",
    "patterns = find_patterns(minmax)\n",
    "patterns\n"
   ]
  },
  {
   "cell_type": "markdown",
   "metadata": {},
   "source": [
    "#### Reorganize and iterate to find best params"
   ]
  },
  {
   "cell_type": "code",
   "execution_count": null,
   "metadata": {},
   "outputs": [],
   "source": [
    "def plot_minmax_patterns(prices, max_min, patterns, stock, window, ema):\n",
    "\n",
    "    incr = str((prices.index[1] - prices.index[0]).seconds/60)\n",
    "\n",
    "    if len(patterns) == 0:\n",
    "        pass\n",
    "    else:\n",
    "        num_pat = len([x for x in patterns.items()][0][1])\n",
    "        f, axes = plt.subplots(1, 2, figsize=(16, 5))\n",
    "        axes = axes.flatten()\n",
    "        prices_ = prices.reset_index()['close']\n",
    "        axes[0].plot(prices_)\n",
    "        axes[0].scatter(max_min.index, max_min, s=100,\n",
    "                        alpha=.3, color='orange')\n",
    "        axes[1].plot(prices_)\n",
    "        for name, end_day_nums in patterns.items():\n",
    "            for i, tup in enumerate(end_day_nums):\n",
    "                sd = tup[0]\n",
    "                ed = tup[1]\n",
    "                axes[1].scatter(max_min.loc[sd:ed].index,\n",
    "                                max_min.loc[sd:ed].values,\n",
    "                                s=200, alpha=.3)\n",
    "                plt.yticks([])\n",
    "        plt.tight_layout()\n",
    "        plt.title('{}: {}: EMA {}, Window {} ({} patterns)'.format(\n",
    "            stock, incr, ema, window, num_pat))\n",
    "\n",
    "\n",
    "def get_results(prices, max_min, pat, stock, ema_, window_):\n",
    "\n",
    "    incr = str((prices.index[1] - prices.index[0]).seconds/60)\n",
    "\n",
    "    #fw_list = [1, 12, 24, 36]\n",
    "    fw_list = [1, 2, 3]\n",
    "    results = []\n",
    "    if len(pat.items()) > 0:\n",
    "        end_dates = [v for k, v in pat.items()][0]\n",
    "        for date in end_dates:\n",
    "            param_res = {'stock': stock,\n",
    "                         'increment': incr,\n",
    "                         'ema': ema_,\n",
    "                         'window': window_,\n",
    "                         'date': date}\n",
    "            for x in fw_list:\n",
    "                returns = (prices['close'].pct_change(\n",
    "                    x).shift(-x).reset_index(drop=True).dropna())\n",
    "                try:\n",
    "                    param_res['fw_ret_{}'.format(x)] = returns.loc[date[1]]\n",
    "                except Exception as e:\n",
    "                    param_res['fw_ret_{}'.format(x)] = e\n",
    "            results.append(param_res)\n",
    "    else:\n",
    "        param_res = {'stock': stock,\n",
    "                     'increment': incr,\n",
    "                     'ema': ema_,\n",
    "                     'window': window_,\n",
    "                     'date': None}\n",
    "        for x in fw_list:\n",
    "            param_res['fw_ret_{}'.format(x)] = None\n",
    "        results.append(param_res)\n",
    "    return pd.DataFrame(results)\n",
    "\n",
    "\n",
    "def screener(stock_data, ema_list, window_list, plot, results):\n",
    "\n",
    "    all_results = pd.DataFrame()\n",
    "\n",
    "    for stock in stock_data:\n",
    "        prices = stock_data[stock]\n",
    "\n",
    "        for ema_ in ema_list:\n",
    "            for window_ in window_list:\n",
    "                max_min = get_max_min(\n",
    "                    prices, smoothing=ema_, window_range=window_)\n",
    "                pat = find_patterns(max_min)\n",
    "\n",
    "                if plot == True:\n",
    "                    plot_minmax_patterns(\n",
    "                        prices, max_min, pat, stock, window_, ema_)\n",
    "\n",
    "                if results == True:\n",
    "                    all_results = pd.concat([all_results, get_results(\n",
    "                        prices, max_min, pat, stock, ema_, window_)], axis=0)\n",
    "\n",
    "    if results == True:\n",
    "        return all_results.reset_index(drop=True)\n"
   ]
  },
  {
   "cell_type": "markdown",
   "metadata": {},
   "source": [
    "#### live"
   ]
  },
  {
   "cell_type": "code",
   "execution_count": null,
   "metadata": {},
   "outputs": [],
   "source": [
    "def screener(stock_data, ema_list, window_list):\n",
    "    triggers = []\n",
    "    all_results = pd.DataFrame()\n",
    "    for stock in stock_data:\n",
    "        prices = stock_data[stock]\n",
    "        for ema_ in ema_list:\n",
    "            for window_ in window_list:\n",
    "                max_min = get_max_min(\n",
    "                    prices, smoothing=ema_, window_range=window_)\n",
    "                pat = find_patterns(max_min)\n",
    "\n",
    "                if len(pat) > 0:\n",
    "                    triggers.append(stock)\n",
    "                return triggers\n"
   ]
  },
  {
   "cell_type": "code",
   "execution_count": null,
   "metadata": {},
   "outputs": [],
   "source": [
    "stocklist = ['AA', 'AAL', 'AAPL', 'AMZN']  # Long list of stocks here\n",
    "stock_data = get_stock_data(stocklist, 2)resampled_stock_data = resample(stock_data, '360T')\n",
    "ema_list = [5]\n",
    "window_list = [5]\n",
    "results = screener(resampled_stock_data, ema_list, window_list)\n",
    "for x in results:\n",
    "    api.submit_order(x, 100, 'buy', 'market', 'day')\n"
   ]
  }
 ],
 "metadata": {
  "interpreter": {
   "hash": "f286ef182e6b807cc2e221ecf258f633461edf1c89db486e38c7dc82ac81346f"
  },
  "kernelspec": {
   "display_name": "Python 3.7.9 ('env': venv)",
   "language": "python",
   "name": "python3"
  },
  "language_info": {
   "codemirror_mode": {
    "name": "ipython",
    "version": 3
   },
   "file_extension": ".py",
   "mimetype": "text/x-python",
   "name": "python",
   "nbconvert_exporter": "python",
   "pygments_lexer": "ipython3",
   "version": "3.7.9"
  },
  "orig_nbformat": 4
 },
 "nbformat": 4,
 "nbformat_minor": 2
}
